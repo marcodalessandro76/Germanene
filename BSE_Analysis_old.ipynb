{
 "cells": [
  {
   "cell_type": "code",
   "execution_count": 1,
   "metadata": {},
   "outputs": [],
   "source": [
    "# useful to autoreload the module without restarting the kernel\n",
    "%load_ext autoreload\n",
    "%autoreload 2"
   ]
  },
  {
   "cell_type": "code",
   "execution_count": 2,
   "metadata": {},
   "outputs": [],
   "source": [
    "from mppi import InputFiles as I, Calculators as C, Datasets as D, Parsers as P, Utilities as U\n",
    "from mppi.Utilities import Tools\n",
    "from mppi.Datasets import PostProcessing as PP\n",
    "from mppi.Utilities import Constants as Const\n",
    "import matplotlib.pyplot as plt\n",
    "import numpy as np\n",
    "import os, yaml\n",
    "#import pybinding as pb"
   ]
  },
  {
   "cell_type": "code",
   "execution_count": 3,
   "metadata": {},
   "outputs": [
    {
     "name": "stdout",
     "output_type": "stream",
     "text": [
      "rsync -rLptgoDzv --exclude={'*_fragment_*','*_fragments_*','*wfc*','*.dat'} -e ssh ismhpc:/work/dalessandro/2D_ELECTRONIC_OPTICAL_PROPERTIES/GERMANENE/GW_HF_analysis/ '/m100_work/IscrC_XEXIN/Germanene/GW_HF_analysis'\n"
     ]
    }
   ],
   "source": [
    "dry_run = False\n",
    "rsync_str = \"rsync -rLptgoDzv --exclude={'*_fragment_*','*_fragments_*','*wfc*','*.dat'} \"\n",
    "if dry_run: rsync_str += '--dry-run '\n",
    "ssh_str = '-e ssh ismhpc:/work/dalessandro/2D_ELECTRONIC_OPTICAL_PROPERTIES/GERMANENE/GW_HF_analysis/ '\n",
    "dest_path = 'GW_HF_analysis'\n",
    "dest_path = os.path.abspath(dest_path)\n",
    "dest_path = \"'%s'\"%dest_path\n",
    "command = rsync_str+ssh_str+dest_path\n",
    "print(command)"
   ]
  },
  {
   "cell_type": "code",
   "execution_count": 41,
   "metadata": {
    "tags": []
   },
   "outputs": [
    {
     "name": "stdout",
     "output_type": "stream",
     "text": [
      "Initialize a Yambo calculator with scheduler slurm\n"
     ]
    },
    {
     "data": {
      "text/plain": [
       "{'scheduler': 'slurm',\n",
       " 'nodes': 2,\n",
       " 'ntasks_per_node': 16,\n",
       " 'cpus_per_task': 2,\n",
       " 'omp_num_threads': 2,\n",
       " 'gpus_per_node': None,\n",
       " 'memory': '125000',\n",
       " 'time': None,\n",
       " 'partition': 'all12h',\n",
       " 'account': None,\n",
       " 'qos': None,\n",
       " 'map_by': None,\n",
       " 'pe': 1,\n",
       " 'rank_by': None,\n",
       " 'executable': 'yambo',\n",
       " 'skip': True,\n",
       " 'clean_restart': True,\n",
       " 'dry_run': False,\n",
       " 'wait_end_run': True,\n",
       " 'activate_BeeOND': True,\n",
       " 'verbose': True,\n",
       " 'fatlog': False,\n",
       " 'reformat': False}"
      ]
     },
     "execution_count": 41,
     "metadata": {},
     "output_type": "execute_result"
    }
   ],
   "source": [
    "# RunRules for ismhpc\n",
    "# The product of ntasks_per_node*cpus_per_task is equal to 32. \n",
    "# Many mpi are needed for better performances\n",
    "nodes = 2\n",
    "ntasks_per_node = 16\n",
    "cpus_per_task = 2\n",
    "omp_num_threads = 2\n",
    "\n",
    "ntasks = nodes*ntasks_per_node\n",
    "\n",
    "rr = C.RunRules(scheduler='slurm',partition='all12h',\n",
    "                memory='125000',\n",
    "                nodes=nodes,ntasks_per_node=ntasks_per_node,\n",
    "                cpus_per_task=cpus_per_task,\n",
    "                omp_num_threads=omp_num_threads)\n",
    "code = C.YamboCalculator(rr,activate_BeeOND=True,reformat=False) #,clean_restart=False,skip=False,fatlog=True)\n",
    "code.global_options()"
   ]
  },
  {
   "cell_type": "code",
   "execution_count": null,
   "metadata": {},
   "outputs": [],
   "source": [
    "# RunRules for m100\n",
    "nodes = 8 # 32\n",
    "ntasks_per_node = 4\n",
    "cpus_per_task=32\n",
    "omp_num_threads=8\n",
    "gpus_per_node=4\n",
    "pe=8\n",
    "\n",
    "ntasks = nodes*ntasks_per_node\n",
    "\n",
    "rr = C.RunRules(scheduler='slurm',partition='m100_usr_prod',\n",
    "                account='IscrC_AlNWS2',#,qos='m100_qos_bprod',\n",
    "                memory='230GB',time='23:59:00',\n",
    "                nodes=nodes,ntasks_per_node=ntasks_per_node,\n",
    "                cpus_per_task=cpus_per_task,omp_num_threads=omp_num_threads,\n",
    "                gpus_per_node=gpus_per_node,pe=pe,\n",
    "                map_by='socket',rank_by='core')\n",
    "code = C.YamboCalculator(rr)\n",
    "code.global_options()"
   ]
  },
  {
   "cell_type": "markdown",
   "metadata": {
    "tags": []
   },
   "source": [
    "# BSE analysis of the Germanene"
   ]
  },
  {
   "cell_type": "markdown",
   "metadata": {},
   "source": [
    "We solve the BSE equations and computed the optical spectrum of the Germanene.\n",
    "\n",
    "We analyze the excitonic spectrum to understand if the system behaves as an excitonic\n",
    "insulator."
   ]
  },
  {
   "cell_type": "code",
   "execution_count": 44,
   "metadata": {},
   "outputs": [],
   "source": [
    "run_dir = 'GW_HF_analysis/kpoints_81-nbnds_700-vac_4/'\n",
    "ndbQP = 'pp-allBZ-ngsblkxs_5-bndsrnxs_700-gbndrnge_700/ndb.QP'"
   ]
  },
  {
   "cell_type": "code",
   "execution_count": 45,
   "metadata": {},
   "outputs": [],
   "source": [
    "RandQpts = 5000000\n",
    "RandGvec = 300 \n",
    "RandGvecW = 100"
   ]
  },
  {
   "cell_type": "markdown",
   "metadata": {},
   "source": [
    "## Absorption spectrum in the IP regime"
   ]
  },
  {
   "cell_type": "code",
   "execution_count": 46,
   "metadata": {},
   "outputs": [
    {
     "name": "stdout",
     "output_type": "stream",
     "text": [
      "16 2\n",
      "Initialize a Dataset with 1 parallel tasks\n"
     ]
    }
   ],
   "source": [
    "ntasks_c = 16 #32\n",
    "ntasks_v = int(ntasks/ntasks_c)\n",
    "print(ntasks_c,ntasks_v)\n",
    "\n",
    "study = D.Dataset(run_dir=run_dir,num_tasks=1,verbose=True,skip=False)\n",
    "study.set_postprocessing_function(PP.yambo_parse_data)\n",
    "\n",
    "inp = I.YamboInput(args='mpirun -np 1 yambo -r -o c -V all',folder=run_dir)\n",
    "\n",
    "inp['variables']['CUTGeo'] = 'slab z'\n",
    "inp['variables']['RandGvec'] = [RandGvec,'RL']\n",
    "inp['variables']['RandGvecW'] = [RandGvecW,'RL']\n",
    "inp['variables']['RandQpts'] = [RandQpts,'']\n",
    "\n",
    "inp['variables']['LongDrXd'] = [[1.,0.,0.],''] # electric field\n",
    "inp['variables']['DmRngeXd'] = [[0.005,0.005],'eV'] # damping range\n",
    "inp['variables']['EnRngeXd'] = [[0,1],'eV'] # energy range\n",
    "inp['variables']['BndsRnXd'] = [[25,32],''] # bands used for transitions\n",
    "inp['variables']['QpntsRXd'] = [[1,1],''] # momentum transfer\n",
    "\n",
    "inp['variables']['SE_CPU'] = '2.1.16' # for 2 nodes on ismhpc or 8 nodes on 100\n",
    "inp['variables']['SE_ROLEs'] = 'q.qp.b'\n",
    "inp['variables']['X_and_IO_ROLEs'] = 'q.g.k.c.v'\n",
    "inp['variables']['X_and_IO_CPU'] = '1.1.1.%s.%s'%(ntasks_c,ntasks_v)\n",
    "inp['variables']['DIP_ROLEs'] = 'k.c.v'\n",
    "inp['variables']['DIP_CPU'] = '1.%s.%s'%(ntasks_c,ntasks_v)\n",
    "\n",
    "idd = 'ip_absorption'\n",
    "study.append_run(id=idd,input=inp,runner=code,\n",
    "                 jobname = [idd,'ndb_rim_cutoff','ndb_dipoles'])\n",
    "\n",
    "idd = 'gw_absorption'\n",
    "inp['variables']['XfnQPdb']= 'E < %s'%ndbQP\n",
    "study.append_run(id=idd,input=inp,runner=code,\n",
    "                 jobname = [idd,'ndb_rim_cutoff','ndb_dipoles'])"
   ]
  },
  {
   "cell_type": "code",
   "execution_count": 47,
   "metadata": {},
   "outputs": [],
   "source": [
    "#study.runs[1]"
   ]
  },
  {
   "cell_type": "code",
   "execution_count": 48,
   "metadata": {},
   "outputs": [
    {
     "name": "stdout",
     "output_type": "stream",
     "text": [
      "Run the selection [0, 1] with the parallel task_groups [[0], [1]] \n",
      "\n",
      "Run the task [0] \n",
      "delete job_out script: GW_HF_analysis/kpoints_81-nbnds_700-vac_4/job_ip_absorption.out\n",
      "delete folder: GW_HF_analysis/kpoints_81-nbnds_700-vac_4/ip_absorption\n",
      "run command: mpirun -np 32 yambo -F ip_absorption.in -J \"ip_absorption,ndb_rim_cutoff,ndb_dipoles\" -C ip_absorption\n",
      "slurm submit:  cd GW_HF_analysis/kpoints_81-nbnds_700-vac_4/ ; sbatch job_ip_absorption.sh\n",
      "computation ip_absorption is running...\n",
      "computation ip_absorption ended\n",
      "Run performed in 12s\n",
      "Task [0] ended \n",
      " \n",
      "Run the task [1] \n",
      "delete job_out script: GW_HF_analysis/kpoints_81-nbnds_700-vac_4/job_gw_absorption.out\n",
      "delete folder: GW_HF_analysis/kpoints_81-nbnds_700-vac_4/gw_absorption\n",
      "run command: mpirun -np 32 yambo -F gw_absorption.in -J \"gw_absorption,ndb_rim_cutoff,ndb_dipoles\" -C gw_absorption\n",
      "slurm submit:  cd GW_HF_analysis/kpoints_81-nbnds_700-vac_4/ ; sbatch job_gw_absorption.sh\n",
      "computation gw_absorption is running...\n",
      "computation gw_absorption ended\n",
      "Run performed in 13s\n",
      "Task [1] ended \n",
      " \n"
     ]
    }
   ],
   "source": [
    "results = study.run()"
   ]
  },
  {
   "cell_type": "code",
   "execution_count": 49,
   "metadata": {},
   "outputs": [
    {
     "data": {
      "text/plain": [
       "dict_keys(['eps_q1_ip', 'alpha_q1_ip'])"
      ]
     },
     "execution_count": 49,
     "metadata": {},
     "output_type": "execute_result"
    }
   ],
   "source": [
    "ip,gw = results[0].data,results[1].data\n",
    "ip.keys()"
   ]
  },
  {
   "cell_type": "code",
   "execution_count": 50,
   "metadata": {},
   "outputs": [],
   "source": [
    "energies = ip['eps_q1_ip']['col0']\n",
    "ip_abs = ip['eps_q1_ip']['col1']\n",
    "gw_abs = gw['eps_q1_ip']['col1']"
   ]
  },
  {
   "cell_type": "code",
   "execution_count": 51,
   "metadata": {},
   "outputs": [
    {
     "data": {
      "text/plain": [
       "<matplotlib.legend.Legend at 0x7f257aebb748>"
      ]
     },
     "execution_count": 51,
     "metadata": {},
     "output_type": "execute_result"
    },
    {
     "data": {
      "image/png": "[encoded data removed]",
      "text/plain": [
       "<Figure size 864x648 with 1 Axes>"
      ]
     },
     "metadata": {
      "needs_background": "light"
     },
     "output_type": "display_data"
    }
   ],
   "source": [
    "fig, ax = plt.subplots(figsize=(12, 9))\n",
    "plt.plot(energies,ip_abs,label='ip')\n",
    "plt.plot(energies,gw_abs,label='gw')\n",
    "plt.xlim(-0.1,1)\n",
    "plt.legend()"
   ]
  },
  {
   "cell_type": "code",
   "execution_count": 52,
   "metadata": {},
   "outputs": [
    {
     "data": {
      "text/plain": [
       "(0.262626261, 0.0202020202)"
      ]
     },
     "execution_count": 52,
     "metadata": {},
     "output_type": "execute_result"
    }
   ],
   "source": [
    "energies[np.where(gw_abs==max(gw_abs))[0][0]],energies[np.where(ip_abs==max(ip_abs))[0][0]],"
   ]
  },
  {
   "cell_type": "code",
   "execution_count": 53,
   "metadata": {},
   "outputs": [
    {
     "data": {
      "text/plain": [
       "<mppi.Parsers.YamboParser.YamboParser at 0x7f2576448668>"
      ]
     },
     "execution_count": 53,
     "metadata": {},
     "output_type": "execute_result"
    }
   ],
   "source": [
    "results[0]."
   ]
  },
  {
   "cell_type": "code",
   "execution_count": null,
   "metadata": {},
   "outputs": [],
   "source": []
  },
  {
   "cell_type": "code",
   "execution_count": null,
   "metadata": {},
   "outputs": [],
   "source": []
  },
  {
   "cell_type": "code",
   "execution_count": null,
   "metadata": {},
   "outputs": [],
   "source": []
  },
  {
   "cell_type": "code",
   "execution_count": null,
   "metadata": {},
   "outputs": [],
   "source": []
  },
  {
   "cell_type": "code",
   "execution_count": 30,
   "metadata": {},
   "outputs": [
    {
     "name": "stdout",
     "output_type": "stream",
     "text": [
      "Parse file GW_HF_analysis/kpoints_81-nbnds_700-vac_4/pp-allBZ-ngsblkxs_5-bndsrnxs_700-gbndrnge_700/o-pp-allBZ-ngsblkxs_5-bndsrnxs_700-gbndrnge_700.qp\n"
     ]
    }
   ],
   "source": [
    "file = 'GW_HF_analysis/kpoints_81-nbnds_700-vac_4/pp-allBZ-ngsblkxs_5-bndsrnxs_700-gbndrnge_700/o-pp-allBZ-ngsblkxs_5-bndsrnxs_700-gbndrnge_700.qp'\n",
    "yambo_data = P.YamboOutputParser([file])"
   ]
  },
  {
   "cell_type": "code",
   "execution_count": 33,
   "metadata": {},
   "outputs": [
    {
     "data": {
      "text/plain": [
       "\u001b[0;31mSignature:\u001b[0m \u001b[0myambo_data\u001b[0m\u001b[0;34m.\u001b[0m\u001b[0mget_energy\u001b[0m\u001b[0;34m(\u001b[0m\u001b[0mk\u001b[0m\u001b[0;34m,\u001b[0m \u001b[0mbnd\u001b[0m\u001b[0;34m,\u001b[0m \u001b[0mverbose\u001b[0m\u001b[0;34m=\u001b[0m\u001b[0;32mFalse\u001b[0m\u001b[0;34m)\u001b[0m\u001b[0;34m\u001b[0m\u001b[0;34m\u001b[0m\u001b[0m\n",
       "\u001b[0;31mDocstring:\u001b[0m\n",
       "Compute the energy (in eV) of the selected state with k and bnd indexes.\n",
       "The method is implemented for the 'hf' and 'qp' runleves. In the first case\n",
       "it seeks for the 'Ehf' variable while in the former it looks for the 'E' variable\n",
       "(written only with the extendOut option enabled!).\n",
       "In the other cases a warning is created.\n",
       "\n",
       "Args:\n",
       "    k (:py:class:`int`): k-point index\n",
       "    bnd (:py:class:`int`) : band index\n",
       "\n",
       "Return:\n",
       "    (:py:class:`float`) : the value of the energy in eV\n",
       "\u001b[0;31mFile:\u001b[0m      ~/Applications/MPPI/mppi/Parsers/YamboOutputParser.py\n",
       "\u001b[0;31mType:\u001b[0m      method\n"
      ]
     },
     "metadata": {},
     "output_type": "display_data"
    }
   ],
   "source": [
    "yambo_data.get_energy?"
   ]
  },
  {
   "cell_type": "code",
   "execution_count": 35,
   "metadata": {},
   "outputs": [
    {
     "name": "stdout",
     "output_type": "stream",
     "text": [
      "Parse file : DFT_analysis-vac_4/kpoints_81-nbnds_700.save/data-file-schema.xml\n"
     ]
    }
   ],
   "source": [
    "file = 'DFT_analysis-vac_4/kpoints_81-nbnds_700.save/data-file-schema.xml'\n",
    "dft_data = P.PwParser(file)"
   ]
  },
  {
   "cell_type": "code",
   "execution_count": 37,
   "metadata": {},
   "outputs": [
    {
     "data": {
      "text/plain": [
       "\u001b[0;31mSignature:\u001b[0m\n",
       "\u001b[0mdft_data\u001b[0m\u001b[0;34m.\u001b[0m\u001b[0mget_transitions\u001b[0m\u001b[0;34m(\u001b[0m\u001b[0;34m\u001b[0m\n",
       "\u001b[0;34m\u001b[0m    \u001b[0minitial\u001b[0m\u001b[0;34m=\u001b[0m\u001b[0;34m'full'\u001b[0m\u001b[0;34m,\u001b[0m\u001b[0;34m\u001b[0m\n",
       "\u001b[0;34m\u001b[0m    \u001b[0mfinal\u001b[0m\u001b[0;34m=\u001b[0m\u001b[0;34m'empty'\u001b[0m\u001b[0;34m,\u001b[0m\u001b[0;34m\u001b[0m\n",
       "\u001b[0;34m\u001b[0m    \u001b[0mset_scissor\u001b[0m\u001b[0;34m=\u001b[0m\u001b[0;32mNone\u001b[0m\u001b[0;34m,\u001b[0m\u001b[0;34m\u001b[0m\n",
       "\u001b[0;34m\u001b[0m    \u001b[0mset_gap\u001b[0m\u001b[0;34m=\u001b[0m\u001b[0;32mNone\u001b[0m\u001b[0;34m,\u001b[0m\u001b[0;34m\u001b[0m\n",
       "\u001b[0;34m\u001b[0m    \u001b[0mset_direct_gap\u001b[0m\u001b[0;34m=\u001b[0m\u001b[0;32mNone\u001b[0m\u001b[0;34m,\u001b[0m\u001b[0;34m\u001b[0m\n",
       "\u001b[0;34m\u001b[0m\u001b[0;34m)\u001b[0m\u001b[0;34m\u001b[0m\u001b[0;34m\u001b[0m\u001b[0m\n",
       "\u001b[0;31mDocstring:\u001b[0m\n",
       "Compute the (vertical) transitions energies. For each kpoint compute the transition energies, i.e.\n",
       "the (positive) energy difference (in eV) between the final and the initial states.\n",
       "\n",
       "Args:\n",
       "    initial (string or list) : specifies the bands from which electrons can be extracted. It can be set to `full` or\n",
       "        `empty` to select the occupied or empty bands, respectively. Otherwise a list of bands can be\n",
       "        provided\n",
       "    final  (string or list) : specifies the final bands of the excited electrons. It can be set to `full` or\n",
       "        `empty` to select the occupied or empty bands, respectively. Otherwise a list of bands can be\n",
       "        provided\n",
       "    set_scissor (:py:class:`float`) : set the value of the scissor (in eV) that is added to the empty bands.\n",
       "        If a scissor is provided the set_gap and set_direct_gap parameters are ignored\n",
       "    set_gap (:py:class:`float`) : set the value of the gap (in eV) of the system. If set_gap is provided\n",
       "        the set_direct_gap parameter is ignored\n",
       "    set_direct_gap (:py:class:`float`) : set the value of the direct gap (in eV) of the system.\n",
       "\n",
       "Return:\n",
       "    :py:class:`numpy.array`  : an array with the transition energies for each kpoint\n",
       "\u001b[0;31mFile:\u001b[0m      ~/Applications/MPPI/mppi/Parsers/PwParser.py\n",
       "\u001b[0;31mType:\u001b[0m      method\n"
      ]
     },
     "metadata": {},
     "output_type": "display_data"
    }
   ],
   "source": [
    "dft_data.get_transitions?"
   ]
  },
  {
   "cell_type": "code",
   "execution_count": null,
   "metadata": {},
   "outputs": [],
   "source": []
  },
  {
   "cell_type": "code",
   "execution_count": null,
   "metadata": {},
   "outputs": [],
   "source": []
  },
  {
   "cell_type": "code",
   "execution_count": null,
   "metadata": {},
   "outputs": [],
   "source": []
  },
  {
   "cell_type": "code",
   "execution_count": null,
   "metadata": {},
   "outputs": [],
   "source": []
  },
  {
   "cell_type": "code",
   "execution_count": null,
   "metadata": {},
   "outputs": [],
   "source": []
  },
  {
   "cell_type": "code",
   "execution_count": null,
   "metadata": {},
   "outputs": [],
   "source": [
    "###############################################à"
   ]
  },
  {
   "cell_type": "code",
   "execution_count": 34,
   "metadata": {},
   "outputs": [],
   "source": [
    "eps = r['eps_q1_ip']\n",
    "#eps = r['alpha_q1_ip']"
   ]
  },
  {
   "cell_type": "code",
   "execution_count": 35,
   "metadata": {},
   "outputs": [
    {
     "data": {
      "text/plain": [
       "[<matplotlib.lines.Line2D at 0x7f75bf9df5c0>]"
      ]
     },
     "execution_count": 35,
     "metadata": {},
     "output_type": "execute_result"
    },
    {
     "data": {
      "image/png": "[encoded data removed]",
      "text/plain": [
       "<Figure size 432x288 with 1 Axes>"
      ]
     },
     "metadata": {
      "needs_background": "light"
     },
     "output_type": "display_data"
    }
   ],
   "source": [
    "plt.plot(eps['col0'],eps['col1'])"
   ]
  },
  {
   "cell_type": "code",
   "execution_count": 21,
   "metadata": {},
   "outputs": [
    {
     "data": {
      "text/plain": [
       "[<matplotlib.lines.Line2D at 0x7f75bfa38c50>]"
      ]
     },
     "execution_count": 21,
     "metadata": {},
     "output_type": "execute_result"
    },
    {
     "data": {
      "image/png": "[encoded data removed]",
      "text/plain": [
       "<Figure size 432x288 with 1 Axes>"
      ]
     },
     "metadata": {
      "needs_background": "light"
     },
     "output_type": "display_data"
    }
   ],
   "source": [
    "plt.plot(eps['col0'],eps['col1'])"
   ]
  },
  {
   "cell_type": "markdown",
   "metadata": {},
   "source": [
    "## Computation of the BSE Kernel for subsequent diagonalization"
   ]
  },
  {
   "cell_type": "code",
   "execution_count": 6,
   "metadata": {},
   "outputs": [
    {
     "name": "stdout",
     "output_type": "stream",
     "text": [
      "16 2\n"
     ]
    }
   ],
   "source": [
    "BSENGexx = 11000 #11000\n",
    "BSENGBlk = 300 \n",
    "BSEBands = [25,32]\n",
    "ntasks_c = 16 # ismhpc: 16 for 2 nodes\n",
    "ntasks_v = int(ntasks/ntasks_c)\n",
    "print(ntasks_c,ntasks_v)\n",
    "\n",
    "inp = I.YamboInput(args='mpirun -np 1 yambo -r -o b -k sex -V all',folder=run_dir)\n",
    "inp['variables']['RandQpts'] = [RandQpts,'']\n",
    "inp['variables']['RandGvec'] = [RandGvec,'']\n",
    "inp['variables']['CUTGeo'] = 'box z'\n",
    "inp['variables']['CUTBox'] = [[0.,0.,cut_z],'au']\n",
    "\n",
    "inp['variables']['BSENGexx'] = [BSENGexx,'RL'] \n",
    "inp['variables']['BSENGBlk'] = [BSENGBlk,'RL']\n",
    "inp['variables']['BSEBands'] = [BSEBands,'']\n",
    "\n",
    "inp['variables']['KfnQPdb']= 'E < %s'%ndbQP\n",
    "\n",
    "# Parallel roles\n",
    "inp['variables']['DIP_ROLEs'] = 'k.c.v'\n",
    "inp['variables']['DIP_CPU'] = '1.%s.%s'%(ntasks_c,ntasks_v)\n",
    "inp['variables']['BS_ROLEs'] = 'k.eh.t' \n",
    "inp['variables']['BS_CPU'] = '4.8.1' # 2 nodes ismhpc and 8 nodes m100\n",
    "\n",
    "#inp"
   ]
  },
  {
   "cell_type": "code",
   "execution_count": 7,
   "metadata": {},
   "outputs": [
    {
     "name": "stdout",
     "output_type": "stream",
     "text": [
      "Initialize a Dataset with 1 parallel tasks\n"
     ]
    }
   ],
   "source": [
    "study = D.Dataset(run_dir=run_dir,num_tasks=1,verbose=True)\n",
    "#study.set_postprocessing_function(PP.yambo_parse_data)\n",
    "\n",
    "idd = 'bse-BSENGexx_%s-BSENGblk_%s-BSEBands_%s-%s'%(BSENGexx,BSENGBlk,BSEBands[0],BSEBands[1])\n",
    "study.append_run(id=idd,input=inp,runner=code,\n",
    "                 jobname = [idd,'ndb_cutoff_rim_dipoles_hf','ndb_pp_dg_ngsblkxs_600-bndsrnxs_300',\\\n",
    "                            'ndb_double_grid','allBz_ppa_dg-ngsblkxs_600-bndsrnxs_300-gbndrnge_300'])"
   ]
  },
  {
   "cell_type": "code",
   "execution_count": 8,
   "metadata": {},
   "outputs": [
    {
     "data": {
      "text/plain": [
       "{'label': 'Dataset',\n",
       " 'run_dir': 'GW_HF_analysis/kpoints_60-nbnds_700/',\n",
       " 'num_tasks': 1,\n",
       " 'verbose': True,\n",
       " 'input': {'args': 'mpirun -np 1 yambo -r -o b -k sex -V all',\n",
       "  'folder': 'GW_HF_analysis/kpoints_60-nbnds_700/',\n",
       "  'filename': 'yambo.in',\n",
       "  'arguments': ['rim_cut', 'bse', 'optics', 'setup', 'photolum'],\n",
       "  'variables': {'StdoHash': [40.0, ''],\n",
       "   'Nelectro': [28.0, ''],\n",
       "   'ElecTemp': [0.0, 'eV'],\n",
       "   'BoseTemp': [-1.0, 'eV'],\n",
       "   'OccTresh': [1e-05, ''],\n",
       "   'NLogCPUs': [0.0, ''],\n",
       "   'MEM_tresh': [51200.0, 'Kb'],\n",
       "   'FFTGvecs': [17211.0, 'RL'],\n",
       "   'DIP_Threads': [0.0, ''],\n",
       "   'BS_nCPU_LinAlg_INV': [-1.0, ''],\n",
       "   'BS_nCPU_LinAlg_DIAGO': [-1.0, ''],\n",
       "   'X_Threads': [0.0, ''],\n",
       "   'K_Threads': [0.0, ''],\n",
       "   'RandQpts': [1000000, ''],\n",
       "   'RandGvec': [100, ''],\n",
       "   'IDEm1Ref': [0.0, ''],\n",
       "   'CUTRadius': [0.0, ''],\n",
       "   'CUTCylLen': [0.0, ''],\n",
       "   'CUTwsGvec': [0.7, ''],\n",
       "   'DipoleEtresh': [1e-05, 'eV'],\n",
       "   'DbGdQsize': [-1.0, ''],\n",
       "   'BSENGexx': [11000, 'RL'],\n",
       "   'BSENGBlk': [300, 'RL'],\n",
       "   'KfnQP_INTERP_NN': [1.0, ''],\n",
       "   'KfnQP_INTERP_shells': [20.0, ''],\n",
       "   'KfnQP_Wv_E': [0.0, 'eV'],\n",
       "   'KfnQP_Wv_dos': [0.0, 'eV'],\n",
       "   'KfnQP_Wc_E': [0.0, 'eV'],\n",
       "   'KfnQP_Wc_dos': [0.0, 'eV'],\n",
       "   'BoseCut': [0.1, ''],\n",
       "   'BSKCut': [0.0, ''],\n",
       "   'DBsIOoff': 'none',\n",
       "   'DBsFRAGpm': 'none',\n",
       "   'PAR_def_mode': 'balanced',\n",
       "   'NonPDirs': 'none',\n",
       "   'CUTGeo': 'box z',\n",
       "   'BSEmod': 'resonant',\n",
       "   'BSKmod': 'SEX',\n",
       "   'Lkind': 'Lbar',\n",
       "   'DipComputed': 'R P V',\n",
       "   'Gauge': 'length',\n",
       "   'KfnQPdb': 'E < allBz_ppa_dg-ngsblkxs_600-bndsrnxs_300-gbndrnge_300/ndb.QP',\n",
       "   'KfnQP_DbGd_INTERP_mode': 'NN',\n",
       "   'BSEprop': 'abs',\n",
       "   'BSEdips': 'none',\n",
       "   'BSKIOmode': '2D_standard',\n",
       "   'KfnQP_Z': [(1+0j), ''],\n",
       "   'DrudeWBS': [0j, 'eV'],\n",
       "   'MolPos': [[0.0, 0.0, 0.0], ''],\n",
       "   'Em1Anys': [[0.0, 0.0, 0.0], ''],\n",
       "   'CUTBox': [[0.0, 0.0, 30], 'au'],\n",
       "   'DipBands': [[1, 700], ''],\n",
       "   'KfnQP_E': [[0.0, 1.0, 1.0], ''],\n",
       "   'KfnQP_Wv': [[0.0, 0.0, 0.0], ''],\n",
       "   'KfnQP_Wc': [[0.0, 0.0, 0.0], ''],\n",
       "   'PL_weights': [[1.0, 1.0, 1.0], ''],\n",
       "   'BSEQptR': [[1, 1], ''],\n",
       "   'BSEBands': [[25, 32], ''],\n",
       "   'BSEEhEny': [['-1.000000', '-1.000000'], 'eV'],\n",
       "   'BSehWind': [[100.0, 100.0], ''],\n",
       "   'DIP_ROLEs': 'k.c.v',\n",
       "   'DIP_CPU': '1.16.2',\n",
       "   'BS_ROLEs': 'k.eh.t',\n",
       "   'BS_CPU': '4.8.1'}},\n",
       " 'jobname': ['bse-BSENGexx_11000-BSENGblk_300-BSEBands_25-32',\n",
       "  'ndb_cutoff_rim_dipoles_hf',\n",
       "  'ndb_pp_dg_ngsblkxs_600-bndsrnxs_300',\n",
       "  'ndb_double_grid',\n",
       "  'allBz_ppa_dg-ngsblkxs_600-bndsrnxs_300-gbndrnge_300'],\n",
       " 'name': 'bse-BSENGexx_11000-BSENGblk_300-BSEBands_25-32'}"
      ]
     },
     "execution_count": 8,
     "metadata": {},
     "output_type": "execute_result"
    }
   ],
   "source": [
    "study.runs[0]"
   ]
  },
  {
   "cell_type": "code",
   "execution_count": null,
   "metadata": {},
   "outputs": [
    {
     "name": "stdout",
     "output_type": "stream",
     "text": [
      "Run the selection [0] with the parallel task_groups [[0]] \n",
      "\n",
      "Run the task [0] \n",
      "run command: mpirun -np 32 --map-by socket:PE=8 --rank-by core yambo -F bse-BSENGexx_11000-BSENGblk_300-BSEBands_25-32.in -J \"bse-BSENGexx_11000-BSENGblk_300-BSEBands_25-32,ndb_cutoff_rim_dipoles_hf,ndb_pp_dg_ngsblkxs_600-bndsrnxs_300,ndb_double_grid,allBz_ppa_dg-ngsblkxs_600-bndsrnxs_300-gbndrnge_300\" -C bse-BSENGexx_11000-BSENGblk_300-BSEBands_25-32\n",
      "slurm submit:  cd GW_HF_analysis/kpoints_60-nbnds_700/ ; sbatch job_bse-BSENGexx_11000-BSENGblk_300-BSEBands_25-32.sh\n",
      "computation bse-BSENGexx_11000-BSENGblk_300-BSEBands_25-32 is running...\n",
      "Submitted batch job 5912416\n"
     ]
    }
   ],
   "source": [
    "study.run()"
   ]
  },
  {
   "cell_type": "markdown",
   "metadata": {},
   "source": [
    "## Solution of the BSE equations without I/O of the BSE Kernel"
   ]
  },
  {
   "cell_type": "code",
   "execution_count": 15,
   "metadata": {},
   "outputs": [
    {
     "name": "stdout",
     "output_type": "stream",
     "text": [
      "16 2\n"
     ]
    }
   ],
   "source": [
    "BSENGexx = 11000 #11000\n",
    "BSENGBlk = 300 #300 \n",
    "BSEBands = [25,32]\n",
    "BEnRange = [-1.,1.] # eV\n",
    "ntasks_c = 16 # ismhpc: 16 for 2 nodes # m100: 8 for 2 nodes\n",
    "ntasks_v = int(ntasks/ntasks_c)\n",
    "print(ntasks_c,ntasks_v)\n",
    "\n",
    "inp = I.YamboInput(args='mpirun -np 1 yambo -r -o b -k sex -y s -V all',folder=run_dir)\n",
    "inp['variables']['RandQpts'] = [RandQpts,'']\n",
    "inp['variables']['RandGvec'] = [RandGvec,'']\n",
    "inp['variables']['CUTGeo'] = 'box z'\n",
    "inp['variables']['CUTBox'] = [[0.,0.,cut_z],'au']\n",
    "\n",
    "inp['variables']['DBsIOoff'] = 'BS'\n",
    "\n",
    "inp['variables']['BSENGexx'] = [BSENGexx,'RL'] \n",
    "inp['variables']['BSENGBlk'] = [BSENGBlk,'RL']\n",
    "inp['variables']['BSEBands'] = [BSEBands,'']\n",
    "\n",
    "inp['variables']['BEnRange'] = [BEnRange,'eV']\n",
    "inp['variables']['BEnSteps']  = [1000,'']\n",
    "inp['variables']['BDmRange'] = [[0.01,0.01],'eV']\n",
    "\n",
    "inp['variables']['KfnQPdb']= 'E < %s'%ndbQP\n",
    "\n",
    "inp['variables']['BSEprop'] = 'abs esrt jdos'\n",
    "inp['variables']['BSSNEig'] = [20,'']\n",
    "\n",
    "# Parallel roles\n",
    "inp['variables']['DIP_ROLEs'] = 'k.c.v'\n",
    "inp['variables']['DIP_CPU'] = '1.%s.%s'%(ntasks_c,ntasks_v)\n",
    "inp['variables']['BS_ROLEs'] = 'k.eh.t' \n",
    "inp['variables']['BS_CPU'] = '4.8.1' # 2 nodes ismhpc and 8 nodes m100\n",
    "#inp['variables']['BS_CPU'] = '1.8.1' # 2 nodes m100\n",
    "\n",
    "#inp"
   ]
  },
  {
   "cell_type": "code",
   "execution_count": 16,
   "metadata": {},
   "outputs": [
    {
     "name": "stdout",
     "output_type": "stream",
     "text": [
      "Initialize a Dataset with 1 parallel tasks\n"
     ]
    }
   ],
   "source": [
    "study = D.Dataset(run_dir=run_dir,num_tasks=1,verbose=True)\n",
    "study.set_postprocessing_function(PP.yambo_parse_data)\n",
    "\n",
    "idd = 'bse_diago-BSENGexx_%s-BSENGblk_%s-BSEBands_%s-%s'%(BSENGexx,BSENGBlk,BSEBands[0],BSEBands[1])\n",
    "study.append_run(id=idd,input=inp,runner=code,\n",
    "                 jobname = [idd,'ndb_cutoff_rim_dipoles_hf','ndb_pp_dg_ngsblkxs_600-bndsrnxs_300',\\\n",
    "                            'ndb_double_grid','allBz_ppa_dg-ngsblkxs_600-bndsrnxs_300-gbndrnge_300'])"
   ]
  },
  {
   "cell_type": "code",
   "execution_count": 17,
   "metadata": {},
   "outputs": [
    {
     "data": {
      "text/plain": [
       "{'label': 'Dataset',\n",
       " 'run_dir': 'GW_HF_analysis/kpoints_60-nbnds_700/',\n",
       " 'num_tasks': 1,\n",
       " 'verbose': True,\n",
       " 'input': {'args': 'mpirun -np 1 yambo -r -o b -k sex -y s -V all',\n",
       "  'folder': 'GW_HF_analysis/kpoints_60-nbnds_700/',\n",
       "  'filename': 'yambo.in',\n",
       "  'arguments': ['rim_cut',\n",
       "   'bse',\n",
       "   'optics',\n",
       "   'bss',\n",
       "   'setup',\n",
       "   'WRbsWF',\n",
       "   'photolum'],\n",
       "  'variables': {'StdoHash': [40.0, ''],\n",
       "   'Nelectro': [28.0, ''],\n",
       "   'ElecTemp': [0.0, 'eV'],\n",
       "   'BoseTemp': [-1.0, 'eV'],\n",
       "   'OccTresh': [1e-05, ''],\n",
       "   'NLogCPUs': [0.0, ''],\n",
       "   'MEM_tresh': [51200.0, 'Kb'],\n",
       "   'FFTGvecs': [17211.0, 'RL'],\n",
       "   'DIP_Threads': [0.0, ''],\n",
       "   'BS_nCPU_LinAlg_INV': [-1.0, ''],\n",
       "   'BS_nCPU_LinAlg_DIAGO': [-1.0, ''],\n",
       "   'X_Threads': [0.0, ''],\n",
       "   'K_Threads': [0.0, ''],\n",
       "   'RandQpts': [1000000, ''],\n",
       "   'RandGvec': [100, ''],\n",
       "   'IDEm1Ref': [0.0, ''],\n",
       "   'CUTRadius': [0.0, ''],\n",
       "   'CUTCylLen': [0.0, ''],\n",
       "   'CUTwsGvec': [0.7, ''],\n",
       "   'DipoleEtresh': [1e-05, 'eV'],\n",
       "   'DbGdQsize': [-1.0, ''],\n",
       "   'BSENGexx': [11000, 'RL'],\n",
       "   'BSENGBlk': [300, 'RL'],\n",
       "   'KfnQP_INTERP_NN': [1.0, ''],\n",
       "   'KfnQP_INTERP_shells': [20.0, ''],\n",
       "   'KfnQP_Wv_E': [0.0, 'eV'],\n",
       "   'KfnQP_Wv_dos': [0.0, 'eV'],\n",
       "   'KfnQP_Wc_E': [0.0, 'eV'],\n",
       "   'KfnQP_Wc_dos': [0.0, 'eV'],\n",
       "   'BoseCut': [0.1, ''],\n",
       "   'BSKCut': [0.0, ''],\n",
       "   'BDmERef': [0.0, 'eV'],\n",
       "   'BEnSteps': [1000, ''],\n",
       "   'DBsIOoff': 'BS',\n",
       "   'DBsFRAGpm': 'none',\n",
       "   'PAR_def_mode': 'balanced',\n",
       "   'NonPDirs': 'none',\n",
       "   'CUTGeo': 'box z',\n",
       "   'BSEmod': 'resonant',\n",
       "   'BSKmod': 'SEX',\n",
       "   'Lkind': 'Lbar',\n",
       "   'BSSmod': 's',\n",
       "   'DipComputed': 'R P V',\n",
       "   'Gauge': 'length',\n",
       "   'KfnQPdb': 'E < allBz_ppa_dg-ngsblkxs_600-bndsrnxs_300-gbndrnge_300/ndb.QP',\n",
       "   'KfnQP_DbGd_INTERP_mode': 'NN',\n",
       "   'BSEprop': 'abs esrt jdos',\n",
       "   'BSEdips': 'none',\n",
       "   'BSKIOmode': '2D_standard',\n",
       "   'KfnQP_Z': [(1+0j), ''],\n",
       "   'DrudeWBS': [0j, 'eV'],\n",
       "   'MolPos': [[0.0, 0.0, 0.0], ''],\n",
       "   'Em1Anys': [[0.0, 0.0, 0.0], ''],\n",
       "   'CUTBox': [[0.0, 0.0, 30], 'au'],\n",
       "   'DipBands': [[1, 700], ''],\n",
       "   'KfnQP_E': [[0.0, 1.0, 1.0], ''],\n",
       "   'KfnQP_Wv': [[0.0, 0.0, 0.0], ''],\n",
       "   'KfnQP_Wc': [[0.0, 0.0, 0.0], ''],\n",
       "   'PL_weights': [[1.0, 1.0, 1.0], ''],\n",
       "   'BSEQptR': [[1, 1], ''],\n",
       "   'BSEBands': [[25, 32], ''],\n",
       "   'BSEEhEny': [['-1.000000', '-1.000000'], 'eV'],\n",
       "   'BSehWind': [[100.0, 100.0], ''],\n",
       "   'BEnRange': [[-1.0, 1.0], 'eV'],\n",
       "   'BDmRange': [[0.01, 0.01], 'eV'],\n",
       "   'BLongDir': [[1.0, 0.0, 0.0], ''],\n",
       "   'BSSNEig': [20, ''],\n",
       "   'DIP_ROLEs': 'k.c.v',\n",
       "   'DIP_CPU': '1.16.2',\n",
       "   'BS_ROLEs': 'k.eh.t',\n",
       "   'BS_CPU': '4.8.1'}},\n",
       " 'jobname': ['bse_diago-BSENGexx_11000-BSENGblk_300-BSEBands_25-32',\n",
       "  'ndb_cutoff_rim_dipoles_hf',\n",
       "  'ndb_pp_dg_ngsblkxs_600-bndsrnxs_300',\n",
       "  'ndb_double_grid',\n",
       "  'allBz_ppa_dg-ngsblkxs_600-bndsrnxs_300-gbndrnge_300'],\n",
       " 'name': 'bse_diago-BSENGexx_11000-BSENGblk_300-BSEBands_25-32'}"
      ]
     },
     "execution_count": 17,
     "metadata": {},
     "output_type": "execute_result"
    }
   ],
   "source": [
    "study.runs[0]"
   ]
  },
  {
   "cell_type": "code",
   "execution_count": null,
   "metadata": {},
   "outputs": [
    {
     "name": "stdout",
     "output_type": "stream",
     "text": [
      "Run the selection [0] with the parallel task_groups [[0]] \n",
      "\n",
      "Run the task [0] \n",
      "run command: mpirun -np 32 --map-by socket:PE=8 --rank-by core yambo -F bse_diago-BSENGexx_11000-BSENGblk_300-BSEBands_25-32.in -J \"bse_diago-BSENGexx_11000-BSENGblk_300-BSEBands_25-32,ndb_cutoff_rim_dipoles_hf,ndb_pp_dg_ngsblkxs_600-bndsrnxs_300,ndb_double_grid,allBz_ppa_dg-ngsblkxs_600-bndsrnxs_300-gbndrnge_300\" -C bse_diago-BSENGexx_11000-BSENGblk_300-BSEBands_25-32\n",
      "slurm submit:  cd GW_HF_analysis/kpoints_60-nbnds_700/ ; sbatch job_bse_diago-BSENGexx_11000-BSENGblk_300-BSEBands_25-32.sh\n",
      "computation bse_diago-BSENGexx_11000-BSENGblk_300-BSEBands_25-32 is running...\n",
      "Submitted batch job 5911170\n"
     ]
    }
   ],
   "source": [
    "results = study.run()"
   ]
  },
  {
   "cell_type": "code",
   "execution_count": 91,
   "metadata": {},
   "outputs": [],
   "source": [
    "r = results[0].data"
   ]
  },
  {
   "cell_type": "code",
   "execution_count": 92,
   "metadata": {},
   "outputs": [
    {
     "data": {
      "text/plain": [
       "dict_keys(['in', 'GW_HF_analysis/kpoints_60-nbnds_700/bse_diago-BSENGexx_1000-BSENGblk_100-BSEBands_25-32/r-bse_diago-BSENGexx_1000-BSENGblk_100-BSEBands_25-32_rim_cut_optics_dipoles_bss_bse', 'eps_q1_slepc_bse', 'alpha_q1_slepc_bse', 'jdos_q1_slepc_bse', 'E_IP_q1', 'Esort_q1_slepc_bse'])"
      ]
     },
     "execution_count": 92,
     "metadata": {},
     "output_type": "execute_result"
    }
   ],
   "source": [
    "r.keys()"
   ]
  },
  {
   "cell_type": "code",
   "execution_count": 93,
   "metadata": {},
   "outputs": [],
   "source": [
    "eps = r['eps_q1_slepc_bse']"
   ]
  },
  {
   "cell_type": "code",
   "execution_count": 94,
   "metadata": {},
   "outputs": [
    {
     "data": {
      "text/plain": [
       "[<matplotlib.lines.Line2D at 0x7f3f7b8ac0f0>]"
      ]
     },
     "execution_count": 94,
     "metadata": {},
     "output_type": "execute_result"
    },
    {
     "data": {
      "image/png": "[encoded data removed]",
      "text/plain": [
       "<Figure size 432x288 with 1 Axes>"
      ]
     },
     "metadata": {
      "needs_background": "light"
     },
     "output_type": "display_data"
    }
   ],
   "source": [
    "plt.plot(eps['col0'],eps['col1'])"
   ]
  },
  {
   "cell_type": "code",
   "execution_count": 101,
   "metadata": {},
   "outputs": [],
   "source": [
    "jdos = r['jdos_q1_slepc_bse']"
   ]
  },
  {
   "cell_type": "code",
   "execution_count": 106,
   "metadata": {},
   "outputs": [
    {
     "data": {
      "text/plain": [
       "[<matplotlib.lines.Line2D at 0x7f3f7bfd8908>]"
      ]
     },
     "execution_count": 106,
     "metadata": {},
     "output_type": "execute_result"
    },
    {
     "data": {
      "image/png": "[encoded data removed]",
      "text/plain": [
       "<Figure size 432x288 with 1 Axes>"
      ]
     },
     "metadata": {
      "needs_background": "light"
     },
     "output_type": "display_data"
    }
   ],
   "source": [
    "plt.plot(jdos['col0'],jdos['col3'])"
   ]
  },
  {
   "cell_type": "code",
   "execution_count": 97,
   "metadata": {},
   "outputs": [],
   "source": [
    "energies = Tools.get_variable_from_db(\n",
    "        'GW_HF_analysis/kpoints_60-nbnds_700/bse_diago-BSENGexx_1000-BSENGblk_100-BSEBands_25-32_old/ndb.BS_diago_Q1','BS_Energies')\n",
    "energies *= Const.HaToeV*1e3"
   ]
  },
  {
   "cell_type": "code",
   "execution_count": 100,
   "metadata": {},
   "outputs": [
    {
     "data": {
      "text/plain": [
       "array([[  6.6400695,   0.       ],\n",
       "       [  6.645164 ,   0.       ],\n",
       "       [  7.1321254,   0.       ],\n",
       "       [  7.13764  ,   0.       ],\n",
       "       [  7.6836133,   0.       ],\n",
       "       [  7.6873198,   0.       ],\n",
       "       [  7.848302 ,   0.       ],\n",
       "       [  7.848533 ,   0.       ],\n",
       "       [212.92122  ,   0.       ],\n",
       "       [212.92865  ,   0.       ]], dtype=float32)"
      ]
     },
     "execution_count": 100,
     "metadata": {},
     "output_type": "execute_result"
    }
   ],
   "source": [
    "energies[0:10]"
   ]
  },
  {
   "cell_type": "code",
   "execution_count": null,
   "metadata": {},
   "outputs": [],
   "source": []
  },
  {
   "cell_type": "code",
   "execution_count": null,
   "metadata": {},
   "outputs": [],
   "source": []
  },
  {
   "cell_type": "code",
   "execution_count": null,
   "metadata": {},
   "outputs": [],
   "source": []
  },
  {
   "cell_type": "code",
   "execution_count": null,
   "metadata": {},
   "outputs": [],
   "source": []
  },
  {
   "cell_type": "code",
   "execution_count": null,
   "metadata": {},
   "outputs": [],
   "source": []
  },
  {
   "cell_type": "code",
   "execution_count": null,
   "metadata": {},
   "outputs": [],
   "source": []
  }
 ],
 "metadata": {
  "kernelspec": {
   "display_name": "Python 3",
   "language": "python",
   "name": "python3"
  },
  "language_info": {
   "codemirror_mode": {
    "name": "ipython",
    "version": 3
   },
   "file_extension": ".py",
   "mimetype": "text/x-python",
   "name": "python",
   "nbconvert_exporter": "python",
   "pygments_lexer": "ipython3",
   "version": "3.6.8"
  }
 },
 "nbformat": 4,
 "nbformat_minor": 4
}
