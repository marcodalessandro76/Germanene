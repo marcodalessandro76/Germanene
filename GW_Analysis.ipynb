{
 "cells": [
  {
   "cell_type": "code",
   "execution_count": 1,
   "metadata": {},
   "outputs": [],
   "source": [
    "# useful to autoreload the module without restarting the kernel\n",
    "%load_ext autoreload\n",
    "%autoreload 2"
   ]
  },
  {
   "cell_type": "code",
   "execution_count": 2,
   "metadata": {},
   "outputs": [],
   "source": [
    "from mppi import InputFiles as I, Calculators as C, Datasets as D, Parsers as P\n",
    "from mppi.Utilities import Tools\n",
    "from mppi.Utilities import Constants as Const\n",
    "from mppi.Datasets import PostProcessing as PP\n",
    "import matplotlib.pyplot as plt\n",
    "import numpy as np\n",
    "import os, yaml"
   ]
  },
  {
   "cell_type": "code",
   "execution_count": 3,
   "metadata": {},
   "outputs": [
    {
     "name": "stdout",
     "output_type": "stream",
     "text": [
      "rsync -rLptgoDzv --exclude={'*_fragment_*','*_fragments_*','*wfc*','*.dat'} -e ssh ismhpc:/work/dalessandro/2D_ELECTRONIC_OPTICAL_PROPERTIES/GERMANENE/GW_HF_analysis/ '/work/dalessandro/2D_ELECTRONIC_OPTICAL_PROPERTIES/GERMANENE/GW_HF_analysis'\n"
     ]
    }
   ],
   "source": [
    "dry_run = False\n",
    "rsync_str = \"rsync -rLptgoDzv --exclude={'*_fragment_*','*_fragments_*','*wfc*','*.dat'} \"\n",
    "if dry_run: rsync_str += '--dry-run '\n",
    "ssh_str = '-e ssh ismhpc:/work/dalessandro/2D_ELECTRONIC_OPTICAL_PROPERTIES/GERMANENE/GW_HF_analysis/ '\n",
    "dest_path = 'GW_HF_analysis'\n",
    "dest_path = os.path.abspath(dest_path)\n",
    "dest_path = \"'%s'\"%dest_path\n",
    "command = rsync_str+ssh_str+dest_path\n",
    "print(command)"
   ]
  },
  {
   "cell_type": "code",
   "execution_count": 3,
   "metadata": {},
   "outputs": [],
   "source": [
    "omp = 1\n",
    "mpi = 16 #4\n",
    "partition = 'all12h' # debug, slownodes, all12h, fastnode, smallnode\n",
    "memory = '125000' # 60000 / 125000 / 180000\n",
    "nodelist = 'wnode08'\n",
    "ntasks_per_node = '%s'%int(mpi/2)\n",
    "nodes = 3\n",
    "sbatch_options = [\n",
    "    '--partition=%s'%partition,\n",
    "    '--mem=%s'%memory,\n",
    "    '--nodes=%s'%nodes,\n",
    "    #'--ntasks-per-node=%s'%ntasks_per_node,\n",
    "    #,'--nodelist=%s'%nodelist\n",
    "    ] "
   ]
  },
  {
   "cell_type": "code",
   "execution_count": 5,
   "metadata": {},
   "outputs": [
    {
     "name": "stdout",
     "output_type": "stream",
     "text": [
      "Initialize a Yambo calculator with scheduler slurm\n"
     ]
    },
    {
     "data": {
      "text/plain": [
       "{'omp': 1,\n",
       " 'mpi': 16,\n",
       " 'mpi_run': 'mpirun -np',\n",
       " 'executable': 'yambo',\n",
       " 'scheduler': 'slurm',\n",
       " 'skip': True,\n",
       " 'clean_restart': True,\n",
       " 'dry_run': False,\n",
       " 'wait_end_run': True,\n",
       " 'sbatch_options': ['--partition=all12h', '--mem=125000', '--nodes=3'],\n",
       " 'activate_BeeOND': True,\n",
       " 'verbose': True}"
      ]
     },
     "execution_count": 5,
     "metadata": {},
     "output_type": "execute_result"
    }
   ],
   "source": [
    "#code = C.YamboCalculator(omp=omp,mpi=mpi,executable='yambo')\n",
    "code = C.YamboCalculator(omp=omp,mpi=mpi,executable='yambo',scheduler='slurm',sbatch_options=sbatch_options)\n",
    "code.global_options()"
   ]
  },
  {
   "cell_type": "markdown",
   "metadata": {
    "tags": []
   },
   "source": [
    "# GW convergence analysis of the Germanene"
   ]
  },
  {
   "cell_type": "markdown",
   "metadata": {},
   "source": [
    "We compute the GW corrections of the DFT band structure of the Germanene. \n",
    "\n",
    "We discuss the convergene procedure using various approximations of the self-energy."
   ]
  },
  {
   "cell_type": "markdown",
   "metadata": {},
   "source": [
    "We have performed various preliminary tests in particular:\n",
    "\n",
    "__Parallelization strategy__\n",
    "\n",
    "We set the SE_ROLEs as 'b.qp.q' and we observe that (with 16 mpi)\n",
    "* for 6,6,1 kpoints the highest performance are achieved with '16.1.1'\n",
    "* for 12,12,1 kpoints the only working configuration is '16.1.1' (reasons are to be checked further...)\n",
    "\n",
    "__Random integration method (RIM) and Coulomb potential cutoff__\n",
    "\n",
    "........."
   ]
  },
  {
   "cell_type": "markdown",
   "metadata": {},
   "source": [
    "## Hartree-Fock convergence analysis "
   ]
  },
  {
   "cell_type": "markdown",
   "metadata": {},
   "source": [
    "At the Hartree-Fock (HF) level the self energy is limited to the exchange part $\\Sigma_x$ written in term of the\n",
    "bare Coulomb potential.\n",
    "\n",
    "The diagonal matrix elements of $\\Sigma_x$ on the KS states are written as\n",
    "$$\n",
    "\\langle nk|\\Sigma_x|nk \\rangle = -\\sum_{n'}\\int_{BZ}dq\\sum_G \\frac{4\\pi}{|q+G|^2}\n",
    "|\\rho_{nn'}(k,q,G|^2f_{n',k-q}\n",
    "$$\n",
    "The sum over $n'$ il limited to the full bands due the $f_{n'}$ factor and so the self energy in this\n",
    "approximation scheme depends on the $k$-points sampling in the BZ (q sum) and on the cutoff of the plane wave\n",
    "expansion of the KS states."
   ]
  },
  {
   "cell_type": "markdown",
   "metadata": {},
   "source": [
    "We study the converge of the direct gap at the $K$ point in function of the number of plane wave of the exchange (EXXRLvcs variable in Yambo).\n",
    "The highest value of this variable is given by the cutoff of the density matrix in QuantumESPRESSO, that in turn is\n",
    "4 times the cutoff on the KS wave functions ($90*4=360$ Ry in the present analysis).\n",
    "\n",
    "We also study the convergence of the gap in function of the $k$-points sampling of the BZ."
   ]
  },
  {
   "cell_type": "code",
   "execution_count": 6,
   "metadata": {},
   "outputs": [],
   "source": [
    "#kvalues = [12,18,24,30,36,42,48,54,60,66,78]\n",
    "kvalues = [78]\n",
    "\n",
    "test_set = {}\n",
    "for k in kvalues:\n",
    "    source_dir = 'DFT_analysis/kpoints_%s-nbnds_60.save'%k\n",
    "    run_dir = 'GW_HF_analysis/kpoints_%s'%k\n",
    "    dft_data = P.PwParser(os.path.join(source_dir,'data-file-schema.xml'),verbose=False)\n",
    "    test_set[k] = {'source_dir' : source_dir,\n",
    "                   'run_dir' :  run_dir,\n",
    "                    'K_index' : len(dft_data.kpoints)}\n",
    "#test_set"
   ]
  },
  {
   "cell_type": "code",
   "execution_count": 7,
   "metadata": {},
   "outputs": [],
   "source": [
    "start_band,stop_band = 28,29 # bands range for the computation of the HF corrections"
   ]
  },
  {
   "cell_type": "markdown",
   "metadata": {},
   "source": [
    "We build the input for HF analysis including the random integration method (RIM) for the small $q$ component of the Coulomb potential\n",
    "and the cutoff of the Coulomb potential in the off plane direction. \n",
    "\n",
    "The z dimension of the simulation box is \n",
    "* $7.643*8 = 61.44$ au and we set the cutoff to 60 au\n",
    "* $7.643*4 = 30.572$ au and we set the cutoff to 30 au"
   ]
  },
  {
   "cell_type": "code",
   "execution_count": 8,
   "metadata": {},
   "outputs": [],
   "source": [
    "cut_z = 30 # 60 # au, slightly smaller than the cell, in agreement with the Yambo tutorial page\n",
    "RandQpts = 1000000 # Number of random q-points in the BZ\n",
    "RandGvec = 100 # use the RIM for the first 100 G-components of the coulomb potential "
   ]
  },
  {
   "cell_type": "markdown",
   "metadata": {
    "tags": []
   },
   "source": [
    "### Analysis of the q-points sampling and of the and of the $G$-points expansion of the exchange term"
   ]
  },
  {
   "cell_type": "markdown",
   "metadata": {},
   "source": [
    "First, we perform a convergence test on the EXXRLvsc parameter at k=18 sampling, than we study\n",
    "the convergence of the $q$-point sampling"
   ]
  },
  {
   "cell_type": "code",
   "execution_count": 9,
   "metadata": {},
   "outputs": [
    {
     "name": "stdout",
     "output_type": "stream",
     "text": [
      "SAVE folder already present in GW_HF_analysis/kpoints_18. No operations performed.\n"
     ]
    }
   ],
   "source": [
    "k_sel = 18\n",
    "Tools.build_SAVE(test_set[k_sel]['source_dir'],test_set[k_sel]['run_dir'],command='p2y')"
   ]
  },
  {
   "cell_type": "code",
   "execution_count": 10,
   "metadata": {},
   "outputs": [
    {
     "name": "stdout",
     "output_type": "stream",
     "text": [
      "Initialize a Dataset with 1 parallel tasks\n"
     ]
    }
   ],
   "source": [
    "EXXRLvcs = [10,20,40,60,80] #[20,40,60,80,100]\n",
    "\n",
    "study = D.Dataset(run_dir=test_set[k_sel]['run_dir'],num_tasks=1,verbose=True)\n",
    "study.set_postprocessing_function(PP.yambo_parse_data)\n",
    "\n",
    "inp = I.YamboInput(args='yambo -r -x -V all',folder=test_set[k_sel]['run_dir'])\n",
    "inp.set_extendOut()\n",
    "K_index = test_set[k_sel]['K_index']\n",
    "inp.set_kRange(K_index,K_index)\n",
    "inp.set_bandRange(start_band,stop_band)\n",
    "inp['variables']['RandQpts'] = [RandQpts,'']\n",
    "inp['variables']['RandGvec'] = [RandGvec,'']\n",
    "inp['variables']['CUTGeo'] = 'box z'\n",
    "inp['variables']['CUTBox'] = [[0.,0.,cut_z],'au']\n",
    "inp['variables']['SE_CPU'] = '%s.1.1'%mpi\n",
    "inp['variables']['SE_ROLEs'] = 'b.qp.q'\n",
    "\n",
    "for ex in EXXRLvcs:\n",
    "    idd = {'kpoints':k_sel,'exxrlvcs':ex,'cutbox':cut_z,'randQ':RandQpts,'randG':RandGvec}\n",
    "    inp['variables']['EXXRLvcs'] = [ex,'Ry']\n",
    "    study.append_run(id=idd,input=inp,runner=code)"
   ]
  },
  {
   "cell_type": "code",
   "execution_count": 11,
   "metadata": {},
   "outputs": [
    {
     "name": "stdout",
     "output_type": "stream",
     "text": [
      "Run the selection [0, 1, 2, 3, 4] with the parallel task_groups [[0], [1], [2], [3], [4]] \n",
      "\n",
      "Run the task [0] \n",
      "run command: mpirun -np 16 yambo -F cutbox_30-exxrlvcs_10-kpoints_18-randG_100-randQ_1000000.in -J cutbox_30-exxrlvcs_10-kpoints_18-randG_100-randQ_1000000 -C cutbox_30-exxrlvcs_10-kpoints_18-randG_100-randQ_1000000\n",
      "slurm submit:  cd GW_HF_analysis/kpoints_18 ; sbatch job_cutbox_30-exxrlvcs_10-kpoints_18-randG_100-randQ_1000000.sh\n",
      "computation cutbox_30-exxrlvcs_10-kpoints_18-randG_100-randQ_1000000 is running...\n",
      "computation cutbox_30-exxrlvcs_10-kpoints_18-randG_100-randQ_1000000 ended\n",
      "Run performed in 02m-49s\n",
      "Task [0] ended \n",
      " \n",
      "Run the task [1] \n",
      "Skip the run of cutbox_30-exxrlvcs_20-kpoints_18-randG_100-randQ_1000000\n",
      "Task [1] ended \n",
      " \n",
      "Run the task [2] \n",
      "Skip the run of cutbox_30-exxrlvcs_40-kpoints_18-randG_100-randQ_1000000\n",
      "Task [2] ended \n",
      " \n",
      "Run the task [3] \n",
      "Skip the run of cutbox_30-exxrlvcs_60-kpoints_18-randG_100-randQ_1000000\n",
      "Task [3] ended \n",
      " \n",
      "Run the task [4] \n",
      "run command: mpirun -np 16 yambo -F cutbox_30-exxrlvcs_80-kpoints_18-randG_100-randQ_1000000.in -J cutbox_30-exxrlvcs_80-kpoints_18-randG_100-randQ_1000000 -C cutbox_30-exxrlvcs_80-kpoints_18-randG_100-randQ_1000000\n",
      "slurm submit:  cd GW_HF_analysis/kpoints_18 ; sbatch job_cutbox_30-exxrlvcs_80-kpoints_18-randG_100-randQ_1000000.sh\n",
      "computation cutbox_30-exxrlvcs_80-kpoints_18-randG_100-randQ_1000000 is running...\n",
      "computation cutbox_30-exxrlvcs_80-kpoints_18-randG_100-randQ_1000000 ended\n",
      "Run performed in 02m-46s\n",
      "Task [4] ended \n",
      " \n"
     ]
    }
   ],
   "source": [
    "results = study.run()"
   ]
  },
  {
   "cell_type": "code",
   "execution_count": 12,
   "metadata": {},
   "outputs": [
    {
     "data": {
      "text/plain": [
       "[0.847812, 0.849063, 0.8491869999999999, 0.8491879999999999, 0.849189]"
      ]
     },
     "execution_count": 12,
     "metadata": {},
     "output_type": "execute_result"
    }
   ],
   "source": [
    "gap = [results[ind].data.get_gap(k_full=test_set[k_sel]['K_index'],band_full=start_band,verbose=False) for ind in range(len(EXXRLvcs))]\n",
    "gap"
   ]
  },
  {
   "cell_type": "code",
   "execution_count": 13,
   "metadata": {},
   "outputs": [
    {
     "data": {
      "text/plain": [
       "<matplotlib.collections.PathCollection at 0x7feefb2f1b00>"
      ]
     },
     "execution_count": 13,
     "metadata": {},
     "output_type": "execute_result"
    },
    {
     "data": {
      "image/png": "[encoded data removed]",
      "text/plain": [
       "<Figure size 432x288 with 1 Axes>"
      ]
     },
     "metadata": {
      "needs_background": "light"
     },
     "output_type": "display_data"
    }
   ],
   "source": [
    "plt.plot(EXXRLvcs,gap)\n",
    "plt.scatter(EXXRLvcs,gap)"
   ]
  },
  {
   "cell_type": "markdown",
   "metadata": {},
   "source": [
    "We choose EXXRRLvcs = 60 Ry as converged value and analyze the convergence of the $q$-points sampling"
   ]
  },
  {
   "cell_type": "code",
   "execution_count": 9,
   "metadata": {},
   "outputs": [],
   "source": [
    "EXXRLvcs_conv = 40 # Ry"
   ]
  },
  {
   "cell_type": "code",
   "execution_count": 10,
   "metadata": {},
   "outputs": [
    {
     "name": "stdout",
     "output_type": "stream",
     "text": [
      "Initialize a Dataset with 1 parallel tasks\n",
      "SAVE folder already present in GW_HF_analysis/kpoints_78. No operations performed.\n"
     ]
    }
   ],
   "source": [
    "study = D.Dataset(num_tasks=1,verbose=True)\n",
    "study.set_postprocessing_function(PP.yambo_parse_data)\n",
    "\n",
    "for k in test_set:\n",
    "    Tools.build_SAVE(test_set[k]['source_dir'],test_set[k]['run_dir'],command='p2y')\n",
    "    inp = I.YamboInput(args='yambo -r -x -V all',folder=test_set[k]['run_dir'])\n",
    "    inp.set_extendOut()\n",
    "    K_index = test_set[k]['K_index']\n",
    "    inp.set_kRange(K_index,K_index)\n",
    "    inp.set_bandRange(start_band,stop_band)\n",
    "    inp['variables']['EXXRLvcs'] = [EXXRLvcs_conv,'Ry']\n",
    "    inp['variables']['RandQpts'] = [RandQpts,'']\n",
    "    inp['variables']['RandGvec'] = [RandGvec,'']\n",
    "    inp['variables']['CUTGeo'] = 'box z'\n",
    "    inp['variables']['CUTBox'] = [[0.,0.,cut_z],'au']\n",
    "    inp['variables']['SE_CPU'] = '%s.1.1'%mpi\n",
    "    inp['variables']['SE_ROLEs'] = 'b.qp.q'\n",
    "    \n",
    "    idd = {'kpoints':k,'exxrlvcs':EXXRLvcs_conv,'cutbox':cut_z,'randQ':RandQpts,'randG':RandGvec}\n",
    "    study.append_run(id=idd,input=inp,runner=code,run_dir=test_set[k]['run_dir'])"
   ]
  },
  {
   "cell_type": "code",
   "execution_count": 11,
   "metadata": {},
   "outputs": [
    {
     "name": "stdout",
     "output_type": "stream",
     "text": [
      "Run the selection [0] with the parallel task_groups [[0]] \n",
      "\n",
      "Run the task [0] \n",
      "delete job_out script: GW_HF_analysis/kpoints_78/job_cutbox_30-exxrlvcs_40-kpoints_78-randG_100-randQ_1000000.out\n",
      "delete folder: GW_HF_analysis/kpoints_78/cutbox_30-exxrlvcs_40-kpoints_78-randG_100-randQ_1000000\n",
      "run command: mpirun -np 16 yambo -F cutbox_30-exxrlvcs_40-kpoints_78-randG_100-randQ_1000000.in -J cutbox_30-exxrlvcs_40-kpoints_78-randG_100-randQ_1000000 -C cutbox_30-exxrlvcs_40-kpoints_78-randG_100-randQ_1000000\n",
      "slurm submit:  cd GW_HF_analysis/kpoints_78 ; sbatch job_cutbox_30-exxrlvcs_40-kpoints_78-randG_100-randQ_1000000.sh\n",
      "computation cutbox_30-exxrlvcs_40-kpoints_78-randG_100-randQ_1000000 is running...\n",
      "computation cutbox_30-exxrlvcs_40-kpoints_78-randG_100-randQ_1000000 ended\n",
      "\n",
      "        There are no o-* files.\n",
      "        Maybe you have performed a ypp computation or wait_end_run and/or\n",
      "        the dry_run option are active?\n",
      "        Otherwise a possible error has occured during the computation\n",
      "        \n",
      "game_over string not found in report. Check the computation!\n",
      "Task [0] ended \n",
      " \n"
     ]
    }
   ],
   "source": [
    "results = study.run()"
   ]
  },
  {
   "cell_type": "code",
   "execution_count": 35,
   "metadata": {},
   "outputs": [
    {
     "data": {
      "text/plain": [
       "[1.162207,\n",
       " 0.8491869999999999,\n",
       " 0.7013119999999999,\n",
       " 0.615127,\n",
       " 0.559527,\n",
       " 0.519778,\n",
       " 0.490761,\n",
       " 0.468854,\n",
       " 0.45126199999999994,\n",
       " 0.43705900000000003]"
      ]
     },
     "execution_count": 35,
     "metadata": {},
     "output_type": "execute_result"
    }
   ],
   "source": [
    "gap = []\n",
    "for k in kvalues:\n",
    "    r = study.fetch_results(id={'kpoints':k})[0]\n",
    "    gap.append(r.data.get_gap(k_full=test_set[k]['K_index'],band_full=start_band,verbose=False))\n",
    "gap"
   ]
  },
  {
   "cell_type": "code",
   "execution_count": 36,
   "metadata": {},
   "outputs": [
    {
     "data": {
      "text/plain": [
       "<matplotlib.collections.PathCollection at 0x7f341f81ff28>"
      ]
     },
     "execution_count": 36,
     "metadata": {},
     "output_type": "execute_result"
    },
    {
     "data": {
      "image/png": "[encoded data removed]",
      "text/plain": [
       "<Figure size 432x288 with 1 Axes>"
      ]
     },
     "metadata": {
      "needs_background": "light"
     },
     "output_type": "display_data"
    }
   ],
   "source": [
    "plt.plot(kvalues,gap)\n",
    "plt.scatter(kvalues,gap)"
   ]
  },
  {
   "cell_type": "code",
   "execution_count": 37,
   "metadata": {},
   "outputs": [],
   "source": [
    "from scipy.optimize import curve_fit"
   ]
  },
  {
   "cell_type": "code",
   "execution_count": 38,
   "metadata": {},
   "outputs": [],
   "source": [
    "x = np.array(kvalues)\n",
    "y = np.array(gap)"
   ]
  },
  {
   "cell_type": "code",
   "execution_count": 39,
   "metadata": {},
   "outputs": [],
   "source": [
    "def exp(t,a,b,c):\n",
    "    return a*np.exp(b*t)+c"
   ]
  },
  {
   "cell_type": "code",
   "execution_count": 40,
   "metadata": {},
   "outputs": [
    {
     "data": {
      "text/plain": [
       "array([ 1.89850688, -0.08284485,  0.44739332])"
      ]
     },
     "execution_count": 40,
     "metadata": {},
     "output_type": "execute_result"
    }
   ],
   "source": [
    "p0 = [1,-0.1,0.5]\n",
    "pars,pcov = curve_fit(exp,x,y,p0=p0)\n",
    "pars"
   ]
  },
  {
   "cell_type": "code",
   "execution_count": 46,
   "metadata": {},
   "outputs": [],
   "source": [
    "x_ext = np.linspace(20,80)"
   ]
  },
  {
   "cell_type": "code",
   "execution_count": 47,
   "metadata": {},
   "outputs": [
    {
     "data": {
      "text/plain": [
       "[<matplotlib.lines.Line2D at 0x7f34018eb4a8>]"
      ]
     },
     "execution_count": 47,
     "metadata": {},
     "output_type": "execute_result"
    },
    {
     "data": {
      "image/png": "[encoded data removed]",
      "text/plain": [
       "<Figure size 432x288 with 1 Axes>"
      ]
     },
     "metadata": {
      "needs_background": "light"
     },
     "output_type": "display_data"
    }
   ],
   "source": [
    "plt.plot(kvalues,gap)\n",
    "plt.scatter(kvalues,gap)\n",
    "plt.plot(x_ext,exp(x_ext,*pars))"
   ]
  },
  {
   "cell_type": "markdown",
   "metadata": {},
   "source": [
    "## COHSEX convergence analysis "
   ]
  },
  {
   "cell_type": "markdown",
   "metadata": {},
   "source": [
    "We discuss different approximations for the self energy $\\Sigma = G_0 W$. \n",
    "The evaluation of $W$ passes through:\n",
    "$$\n",
    "\\chi = \\chi_0 + \\chi_0(v_H+f_{xc})\\chi \\\\\n",
    "W = v+v\\chi v\n",
    "$$"
   ]
  },
  {
   "cell_type": "markdown",
   "metadata": {},
   "source": [
    "In the COHSEX one considers only the static contribution of the response $\\chi(\\omega=0)$ and we also limit our analysis to the Hartree kernel, so that $f_{xc}=0$ (RPA approximations).\n",
    "\n",
    "In this case (without empties) G0 still depends only from the number of kpoints and from the EXXRLvcs parameter. Moreover we introduce also a non trivial W potential and two more parameters come into the play. These are the cut of in the plane wave expansion of the response function for the construction of W (NGsBlkXs) and the number of empty bands used to write the Lehmann representation of $\\chi_0$ (BndsRnXs)."
   ]
  },
  {
   "cell_type": "code",
   "execution_count": 12,
   "metadata": {},
   "outputs": [],
   "source": [
    "run_dir = 'GW_HF_analysis/kpoints_18'"
   ]
  },
  {
   "cell_type": "code",
   "execution_count": 18,
   "metadata": {},
   "outputs": [
    {
     "data": {
      "text/plain": [
       "{'args': 'yambo -k hartee -dyson n -gw0 c -V qp',\n",
       " 'folder': 'GW_HF_analysis/kpoints_18',\n",
       " 'filename': 'yambo.in',\n",
       " 'arguments': ['em1s', 'gw0', 'HF_and_locXC', 'cohsex'],\n",
       " 'variables': {'DIP_Threads': [0.0, ''],\n",
       "  'X_Threads': [0.0, ''],\n",
       "  'SE_Threads': [0.0, ''],\n",
       "  'EXXRLvcs': [178169.0, 'RL'],\n",
       "  'VXCRLvcs': [178169.0, 'RL'],\n",
       "  'XfnQP_INTERP_NN': [1.0, ''],\n",
       "  'XfnQP_INTERP_shells': [20.0, ''],\n",
       "  'XfnQP_Wv_E': [0.0, 'eV'],\n",
       "  'XfnQP_Wv_dos': [0.0, 'eV'],\n",
       "  'XfnQP_Wc_E': [0.0, 'eV'],\n",
       "  'XfnQP_Wc_dos': [0.0, 'eV'],\n",
       "  'NGsBlkXs': [1.0, 'RL'],\n",
       "  'GfnQP_INTERP_NN': [1.0, ''],\n",
       "  'GfnQP_INTERP_shells': [20.0, ''],\n",
       "  'GfnQP_Wv_E': [0.0, 'eV'],\n",
       "  'GfnQP_Wv_dos': [0.0, 'eV'],\n",
       "  'GfnQP_Wc_E': [0.0, 'eV'],\n",
       "  'GfnQP_Wc_dos': [0.0, 'eV'],\n",
       "  'GWoIter': [0.0, ''],\n",
       "  'GWIter': [0.0, ''],\n",
       "  'SCEtresh': [0.01, 'eV'],\n",
       "  'Chimod': 'HARTREE',\n",
       "  'XfnQPdb': 'none',\n",
       "  'XfnQP_DbGd_INTERP_mode': 'NN',\n",
       "  'XTermKind': 'none',\n",
       "  'GfnQPdb': 'none',\n",
       "  'GfnQP_DbGd_INTERP_mode': 'NN',\n",
       "  'XfnQP_Z': [(1+0j), ''],\n",
       "  'GfnQP_Z': [(1+0j), ''],\n",
       "  'XfnQP_E': [[0.0, 1.0, 1.0], ''],\n",
       "  'XfnQP_Wv': [[0.0, 0.0, 0.0], ''],\n",
       "  'XfnQP_Wc': [[0.0, 0.0, 0.0], ''],\n",
       "  'BndsRnXs': [[1, 60], ''],\n",
       "  'LongDrXs': [[1.0, 0.0, 0.0], ''],\n",
       "  'GfnQP_E': [[0.0, 1.0, 1.0], ''],\n",
       "  'GfnQP_Wv': [[0.0, 0.0, 0.0], ''],\n",
       "  'GfnQP_Wc': [[0.0, 0.0, 0.0], ''],\n",
       "  'QPkrange': [[1, 37, 1, 60], ''],\n",
       "  'QPerange': [[1, 37, 0.0, '-1.000000'], '']}}"
      ]
     },
     "execution_count": 18,
     "metadata": {},
     "output_type": "execute_result"
    }
   ],
   "source": [
    "inp = I.YamboInput(args='yambo -k hartee -dyson n -gw0 c -V qp',folder=run_dir)\n",
    "inp"
   ]
  },
  {
   "cell_type": "code",
   "execution_count": null,
   "metadata": {},
   "outputs": [],
   "source": []
  },
  {
   "cell_type": "code",
   "execution_count": null,
   "metadata": {},
   "outputs": [],
   "source": []
  },
  {
   "cell_type": "code",
   "execution_count": null,
   "metadata": {},
   "outputs": [],
   "source": []
  },
  {
   "cell_type": "code",
   "execution_count": null,
   "metadata": {},
   "outputs": [],
   "source": []
  },
  {
   "cell_type": "code",
   "execution_count": null,
   "metadata": {},
   "outputs": [],
   "source": []
  },
  {
   "cell_type": "code",
   "execution_count": null,
   "metadata": {},
   "outputs": [],
   "source": []
  },
  {
   "cell_type": "code",
   "execution_count": null,
   "metadata": {},
   "outputs": [],
   "source": []
  },
  {
   "cell_type": "code",
   "execution_count": null,
   "metadata": {},
   "outputs": [],
   "source": []
  }
 ],
 "metadata": {
  "kernelspec": {
   "display_name": "Python 3",
   "language": "python",
   "name": "python3"
  },
  "language_info": {
   "codemirror_mode": {
    "name": "ipython",
    "version": 3
   },
   "file_extension": ".py",
   "mimetype": "text/x-python",
   "name": "python",
   "nbconvert_exporter": "python",
   "pygments_lexer": "ipython3",
   "version": "3.6.8"
  }
 },
 "nbformat": 4,
 "nbformat_minor": 4
}
