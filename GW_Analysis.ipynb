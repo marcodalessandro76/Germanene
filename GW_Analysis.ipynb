{
 "cells": [
  {
   "cell_type": "code",
   "execution_count": 1,
   "metadata": {},
   "outputs": [],
   "source": [
    "# useful to autoreload the module without restarting the kernel\n",
    "%load_ext autoreload\n",
    "%autoreload 2"
   ]
  },
  {
   "cell_type": "code",
   "execution_count": 2,
   "metadata": {},
   "outputs": [],
   "source": [
    "from mppi import InputFiles as I, Calculators as C, Datasets as D, Parsers as P, Utilities as U\n",
    "from mppi.Utilities import Tools\n",
    "from mppi.Utilities import Constants as Const\n",
    "import matplotlib.pyplot as plt\n",
    "import numpy as np\n",
    "import os, yaml"
   ]
  },
  {
   "cell_type": "code",
   "execution_count": null,
   "metadata": {},
   "outputs": [],
   "source": [
    "dry_run = False\n",
    "rsync_str = \"rsync -rLptgoDzv --exclude={'*_fragment_*','*_fragments_*','*wfc*','*.dat'} \"\n",
    "if dry_run: rsync_str += '--dry-run '\n",
    "ssh_str = '-e ssh ismhpc:/work/dalessandro/2D_ELECTRONIC_OPTICAL_PROPERTIES/GERMANENE/GW_HF_analysis/ '\n",
    "dest_path = 'GW_HF_analysis'\n",
    "dest_path = os.path.abspath(dest_path)\n",
    "dest_path = \"'%s'\"%dest_path\n",
    "command = rsync_str+ssh_str+dest_path\n",
    "print(command)"
   ]
  },
  {
   "cell_type": "code",
   "execution_count": 3,
   "metadata": {},
   "outputs": [],
   "source": [
    "omp = 1\n",
    "mpi = 16 #4\n",
    "sbatch_options = ['--partition=all12h']"
   ]
  },
  {
   "cell_type": "code",
   "execution_count": 4,
   "metadata": {},
   "outputs": [
    {
     "name": "stdout",
     "output_type": "stream",
     "text": [
      "Initialize a Yambo calculator with scheduler slurm\n"
     ]
    },
    {
     "data": {
      "text/plain": [
       "{'omp': 1,\n",
       " 'mpi': 16,\n",
       " 'mpi_run': 'mpirun -np',\n",
       " 'executable': 'yambo',\n",
       " 'scheduler': 'slurm',\n",
       " 'skip': True,\n",
       " 'clean_restart': True,\n",
       " 'dry_run': False,\n",
       " 'wait_end_run': True,\n",
       " 'sbatch_options': ['--partition=all12h'],\n",
       " 'activate_BeeOND': True,\n",
       " 'verbose': True}"
      ]
     },
     "execution_count": 4,
     "metadata": {},
     "output_type": "execute_result"
    }
   ],
   "source": [
    "#code = C.YamboCalculator(omp=omp,mpi=mpi,executable='yambo')\n",
    "code = C.YamboCalculator(omp=omp,mpi=mpi,executable='yambo',scheduler='slurm',sbatch_options=sbatch_options)\n",
    "code.global_options()"
   ]
  },
  {
   "cell_type": "markdown",
   "metadata": {
    "tags": []
   },
   "source": [
    "# GW convergence analysis of the Germanene"
   ]
  },
  {
   "cell_type": "markdown",
   "metadata": {},
   "source": [
    "We compute the GW corrections of the DFT band structure of the Germanene. \n",
    "\n",
    "We discuss the convergene procedure using various approximations of the self-energy."
   ]
  },
  {
   "cell_type": "markdown",
   "metadata": {},
   "source": [
    "We have performed various preliminary tests in particular:\n",
    "\n",
    "__Parallelization strategy__\n",
    "\n",
    "We set the SE_ROLEs as 'b.qp.q' and we observe that (with 16 mpi)\n",
    "* for 6,6,1 kpoints the highest performance are achieved with '16.1.1'\n",
    "* for 12,12,1 kpoints the only working configuration is '16.1.1' (reasons are to be checked further...)\n",
    "\n",
    "__Random integration method (RIM) and Coulomb potential cutoff__\n",
    "\n",
    "........."
   ]
  },
  {
   "cell_type": "markdown",
   "metadata": {},
   "source": [
    "## Hartree-Fock convergence analysis "
   ]
  },
  {
   "cell_type": "markdown",
   "metadata": {},
   "source": [
    "At the Hartree-Fock (HF) level the self energy is limited to the exchange part $\\Sigma_x$ written in term of the\n",
    "bare Coulomb potential.\n",
    "\n",
    "The diagonal matrix elements of $\\Sigma_x$ on the KS states are written as\n",
    "$$\n",
    "\\langle nk|\\Sigma_x|nk \\rangle = -\\sum_{n'}\\int_{BZ}dq\\sum_G \\frac{4\\pi}{|q+G|^2}\n",
    "|\\rho_{nn'}(k,q,G|^2f_{n',k-q}\n",
    "$$\n",
    "The sum over $n'$ il limited to the full bands due the $f_{n'}$ factor and so the self energy in this\n",
    "approximation scheme depends on the $k$-points sampling in the BZ (q sum) and on the cutoff of the plane wave\n",
    "expansion of the KS states."
   ]
  },
  {
   "cell_type": "markdown",
   "metadata": {},
   "source": [
    "We study the converge of the direct gap at the $K$ point in function of the number of plane wave of the exchange (EXXRLvcs variable in Yambo).\n",
    "The highest value of this variable is given by the cutoff of the density matrix in QuantumESPRESSO, that in turn is\n",
    "4 times the cutoff on the KS wave functions ($90*4=360$ Ry in the present analysis).\n",
    "\n",
    "We also study the convergence of the gap in function of the $k$-points sampling of the BZ."
   ]
  },
  {
   "cell_type": "code",
   "execution_count": 5,
   "metadata": {},
   "outputs": [],
   "source": [
    "source_dir = 'DFT_analysis/kpoints_12-nbnds_60.save'\n",
    "run_dir = 'GW_HF_analysis/kpoints_12'"
   ]
  },
  {
   "cell_type": "code",
   "execution_count": 6,
   "metadata": {},
   "outputs": [
    {
     "name": "stdout",
     "output_type": "stream",
     "text": [
      "SAVE folder already present in GW_HF_analysis/kpoints_12. No operations performed.\n"
     ]
    }
   ],
   "source": [
    "Tools.build_SAVE(source_dir,run_dir,command='p2y')"
   ]
  },
  {
   "cell_type": "markdown",
   "metadata": {},
   "source": [
    "We build the input for HF analysis including the random integration method (RIM) for the small $q$ component of the Coulomb potential\n",
    "and the cutoff of the Coulomb potential in the off plane direction. The z dimension of the simulation box is \n",
    "$7.643*8 = 61.44$ au and we set the cutoff of the potential slightly smaller than this value."
   ]
  },
  {
   "cell_type": "code",
   "execution_count": 12,
   "metadata": {},
   "outputs": [
    {
     "name": "stdout",
     "output_type": "stream",
     "text": [
      "Parse file : DFT_analysis/kpoints_12-nbnds_60.save/data-file-schema.xml\n"
     ]
    }
   ],
   "source": [
    "cut_z = 60\n",
    "RandQpts = 1000000 # Number of random q-points in the BZ\n",
    "RandGvec = 100 # use the RIM for the first 100 G-components of the coulomb potential \n",
    "\n",
    "dft_data = P.PwParser(os.path.join(source_dir,'data-file-schema.xml'))\n",
    "K_value = len(dft_data.kpoints) # K is the last point in the k sampling\n",
    "start_band,stop_band = 28,29 # bands range for the computation of the HF corrections\n",
    "\n",
    "#EXXRLvcs = [20,40,60,80,100,200]\n",
    "EXXRLvcs = [200]"
   ]
  },
  {
   "cell_type": "code",
   "execution_count": 13,
   "metadata": {},
   "outputs": [],
   "source": [
    "inp = I.YamboInput(args='yambo -r -x -V all',folder=run_dir)\n",
    "inp.set_extendOut()\n",
    "inp.set_kRange(K_value,K_value)\n",
    "inp.set_bandRange(start_band,stop_band)\n",
    "inp['variables']['RandQpts'] = [RandQpts,'']\n",
    "inp['variables']['RandGvec'] = [RandGvec,'']\n",
    "inp['variables']['CUTGeo'] = 'box z'\n",
    "inp['variables']['CUTBox'] = [[0.,0.,cut_z],'au']\n",
    "\n",
    "inp['variables']['SE_CPU'] = '%s.1.1'%mpi\n",
    "inp['variables']['SE_ROLEs'] = 'b.qp.q'\n",
    "#inp"
   ]
  },
  {
   "cell_type": "code",
   "execution_count": 14,
   "metadata": {},
   "outputs": [
    {
     "name": "stdout",
     "output_type": "stream",
     "text": [
      "Initialize a Dataset with 3 parallel tasks\n"
     ]
    }
   ],
   "source": [
    "study = D.Dataset(run_dir=run_dir,num_tasks=3)"
   ]
  },
  {
   "cell_type": "code",
   "execution_count": 15,
   "metadata": {},
   "outputs": [],
   "source": [
    "for ex in EXXRLvcs:\n",
    "    name = 'EXXRLvcs_%s_rim-cut_%s'%(ex,cut_z)\n",
    "    idd = {'EXXRLvcs':ex,'cutz':cut_z}\n",
    "    inp['variables']['EXXRLvcs'] = [ex,'Ry']\n",
    "    study.append_run(id=idd,input=inp,runner=code)"
   ]
  },
  {
   "cell_type": "code",
   "execution_count": 16,
   "metadata": {},
   "outputs": [
    {
     "name": "stdout",
     "output_type": "stream",
     "text": [
      "Run the selection [0] with the parallel task_groups [[0]] \n",
      "\n",
      "Run the task [0] \n",
      "run command: mpirun -np 16 yambo -F EXXRLvcs_200-cutz_60.in -J EXXRLvcs_200-cutz_60 -C EXXRLvcs_200-cutz_60\n",
      "slurm submit:  cd GW_HF_analysis/kpoints_12 ; sbatch job_EXXRLvcs_200-cutz_60.sh\n",
      "computation EXXRLvcs_200-cutz_60 is running...\n",
      "computation EXXRLvcs_200-cutz_60 ended\n",
      "Run performed in 16m-04s\n",
      "Task [0] ended \n",
      " \n"
     ]
    },
    {
     "data": {
      "text/plain": [
       "{0: {'output': ['GW_HF_analysis/kpoints_12/EXXRLvcs_200-cutz_60/o-EXXRLvcs_200-cutz_60.hf'],\n",
       "  'report': 'GW_HF_analysis/kpoints_12/EXXRLvcs_200-cutz_60/r-EXXRLvcs_200-cutz_60_HF_and_locXC_rim_cut',\n",
       "  'dft': 'GW_HF_analysis/kpoints_12/SAVE/ns.db1',\n",
       "  'HF_and_locXC': 'GW_HF_analysis/kpoints_12/EXXRLvcs_200-cutz_60/ndb.HF_and_locXC',\n",
       "  'RIM': 'GW_HF_analysis/kpoints_12/EXXRLvcs_200-cutz_60/ndb.RIM',\n",
       "  'cutoff': 'GW_HF_analysis/kpoints_12/EXXRLvcs_200-cutz_60/ndb.cutoff'}}"
      ]
     },
     "execution_count": 16,
     "metadata": {},
     "output_type": "execute_result"
    }
   ],
   "source": [
    "study.run()"
   ]
  },
  {
   "cell_type": "code",
   "execution_count": null,
   "metadata": {},
   "outputs": [],
   "source": []
  },
  {
   "cell_type": "code",
   "execution_count": null,
   "metadata": {},
   "outputs": [],
   "source": []
  },
  {
   "cell_type": "code",
   "execution_count": null,
   "metadata": {},
   "outputs": [],
   "source": []
  },
  {
   "cell_type": "code",
   "execution_count": null,
   "metadata": {},
   "outputs": [],
   "source": []
  },
  {
   "cell_type": "code",
   "execution_count": null,
   "metadata": {},
   "outputs": [],
   "source": []
  },
  {
   "cell_type": "code",
   "execution_count": null,
   "metadata": {},
   "outputs": [],
   "source": []
  },
  {
   "cell_type": "code",
   "execution_count": null,
   "metadata": {},
   "outputs": [],
   "source": []
  },
  {
   "cell_type": "code",
   "execution_count": null,
   "metadata": {},
   "outputs": [],
   "source": [
    "###########################################################################"
   ]
  },
  {
   "cell_type": "code",
   "execution_count": 13,
   "metadata": {},
   "outputs": [
    {
     "name": "stdout",
     "output_type": "stream",
     "text": [
      "run command: mpirun -np 16 yambo -F hf_5_rim_cut40.in -J hf_5_rim_cut40 -C hf_5_rim_cut40\n",
      "slurm submit:  cd GW_HF_analysis/kpoints_12 ; sbatch job_hf_5_rim_cut40.sh\n",
      "computation hf_5_rim_cut40 is running...\n",
      "computation hf_5_rim_cut40 ended\n",
      "Run performed in 25m-38s\n"
     ]
    },
    {
     "data": {
      "text/plain": [
       "{'output': ['GW_HF_analysis/kpoints_12/hf_5_rim_cut40/o-hf_5_rim_cut40.hf'],\n",
       " 'report': 'GW_HF_analysis/kpoints_12/hf_5_rim_cut40/r-hf_5_rim_cut40_HF_and_locXC_rim_cut',\n",
       " 'dft': 'GW_HF_analysis/kpoints_12/SAVE/ns.db1',\n",
       " 'HF_and_locXC': 'GW_HF_analysis/kpoints_12/hf_5_rim_cut40/ndb.HF_and_locXC',\n",
       " 'RIM': 'GW_HF_analysis/kpoints_12/hf_5_rim_cut40/ndb.RIM',\n",
       " 'cutoff': 'GW_HF_analysis/kpoints_12/hf_5_rim_cut40/ndb.cutoff'}"
      ]
     },
     "execution_count": 13,
     "metadata": {},
     "output_type": "execute_result"
    }
   ],
   "source": [
    "results = code.run(run_dir=run_dir,input=inp,name=name,skip=True)\n",
    "results"
   ]
  },
  {
   "cell_type": "code",
   "execution_count": null,
   "metadata": {},
   "outputs": [],
   "source": []
  },
  {
   "cell_type": "code",
   "execution_count": null,
   "metadata": {},
   "outputs": [],
   "source": []
  },
  {
   "cell_type": "code",
   "execution_count": null,
   "metadata": {},
   "outputs": [],
   "source": []
  },
  {
   "cell_type": "code",
   "execution_count": null,
   "metadata": {},
   "outputs": [],
   "source": []
  },
  {
   "cell_type": "code",
   "execution_count": null,
   "metadata": {},
   "outputs": [],
   "source": []
  },
  {
   "cell_type": "code",
   "execution_count": null,
   "metadata": {},
   "outputs": [],
   "source": []
  },
  {
   "cell_type": "code",
   "execution_count": null,
   "metadata": {},
   "outputs": [],
   "source": []
  },
  {
   "cell_type": "code",
   "execution_count": null,
   "metadata": {},
   "outputs": [],
   "source": []
  },
  {
   "cell_type": "code",
   "execution_count": null,
   "metadata": {},
   "outputs": [],
   "source": []
  },
  {
   "cell_type": "code",
   "execution_count": null,
   "metadata": {},
   "outputs": [],
   "source": [
    "###########################################################"
   ]
  },
  {
   "cell_type": "code",
   "execution_count": 52,
   "metadata": {},
   "outputs": [
    {
     "name": "stdout",
     "output_type": "stream",
     "text": [
      "Parse file : GW_HF_analysis/kpoints_12/SAVE/ns.db1\n"
     ]
    }
   ],
   "source": [
    "dft = P.YamboDftParser(os.path.join(run_dir,'SAVE','ns.db1'))"
   ]
  },
  {
   "cell_type": "code",
   "execution_count": 53,
   "metadata": {},
   "outputs": [
    {
     "data": {
      "text/plain": [
       "array([[ 0.        ,  0.        ,  0.        ],\n",
       "       [ 0.        ,  0.08333333,  0.        ],\n",
       "       [ 0.        ,  0.16666667,  0.        ],\n",
       "       [ 0.        ,  0.25      ,  0.        ],\n",
       "       [ 0.        ,  0.33333333,  0.        ],\n",
       "       [ 0.        ,  0.41666667,  0.        ],\n",
       "       [ 0.        , -0.5       ,  0.        ],\n",
       "       [ 0.08333333,  0.125     ,  0.        ],\n",
       "       [ 0.08333333,  0.20833333,  0.        ],\n",
       "       [ 0.08333333,  0.29166667,  0.        ],\n",
       "       [ 0.08333333,  0.375     ,  0.        ],\n",
       "       [ 0.08333333,  0.45833333,  0.        ],\n",
       "       [ 0.16666667,  0.25      ,  0.        ],\n",
       "       [ 0.16666667,  0.33333333,  0.        ],\n",
       "       [ 0.16666667,  0.41666667,  0.        ],\n",
       "       [ 0.16666667,  0.5       ,  0.        ],\n",
       "       [ 0.25      ,  0.375     ,  0.        ],\n",
       "       [ 0.25      ,  0.45833333,  0.        ],\n",
       "       [ 0.33333333,  0.5       ,  0.        ]])"
      ]
     },
     "execution_count": 53,
     "metadata": {},
     "output_type": "execute_result"
    }
   ],
   "source": [
    "dft.kpoints"
   ]
  },
  {
   "cell_type": "code",
   "execution_count": 51,
   "metadata": {},
   "outputs": [
    {
     "data": {
      "text/plain": [
       "array([[ 1.       ,  0.       ,  0.       ],\n",
       "       [-0.5      ,  0.8660254,  0.       ],\n",
       "       [ 0.       ,  0.       ,  8.       ]])"
      ]
     },
     "execution_count": 51,
     "metadata": {},
     "output_type": "execute_result"
    }
   ],
   "source": [
    "dft.lattice/7.643"
   ]
  },
  {
   "cell_type": "code",
   "execution_count": 48,
   "metadata": {},
   "outputs": [
    {
     "data": {
      "text/plain": [
       "7.643"
      ]
     },
     "execution_count": 48,
     "metadata": {},
     "output_type": "execute_result"
    }
   ],
   "source": [
    "dft.alat"
   ]
  },
  {
   "cell_type": "code",
   "execution_count": null,
   "metadata": {},
   "outputs": [],
   "source": []
  },
  {
   "cell_type": "code",
   "execution_count": null,
   "metadata": {},
   "outputs": [],
   "source": []
  },
  {
   "cell_type": "code",
   "execution_count": 11,
   "metadata": {},
   "outputs": [
    {
     "data": {
      "text/plain": [
       "{'args': 'yambo -x -V rl',\n",
       " 'folder': 'GW_analysis',\n",
       " 'filename': 'yambo.in',\n",
       " 'arguments': ['HF_and_locXC'],\n",
       " 'variables': {'FFTGvecs': [52407.0, 'RL'],\n",
       "  'SE_Threads': [0.0, ''],\n",
       "  'EXXRLvcs': [356277.0, 'RL'],\n",
       "  'VXCRLvcs': [356277.0, 'RL'],\n",
       "  'QPkrange': [[1, 19, 1, 60], '']}}"
      ]
     },
     "execution_count": 11,
     "metadata": {},
     "output_type": "execute_result"
    }
   ],
   "source": [
    "inp = I.YamboInput(args='yambo -x -V rl',folder=run_dir)\n",
    "inp"
   ]
  },
  {
   "cell_type": "code",
   "execution_count": null,
   "metadata": {},
   "outputs": [],
   "source": []
  },
  {
   "cell_type": "code",
   "execution_count": null,
   "metadata": {},
   "outputs": [],
   "source": []
  },
  {
   "cell_type": "code",
   "execution_count": null,
   "metadata": {},
   "outputs": [],
   "source": []
  },
  {
   "cell_type": "code",
   "execution_count": null,
   "metadata": {},
   "outputs": [],
   "source": []
  },
  {
   "cell_type": "code",
   "execution_count": null,
   "metadata": {},
   "outputs": [],
   "source": []
  },
  {
   "cell_type": "code",
   "execution_count": null,
   "metadata": {},
   "outputs": [],
   "source": []
  },
  {
   "cell_type": "code",
   "execution_count": null,
   "metadata": {},
   "outputs": [],
   "source": []
  },
  {
   "cell_type": "code",
   "execution_count": null,
   "metadata": {},
   "outputs": [],
   "source": []
  },
  {
   "cell_type": "code",
   "execution_count": null,
   "metadata": {},
   "outputs": [],
   "source": []
  },
  {
   "cell_type": "code",
   "execution_count": null,
   "metadata": {},
   "outputs": [],
   "source": []
  },
  {
   "cell_type": "code",
   "execution_count": null,
   "metadata": {},
   "outputs": [],
   "source": []
  }
 ],
 "metadata": {
  "kernelspec": {
   "display_name": "Python 3",
   "language": "python",
   "name": "python3"
  },
  "language_info": {
   "codemirror_mode": {
    "name": "ipython",
    "version": 3
   },
   "file_extension": ".py",
   "mimetype": "text/x-python",
   "name": "python",
   "nbconvert_exporter": "python",
   "pygments_lexer": "ipython3",
   "version": "3.6.8"
  }
 },
 "nbformat": 4,
 "nbformat_minor": 4
}
