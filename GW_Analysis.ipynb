{
 "cells": [
  {
   "cell_type": "code",
   "execution_count": 1,
   "metadata": {},
   "outputs": [],
   "source": [
    "# useful to autoreload the module without restarting the kernel\n",
    "%load_ext autoreload\n",
    "%autoreload 2"
   ]
  },
  {
   "cell_type": "code",
   "execution_count": 2,
   "metadata": {},
   "outputs": [],
   "source": [
    "from mppi import InputFiles as I, Calculators as C, Datasets as D, Parsers as P, Utilities as U\n",
    "from mppi.Utilities import Tools\n",
    "from mppi.Utilities import Constants as Const\n",
    "import matplotlib.pyplot as plt\n",
    "import numpy as np\n",
    "import os, yaml"
   ]
  },
  {
   "cell_type": "code",
   "execution_count": 3,
   "metadata": {},
   "outputs": [],
   "source": [
    "omp = 1\n",
    "mpi = 16 #4\n",
    "sbatch_options = ['--partition=all12h']"
   ]
  },
  {
   "cell_type": "code",
   "execution_count": 4,
   "metadata": {},
   "outputs": [
    {
     "name": "stdout",
     "output_type": "stream",
     "text": [
      "Initialize a Yambo calculator with scheduler slurm\n"
     ]
    },
    {
     "data": {
      "text/plain": [
       "{'omp': 1,\n",
       " 'mpi': 16,\n",
       " 'mpi_run': 'mpirun -np',\n",
       " 'executable': 'yambo',\n",
       " 'scheduler': 'slurm',\n",
       " 'skip': True,\n",
       " 'clean_restart': True,\n",
       " 'dry_run': False,\n",
       " 'wait_end_run': True,\n",
       " 'sbatch_options': ['--partition=all12h'],\n",
       " 'activate_BeeOND': True,\n",
       " 'verbose': True}"
      ]
     },
     "execution_count": 4,
     "metadata": {},
     "output_type": "execute_result"
    }
   ],
   "source": [
    "#code = C.YamboCalculator(omp=omp,mpi=mpi,executable='yambo')\n",
    "code = C.YamboCalculator(omp=omp,mpi=mpi,executable='yambo',scheduler='slurm',sbatch_options=sbatch_options)\n",
    "code.global_options()"
   ]
  },
  {
   "cell_type": "markdown",
   "metadata": {
    "tags": []
   },
   "source": [
    "# GW convergence analysis of the Germanene"
   ]
  },
  {
   "cell_type": "markdown",
   "metadata": {},
   "source": [
    "We compute the GW corrections of the DFT band structure of the Germanene. \n",
    "\n",
    "We discuss the convergene procedure using various approximations of the self-energy."
   ]
  },
  {
   "cell_type": "markdown",
   "metadata": {},
   "source": [
    "We have performed various preliminary tests in particular:\n",
    "\n",
    "__Parallelization strategy__\n",
    "\n",
    "We set the SE_ROLEs as 'b.qp.q' and we observe that\n",
    "* for 6,6,1 kpoints the highest performance are achieved with 'mpi.1.1'\n",
    "* for 12,12,1 kpoints the highest performance are achieved with ...."
   ]
  },
  {
   "cell_type": "markdown",
   "metadata": {},
   "source": [
    "## Hartree-Fock convergence analysis "
   ]
  },
  {
   "cell_type": "markdown",
   "metadata": {},
   "source": [
    "At the Hartree-Fock (HF) level the self energy is limited to the exchange part $\\Sigma_x$ written in term of the\n",
    "bare Coulomb potential.\n",
    "\n",
    "The diagonal matrix elements of $\\Sigma_x$ on the KS states are written as\n",
    "$$\n",
    "\\langle nk|\\Sigma_x|nk \\rangle = -\\sum_{n'}\\int_{BZ}dq\\sum_G \\frac{4\\pi}{|q+G|^2}\n",
    "|\\rho_{nn'}(k,q,G|^2f_{n',k-q}\n",
    "$$\n",
    "The sum over $n'$ il limited to the full bands due the $f_{n'}$ factor and so the self energy in this\n",
    "approximation scheme depends on the $k$-points sampling in the BZ (q sum) and on the cutoff of the plane wave\n",
    "expansio of the KS states."
   ]
  },
  {
   "cell_type": "code",
   "execution_count": 5,
   "metadata": {},
   "outputs": [],
   "source": [
    "source_dir = 'DFT_analysis/kpoints_12-nbnds_60.save'\n",
    "run_dir = 'GW_HF_analysis/kpoints_12'\n",
    "\n",
    "#source_dir = 'DFT_analysis/kpoints_6-nbnds_40.save'\n",
    "#run_dir = 'GW_HF_analysis/kpoints_6'\n",
    "\n",
    "#run_dir = 'Test_GaAs'"
   ]
  },
  {
   "cell_type": "code",
   "execution_count": 6,
   "metadata": {},
   "outputs": [
    {
     "name": "stdout",
     "output_type": "stream",
     "text": [
      "Create folder GW_HF_analysis/kpoints_12\n",
      "Executing command: cd DFT_analysis/kpoints_12-nbnds_60.save; p2y\n",
      "Create a symlink of /work/dalessandro/2D_ELECTRONIC_OPTICAL_PROPERTIES/GERMANENE/DFT_analysis/kpoints_12-nbnds_60.save/SAVE in GW_HF_analysis/kpoints_12\n",
      "Executing command: cd GW_HF_analysis/kpoints_12;OMP_NUM_THREADS=1 yambo\n"
     ]
    }
   ],
   "source": [
    "Tools.build_SAVE(source_dir,run_dir,command='p2y')"
   ]
  },
  {
   "cell_type": "markdown",
   "metadata": {},
   "source": [
    "We build the input for HF analysis including the random integration method (RIM) for the small $q$ component of the Coulomb potential\n",
    "and the cutoff of the Coulomb potential in the off plane direction"
   ]
  },
  {
   "cell_type": "code",
   "execution_count": 11,
   "metadata": {},
   "outputs": [
    {
     "data": {
      "text/plain": [
       "{'args': 'yambo -r -x -V all',\n",
       " 'folder': 'GW_HF_analysis/kpoints_12',\n",
       " 'filename': 'yambo.in',\n",
       " 'arguments': ['rim_cut', 'HF_and_locXC', 'ExtendOut'],\n",
       " 'variables': {'StdoHash': [40.0, ''],\n",
       "  'Nelectro': [28.0, ''],\n",
       "  'ElecTemp': [0.0, 'eV'],\n",
       "  'BoseTemp': [-1.0, 'eV'],\n",
       "  'OccTresh': [1e-05, ''],\n",
       "  'NLogCPUs': [0.0, ''],\n",
       "  'MEM_tresh': [186671.0, 'Kb'],\n",
       "  'FFTGvecs': [52407.0, 'RL'],\n",
       "  'SE_Threads': [0.0, ''],\n",
       "  'RandQpts': [1000000, ''],\n",
       "  'RandGvec': [100, ''],\n",
       "  'IDEm1Ref': [0.0, ''],\n",
       "  'CUTRadius': [0.0, ''],\n",
       "  'CUTCylLen': [0.0, ''],\n",
       "  'CUTwsGvec': [0.7, ''],\n",
       "  'EXXRLvcs': [1.0, 'Ha'],\n",
       "  'VXCRLvcs': [356277.0, 'RL'],\n",
       "  'DBsIOoff': 'none',\n",
       "  'DBsFRAGpm': 'none',\n",
       "  'PAR_def_mode': 'balanced',\n",
       "  'CUTGeo': 'box z',\n",
       "  'Em1Anys': [[0.0, 0.0, 0.0], ''],\n",
       "  'CUTBox': [[0.0, 0.0, 32], 'au'],\n",
       "  'QPkrange': [[19, 19, 27, 30], ''],\n",
       "  'QPerange': [[1, 19, 0.0, '-1.000000'], ''],\n",
       "  'SE_CPU': '8.1.2',\n",
       "  'SE_ROLEs': 'b.qp.q'}}"
      ]
     },
     "execution_count": 11,
     "metadata": {},
     "output_type": "execute_result"
    }
   ],
   "source": [
    "inp = I.YamboInput(args='yambo -r -x -V all',folder=run_dir)\n",
    "inp.set_extendOut()\n",
    "inp.set_kRange(19,19)\n",
    "inp.set_bandRange(27,30)\n",
    "inp['variables']['RandQpts'] = [1000000,'']\n",
    "inp['variables']['RandGvec'] = [100,'']\n",
    "inp['variables']['CUTGeo'] = 'box z'\n",
    "inp['variables']['CUTBox'] = [[0.,0.,32],'au']\n",
    "inp['variables']['EXXRLvcs'] = [1.0,'Ha']\n",
    "\n",
    "inp['variables']['SE_CPU'] = '8.1.2'\n",
    "inp['variables']['SE_ROLEs'] = 'b.qp.q'\n",
    "inp"
   ]
  },
  {
   "cell_type": "code",
   "execution_count": 12,
   "metadata": {},
   "outputs": [],
   "source": [
    "name = 'hf_2'"
   ]
  },
  {
   "cell_type": "code",
   "execution_count": null,
   "metadata": {},
   "outputs": [
    {
     "name": "stdout",
     "output_type": "stream",
     "text": [
      "run command: mpirun -np 16 yambo -F hf_2.in -J hf_2 -C hf_2\n",
      "slurm submit:  cd GW_HF_analysis/kpoints_12 ; sbatch job_hf_2.sh\n",
      "computation hf_2 is running...\n"
     ]
    }
   ],
   "source": [
    "results = code.run(run_dir=run_dir,input=inp,name=name,skip=False)\n",
    "results"
   ]
  },
  {
   "cell_type": "code",
   "execution_count": null,
   "metadata": {},
   "outputs": [],
   "source": []
  },
  {
   "cell_type": "code",
   "execution_count": null,
   "metadata": {},
   "outputs": [],
   "source": []
  },
  {
   "cell_type": "code",
   "execution_count": null,
   "metadata": {},
   "outputs": [],
   "source": []
  },
  {
   "cell_type": "code",
   "execution_count": null,
   "metadata": {},
   "outputs": [],
   "source": []
  },
  {
   "cell_type": "code",
   "execution_count": null,
   "metadata": {},
   "outputs": [],
   "source": []
  },
  {
   "cell_type": "code",
   "execution_count": null,
   "metadata": {},
   "outputs": [],
   "source": []
  },
  {
   "cell_type": "code",
   "execution_count": null,
   "metadata": {},
   "outputs": [],
   "source": []
  },
  {
   "cell_type": "code",
   "execution_count": null,
   "metadata": {},
   "outputs": [],
   "source": []
  },
  {
   "cell_type": "code",
   "execution_count": null,
   "metadata": {},
   "outputs": [],
   "source": []
  },
  {
   "cell_type": "code",
   "execution_count": null,
   "metadata": {},
   "outputs": [],
   "source": [
    "###########################################################"
   ]
  },
  {
   "cell_type": "code",
   "execution_count": 52,
   "metadata": {},
   "outputs": [
    {
     "name": "stdout",
     "output_type": "stream",
     "text": [
      "Parse file : GW_HF_analysis/kpoints_12/SAVE/ns.db1\n"
     ]
    }
   ],
   "source": [
    "dft = P.YamboDftParser(os.path.join(run_dir,'SAVE','ns.db1'))"
   ]
  },
  {
   "cell_type": "code",
   "execution_count": 53,
   "metadata": {},
   "outputs": [
    {
     "data": {
      "text/plain": [
       "array([[ 0.        ,  0.        ,  0.        ],\n",
       "       [ 0.        ,  0.08333333,  0.        ],\n",
       "       [ 0.        ,  0.16666667,  0.        ],\n",
       "       [ 0.        ,  0.25      ,  0.        ],\n",
       "       [ 0.        ,  0.33333333,  0.        ],\n",
       "       [ 0.        ,  0.41666667,  0.        ],\n",
       "       [ 0.        , -0.5       ,  0.        ],\n",
       "       [ 0.08333333,  0.125     ,  0.        ],\n",
       "       [ 0.08333333,  0.20833333,  0.        ],\n",
       "       [ 0.08333333,  0.29166667,  0.        ],\n",
       "       [ 0.08333333,  0.375     ,  0.        ],\n",
       "       [ 0.08333333,  0.45833333,  0.        ],\n",
       "       [ 0.16666667,  0.25      ,  0.        ],\n",
       "       [ 0.16666667,  0.33333333,  0.        ],\n",
       "       [ 0.16666667,  0.41666667,  0.        ],\n",
       "       [ 0.16666667,  0.5       ,  0.        ],\n",
       "       [ 0.25      ,  0.375     ,  0.        ],\n",
       "       [ 0.25      ,  0.45833333,  0.        ],\n",
       "       [ 0.33333333,  0.5       ,  0.        ]])"
      ]
     },
     "execution_count": 53,
     "metadata": {},
     "output_type": "execute_result"
    }
   ],
   "source": [
    "dft.kpoints"
   ]
  },
  {
   "cell_type": "code",
   "execution_count": 51,
   "metadata": {},
   "outputs": [
    {
     "data": {
      "text/plain": [
       "array([[ 1.       ,  0.       ,  0.       ],\n",
       "       [-0.5      ,  0.8660254,  0.       ],\n",
       "       [ 0.       ,  0.       ,  8.       ]])"
      ]
     },
     "execution_count": 51,
     "metadata": {},
     "output_type": "execute_result"
    }
   ],
   "source": [
    "dft.lattice/7.643"
   ]
  },
  {
   "cell_type": "code",
   "execution_count": 48,
   "metadata": {},
   "outputs": [
    {
     "data": {
      "text/plain": [
       "7.643"
      ]
     },
     "execution_count": 48,
     "metadata": {},
     "output_type": "execute_result"
    }
   ],
   "source": [
    "dft.alat"
   ]
  },
  {
   "cell_type": "code",
   "execution_count": null,
   "metadata": {},
   "outputs": [],
   "source": []
  },
  {
   "cell_type": "code",
   "execution_count": null,
   "metadata": {},
   "outputs": [],
   "source": []
  },
  {
   "cell_type": "code",
   "execution_count": 11,
   "metadata": {},
   "outputs": [
    {
     "data": {
      "text/plain": [
       "{'args': 'yambo -x -V rl',\n",
       " 'folder': 'GW_analysis',\n",
       " 'filename': 'yambo.in',\n",
       " 'arguments': ['HF_and_locXC'],\n",
       " 'variables': {'FFTGvecs': [52407.0, 'RL'],\n",
       "  'SE_Threads': [0.0, ''],\n",
       "  'EXXRLvcs': [356277.0, 'RL'],\n",
       "  'VXCRLvcs': [356277.0, 'RL'],\n",
       "  'QPkrange': [[1, 19, 1, 60], '']}}"
      ]
     },
     "execution_count": 11,
     "metadata": {},
     "output_type": "execute_result"
    }
   ],
   "source": [
    "inp = I.YamboInput(args='yambo -x -V rl',folder=run_dir)\n",
    "inp"
   ]
  },
  {
   "cell_type": "code",
   "execution_count": null,
   "metadata": {},
   "outputs": [],
   "source": []
  },
  {
   "cell_type": "code",
   "execution_count": null,
   "metadata": {},
   "outputs": [],
   "source": []
  },
  {
   "cell_type": "code",
   "execution_count": null,
   "metadata": {},
   "outputs": [],
   "source": []
  },
  {
   "cell_type": "code",
   "execution_count": null,
   "metadata": {},
   "outputs": [],
   "source": []
  },
  {
   "cell_type": "code",
   "execution_count": null,
   "metadata": {},
   "outputs": [],
   "source": []
  },
  {
   "cell_type": "code",
   "execution_count": null,
   "metadata": {},
   "outputs": [],
   "source": []
  },
  {
   "cell_type": "code",
   "execution_count": null,
   "metadata": {},
   "outputs": [],
   "source": []
  },
  {
   "cell_type": "code",
   "execution_count": null,
   "metadata": {},
   "outputs": [],
   "source": []
  },
  {
   "cell_type": "code",
   "execution_count": null,
   "metadata": {},
   "outputs": [],
   "source": []
  },
  {
   "cell_type": "code",
   "execution_count": null,
   "metadata": {},
   "outputs": [],
   "source": []
  },
  {
   "cell_type": "code",
   "execution_count": null,
   "metadata": {},
   "outputs": [],
   "source": []
  }
 ],
 "metadata": {
  "kernelspec": {
   "display_name": "Python 3",
   "language": "python",
   "name": "python3"
  },
  "language_info": {
   "codemirror_mode": {
    "name": "ipython",
    "version": 3
   },
   "file_extension": ".py",
   "mimetype": "text/x-python",
   "name": "python",
   "nbconvert_exporter": "python",
   "pygments_lexer": "ipython3",
   "version": "3.6.8"
  }
 },
 "nbformat": 4,
 "nbformat_minor": 4
}
