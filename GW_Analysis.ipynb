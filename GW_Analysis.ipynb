{
 "cells": [
  {
   "cell_type": "code",
   "execution_count": 1,
   "metadata": {},
   "outputs": [],
   "source": [
    "# useful to autoreload the module without restarting the kernel\n",
    "%load_ext autoreload\n",
    "%autoreload 2"
   ]
  },
  {
   "cell_type": "code",
   "execution_count": 2,
   "metadata": {},
   "outputs": [],
   "source": [
    "from mppi import InputFiles as I, Calculators as C, Datasets as D, Parsers as P\n",
    "from mppi.Utilities import Tools\n",
    "from mppi.Utilities import Constants as Const\n",
    "from mppi.Datasets import PostProcessing as PP\n",
    "import matplotlib.pyplot as plt\n",
    "import numpy as np\n",
    "import os, yaml"
   ]
  },
  {
   "cell_type": "code",
   "execution_count": 3,
   "metadata": {},
   "outputs": [
    {
     "name": "stdout",
     "output_type": "stream",
     "text": [
      "rsync -rLptgoDzv --exclude={'*_fragment_*','*_fragments_*','*wfc*','*.dat'} -e ssh ismhpc:/work/dalessandro/2D_ELECTRONIC_OPTICAL_PROPERTIES/GERMANENE/GW_HF_analysis/ '/home/marco/Data/RICERCA/DFT AND MANY BODY/2D ELECTRONIC AND OPTICAL PROPERTIES/GERMANENE/GW_HF_analysis'\n"
     ]
    }
   ],
   "source": [
    "dry_run = False\n",
    "rsync_str = \"rsync -rLptgoDzv --exclude={'*_fragment_*','*_fragments_*','*wfc*','*.dat'} \"\n",
    "if dry_run: rsync_str += '--dry-run '\n",
    "ssh_str = '-e ssh ismhpc:/work/dalessandro/2D_ELECTRONIC_OPTICAL_PROPERTIES/GERMANENE/GW_HF_analysis/ '\n",
    "dest_path = 'GW_HF_analysis'\n",
    "dest_path = os.path.abspath(dest_path)\n",
    "dest_path = \"'%s'\"%dest_path\n",
    "command = rsync_str+ssh_str+dest_path\n",
    "print(command)"
   ]
  },
  {
   "cell_type": "code",
   "execution_count": 3,
   "metadata": {},
   "outputs": [],
   "source": [
    "omp = 1\n",
    "mpi = 16 #4\n",
    "sbatch_options = ['--partition=all12h']"
   ]
  },
  {
   "cell_type": "code",
   "execution_count": 4,
   "metadata": {},
   "outputs": [
    {
     "name": "stdout",
     "output_type": "stream",
     "text": [
      "Initialize a Yambo calculator with scheduler slurm\n"
     ]
    },
    {
     "data": {
      "text/plain": [
       "{'omp': 1,\n",
       " 'mpi': 16,\n",
       " 'mpi_run': 'mpirun -np',\n",
       " 'executable': 'yambo',\n",
       " 'scheduler': 'slurm',\n",
       " 'skip': True,\n",
       " 'clean_restart': True,\n",
       " 'dry_run': False,\n",
       " 'wait_end_run': True,\n",
       " 'sbatch_options': ['--partition=all12h'],\n",
       " 'activate_BeeOND': True,\n",
       " 'verbose': True}"
      ]
     },
     "execution_count": 4,
     "metadata": {},
     "output_type": "execute_result"
    }
   ],
   "source": [
    "#code = C.YamboCalculator(omp=omp,mpi=mpi,executable='yambo')\n",
    "code = C.YamboCalculator(omp=omp,mpi=mpi,executable='yambo',scheduler='slurm',sbatch_options=sbatch_options)\n",
    "code.global_options()"
   ]
  },
  {
   "cell_type": "markdown",
   "metadata": {
    "tags": []
   },
   "source": [
    "# GW convergence analysis of the Germanene"
   ]
  },
  {
   "cell_type": "markdown",
   "metadata": {},
   "source": [
    "We compute the GW corrections of the DFT band structure of the Germanene. \n",
    "\n",
    "We discuss the convergene procedure using various approximations of the self-energy."
   ]
  },
  {
   "cell_type": "markdown",
   "metadata": {},
   "source": [
    "We have performed various preliminary tests in particular:\n",
    "\n",
    "__Parallelization strategy__\n",
    "\n",
    "We set the SE_ROLEs as 'b.qp.q' and we observe that (with 16 mpi)\n",
    "* for 6,6,1 kpoints the highest performance are achieved with '16.1.1'\n",
    "* for 12,12,1 kpoints the only working configuration is '16.1.1' (reasons are to be checked further...)\n",
    "\n",
    "__Random integration method (RIM) and Coulomb potential cutoff__\n",
    "\n",
    "........."
   ]
  },
  {
   "cell_type": "markdown",
   "metadata": {},
   "source": [
    "## Hartree-Fock convergence analysis "
   ]
  },
  {
   "cell_type": "markdown",
   "metadata": {},
   "source": [
    "At the Hartree-Fock (HF) level the self energy is limited to the exchange part $\\Sigma_x$ written in term of the\n",
    "bare Coulomb potential.\n",
    "\n",
    "The diagonal matrix elements of $\\Sigma_x$ on the KS states are written as\n",
    "$$\n",
    "\\langle nk|\\Sigma_x|nk \\rangle = -\\sum_{n'}\\int_{BZ}dq\\sum_G \\frac{4\\pi}{|q+G|^2}\n",
    "|\\rho_{nn'}(k,q,G|^2f_{n',k-q}\n",
    "$$\n",
    "The sum over $n'$ il limited to the full bands due the $f_{n'}$ factor and so the self energy in this\n",
    "approximation scheme depends on the $k$-points sampling in the BZ (q sum) and on the cutoff of the plane wave\n",
    "expansion of the KS states."
   ]
  },
  {
   "cell_type": "markdown",
   "metadata": {},
   "source": [
    "We study the converge of the direct gap at the $K$ point in function of the number of plane wave of the exchange (EXXRLvcs variable in Yambo).\n",
    "The highest value of this variable is given by the cutoff of the density matrix in QuantumESPRESSO, that in turn is\n",
    "4 times the cutoff on the KS wave functions ($90*4=360$ Ry in the present analysis).\n",
    "\n",
    "We also study the convergence of the gap in function of the $k$-points sampling of the BZ."
   ]
  },
  {
   "cell_type": "code",
   "execution_count": 5,
   "metadata": {},
   "outputs": [],
   "source": [
    "test_set = {\n",
    "    12:{'source_dir' : 'DFT_analysis/kpoints_12-nbnds_60.save', \n",
    "            'run_dir' :  'GW_HF_analysis/kpoints_12'},\n",
    "    15:{'source_dir' : 'DFT_analysis/kpoints_15-nbnds_60.save', \n",
    "            'run_dir' :  'GW_HF_analysis/kpoints_15'},\n",
    "    18:{'source_dir' : 'DFT_analysis/kpoints_18-nbnds_60.save', \n",
    "            'run_dir' :  'GW_HF_analysis/kpoints_18'}\n",
    "}   "
   ]
  },
  {
   "cell_type": "code",
   "execution_count": 6,
   "metadata": {},
   "outputs": [],
   "source": [
    "kp = 12"
   ]
  },
  {
   "cell_type": "code",
   "execution_count": 7,
   "metadata": {},
   "outputs": [
    {
     "name": "stdout",
     "output_type": "stream",
     "text": [
      "SAVE folder already present in GW_HF_analysis/kpoints_12. No operations performed.\n"
     ]
    }
   ],
   "source": [
    "Tools.build_SAVE(test_set[kp]['source_dir'],test_set[kp]['run_dir'],command='p2y')"
   ]
  },
  {
   "cell_type": "markdown",
   "metadata": {},
   "source": [
    "We build the input for HF analysis including the random integration method (RIM) for the small $q$ component of the Coulomb potential\n",
    "and the cutoff of the Coulomb potential in the off plane direction. The z dimension of the simulation box is \n",
    "$7.643*8 = 61.44$ au and we set the cutoff of the potential slightly smaller than this value."
   ]
  },
  {
   "cell_type": "code",
   "execution_count": 8,
   "metadata": {},
   "outputs": [
    {
     "name": "stdout",
     "output_type": "stream",
     "text": [
      "Parse file : DFT_analysis/kpoints_12-nbnds_60.save/data-file-schema.xml\n"
     ]
    }
   ],
   "source": [
    "cut_z = 60\n",
    "RandQpts = 1000000 # Number of random q-points in the BZ\n",
    "RandGvec = 100 # use the RIM for the first 100 G-components of the coulomb potential \n",
    "\n",
    "dft_data = P.PwParser(os.path.join(test_set[kp]['source_dir'],'data-file-schema.xml'))\n",
    "K_value = len(dft_data.kpoints) # K is the last point in the k sampling\n",
    "start_band,stop_band = 28,29 # bands range for the computation of the HF corrections\n",
    "\n",
    "EXXRLvcs = [20,40,60,80,100,200]"
   ]
  },
  {
   "cell_type": "code",
   "execution_count": 9,
   "metadata": {},
   "outputs": [],
   "source": [
    "inp = I.YamboInput(args='yambo -r -x -V all',folder=test_set[kp]['run_dir'])\n",
    "inp.set_extendOut()\n",
    "inp.set_kRange(K_value,K_value)\n",
    "inp.set_bandRange(start_band,stop_band)\n",
    "inp['variables']['RandQpts'] = [RandQpts,'']\n",
    "inp['variables']['RandGvec'] = [RandGvec,'']\n",
    "inp['variables']['CUTGeo'] = 'box z'\n",
    "inp['variables']['CUTBox'] = [[0.,0.,cut_z],'au']\n",
    "inp['variables']['SE_CPU'] = '%s.1.1'%mpi\n",
    "inp['variables']['SE_ROLEs'] = 'b.qp.q'\n",
    "#inp"
   ]
  },
  {
   "cell_type": "code",
   "execution_count": 13,
   "metadata": {},
   "outputs": [
    {
     "name": "stdout",
     "output_type": "stream",
     "text": [
      "Initialize a Dataset with 3 parallel tasks\n"
     ]
    }
   ],
   "source": [
    "study = D.Dataset(run_dir=test_set[kp]['run_dir'],num_tasks=3,verbose=True)\n",
    "study.set_postprocessing_function(PP.yambo_parse_data)"
   ]
  },
  {
   "cell_type": "code",
   "execution_count": 14,
   "metadata": {},
   "outputs": [],
   "source": [
    "for ex in EXXRLvcs:\n",
    "    idd = {'EXXRLvcs':ex,'cutz':cut_z}\n",
    "    inp['variables']['EXXRLvcs'] = [ex,'Ry']\n",
    "    study.append_run(id=idd,input=inp,runner=code)"
   ]
  },
  {
   "cell_type": "code",
   "execution_count": 15,
   "metadata": {},
   "outputs": [
    {
     "name": "stdout",
     "output_type": "stream",
     "text": [
      "Run the selection [0, 1, 2, 3, 4, 5] with the parallel task_groups [[0, 1, 2], [3, 4, 5]] \n",
      "\n",
      "Run the task [0, 1, 2] \n",
      "Skip the run of EXXRLvcs_20-cutz_60\n",
      "Skip the run of EXXRLvcs_40-cutz_60\n",
      "Skip the run of EXXRLvcs_60-cutz_60\n",
      "Task [0, 1, 2] ended \n",
      " \n",
      "Run the task [3, 4, 5] \n",
      "Skip the run of EXXRLvcs_200-cutz_60\n",
      "Skip the run of EXXRLvcs_100-cutz_60\n",
      "Skip the run of EXXRLvcs_80-cutz_60\n",
      "Task [3, 4, 5] ended \n",
      " \n"
     ]
    }
   ],
   "source": [
    "results = study.run()"
   ]
  },
  {
   "cell_type": "code",
   "execution_count": 16,
   "metadata": {},
   "outputs": [],
   "source": [
    "test_set[kp]['data'] = results"
   ]
  },
  {
   "cell_type": "markdown",
   "metadata": {},
   "source": [
    "Once that all computations are performed we plot the data to check convergence criteria"
   ]
  },
  {
   "cell_type": "code",
   "execution_count": 22,
   "metadata": {},
   "outputs": [
    {
     "data": {
      "text/plain": [
       "<matplotlib.legend.Legend at 0x7fb054a4eb20>"
      ]
     },
     "execution_count": 22,
     "metadata": {},
     "output_type": "execute_result"
    },
    {
     "data": {
      "image/png": "[encoded data removed]",
      "text/plain": [
       "<Figure size 432x288 with 1 Axes>"
      ]
     },
     "metadata": {
      "needs_background": "light"
     },
     "output_type": "display_data"
    }
   ],
   "source": [
    "for kp in test_set:\n",
    "    if 'data' in test_set[kp]:\n",
    "        r = test_set[kp]['data']\n",
    "        eng_gap = [r[ind].data.get_gap(k_full=K_value,band_full=start_band,verbose=False) for ind in range(len(EXXRLvcs))]\n",
    "        plt.plot(EXXRLvcs,eng_gap,label=kp)\n",
    "        plt.scatter(EXXRLvcs,eng_gap)\n",
    "plt.legend()"
   ]
  },
  {
   "cell_type": "code",
   "execution_count": null,
   "metadata": {},
   "outputs": [],
   "source": []
  },
  {
   "cell_type": "code",
   "execution_count": null,
   "metadata": {},
   "outputs": [],
   "source": []
  },
  {
   "cell_type": "code",
   "execution_count": null,
   "metadata": {},
   "outputs": [],
   "source": [
    "#########################################################################################################à"
   ]
  },
  {
   "cell_type": "code",
   "execution_count": 21,
   "metadata": {},
   "outputs": [],
   "source": [
    "eng_val = [results[ind].data.get_energy(k=19,bnd=28,verbose=False) for ind in range(len(EXXRLvcs))]\n",
    "eng_cond = [results[ind].data.get_energy(k=19,bnd=29,verbose=False) for ind in range(len(EXXRLvcs))]\n",
    "eng_gap = [results[ind].data.get_gap(k_full=19,band_full=28,verbose=False) for ind in range(len(EXXRLvcs))]"
   ]
  },
  {
   "cell_type": "code",
   "execution_count": 25,
   "metadata": {},
   "outputs": [
    {
     "data": {
      "text/plain": [
       "[<matplotlib.lines.Line2D at 0x7f9239992d30>]"
      ]
     },
     "execution_count": 25,
     "metadata": {},
     "output_type": "execute_result"
    },
    {
     "data": {
      "image/png": "[encoded data removed]",
      "text/plain": [
       "<Figure size 432x288 with 1 Axes>"
      ]
     },
     "metadata": {
      "needs_background": "light"
     },
     "output_type": "display_data"
    }
   ],
   "source": [
    "#plt.plot(EXXRLvcs,eng_val)\n",
    "#plt.plot(EXXRLvcs,eng_cond)\n",
    "plt.plot(EXXRLvcs,eng_gap)\n"
   ]
  },
  {
   "cell_type": "code",
   "execution_count": 15,
   "metadata": {},
   "outputs": [
    {
     "name": "stdout",
     "output_type": "stream",
     "text": [
      "Compute energy of the state k=19,b=28 for the hf runlevel.\n",
      "Compute energy of the state k=19,b=29 for the hf runlevel.\n",
      "(kpoint,band) indexes of the full state: (19, 28)\n",
      "(kpoint,band) indexes of the empty state: (19, 29)\n",
      "Energy gap = 1.18051 eV\n"
     ]
    },
    {
     "data": {
      "text/plain": [
       "1.18051"
      ]
     },
     "execution_count": 15,
     "metadata": {},
     "output_type": "execute_result"
    }
   ],
   "source": [
    "results[0].data.get_gap(k_full=19,band_full=28)"
   ]
  },
  {
   "cell_type": "code",
   "execution_count": 93,
   "metadata": {},
   "outputs": [
    {
     "data": {
      "text/plain": [
       "[1.18051, 1.1806400000000001, 1.180641, 1.180641, 1.180641, 1.180641]"
      ]
     },
     "execution_count": 93,
     "metadata": {},
     "output_type": "execute_result"
    }
   ],
   "source": [
    "gap = [results[ind] for ind in range(len(EXXRLvcs))]\n",
    "gap"
   ]
  },
  {
   "cell_type": "code",
   "execution_count": 92,
   "metadata": {},
   "outputs": [
    {
     "data": {
      "text/plain": [
       "<matplotlib.collections.PathCollection at 0x7f29ddf9fb50>"
      ]
     },
     "execution_count": 92,
     "metadata": {},
     "output_type": "execute_result"
    },
    {
     "data": {
      "image/png": "[encoded data removed]",
      "text/plain": [
       "<Figure size 432x288 with 1 Axes>"
      ]
     },
     "metadata": {
      "needs_background": "light"
     },
     "output_type": "display_data"
    }
   ],
   "source": [
    "plt.plot(EXXRLvcs,gap)\n",
    "plt.scatter(EXXRLvcs,gap)"
   ]
  },
  {
   "cell_type": "code",
   "execution_count": 86,
   "metadata": {},
   "outputs": [
    {
     "name": "stdout",
     "output_type": "stream",
     "text": [
      "Seeking convergence for id \" {'EXXRLvcs': 20, 'cutz': 60} \"\n",
      "Convergence reached in Dataset \"Dataset\" for id \" {'EXXRLvcs': 20, 'cutz': 60} \"\n"
     ]
    },
    {
     "name": "stderr",
     "output_type": "stream",
     "text": [
      "/home/marco/Applications/MPPI/mppi/Datasets/Dataset.py:58: UserWarning: FixedFormatter should only be used together with FixedLocator\n",
      "  ax.tick_params(axis='both', which='major', labelsize=14)\n"
     ]
    },
    {
     "data": {
      "text/plain": [
       "{'id_conv': {'EXXRLvcs': 20, 'cutz': 60}, 'value_conv': 1.18051}"
      ]
     },
     "execution_count": 86,
     "metadata": {},
     "output_type": "execute_result"
    },
    {
     "data": {
      "image/png": "[encoded data removed]",
      "text/plain": [
       "<Figure size 648x504 with 1 Axes>"
      ]
     },
     "metadata": {
      "needs_background": "light"
     },
     "output_type": "display_data"
    }
   ],
   "source": [
    "study.update_global_options(verbose=False)\n",
    "study.seek_convergence(rtol=1e-3,convergence_level=2)"
   ]
  },
  {
   "cell_type": "code",
   "execution_count": null,
   "metadata": {},
   "outputs": [],
   "source": []
  },
  {
   "cell_type": "code",
   "execution_count": null,
   "metadata": {},
   "outputs": [],
   "source": []
  },
  {
   "cell_type": "code",
   "execution_count": null,
   "metadata": {},
   "outputs": [],
   "source": []
  }
 ],
 "metadata": {
  "kernelspec": {
   "display_name": "Python 3",
   "language": "python",
   "name": "python3"
  },
  "language_info": {
   "codemirror_mode": {
    "name": "ipython",
    "version": 3
   },
   "file_extension": ".py",
   "mimetype": "text/x-python",
   "name": "python",
   "nbconvert_exporter": "python",
   "pygments_lexer": "ipython3",
   "version": "3.8.10"
  }
 },
 "nbformat": 4,
 "nbformat_minor": 4
}
