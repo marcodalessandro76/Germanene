{
 "cells": [
  {
   "cell_type": "code",
   "execution_count": 1,
   "metadata": {},
   "outputs": [],
   "source": [
    "# useful to autoreload the module without restarting the kernel\n",
    "%load_ext autoreload\n",
    "%autoreload 2"
   ]
  },
  {
   "cell_type": "code",
   "execution_count": 2,
   "metadata": {},
   "outputs": [],
   "source": [
    "from mppi import InputFiles as I, Calculators as C, Datasets as D, Parsers as P, Utilities as U\n",
    "from mppi.Utilities import Tools\n",
    "from mppi.Datasets import PostProcessing as PP\n",
    "from mppi.Utilities import Constants as Const\n",
    "import matplotlib.pyplot as plt\n",
    "import numpy as np\n",
    "import os, yaml\n",
    "#import pybinding as pb"
   ]
  },
  {
   "cell_type": "code",
   "execution_count": 3,
   "metadata": {},
   "outputs": [
    {
     "name": "stdout",
     "output_type": "stream",
     "text": [
      "rsync -rLptgoDzv --exclude={'*_fragment_*','*_fragments_*','*wfc*','*.dat'} -e ssh ismhpc:/work/dalessandro/2D_ELECTRONIC_OPTICAL_PROPERTIES/GERMANENE/GW_HF_analysis/ '/m100_work/IscrC_XEXIN/Germanene/GW_HF_analysis'\n"
     ]
    }
   ],
   "source": [
    "dry_run = False\n",
    "rsync_str = \"rsync -rLptgoDzv --exclude={'*_fragment_*','*_fragments_*','*wfc*','*.dat'} \"\n",
    "if dry_run: rsync_str += '--dry-run '\n",
    "ssh_str = '-e ssh ismhpc:/work/dalessandro/2D_ELECTRONIC_OPTICAL_PROPERTIES/GERMANENE/GW_HF_analysis/ '\n",
    "dest_path = 'GW_HF_analysis'\n",
    "dest_path = os.path.abspath(dest_path)\n",
    "dest_path = \"'%s'\"%dest_path\n",
    "command = rsync_str+ssh_str+dest_path\n",
    "print(command)"
   ]
  },
  {
   "cell_type": "code",
   "execution_count": 3,
   "metadata": {},
   "outputs": [
    {
     "name": "stdout",
     "output_type": "stream",
     "text": [
      "Initialize a Yambo calculator with scheduler slurm\n"
     ]
    },
    {
     "data": {
      "text/plain": [
       "{'scheduler': 'slurm',\n",
       " 'nodes': 1,\n",
       " 'ntasks_per_node': 16,\n",
       " 'cpus_per_task': 2,\n",
       " 'omp_num_threads': 2,\n",
       " 'gpus_per_node': None,\n",
       " 'memory': '124000',\n",
       " 'time': None,\n",
       " 'partition': 'fastnodes',\n",
       " 'account': None,\n",
       " 'qos': None,\n",
       " 'map_by': None,\n",
       " 'pe': 1,\n",
       " 'rank_by': None,\n",
       " 'executable': 'yambo',\n",
       " 'skip': True,\n",
       " 'clean_restart': True,\n",
       " 'dry_run': False,\n",
       " 'wait_end_run': True,\n",
       " 'activate_BeeOND': True,\n",
       " 'verbose': True}"
      ]
     },
     "execution_count": 3,
     "metadata": {},
     "output_type": "execute_result"
    }
   ],
   "source": [
    "# RunRules for ismhpc\n",
    "# The product of ntasks_per_node*cpus_per_task is equal to 32. \n",
    "# Many mpi are needed for better performances\n",
    "nodes = 1\n",
    "ntasks_per_node = 16\n",
    "cpus_per_task=2\n",
    "omp_num_threads=2\n",
    "\n",
    "ntasks = nodes*ntasks_per_node\n",
    "\n",
    "rr = C.RunRules(scheduler='slurm',partition='fastnodes',\n",
    "                memory='124000',\n",
    "                nodes=nodes,ntasks_per_node=ntasks_per_node,\n",
    "                cpus_per_task=cpus_per_task,\n",
    "                omp_num_threads=omp_num_threads)\n",
    "code = C.YamboCalculator(rr,activate_BeeOND=True) #,clean_restart=False,skip=False)\n",
    "code.global_options()"
   ]
  },
  {
   "cell_type": "code",
   "execution_count": 3,
   "metadata": {},
   "outputs": [
    {
     "name": "stdout",
     "output_type": "stream",
     "text": [
      "Initialize a Yambo calculator with scheduler slurm\n"
     ]
    },
    {
     "data": {
      "text/plain": [
       "{'scheduler': 'slurm',\n",
       " 'nodes': 8,\n",
       " 'ntasks_per_node': 4,\n",
       " 'cpus_per_task': 32,\n",
       " 'omp_num_threads': 8,\n",
       " 'gpus_per_node': 4,\n",
       " 'memory': '230GB',\n",
       " 'time': '23:59:00',\n",
       " 'partition': 'm100_usr_prod',\n",
       " 'account': 'IscrC_AlNWS2',\n",
       " 'qos': None,\n",
       " 'map_by': 'socket',\n",
       " 'pe': 8,\n",
       " 'rank_by': 'core',\n",
       " 'executable': 'yambo',\n",
       " 'skip': True,\n",
       " 'clean_restart': True,\n",
       " 'dry_run': False,\n",
       " 'wait_end_run': True,\n",
       " 'activate_BeeOND': False,\n",
       " 'verbose': True}"
      ]
     },
     "execution_count": 3,
     "metadata": {},
     "output_type": "execute_result"
    }
   ],
   "source": [
    "# RunRules for m100\n",
    "nodes = 8 # 32\n",
    "ntasks_per_node = 4\n",
    "cpus_per_task=32\n",
    "omp_num_threads=8\n",
    "gpus_per_node=4\n",
    "pe=8\n",
    "\n",
    "ntasks = nodes*ntasks_per_node\n",
    "\n",
    "rr = C.RunRules(scheduler='slurm',partition='m100_usr_prod',\n",
    "                account='IscrC_AlNWS2',#,qos='m100_qos_bprod',\n",
    "                memory='230GB',time='23:59:00',\n",
    "                nodes=nodes,ntasks_per_node=ntasks_per_node,\n",
    "                cpus_per_task=cpus_per_task,omp_num_threads=omp_num_threads,\n",
    "                gpus_per_node=gpus_per_node,pe=pe,\n",
    "                map_by='socket',rank_by='core')\n",
    "code = C.YamboCalculator(rr)\n",
    "code.global_options()"
   ]
  },
  {
   "cell_type": "markdown",
   "metadata": {
    "tags": []
   },
   "source": [
    "# GW convergence analysis of the Germanene"
   ]
  },
  {
   "cell_type": "markdown",
   "metadata": {},
   "source": [
    "We compute the GW corrections of the DFT band structure of the Germanene. \n",
    "\n",
    "We discuss the convergene procedure using various approximations of the self-energy."
   ]
  },
  {
   "cell_type": "markdown",
   "metadata": {},
   "source": [
    "We have performed various preliminary tests in particular:\n",
    "\n",
    "__Parallelization strategy__\n",
    "\n",
    "We set the SE_ROLEs as 'b.qp.q' and we observe that (with 16 mpi)\n",
    "* for HF analysis the highest performance are achieved with '16.1.1'\n",
    "* \n",
    "\n",
    "__Random integration method (RIM) and Coulomb potential cutoff__\n",
    "\n",
    "........."
   ]
  },
  {
   "cell_type": "markdown",
   "metadata": {},
   "source": [
    "## Hartree-Fock convergence analysis "
   ]
  },
  {
   "cell_type": "markdown",
   "metadata": {},
   "source": [
    "At the Hartree-Fock (HF) level the self energy is limited to the exchange part $\\Sigma_x$ written in term of the\n",
    "bare Coulomb potential.\n",
    "\n",
    "The diagonal matrix elements of $\\Sigma_x$ on the KS states are written as\n",
    "$$\n",
    "\\langle nk|\\Sigma_x|nk \\rangle = -\\sum_{n'}\\int_{BZ}dq\\sum_G \\frac{4\\pi}{|q+G|^2}\n",
    "|\\rho_{nn'}(k,q,G)|^2f_{n',k-q}\n",
    "$$\n",
    "The sum over $n'$ il limited to the full bands due the $f_{n'}$ factor and so the self energy in this\n",
    "approximation scheme depends on the $k$-points sampling in the BZ (q sum) and on the cutoff of the plane wave\n",
    "expansion of the KS states."
   ]
  },
  {
   "cell_type": "markdown",
   "metadata": {},
   "source": [
    "We study the converge of the direct gap at the $K$ point in function of the number of plane wave of the exchange (EXXRLvcs variable in Yambo).\n",
    "The highest value of this variable is given by the cutoff of the density matrix in QuantumESPRESSO, that in turn is\n",
    "4 times the cutoff on the KS wave functions ($90*4=360$ Ry in the present analysis).\n",
    "\n",
    "We also study the convergence of the gap in function of the $k$-points sampling of the BZ."
   ]
  },
  {
   "cell_type": "code",
   "execution_count": 20,
   "metadata": {},
   "outputs": [
    {
     "data": {
      "text/plain": [
       "{81: {'source_dir': 'DFT_analysis/kpoints_81-nbnds_700.save',\n",
       "  'run_dir': 'GW_HF_analysis/kpoints_81-nbnds_700',\n",
       "  'K_index': 588}}"
      ]
     },
     "execution_count": 20,
     "metadata": {},
     "output_type": "execute_result"
    }
   ],
   "source": [
    "#kvalues = [12,18,24,30,36,42,48,54,60,66,78]\n",
    "kvalues = [81]\n",
    "\n",
    "test_set = {}\n",
    "for k in kvalues:\n",
    "    #source_dir = 'DFT_analysis/kpoints_%s-nbnds_40.save'%k\n",
    "    source_dir = 'DFT_analysis/kpoints_%s-nbnds_700.save'%k\n",
    "    run_dir = 'GW_HF_analysis/kpoints_%s-nbnds_700'%k\n",
    "    dft_data = P.PwParser(os.path.join(source_dir,'data-file-schema.xml'),verbose=False)\n",
    "    test_set[k] = {'source_dir' : source_dir,\n",
    "                   'run_dir' :  run_dir,\n",
    "                    'K_index' : len(dft_data.kpoints)}\n",
    "test_set"
   ]
  },
  {
   "cell_type": "code",
   "execution_count": 21,
   "metadata": {},
   "outputs": [],
   "source": [
    "start_band,stop_band = 28,29 # bands range for the computation of the HF corrections"
   ]
  },
  {
   "cell_type": "markdown",
   "metadata": {},
   "source": [
    "We build the input for HF analysis including the random integration method (RIM) for the small $q$ component of the Coulomb potential\n",
    "and the cutoff of the Coulomb potential in the off plane direction. \n",
    "\n",
    "The z dimension of the simulation box is \n",
    "* $7.643*8 = 61.44$ au and we set the cutoff to 60 au\n",
    "* $7.643*4 = 30.572$ au and we set the cutoff to 30 au"
   ]
  },
  {
   "cell_type": "code",
   "execution_count": 22,
   "metadata": {},
   "outputs": [],
   "source": [
    "cut_z = 30 # 60 # au, slightly smaller than the cell, in agreement with the Yambo tutorial page\n",
    "RandQpts = 1000000 # Number of random q-points in the BZ\n",
    "RandGvec = 100 # use the RIM for the first 100 G-components of the coulomb potential "
   ]
  },
  {
   "cell_type": "markdown",
   "metadata": {
    "tags": []
   },
   "source": [
    "### Analysis of the q-points sampling and of the and of the $G$-points expansion of the exchange term"
   ]
  },
  {
   "cell_type": "markdown",
   "metadata": {},
   "source": [
    "First, we perform a convergence test on the EXXRLvsc parameter, than we study\n",
    "the convergence of the $q$-point sampling"
   ]
  },
  {
   "cell_type": "code",
   "execution_count": 23,
   "metadata": {},
   "outputs": [
    {
     "name": "stdout",
     "output_type": "stream",
     "text": [
      "Create folder GW_HF_analysis/kpoints_81-nbnds_700\n",
      "Executing command: cd DFT_analysis/kpoints_81-nbnds_700.save; mpirun -np 1 p2y\n",
      "Create a symlink of /m100_work/IscrC_XEXIN/Germanene/DFT_analysis/kpoints_81-nbnds_700.save/SAVE in GW_HF_analysis/kpoints_81-nbnds_700\n",
      "Executing command: cd GW_HF_analysis/kpoints_81-nbnds_700;OMP_NUM_THREADS=1 mpirun -np 1 yambo\n"
     ]
    }
   ],
   "source": [
    "k_sel = 81\n",
    "Tools.build_SAVE(test_set[k_sel]['source_dir'],test_set[k_sel]['run_dir'],command='mpirun -np 1 p2y')"
   ]
  },
  {
   "cell_type": "code",
   "execution_count": 24,
   "metadata": {},
   "outputs": [
    {
     "name": "stdout",
     "output_type": "stream",
     "text": [
      "Initialize a Dataset with 4 parallel tasks\n"
     ]
    }
   ],
   "source": [
    "             JOBID PARTITION     NAME     USER ST       TIME  NODES NODELIST(REASON)\n",
    "             11555 fastnodes run_InAs filippon PD       0:00      1 (Dependency)\n",
    "             11562 fastnodes run_InAs filippon PD       0:00      1 (Dependency)\n",
    "             11567 slownodes orca-geo giuseppe PD       0:00      1 (Dependency)\n",
    "             11520 fastnodes run_InGa filippon  R   13:11:29      1 wnode09\n",
    "             11534 fastnodes run_InAs filippon  R   13:11:29      1 wnode10\n",
    "             11561 slownodes run_InN. filippon  R    1:52:26      2 wnode[01-02]\n",
    "             11566 slownodes orca-geo giuseppe  R    3:37:49      1 wnode04\n",
    "[dalessandro@frontend ~]$ \n",
    "[dalessandro@frontend ~]$ \n",
    "[dalessandro@frontend ~]$ \n",
    "\n",
    "EXXRLvcs = [7000,9000,11000,15000] # RL\n",
    "\n",
    "study = D.Dataset(run_dir=test_set[k_sel]['run_dir'],num_tasks=4,verbose=True)\n",
    "study.set_postprocessing_function(PP.yambo_parse_data)\n",
    "\n",
    "inp = I.YamboInput(args='mpirun -np 1 yambo -r -x -V all',folder=test_set[k_sel]['run_dir'])\n",
    "inp.set_extendOut()\n",
    "K_index = test_set[k_sel]['K_index']\n",
    "inp.set_kRange(K_index,K_index)\n",
    "inp.set_bandRange(start_band,stop_band)\n",
    "inp['variables']['RandQpts'] = [RandQpts,'']\n",
    "inp['variables']['RandGvec'] = [RandGvec,'']\n",
    "inp['variables']['CUTGeo'] = 'box z'\n",
    "inp['variables']['CUTBox'] = [[0.,0.,cut_z],'au']\n",
    "inp['variables']['SE_CPU'] = '1.1.%s'%ntasks\n",
    "inp['variables']['SE_ROLEs'] = 'q.qp.b'\n",
    "#inp['variables']['SE_Threads'] = [4,'']\n",
    "\n",
    "for ex in EXXRLvcs:\n",
    "    idd = {'kpoints':k_sel,'exxrlvcs':ex,'cutbox':cut_z,'randQ':RandQpts,'randG':RandGvec}#,'nodes':nodes}\n",
    "    #inp['variables']['EXXRLvcs'] = [ex,'Ry']\n",
    "    inp['variables']['EXXRLvcs'] = [ex,'RL']\n",
    "    study.append_run(id=idd,input=inp,runner=code)"
   ]
  },
  {
   "cell_type": "code",
   "execution_count": 25,
   "metadata": {},
   "outputs": [
    {
     "data": {
      "text/plain": [
       "{'label': 'Dataset',\n",
       " 'run_dir': 'GW_HF_analysis/kpoints_81-nbnds_700',\n",
       " 'num_tasks': 4,\n",
       " 'verbose': True,\n",
       " 'input': {'args': 'mpirun -np 1 yambo -r -x -V all',\n",
       "  'folder': 'GW_HF_analysis/kpoints_81-nbnds_700',\n",
       "  'filename': 'yambo.in',\n",
       "  'arguments': ['rim_cut', 'HF_and_locXC', 'ExtendOut'],\n",
       "  'variables': {'StdoHash': [40.0, ''],\n",
       "   'Nelectro': [28.0, ''],\n",
       "   'ElecTemp': [0.0, 'eV'],\n",
       "   'BoseTemp': [-1.0, 'eV'],\n",
       "   'OccTresh': [1e-05, ''],\n",
       "   'NLogCPUs': [0.0, ''],\n",
       "   'MEM_tresh': [1961257.0, 'Kb'],\n",
       "   'FFTGvecs': [17211.0, 'RL'],\n",
       "   'SE_Threads': [0.0, ''],\n",
       "   'RandQpts': [1000000, ''],\n",
       "   'RandGvec': [100, ''],\n",
       "   'IDEm1Ref': [0.0, ''],\n",
       "   'CUTRadius': [0.0, ''],\n",
       "   'CUTCylLen': [0.0, ''],\n",
       "   'CUTwsGvec': [0.7, ''],\n",
       "   'EXXRLvcs': [7000, 'RL'],\n",
       "   'VXCRLvcs': [110823.0, 'RL'],\n",
       "   'DBsIOoff': 'none',\n",
       "   'DBsFRAGpm': 'none',\n",
       "   'PAR_def_mode': 'balanced',\n",
       "   'CUTGeo': 'box z',\n",
       "   'Em1Anys': [[0.0, 0.0, 0.0], ''],\n",
       "   'CUTBox': [[0.0, 0.0, 30], 'au'],\n",
       "   'QPkrange': [[588, 588, 28, 29], ''],\n",
       "   'QPerange': [[1, 588, 0.0, '-1.000000'], ''],\n",
       "   'SE_CPU': '1.1.16',\n",
       "   'SE_ROLEs': 'q.qp.b'}},\n",
       " 'name': 'cutbox_30-exxrlvcs_7000-kpoints_81-randG_100-randQ_1000000'}"
      ]
     },
     "execution_count": 25,
     "metadata": {},
     "output_type": "execute_result"
    }
   ],
   "source": [
    "study.runs[0]"
   ]
  },
  {
   "cell_type": "code",
   "execution_count": null,
   "metadata": {},
   "outputs": [
    {
     "name": "stdout",
     "output_type": "stream",
     "text": [
      "Run the selection [0, 1, 2, 3] with the parallel task_groups [[0, 1, 2, 3]] \n",
      "\n",
      "Run the task [0, 1, 2, 3] \n",
      "run command: mpirun -np 16 --map-by socket:PE=8 --rank-by core yambo -F cutbox_30-exxrlvcs_7000-kpoints_81-randG_100-randQ_1000000.in -J cutbox_30-exxrlvcs_7000-kpoints_81-randG_100-randQ_1000000 -C cutbox_30-exxrlvcs_7000-kpoints_81-randG_100-randQ_1000000\n",
      "slurm submit:  cd GW_HF_analysis/kpoints_81-nbnds_700 ; sbatch job_cutbox_30-exxrlvcs_7000-kpoints_81-randG_100-randQ_1000000.sh\n",
      "computation cutbox_30-exxrlvcs_7000-kpoints_81-randG_100-randQ_1000000 is running...\n",
      "run command: mpirun -np 16 --map-by socket:PE=8 --rank-by core yambo -F cutbox_30-exxrlvcs_9000-kpoints_81-randG_100-randQ_1000000.in -J cutbox_30-exxrlvcs_9000-kpoints_81-randG_100-randQ_1000000 -C cutbox_30-exxrlvcs_9000-kpoints_81-randG_100-randQ_1000000\n",
      "slurm submit:  cd GW_HF_analysis/kpoints_81-nbnds_700 ; sbatch job_cutbox_30-exxrlvcs_9000-kpoints_81-randG_100-randQ_1000000.sh\n",
      "computation cutbox_30-exxrlvcs_9000-kpoints_81-randG_100-randQ_1000000 is running...\n",
      "run command: mpirun -np 16 --map-by socket:PE=8 --rank-by core yambo -F cutbox_30-exxrlvcs_11000-kpoints_81-randG_100-randQ_1000000.in -J cutbox_30-exxrlvcs_11000-kpoints_81-randG_100-randQ_1000000 -C cutbox_30-exxrlvcs_11000-kpoints_81-randG_100-randQ_1000000\n",
      "slurm submit:  cd GW_HF_analysis/kpoints_81-nbnds_700 ; sbatch job_cutbox_30-exxrlvcs_11000-kpoints_81-randG_100-randQ_1000000.sh\n",
      "computation cutbox_30-exxrlvcs_11000-kpoints_81-randG_100-randQ_1000000 is running...\n",
      "run command: mpirun -np 16 --map-by socket:PE=8 --rank-by core yambo -F cutbox_30-exxrlvcs_15000-kpoints_81-randG_100-randQ_1000000.in -J cutbox_30-exxrlvcs_15000-kpoints_81-randG_100-randQ_1000000 -C cutbox_30-exxrlvcs_15000-kpoints_81-randG_100-randQ_1000000\n",
      "slurm submit:  cd GW_HF_analysis/kpoints_81-nbnds_700 ; sbatch job_cutbox_30-exxrlvcs_15000-kpoints_81-randG_100-randQ_1000000.sh\n",
      "computation cutbox_30-exxrlvcs_15000-kpoints_81-randG_100-randQ_1000000 is running...\n"
     ]
    }
   ],
   "source": [
    "results = study.run()"
   ]
  },
  {
   "cell_type": "code",
   "execution_count": 15,
   "metadata": {},
   "outputs": [
    {
     "data": {
      "text/plain": [
       "[0.40980800000000006, 0.40981500000000004, 0.40981700000000004, 0.409817]"
      ]
     },
     "execution_count": 15,
     "metadata": {},
     "output_type": "execute_result"
    }
   ],
   "source": [
    "gap = [results[ind].data.get_gap(k_full=test_set[k_sel]['K_index'],band_full=start_band,verbose=False) for ind in range(len(EXXRLvcs))]\n",
    "gap"
   ]
  },
  {
   "cell_type": "code",
   "execution_count": 16,
   "metadata": {},
   "outputs": [
    {
     "data": {
      "text/plain": [
       "<matplotlib.collections.PathCollection at 0x7fff844b9e50>"
      ]
     },
     "execution_count": 16,
     "metadata": {},
     "output_type": "execute_result"
    },
    {
     "data": {
      "image/png": "[encoded data removed]",
      "text/plain": [
       "<Figure size 432x288 with 1 Axes>"
      ]
     },
     "metadata": {
      "needs_background": "light"
     },
     "output_type": "display_data"
    }
   ],
   "source": [
    "plt.plot(EXXRLvcs,gap)\n",
    "plt.scatter(EXXRLvcs,gap)"
   ]
  },
  {
   "cell_type": "markdown",
   "metadata": {},
   "source": [
    "We choose EXXRRLvcs = 60 Ry as converged value and analyze the convergence of the $q$-points sampling"
   ]
  },
  {
   "cell_type": "code",
   "execution_count": 9,
   "metadata": {},
   "outputs": [],
   "source": [
    "EXXRLvcs_conv = 11000 # RL"
   ]
  },
  {
   "cell_type": "markdown",
   "metadata": {},
   "source": [
    "Old results with the analysis of the $k$-points sampling:"
   ]
  },
  {
   "cell_type": "code",
   "execution_count": 10,
   "metadata": {},
   "outputs": [
    {
     "name": "stdout",
     "output_type": "stream",
     "text": [
      "Initialize a Dataset with 1 parallel tasks\n",
      "SAVE folder already present in GW_HF_analysis/kpoints_78. No operations performed.\n"
     ]
    }
   ],
   "source": [
    "study = D.Dataset(num_tasks=1,verbose=True)\n",
    "study.set_postprocessing_function(PP.yambo_parse_data)\n",
    "\n",
    "for k in test_set:\n",
    "    Tools.build_SAVE(test_set[k]['source_dir'],test_set[k]['run_dir'],command='p2y')\n",
    "    inp = I.YamboInput(args='yambo -r -x -V all',folder=test_set[k]['run_dir'])\n",
    "    inp.set_extendOut()\n",
    "    K_index = test_set[k]['K_index']\n",
    "    inp.set_kRange(K_index,K_index)\n",
    "    inp.set_bandRange(start_band,stop_band)\n",
    "    inp['variables']['EXXRLvcs'] = [EXXRLvcs_conv,'Ry']\n",
    "    inp['variables']['RandQpts'] = [RandQpts,'']\n",
    "    inp['variables']['RandGvec'] = [RandGvec,'']\n",
    "    inp['variables']['CUTGeo'] = 'box z'\n",
    "    inp['variables']['CUTBox'] = [[0.,0.,cut_z],'au']\n",
    "    inp['variables']['SE_CPU'] = '%s.1.1'%mpi\n",
    "    inp['variables']['SE_ROLEs'] = 'b.qp.q'\n",
    "    \n",
    "    idd = {'kpoints':k,'exxrlvcs':EXXRLvcs_conv,'cutbox':cut_z,'randQ':RandQpts,'randG':RandGvec}\n",
    "    study.append_run(id=idd,input=inp,runner=code,run_dir=test_set[k]['run_dir'])"
   ]
  },
  {
   "cell_type": "code",
   "execution_count": 11,
   "metadata": {},
   "outputs": [
    {
     "name": "stdout",
     "output_type": "stream",
     "text": [
      "Run the selection [0] with the parallel task_groups [[0]] \n",
      "\n",
      "Run the task [0] \n",
      "delete job_out script: GW_HF_analysis/kpoints_78/job_cutbox_30-exxrlvcs_40-kpoints_78-randG_100-randQ_1000000.out\n",
      "delete folder: GW_HF_analysis/kpoints_78/cutbox_30-exxrlvcs_40-kpoints_78-randG_100-randQ_1000000\n",
      "run command: mpirun -np 16 yambo -F cutbox_30-exxrlvcs_40-kpoints_78-randG_100-randQ_1000000.in -J cutbox_30-exxrlvcs_40-kpoints_78-randG_100-randQ_1000000 -C cutbox_30-exxrlvcs_40-kpoints_78-randG_100-randQ_1000000\n",
      "slurm submit:  cd GW_HF_analysis/kpoints_78 ; sbatch job_cutbox_30-exxrlvcs_40-kpoints_78-randG_100-randQ_1000000.sh\n",
      "computation cutbox_30-exxrlvcs_40-kpoints_78-randG_100-randQ_1000000 is running...\n",
      "computation cutbox_30-exxrlvcs_40-kpoints_78-randG_100-randQ_1000000 ended\n",
      "\n",
      "        There are no o-* files.\n",
      "        Maybe you have performed a ypp computation or wait_end_run and/or\n",
      "        the dry_run option are active?\n",
      "        Otherwise a possible error has occured during the computation\n",
      "        \n",
      "game_over string not found in report. Check the computation!\n",
      "Task [0] ended \n",
      " \n"
     ]
    }
   ],
   "source": [
    "results = study.run()"
   ]
  },
  {
   "cell_type": "code",
   "execution_count": 35,
   "metadata": {},
   "outputs": [
    {
     "data": {
      "text/plain": [
       "[1.162207,\n",
       " 0.8491869999999999,\n",
       " 0.7013119999999999,\n",
       " 0.615127,\n",
       " 0.559527,\n",
       " 0.519778,\n",
       " 0.490761,\n",
       " 0.468854,\n",
       " 0.45126199999999994,\n",
       " 0.43705900000000003]"
      ]
     },
     "execution_count": 35,
     "metadata": {},
     "output_type": "execute_result"
    }
   ],
   "source": [
    "gap = []\n",
    "for k in kvalues:\n",
    "    r = study.fetch_results(id={'kpoints':k})[0]\n",
    "    gap.append(r.data.get_gap(k_full=test_set[k]['K_index'],band_full=start_band,verbose=False))\n",
    "gap"
   ]
  },
  {
   "cell_type": "code",
   "execution_count": 36,
   "metadata": {},
   "outputs": [
    {
     "data": {
      "text/plain": [
       "<matplotlib.collections.PathCollection at 0x7f341f81ff28>"
      ]
     },
     "execution_count": 36,
     "metadata": {},
     "output_type": "execute_result"
    },
    {
     "data": {
      "image/png": "[encoded data removed]",
      "text/plain": [
       "<Figure size 432x288 with 1 Axes>"
      ]
     },
     "metadata": {
      "needs_background": "light"
     },
     "output_type": "display_data"
    }
   ],
   "source": [
    "plt.plot(kvalues,gap)\n",
    "plt.scatter(kvalues,gap)"
   ]
  },
  {
   "cell_type": "code",
   "execution_count": 37,
   "metadata": {},
   "outputs": [],
   "source": [
    "from scipy.optimize import curve_fit"
   ]
  },
  {
   "cell_type": "code",
   "execution_count": 38,
   "metadata": {},
   "outputs": [],
   "source": [
    "x = np.array(kvalues)\n",
    "y = np.array(gap)"
   ]
  },
  {
   "cell_type": "code",
   "execution_count": 39,
   "metadata": {},
   "outputs": [],
   "source": [
    "def exp(t,a,b,c):\n",
    "    return a*np.exp(b*t)+c"
   ]
  },
  {
   "cell_type": "code",
   "execution_count": 40,
   "metadata": {},
   "outputs": [
    {
     "data": {
      "text/plain": [
       "array([ 1.89850688, -0.08284485,  0.44739332])"
      ]
     },
     "execution_count": 40,
     "metadata": {},
     "output_type": "execute_result"
    }
   ],
   "source": [
    "p0 = [1,-0.1,0.5]\n",
    "pars,pcov = curve_fit(exp,x,y,p0=p0)\n",
    "pars"
   ]
  },
  {
   "cell_type": "code",
   "execution_count": 46,
   "metadata": {},
   "outputs": [],
   "source": [
    "x_ext = np.linspace(20,80)"
   ]
  },
  {
   "cell_type": "code",
   "execution_count": 47,
   "metadata": {},
   "outputs": [
    {
     "data": {
      "text/plain": [
       "[<matplotlib.lines.Line2D at 0x7f34018eb4a8>]"
      ]
     },
     "execution_count": 47,
     "metadata": {},
     "output_type": "execute_result"
    },
    {
     "data": {
      "image/png": "[encoded data removed]",
      "text/plain": [
       "<Figure size 432x288 with 1 Axes>"
      ]
     },
     "metadata": {
      "needs_background": "light"
     },
     "output_type": "display_data"
    }
   ],
   "source": [
    "plt.plot(kvalues,gap)\n",
    "plt.scatter(kvalues,gap)\n",
    "plt.plot(x_ext,exp(x_ext,*pars))"
   ]
  },
  {
   "cell_type": "markdown",
   "metadata": {},
   "source": [
    "## COHSEX convergence analysis "
   ]
  },
  {
   "cell_type": "markdown",
   "metadata": {},
   "source": [
    "We discuss different approximations for the self energy $\\Sigma = G_0 W$. \n",
    "The evaluation of $W$ passes through:\n",
    "$$\n",
    "\\chi = \\chi_0 + \\chi_0(v_H+f_{xc})\\chi \\\\\n",
    "W = v+v\\chi v\n",
    "$$"
   ]
  },
  {
   "cell_type": "markdown",
   "metadata": {},
   "source": [
    "In the COHSEX one considers only the static contribution of the response $\\chi(\\omega=0)$ and we also limit our analysis to the Hartree kernel, so that $f_{xc}=0$ (RPA approximations).\n",
    "\n",
    "In this case (without empties) G0 still depends only from the number of kpoints and from the EXXRLvcs parameter. Moreover we introduce also a non trivial W potential and two more parameters come into the play. These are the cut of in the plane wave expansion of the response function for the construction of W (NGsBlkXs) and the number of empty bands used to write the Lehmann representation of $\\chi_0$ (BndsRnXs)."
   ]
  },
  {
   "cell_type": "code",
   "execution_count": 4,
   "metadata": {},
   "outputs": [],
   "source": [
    "start_band,stop_band = 28,29 # bands range for the computation of the HF corrections"
   ]
  },
  {
   "cell_type": "code",
   "execution_count": 5,
   "metadata": {},
   "outputs": [],
   "source": [
    "cut_z = 30 # 60 # au, slightly smaller than the cell, in agreement with the Yambo tutorial page\n",
    "RandQpts = 1000000 # Number of random q-points in the BZ\n",
    "RandGvec = 100 # use the RIM for the first 100 G-components of the coulomb potential "
   ]
  },
  {
   "cell_type": "code",
   "execution_count": 4,
   "metadata": {},
   "outputs": [
    {
     "data": {
      "text/plain": [
       "{60: {'source_dir': 'DFT_analysis/kpoints_60-nbnds_700.save',\n",
       "  'run_dir': 'GW_HF_analysis/kpoints_60-nbnds_700',\n",
       "  'K_index': 331}}"
      ]
     },
     "execution_count": 4,
     "metadata": {},
     "output_type": "execute_result"
    }
   ],
   "source": [
    "kvalues = [60] #[81]\n",
    "\n",
    "test_set = {}\n",
    "for k in kvalues:\n",
    "    source_dir = 'DFT_analysis/kpoints_%s-nbnds_700.save'%k\n",
    "    run_dir = 'GW_HF_analysis/kpoints_%s-nbnds_700'%k\n",
    "    #run_dir = 'GW_HF_analysis/kpoints_%s-nbnds_700_yambo-module'%k\n",
    "    dft_data = P.PwParser(os.path.join(source_dir,'data-file-schema.xml'),verbose=False)\n",
    "    test_set[k] = {'source_dir' : source_dir,\n",
    "                   'run_dir' :  run_dir,\n",
    "                    'K_index' : len(dft_data.kpoints)}\n",
    "test_set"
   ]
  },
  {
   "cell_type": "code",
   "execution_count": 5,
   "metadata": {},
   "outputs": [
    {
     "name": "stdout",
     "output_type": "stream",
     "text": [
      "SAVE folder already present in GW_HF_analysis/kpoints_60-nbnds_700. No operations performed.\n"
     ]
    }
   ],
   "source": [
    "k_sel = 60 #81\n",
    "Tools.build_SAVE(test_set[k_sel]['source_dir'],test_set[k_sel]['run_dir'],command='mpirun -np 1 p2y')\n",
    "K_index = test_set[k_sel]['K_index']"
   ]
  },
  {
   "cell_type": "code",
   "execution_count": 10,
   "metadata": {},
   "outputs": [
    {
     "name": "stdout",
     "output_type": "stream",
     "text": [
      "8 1\n"
     ]
    }
   ],
   "source": [
    "#input for kpoints = 60, 2 nodes\n",
    "\n",
    "ntasks_c = 8 #32\n",
    "ntasks_v = int(ntasks/ntasks_c)\n",
    "print(ntasks_c,ntasks_v)\n",
    "\n",
    "EXXRLvcs_conv = 11000 # RL\n",
    "NGsBlkXs = [600] # RL G size of the response function\n",
    "BndsRnXs  = [1,300] # Bands in the response function\n",
    "\n",
    "inp = I.YamboInput(args='mpirun -np 1 yambo -r -k hartee -dyson n -gw0 c -V all',folder=test_set[k_sel]['run_dir'])\n",
    "inp['variables']['RandQpts'] = [RandQpts,'']\n",
    "inp['variables']['RandGvec'] = [RandGvec,'']\n",
    "inp['variables']['CUTGeo'] = 'box z'\n",
    "inp['variables']['CUTBox'] = [[0.,0.,cut_z],'au']\n",
    "inp['variables']['EXXRLvcs'] = [EXXRLvcs_conv,'RL']\n",
    "\n",
    "# Parallel roles\n",
    "inp['variables']['SE_CPU'] = '1.1.8' #'4.2.16'\n",
    "inp['variables']['SE_ROLEs'] = 'q.qp.b'\n",
    "inp['variables']['X_and_IO_ROLEs'] = 'q.g.k.c.v'\n",
    "inp['variables']['X_and_IO_CPU'] = '1.1.1.%s.%s'%(ntasks_c,ntasks_v)\n",
    "inp['variables']['DIP_ROLEs'] = 'k.c.v'\n",
    "inp['variables']['DIP_CPU'] = '1.%s.%s'%(ntasks_c,ntasks_v)\n",
    "\n",
    "inp.set_kRange(K_index,K_index)\n",
    "inp.set_bandRange(start_band,stop_band)\n",
    "#inp"
   ]
  },
  {
   "cell_type": "code",
   "execution_count": 58,
   "metadata": {},
   "outputs": [
    {
     "name": "stdout",
     "output_type": "stream",
     "text": [
      "16 8\n"
     ]
    }
   ],
   "source": [
    "ntasks_c = 16 #32\n",
    "ntasks_v = int(ntasks/ntasks_c)\n",
    "print(ntasks_c,ntasks_v)\n",
    "\n",
    "EXXRLvcs_conv = 11000 # RL\n",
    "NGsBlkXs = [600,800,1000,1200,1400,1600,1800,2000] # 1000 # RL G size of the response function\n",
    "BndsRnXs  = [1,100] # Bands in the response function\n",
    "GbndRnge = [1,100]  # Bands in the Sigma_c (used only if UseEbands is activated)\n",
    "\n",
    "inp = I.YamboInput(args='mpirun -np 1 yambo -r -k hartee -dyson n -gw0 c -V all',folder=test_set[k_sel]['run_dir'])\n",
    "inp['variables']['RandQpts'] = [RandQpts,'']\n",
    "inp['variables']['RandGvec'] = [RandGvec,'']\n",
    "inp['variables']['CUTGeo'] = 'box z'\n",
    "inp['variables']['CUTBox'] = [[0.,0.,cut_z],'au']\n",
    "inp['variables']['EXXRLvcs'] = [EXXRLvcs_conv,'RL']\n",
    "\n",
    "# Parallel roles\n",
    "#inp['variables']['SE_CPU'] = '1.1.%s'%ntasks\n",
    "inp['variables']['SE_CPU'] = '8.2.16' #'4.2.16'\n",
    "inp['variables']['SE_ROLEs'] = 'q.qp.b'\n",
    "inp['variables']['X_and_IO_ROLEs'] = 'q.g.k.c.v'\n",
    "inp['variables']['X_and_IO_CPU'] = '1.1.1.%s.%s'%(ntasks_c,ntasks_v)\n",
    "inp['variables']['DIP_ROLEs'] = 'k.c.v'\n",
    "inp['variables']['DIP_CPU'] = '1.%s.%s'%(ntasks_c,ntasks_v)\n",
    "\n",
    "inp.set_kRange(K_index,K_index)\n",
    "inp.set_bandRange(start_band,stop_band)\n",
    "#inp"
   ]
  },
  {
   "cell_type": "code",
   "execution_count": 11,
   "metadata": {},
   "outputs": [
    {
     "name": "stdout",
     "output_type": "stream",
     "text": [
      "Initialize a Dataset with 4 parallel tasks\n"
     ]
    }
   ],
   "source": [
    "study = D.Dataset(run_dir=run_dir,num_tasks=4,verbose=True)\n",
    "study.set_postprocessing_function(PP.yambo_parse_data)\n",
    "\n",
    "inp['variables']['BndsRnXs'] = [BndsRnXs,'']\n",
    "for ngs in NGsBlkXs:\n",
    "    idd = 'chosex-ngsblkxs_%s-bndsrnxs_%s'%(ngs,BndsRnXs[1])\n",
    "    inp['variables']['NGsBlkXs'] = [ngs,'RL']\n",
    "    study.append_run(id=idd,input=inp,runner=code)\n",
    "\n",
    "#idd = 'chosex-with_empties-ngsblkxs_%s-bndsrnxs_%s-gbndrnge_%s'%(NGsBlkXs,BndsRnXs[1],GbndRnge[1])\n",
    "#inp['arguments'].append('UseEbands')\n",
    "#inp['variables']['GbndRnge'] = [GbndRnge,'']\n",
    "#study.append_run(id=idd,input=inp,runner=code)"
   ]
  },
  {
   "cell_type": "code",
   "execution_count": 12,
   "metadata": {},
   "outputs": [
    {
     "data": {
      "text/plain": [
       "{'label': 'Dataset',\n",
       " 'run_dir': 'GW_HF_analysis/kpoints_60-nbnds_700',\n",
       " 'num_tasks': 4,\n",
       " 'verbose': True,\n",
       " 'input': {'args': 'mpirun -np 1 yambo -r -k hartee -dyson n -gw0 c -V all',\n",
       "  'folder': 'GW_HF_analysis/kpoints_60-nbnds_700',\n",
       "  'filename': 'yambo.in',\n",
       "  'arguments': ['rim_cut', 'em1s', 'gw0', 'HF_and_locXC', 'cohsex'],\n",
       "  'variables': {'StdoHash': [40.0, ''],\n",
       "   'Nelectro': [28.0, ''],\n",
       "   'ElecTemp': [0.0, 'eV'],\n",
       "   'BoseTemp': [-1.0, 'eV'],\n",
       "   'OccTresh': [1e-05, ''],\n",
       "   'NLogCPUs': [0.0, ''],\n",
       "   'MEM_tresh': [51200.0, 'Kb'],\n",
       "   'FFTGvecs': [17211.0, 'RL'],\n",
       "   'DIP_Threads': [0.0, ''],\n",
       "   'X_and_IO_nCPU_LinAlg_INV': [-1.0, ''],\n",
       "   'X_Threads': [0.0, ''],\n",
       "   'SE_Threads': [0.0, ''],\n",
       "   'RandQpts': [1000000, ''],\n",
       "   'RandGvec': [100, ''],\n",
       "   'IDEm1Ref': [0.0, ''],\n",
       "   'CUTRadius': [0.0, ''],\n",
       "   'CUTCylLen': [0.0, ''],\n",
       "   'CUTwsGvec': [0.7, ''],\n",
       "   'EXXRLvcs': [11000, 'RL'],\n",
       "   'VXCRLvcs': [110823.0, 'RL'],\n",
       "   'DipoleEtresh': [1e-05, 'eV'],\n",
       "   'XfnQP_INTERP_NN': [1.0, ''],\n",
       "   'XfnQP_INTERP_shells': [20.0, ''],\n",
       "   'XfnQP_Wv_E': [0.0, 'eV'],\n",
       "   'XfnQP_Wv_dos': [0.0, 'eV'],\n",
       "   'XfnQP_Wc_E': [0.0, 'eV'],\n",
       "   'XfnQP_Wc_dos': [0.0, 'eV'],\n",
       "   'NGsBlkXs': [600, 'RL'],\n",
       "   'CGrdSpXs': [100.0, ''],\n",
       "   'XTermEn': [40.0, 'eV'],\n",
       "   'GfnQP_INTERP_NN': [1.0, ''],\n",
       "   'GfnQP_INTERP_shells': [20.0, ''],\n",
       "   'GfnQP_Wv_E': [0.0, 'eV'],\n",
       "   'GfnQP_Wv_dos': [0.0, 'eV'],\n",
       "   'GfnQP_Wc_E': [0.0, 'eV'],\n",
       "   'GfnQP_Wc_dos': [0.0, 'eV'],\n",
       "   'BoseCut': [0.1, ''],\n",
       "   'GWoIter': [0.0, ''],\n",
       "   'GWIter': [0.0, ''],\n",
       "   'SCEtresh': [0.01, 'eV'],\n",
       "   'DBsIOoff': 'none',\n",
       "   'DBsFRAGpm': 'none',\n",
       "   'PAR_def_mode': 'balanced',\n",
       "   'CUTGeo': 'box z',\n",
       "   'Chimod': 'HARTREE',\n",
       "   'ChiLinAlgMod': 'LIN_SYS',\n",
       "   'DipComputed': 'R P V',\n",
       "   'XfnQPdb': 'none',\n",
       "   'XfnQP_DbGd_INTERP_mode': 'NN',\n",
       "   'GrFnTpXs': 'T',\n",
       "   'XTermKind': 'none',\n",
       "   'kind': 'BG',\n",
       "   'GfnQPdb': 'none',\n",
       "   'GfnQP_DbGd_INTERP_mode': 'NN',\n",
       "   'XfnQP_Z': [(1+0j), ''],\n",
       "   'DrudeWXs': [0j, 'eV'],\n",
       "   'GfnQP_Z': [(1+0j), ''],\n",
       "   'Em1Anys': [[0.0, 0.0, 0.0], ''],\n",
       "   'CUTBox': [[0.0, 0.0, 30], 'au'],\n",
       "   'DipBands': [[1, 700], ''],\n",
       "   'XfnQP_E': [[0.0, 1.0, 1.0], ''],\n",
       "   'XfnQP_Wv': [[0.0, 0.0, 0.0], ''],\n",
       "   'XfnQP_Wc': [[0.0, 0.0, 0.0], ''],\n",
       "   'QpntsRXs': [[1, 331], ''],\n",
       "   'BndsRnXs': [[1, 300], ''],\n",
       "   'EhEngyXs': [['-1.000000', '-1.000000'], 'eV'],\n",
       "   'LongDrXs': [[1.0, 0.0, 0.0], ''],\n",
       "   'GfnQP_E': [[0.0, 1.0, 1.0], ''],\n",
       "   'GfnQP_Wv': [[0.0, 0.0, 0.0], ''],\n",
       "   'GfnQP_Wc': [[0.0, 0.0, 0.0], ''],\n",
       "   'QPkrange': [[331, 331, 28, 29], ''],\n",
       "   'QPerange': [[1, 331, 0.0, '-1.000000'], ''],\n",
       "   'SE_CPU': '1.1.8',\n",
       "   'SE_ROLEs': 'q.qp.b',\n",
       "   'X_and_IO_ROLEs': 'q.g.k.c.v',\n",
       "   'X_and_IO_CPU': '1.1.1.8.1',\n",
       "   'DIP_ROLEs': 'k.c.v',\n",
       "   'DIP_CPU': '1.8.1'}},\n",
       " 'name': 'chosex-ngsblkxs_600-bndsrnxs_300'}"
      ]
     },
     "execution_count": 12,
     "metadata": {},
     "output_type": "execute_result"
    }
   ],
   "source": [
    "study.runs[0]"
   ]
  },
  {
   "cell_type": "code",
   "execution_count": null,
   "metadata": {
    "tags": []
   },
   "outputs": [
    {
     "name": "stdout",
     "output_type": "stream",
     "text": [
      "Run the selection [0] with the parallel task_groups [[0]] \n",
      "\n",
      "Run the task [0] \n",
      "run command: mpirun -np 8 --map-by socket:PE=8 --rank-by core yambo -F chosex-ngsblkxs_600-bndsrnxs_300.in -J chosex-ngsblkxs_600-bndsrnxs_300 -C chosex-ngsblkxs_600-bndsrnxs_300\n",
      "slurm submit:  cd GW_HF_analysis/kpoints_60-nbnds_700 ; sbatch job_chosex-ngsblkxs_600-bndsrnxs_300.sh\n",
      "computation chosex-ngsblkxs_600-bndsrnxs_300 is running...\n",
      "Submitted batch job 5647878\n"
     ]
    }
   ],
   "source": [
    "results = study.run()"
   ]
  },
  {
   "cell_type": "code",
   "execution_count": 62,
   "metadata": {},
   "outputs": [
    {
     "data": {
      "text/plain": [
       "[0.13907000000000003,\n",
       " 0.13943099999999997,\n",
       " 0.13968899999999995,\n",
       " 0.13986500000000002,\n",
       " 0.13993600000000006,\n",
       " 0.1399840000000001,\n",
       " 0.14002199999999998,\n",
       " 0.14002800000000004]"
      ]
     },
     "execution_count": 62,
     "metadata": {},
     "output_type": "execute_result"
    }
   ],
   "source": [
    "gap = []\n",
    "for ind in range(len(NGsBlkXs)):\n",
    "    #r = study.fetch_results(id={'kpoints':k})[0]\n",
    "    gap.append(results[ind].data.get_gap(k_full=test_set[k]['K_index'],band_full=start_band,verbose=False))\n",
    "gap"
   ]
  },
  {
   "cell_type": "code",
   "execution_count": 63,
   "metadata": {},
   "outputs": [
    {
     "data": {
      "text/plain": [
       "<matplotlib.collections.PathCollection at 0x7fff56d35550>"
      ]
     },
     "execution_count": 63,
     "metadata": {},
     "output_type": "execute_result"
    },
    {
     "data": {
      "image/png": "[encoded data removed]",
      "text/plain": [
       "<Figure size 432x288 with 1 Axes>"
      ]
     },
     "metadata": {
      "needs_background": "light"
     },
     "output_type": "display_data"
    }
   ],
   "source": [
    "plt.plot(NGsBlkXs,gap)\n",
    "plt.scatter(NGsBlkXs,gap)"
   ]
  },
  {
   "cell_type": "markdown",
   "metadata": {},
   "source": [
    "We now perform a convergence analysis on the number of bands of the reponse function"
   ]
  },
  {
   "cell_type": "code",
   "execution_count": 42,
   "metadata": {},
   "outputs": [
    {
     "name": "stdout",
     "output_type": "stream",
     "text": [
      "16 8\n"
     ]
    }
   ],
   "source": [
    "ntasks_c = 16 #32\n",
    "ntasks_v = int(ntasks/ntasks_c)\n",
    "print(ntasks_c,ntasks_v)\n",
    "\n",
    "EXXRLvcs_conv = 11000 # RL\n",
    "NGsBlkXs_conv = 2000  # RL G size of the response function\n",
    "BndsRnXs  = [[1,100],[1,200],[1,300],[1,400],[1,500]] #[[1,100],[1,200],[1,300]] # Bands in the response function\n",
    "\n",
    "inp = I.YamboInput(args='mpirun -np 1 yambo -r -k hartee -dyson n -gw0 c -V all',folder=test_set[k_sel]['run_dir'])\n",
    "inp['variables']['RandQpts'] = [RandQpts,'']\n",
    "inp['variables']['RandGvec'] = [RandGvec,'']\n",
    "inp['variables']['CUTGeo'] = 'box z'\n",
    "inp['variables']['CUTBox'] = [[0.,0.,cut_z],'au']\n",
    "inp['variables']['EXXRLvcs'] = [EXXRLvcs_conv,'RL']\n",
    "\n",
    "# Parallel roles\n",
    "inp['variables']['SE_CPU'] = '4.2.16'  # '8.2.16' set for 64 nodes but works also for 32 with INCOMPLETE SE warning...\n",
    "inp['variables']['SE_ROLEs'] = 'q.qp.b'\n",
    "inp['variables']['X_and_IO_ROLEs'] = 'q.g.k.c.v'\n",
    "inp['variables']['X_and_IO_CPU'] = '1.1.1.%s.%s'%(ntasks_c,ntasks_v)\n",
    "inp['variables']['DIP_ROLEs'] = 'k.c.v'\n",
    "inp['variables']['DIP_CPU'] = '1.%s.%s'%(ntasks_c,ntasks_v)\n",
    "\n",
    "inp.set_kRange(K_index,K_index)\n",
    "inp.set_bandRange(start_band,stop_band)"
   ]
  },
  {
   "cell_type": "code",
   "execution_count": 43,
   "metadata": {},
   "outputs": [
    {
     "name": "stdout",
     "output_type": "stream",
     "text": [
      "Initialize a Dataset with 4 parallel tasks\n"
     ]
    }
   ],
   "source": [
    "study = D.Dataset(run_dir=run_dir,num_tasks=4,verbose=True)\n",
    "study.set_postprocessing_function(PP.yambo_parse_data)\n",
    "\n",
    "inp['variables']['NGsBlkXs'] = [NGsBlkXs_conv,'RL']\n",
    "for bnd in BndsRnXs:\n",
    "    idd = 'chosex-ngsblkxs_%s-bndsrnxs_%s'%(NGsBlkXs_conv,bnd[1])\n",
    "    inp['variables']['BndsRnXs'] = [bnd,'']\n",
    "    study.append_run(id=idd,input=inp,runner=code)"
   ]
  },
  {
   "cell_type": "code",
   "execution_count": 44,
   "metadata": {},
   "outputs": [],
   "source": [
    "#study.runs[0]"
   ]
  },
  {
   "cell_type": "code",
   "execution_count": 45,
   "metadata": {
    "tags": []
   },
   "outputs": [
    {
     "name": "stdout",
     "output_type": "stream",
     "text": [
      "Run the selection [0, 1, 2, 3, 4] with the parallel task_groups [[0, 1, 2, 3], [4]] \n",
      "\n",
      "Run the task [0, 1, 2, 3] \n",
      "Skip the run of Skip the run ofchosex-ngsblkxs_2000-bndsrnxs_100 \n",
      "chosex-ngsblkxs_2000-bndsrnxs_200\n",
      "Skip the run of chosex-ngsblkxs_2000-bndsrnxs_300\n",
      "Skip the run of chosex-ngsblkxs_2000-bndsrnxs_400\n",
      "Task [0, 1, 2, 3] ended \n",
      " \n",
      "Run the task [4] \n",
      "Skip the run of chosex-ngsblkxs_2000-bndsrnxs_500\n",
      "Task [4] ended \n",
      " \n"
     ]
    }
   ],
   "source": [
    "results = study.run()"
   ]
  },
  {
   "cell_type": "code",
   "execution_count": 46,
   "metadata": {},
   "outputs": [
    {
     "data": {
      "text/plain": [
       "[0.14002800000000004,\n",
       " 0.1366989999999999,\n",
       " 0.135621,\n",
       " 0.13528799999999985,\n",
       " 0.13511399999999996]"
      ]
     },
     "execution_count": 46,
     "metadata": {},
     "output_type": "execute_result"
    }
   ],
   "source": [
    "gap = []\n",
    "for ind in range(len(BndsRnXs)):\n",
    "    #r = study.fetch_results(id={'kpoints':k})[0]\n",
    "    gap.append(results[ind].data.get_gap(k_full=test_set[k]['K_index'],band_full=start_band,verbose=False))\n",
    "gap"
   ]
  },
  {
   "cell_type": "code",
   "execution_count": 47,
   "metadata": {},
   "outputs": [
    {
     "data": {
      "text/plain": [
       "<matplotlib.collections.PathCollection at 0x7fff56e18cd0>"
      ]
     },
     "execution_count": 47,
     "metadata": {},
     "output_type": "execute_result"
    },
    {
     "data": {
      "image/png": "[encoded data removed]",
      "text/plain": [
       "<Figure size 432x288 with 1 Axes>"
      ]
     },
     "metadata": {
      "needs_background": "light"
     },
     "output_type": "display_data"
    }
   ],
   "source": [
    "x = [b[1] for b in BndsRnXs]\n",
    "plt.plot(x,gap)\n",
    "plt.scatter(x,gap)"
   ]
  },
  {
   "cell_type": "markdown",
   "metadata": {},
   "source": [
    "## Plasmon pole analysis "
   ]
  },
  {
   "cell_type": "code",
   "execution_count": 5,
   "metadata": {},
   "outputs": [],
   "source": [
    "start_band,stop_band = 28,29 # bands range for the computation of the HF corrections"
   ]
  },
  {
   "cell_type": "code",
   "execution_count": 6,
   "metadata": {},
   "outputs": [],
   "source": [
    "cut_z = 30 # 60 # au, slightly smaller than the cell, in agreement with the Yambo tutorial page\n",
    "RandQpts = 1000000 # Number of random q-points in the BZ\n",
    "RandGvec = 100 # use the RIM for the first 100 G-components of the coulomb potential "
   ]
  },
  {
   "cell_type": "code",
   "execution_count": 7,
   "metadata": {},
   "outputs": [
    {
     "data": {
      "text/plain": [
       "{60: {'source_dir': 'DFT_analysis/kpoints_60-nbnds_700.save',\n",
       "  'run_dir': 'GW_HF_analysis/kpoints_60-nbnds_700',\n",
       "  'K_index': 331}}"
      ]
     },
     "execution_count": 7,
     "metadata": {},
     "output_type": "execute_result"
    }
   ],
   "source": [
    "kvalues = [60]\n",
    "\n",
    "test_set = {}\n",
    "for k in kvalues:\n",
    "    source_dir = 'DFT_analysis/kpoints_%s-nbnds_700.save'%k\n",
    "    run_dir = 'GW_HF_analysis/kpoints_%s-nbnds_700'%k\n",
    "    dft_data = P.PwParser(os.path.join(source_dir,'data-file-schema.xml'),verbose=False)\n",
    "    test_set[k] = {'source_dir' : source_dir,\n",
    "                   'run_dir' :  run_dir,\n",
    "                    'K_index' : len(dft_data.kpoints)}\n",
    "test_set"
   ]
  },
  {
   "cell_type": "code",
   "execution_count": 7,
   "metadata": {},
   "outputs": [
    {
     "name": "stdout",
     "output_type": "stream",
     "text": [
      "SAVE folder already present in GW_HF_analysis/kpoints_60-nbnds_700. No operations performed.\n"
     ]
    }
   ],
   "source": [
    "k_sel = 60\n",
    "Tools.build_SAVE(test_set[k_sel]['source_dir'],test_set[k_sel]['run_dir'],command='mpirun -np 1 p2y')\n",
    "K_index = test_set[k_sel]['K_index']"
   ]
  },
  {
   "cell_type": "code",
   "execution_count": 32,
   "metadata": {},
   "outputs": [
    {
     "name": "stdout",
     "output_type": "stream",
     "text": [
      "16 2\n"
     ]
    }
   ],
   "source": [
    "#input for kpoints = 60, 2 nodes on ismhpc\n",
    "\n",
    "ntasks_c = 16 #32\n",
    "ntasks_v = int(ntasks/ntasks_c)\n",
    "print(ntasks_c,ntasks_v)\n",
    "\n",
    "EXXRLvcs_conv = 11000 # RL\n",
    "NGsBlkXs_conv = 600 # RL G size of the response function\n",
    "BndsRnXs_conv  = [1,300] # Bands in the response function\n",
    "GbndRnge = [[1,300]]  # Bands in the Sigma_c\n",
    "\n",
    "inp = I.YamboInput(args='mpirun -np 1 yambo -r -k hartee -dyson n -gw0 p -V all',folder=test_set[k_sel]['run_dir'])\n",
    "inp['variables']['RandQpts'] = [RandQpts,'']\n",
    "inp['variables']['RandGvec'] = [RandGvec,'']\n",
    "inp['variables']['CUTGeo'] = 'box z'\n",
    "inp['variables']['CUTBox'] = [[0.,0.,cut_z],'au']\n",
    "inp['variables']['EXXRLvcs'] = [EXXRLvcs_conv,'RL']\n",
    "\n",
    "# Parallel roles\n",
    "inp['variables']['SE_CPU'] = '2.1.16'\n",
    "inp['variables']['SE_ROLEs'] = 'q.qp.b'\n",
    "inp['variables']['X_and_IO_ROLEs'] = 'q.g.k.c.v'\n",
    "inp['variables']['X_and_IO_CPU'] = '1.1.1.%s.%s'%(ntasks_c,ntasks_v)\n",
    "inp['variables']['DIP_ROLEs'] = 'k.c.v'\n",
    "inp['variables']['DIP_CPU'] = '1.%s.%s'%(ntasks_c,ntasks_v)\n",
    "\n",
    "inp.set_kRange(K_index,K_index)\n",
    "inp.set_bandRange(start_band,stop_band)\n",
    "#inp"
   ]
  },
  {
   "cell_type": "code",
   "execution_count": 9,
   "metadata": {},
   "outputs": [
    {
     "name": "stdout",
     "output_type": "stream",
     "text": [
      "16 2\n"
     ]
    }
   ],
   "source": [
    "#input for kpoints = 60, 8 nodes on m100\n",
    "\n",
    "ntasks_c = 16\n",
    "ntasks_v = int(ntasks/ntasks_c)\n",
    "print(ntasks_c,ntasks_v)\n",
    "\n",
    "EXXRLvcs_conv = 11000 # RL\n",
    "NGsBlkXs_conv = 600 # RL G size of the response function\n",
    "BndsRnXs_conv  = [1,300] # Bands in the response function\n",
    "GbndRnge = [[1,300]]  # Bands in the Sigma_c\n",
    "\n",
    "inp = I.YamboInput(args='mpirun -np 1 yambo -r -k hartee -dyson n -gw0 p -V all',folder=test_set[k_sel]['run_dir'])\n",
    "inp['variables']['RandQpts'] = [RandQpts,'']\n",
    "inp['variables']['RandGvec'] = [RandGvec,'']\n",
    "inp['variables']['CUTGeo'] = 'box z'\n",
    "inp['variables']['CUTBox'] = [[0.,0.,cut_z],'au']\n",
    "inp['variables']['EXXRLvcs'] = [EXXRLvcs_conv,'RL']\n",
    "\n",
    "# Parallel roles\n",
    "inp['variables']['SE_CPU'] = '2.1.16'\n",
    "inp['variables']['SE_ROLEs'] = 'q.qp.b'\n",
    "inp['variables']['X_and_IO_ROLEs'] = 'q.g.k.c.v'\n",
    "inp['variables']['X_and_IO_CPU'] = '1.1.1.%s.%s'%(ntasks_c,ntasks_v)\n",
    "inp['variables']['DIP_ROLEs'] = 'k.c.v'\n",
    "inp['variables']['DIP_CPU'] = '1.%s.%s'%(ntasks_c,ntasks_v)\n",
    "\n",
    "inp.set_kRange(K_index,K_index)\n",
    "inp.set_bandRange(start_band,stop_band)\n",
    "#inp"
   ]
  },
  {
   "cell_type": "code",
   "execution_count": 9,
   "metadata": {},
   "outputs": [
    {
     "name": "stdout",
     "output_type": "stream",
     "text": [
      "Initialize a Dataset with 4 parallel tasks\n"
     ]
    }
   ],
   "source": [
    "study = D.Dataset(run_dir=run_dir,num_tasks=4,verbose=True)\n",
    "study.set_postprocessing_function(PP.yambo_parse_data)\n",
    "\n",
    "inp['variables']['NGsBlkXp'] = [NGsBlkXs_conv,'RL']\n",
    "inp['variables']['BndsRnXp'] = [BndsRnXs_conv,'']\n",
    "for bnd in GbndRnge:\n",
    "    idd = 'ppa-ngsblkxs_%s-bndsrnxs_%s-gbndrnge_%s'%(NGsBlkXs_conv,BndsRnXs_conv[1],bnd[1])\n",
    "    inp['variables']['GbndRnge'] = [GbndRnge,'']\n",
    "    study.append_run(id=idd,input=inp,runner=code,jobname = [idd,'ndb_cutoff_rim_dipoles_hf'])"
   ]
  },
  {
   "cell_type": "code",
   "execution_count": null,
   "metadata": {},
   "outputs": [],
   "source": [
    "study.runs[0]"
   ]
  },
  {
   "cell_type": "code",
   "execution_count": 12,
   "metadata": {},
   "outputs": [
    {
     "name": "stdout",
     "output_type": "stream",
     "text": [
      "Run the selection [0] with the parallel task_groups [[0]] \n",
      "\n",
      "Run the task [0] \n",
      "Skip the run of ppa-ngsblkxs_600-bndsrnxs_300-gbndrnge_300\n",
      "Task [0] ended \n",
      " \n"
     ]
    }
   ],
   "source": [
    "results = study.run()"
   ]
  },
  {
   "cell_type": "code",
   "execution_count": 15,
   "metadata": {},
   "outputs": [
    {
     "data": {
      "text/plain": [
       "[0.14194999999999997]"
      ]
     },
     "execution_count": 15,
     "metadata": {},
     "output_type": "execute_result"
    }
   ],
   "source": [
    "gap = []\n",
    "for ind in range(len(GbndRnge)):\n",
    "    gap.append(results[ind].data.get_gap(k_full=test_set[k]['K_index'],band_full=start_band,verbose=False))\n",
    "gap"
   ]
  },
  {
   "cell_type": "markdown",
   "metadata": {},
   "source": [
    "### Double grid analysis"
   ]
  },
  {
   "cell_type": "markdown",
   "metadata": {},
   "source": [
    "We repeat the plasmon pole calculation using the double grid methods. We make usage of the 81x81x1\n",
    "DFT energies as fine grids.\n",
    "\n",
    "Once that the ndb.Double_Grid db haas been written in the SAVE folder we run again the ppa calculation."
   ]
  },
  {
   "cell_type": "code",
   "execution_count": 10,
   "metadata": {},
   "outputs": [
    {
     "name": "stdout",
     "output_type": "stream",
     "text": [
      "Initialize a Dataset with 4 parallel tasks\n"
     ]
    }
   ],
   "source": [
    "study = D.Dataset(run_dir=run_dir,num_tasks=4,verbose=True)\n",
    "study.set_postprocessing_function(PP.yambo_parse_data)\n",
    "\n",
    "inp['variables']['NGsBlkXp'] = [NGsBlkXs_conv,'RL']\n",
    "inp['variables']['BndsRnXp'] = [BndsRnXs_conv,'']\n",
    "for bnd in GbndRnge:\n",
    "    idd = 'ppa_dg-ngsblkxs_%s-bndsrnxs_%s-gbndrnge_%s'%(NGsBlkXs_conv,BndsRnXs_conv[1],bnd[1])\n",
    "    inp['variables']['GbndRnge'] = [GbndRnge,'']\n",
    "    study.append_run(id=idd,input=inp,runner=code,jobname = [idd,'ndb_cutoff_rim_dipoles_hf'])"
   ]
  },
  {
   "cell_type": "code",
   "execution_count": null,
   "metadata": {},
   "outputs": [],
   "source": [
    "study.runs[0]"
   ]
  },
  {
   "cell_type": "code",
   "execution_count": null,
   "metadata": {},
   "outputs": [
    {
     "name": "stdout",
     "output_type": "stream",
     "text": [
      "Run the selection [0] with the parallel task_groups [[0]] \n",
      "\n",
      "Run the task [0] \n",
      "run command: mpirun -np 32 --map-by socket:PE=8 --rank-by core yambo -F ppa_dg-ngsblkxs_600-bndsrnxs_300-gbndrnge_300.in -J \"ppa_dg-ngsblkxs_600-bndsrnxs_300-gbndrnge_300,ndb_cutoff_rim_dipoles_hf\" -C ppa_dg-ngsblkxs_600-bndsrnxs_300-gbndrnge_300\n",
      "slurm submit:  cd GW_HF_analysis/kpoints_60-nbnds_700 ; sbatch job_ppa_dg-ngsblkxs_600-bndsrnxs_300-gbndrnge_300.sh\n",
      "computation ppa_dg-ngsblkxs_600-bndsrnxs_300-gbndrnge_300 is running...\n",
      "Submitted batch job 5731578\n"
     ]
    }
   ],
   "source": [
    "results = study.run()"
   ]
  },
  {
   "cell_type": "code",
   "execution_count": null,
   "metadata": {},
   "outputs": [],
   "source": [
    "gap = []\n",
    "for ind in range(len(GbndRnge)):\n",
    "    gap.append(results[ind].data.get_gap(k_full=test_set[k]['K_index'],band_full=start_band,verbose=False))\n",
    "gap"
   ]
  },
  {
   "cell_type": "markdown",
   "metadata": {},
   "source": [
    "A this level it is possible to perform a convergence test on the GbndRnge parameter. So we can add in the -J the path\n",
    "where the ndb.pp is located and we can perform the run four various values of GbndRnge."
   ]
  },
  {
   "cell_type": "code",
   "execution_count": 17,
   "metadata": {},
   "outputs": [
    {
     "name": "stdout",
     "output_type": "stream",
     "text": [
      "16 2\n"
     ]
    }
   ],
   "source": [
    "#ntasks_c = 8 # m100: 16 for 8 nodes and 8 for 2 nodes\n",
    "ntasks_c = 16 # ismhpc: 16 for 2 nodes\n",
    "ntasks_v = int(ntasks/ntasks_c)\n",
    "print(ntasks_c,ntasks_v)\n",
    "\n",
    "EXXRLvcs_conv = 11000 # RL\n",
    "NGsBlkXs_conv = 600 # RL G size of the response function\n",
    "BndsRnXs_conv  = [1,300] # Bands in the response function\n",
    "\n",
    "inp = I.YamboInput(args='mpirun -np 1 yambo -r -k hartee -dyson n -gw0 p -V all',folder=test_set[k_sel]['run_dir'])\n",
    "inp['variables']['RandQpts'] = [RandQpts,'']\n",
    "inp['variables']['RandGvec'] = [RandGvec,'']\n",
    "inp['variables']['CUTGeo'] = 'box z'\n",
    "inp['variables']['CUTBox'] = [[0.,0.,cut_z],'au']\n",
    "inp['variables']['EXXRLvcs'] = [EXXRLvcs_conv,'RL']\n",
    "inp['variables']['NGsBlkXp'] = [NGsBlkXs_conv,'RL']\n",
    "inp['variables']['BndsRnXp'] = [BndsRnXs_conv,'']\n",
    "\n",
    "# Parallel roles\n",
    "#inp['variables']['SE_CPU'] = '2.1.16' # for 8 nodes on m100\n",
    "#inp['variables']['SE_CPU'] = '1.1.8' # for 2 nodes on m100\n",
    "inp['variables']['SE_CPU'] = '2.1.16' # for 2 nodes on ismhpc\n",
    "inp['variables']['SE_ROLEs'] = 'q.qp.b'\n",
    "inp['variables']['X_and_IO_ROLEs'] = 'q.g.k.c.v'\n",
    "inp['variables']['X_and_IO_CPU'] = '1.1.1.%s.%s'%(ntasks_c,ntasks_v)\n",
    "inp['variables']['DIP_ROLEs'] = 'k.c.v'\n",
    "inp['variables']['DIP_CPU'] = '1.%s.%s'%(ntasks_c,ntasks_v)\n",
    "\n",
    "inp.set_kRange(K_index,K_index)\n",
    "inp.set_bandRange(start_band,stop_band)\n",
    "#inp"
   ]
  },
  {
   "cell_type": "code",
   "execution_count": 23,
   "metadata": {},
   "outputs": [],
   "source": [
    "GbndRnge = [[1,100],[1,300]] #,[1,500]]  # Bands in the Sigma_c"
   ]
  },
  {
   "cell_type": "code",
   "execution_count": 24,
   "metadata": {},
   "outputs": [
    {
     "name": "stdout",
     "output_type": "stream",
     "text": [
      "Initialize a Dataset with 4 parallel tasks\n"
     ]
    }
   ],
   "source": [
    "study = D.Dataset(run_dir=run_dir,num_tasks=4,verbose=True)\n",
    "study.set_postprocessing_function(PP.yambo_parse_data)\n",
    "\n",
    "for bnd in GbndRnge:\n",
    "    idd = 'ppa_dg-ngsblkxs_%s-bndsrnxs_%s-gbndrnge_%s'%(NGsBlkXs_conv,BndsRnXs_conv[1],bnd[1])\n",
    "    inp['variables']['GbndRnge'] = [bnd,'']\n",
    "    study.append_run(id=idd,input=inp,runner=code,jobname = [idd,'ndb_cutoff_rim_dipoles_hf','ndb_pp_dg_ngsblkxs_600-bndsrnxs_300','ndb_double_grid'])"
   ]
  },
  {
   "cell_type": "code",
   "execution_count": 25,
   "metadata": {},
   "outputs": [
    {
     "data": {
      "text/plain": [
       "{'label': 'Dataset',\n",
       " 'run_dir': 'GW_HF_analysis/kpoints_60-nbnds_700',\n",
       " 'num_tasks': 4,\n",
       " 'verbose': True,\n",
       " 'input': {'args': 'mpirun -np 1 yambo -r -k hartee -dyson n -gw0 p -V all',\n",
       "  'folder': 'GW_HF_analysis/kpoints_60-nbnds_700',\n",
       "  'filename': 'yambo.in',\n",
       "  'arguments': ['rim_cut', 'em1d', 'gw0', 'HF_and_locXC', 'ppa'],\n",
       "  'variables': {'StdoHash': [40.0, ''],\n",
       "   'Nelectro': [28.0, ''],\n",
       "   'ElecTemp': [0.0, 'eV'],\n",
       "   'BoseTemp': [-1.0, 'eV'],\n",
       "   'OccTresh': [1e-05, ''],\n",
       "   'NLogCPUs': [0.0, ''],\n",
       "   'MEM_tresh': [51200.0, 'Kb'],\n",
       "   'FFTGvecs': [17211.0, 'RL'],\n",
       "   'X_and_IO_nCPU_LinAlg_INV': [-1.0, ''],\n",
       "   'X_Threads': [0.0, ''],\n",
       "   'DIP_Threads': [0.0, ''],\n",
       "   'SE_Threads': [0.0, ''],\n",
       "   'RandQpts': [1000000, ''],\n",
       "   'RandGvec': [100, ''],\n",
       "   'IDEm1Ref': [0.0, ''],\n",
       "   'CUTRadius': [0.0, ''],\n",
       "   'CUTCylLen': [0.0, ''],\n",
       "   'CUTwsGvec': [0.7, ''],\n",
       "   'EXXRLvcs': [11000, 'RL'],\n",
       "   'VXCRLvcs': [110823.0, 'RL'],\n",
       "   'XfnQP_INTERP_NN': [1.0, ''],\n",
       "   'XfnQP_INTERP_shells': [20.0, ''],\n",
       "   'XfnQP_Wv_E': [0.0, 'eV'],\n",
       "   'XfnQP_Wv_dos': [0.0, 'eV'],\n",
       "   'XfnQP_Wc_E': [0.0, 'eV'],\n",
       "   'XfnQP_Wc_dos': [0.0, 'eV'],\n",
       "   'NGsBlkXp': [600, 'RL'],\n",
       "   'CGrdSpXp': [100.0, ''],\n",
       "   'PPAPntXp': [27.21138, 'eV'],\n",
       "   'XTermEn': [40.0, 'eV'],\n",
       "   'GfnQP_INTERP_NN': [1.0, ''],\n",
       "   'GfnQP_INTERP_shells': [20.0, ''],\n",
       "   'GfnQP_Wv_E': [0.0, 'eV'],\n",
       "   'GfnQP_Wv_dos': [0.0, 'eV'],\n",
       "   'GfnQP_Wc_E': [0.0, 'eV'],\n",
       "   'GfnQP_Wc_dos': [0.0, 'eV'],\n",
       "   'BoseCut': [0.1, ''],\n",
       "   'GDamping': [0.1, 'eV'],\n",
       "   'dScStep': [0.1, 'eV'],\n",
       "   'GTermEn': [40.81708, 'eV'],\n",
       "   'GWoIter': [0.0, ''],\n",
       "   'GWIter': [0.0, ''],\n",
       "   'SCEtresh': [0.01, 'eV'],\n",
       "   'DBsIOoff': 'none',\n",
       "   'DBsFRAGpm': 'none',\n",
       "   'PAR_def_mode': 'balanced',\n",
       "   'CUTGeo': 'box z',\n",
       "   'Chimod': 'HARTREE',\n",
       "   'ChiLinAlgMod': 'LIN_SYS',\n",
       "   'XfnQPdb': 'none',\n",
       "   'XfnQP_DbGd_INTERP_mode': 'NN',\n",
       "   'XTermKind': 'none',\n",
       "   'kind': 'BG',\n",
       "   'GfnQPdb': 'none',\n",
       "   'GfnQP_DbGd_INTERP_mode': 'NN',\n",
       "   'GTermKind': 'none',\n",
       "   'DysSolver': 'n',\n",
       "   'XfnQP_Z': [(1+0j), ''],\n",
       "   'GfnQP_Z': [(1+0j), ''],\n",
       "   'Em1Anys': [[0.0, 0.0, 0.0], ''],\n",
       "   'CUTBox': [[0.0, 0.0, 30], 'au'],\n",
       "   'XfnQP_E': [[0.0, 1.0, 1.0], ''],\n",
       "   'XfnQP_Wv': [[0.0, 0.0, 0.0], ''],\n",
       "   'XfnQP_Wc': [[0.0, 0.0, 0.0], ''],\n",
       "   'QpntsRXp': [[1, 331], ''],\n",
       "   'BndsRnXp': [[1, 300], ''],\n",
       "   'EhEngyXp': [['-1.000000', '-1.000000'], 'eV'],\n",
       "   'LongDrXp': [[1.0, 0.0, 0.0], ''],\n",
       "   'GfnQP_E': [[0.0, 1.0, 1.0], ''],\n",
       "   'GfnQP_Wv': [[0.0, 0.0, 0.0], ''],\n",
       "   'GfnQP_Wc': [[0.0, 0.0, 0.0], ''],\n",
       "   'GbndRnge': [[1, 100], ''],\n",
       "   'QPkrange': [[331, 331, 28, 29], ''],\n",
       "   'QPerange': [[1, 331, 0.0, '-1.000000'], ''],\n",
       "   'SE_CPU': '2.1.16',\n",
       "   'SE_ROLEs': 'q.qp.b',\n",
       "   'X_and_IO_ROLEs': 'q.g.k.c.v',\n",
       "   'X_and_IO_CPU': '1.1.1.16.2',\n",
       "   'DIP_ROLEs': 'k.c.v',\n",
       "   'DIP_CPU': '1.16.2'}},\n",
       " 'jobname': ['ppa_dg-ngsblkxs_600-bndsrnxs_300-gbndrnge_100',\n",
       "  'ndb_cutoff_rim_dipoles_hf',\n",
       "  'ndb_pp_dg_ngsblkxs_600-bndsrnxs_300',\n",
       "  'ndb_double_grid'],\n",
       " 'name': 'ppa_dg-ngsblkxs_600-bndsrnxs_300-gbndrnge_100'}"
      ]
     },
     "execution_count": 25,
     "metadata": {},
     "output_type": "execute_result"
    }
   ],
   "source": [
    "study.runs[0]"
   ]
  },
  {
   "cell_type": "code",
   "execution_count": 26,
   "metadata": {},
   "outputs": [
    {
     "name": "stdout",
     "output_type": "stream",
     "text": [
      "Run the selection [0, 1] with the parallel task_groups [[0, 1]] \n",
      "\n",
      "Run the task [0, 1] \n",
      "Skip the run of ppa_dg-ngsblkxs_600-bndsrnxs_300-gbndrnge_100\n",
      "Skip the run of ppa_dg-ngsblkxs_600-bndsrnxs_300-gbndrnge_300\n",
      "Task [0, 1] ended \n",
      " \n"
     ]
    }
   ],
   "source": [
    "results = study.run()"
   ]
  },
  {
   "cell_type": "code",
   "execution_count": 27,
   "metadata": {},
   "outputs": [
    {
     "data": {
      "text/plain": [
       "[0.142601, 0.141945]"
      ]
     },
     "execution_count": 27,
     "metadata": {},
     "output_type": "execute_result"
    }
   ],
   "source": [
    "gap = []\n",
    "for ind in range(len(GbndRnge)):\n",
    "    gap.append(results[ind].data.get_gap(k_full=test_set[k]['K_index'],band_full=start_band,verbose=False))\n",
    "gap"
   ]
  },
  {
   "cell_type": "markdown",
   "metadata": {},
   "source": [
    "### GW correction in the whole BZ"
   ]
  },
  {
   "cell_type": "markdown",
   "metadata": {},
   "source": [
    "Once that we have computed the $\\epsilon^{-1}$ we can evalute the GW corrections in all the $k$ points\n",
    "of the actual grids and for a proper band index range around the valence-conduction states.\n",
    "\n",
    "This computation is useful to determine the GW correction to the DFT band structure and moreover, is used\n",
    "to compute the BSE optical spectrum. "
   ]
  },
  {
   "cell_type": "code",
   "execution_count": 8,
   "metadata": {},
   "outputs": [],
   "source": [
    "start_kp,stop_kp = 1,331\n",
    "start_band,stop_band = 25,32 # bands range for the computation of the GW corrections"
   ]
  },
  {
   "cell_type": "markdown",
   "metadata": {},
   "source": [
    "We need to compute the HF correction for all the $k$ points and band range"
   ]
  },
  {
   "cell_type": "code",
   "execution_count": 10,
   "metadata": {},
   "outputs": [
    {
     "name": "stdout",
     "output_type": "stream",
     "text": [
      "16 2\n"
     ]
    }
   ],
   "source": [
    "ntasks_c = 16 # ismhpc: 16 for 2 nodes\n",
    "ntasks_v = int(ntasks/ntasks_c)\n",
    "print(ntasks_c,ntasks_v)\n",
    "\n",
    "EXXRLvcs_conv = 11000 # RL\n",
    "\n",
    "inp = I.YamboInput(args='mpirun -np 1 yambo -r -x -V all',folder=test_set[k_sel]['run_dir'])\n",
    "inp['variables']['RandQpts'] = [RandQpts,'']\n",
    "inp['variables']['RandGvec'] = [RandGvec,'']\n",
    "inp['variables']['CUTGeo'] = 'box z'\n",
    "inp['variables']['CUTBox'] = [[0.,0.,cut_z],'au']\n",
    "inp['variables']['EXXRLvcs'] = [EXXRLvcs_conv,'RL']\n",
    "inp['variables']['VXCRLvcs'] = [EXXRLvcs_conv,'RL']\n",
    "\n",
    "# Parallel roles\n",
    "inp['variables']['SE_CPU'] = '1.2.16' # for 8 nodes on m100\n",
    "#inp['variables']['SE_CPU'] = '1.1.8' # for 2 nodes on m100\n",
    "#inp['variables']['SE_CPU'] = '1.2.16' # for 2 nodes on ismhpc\n",
    "inp['variables']['SE_ROLEs'] = 'q.qp.b'\n",
    "inp['variables']['DIP_ROLEs'] = 'k.c.v'\n",
    "inp['variables']['DIP_CPU'] = '1.%s.%s'%(ntasks_c,ntasks_v)\n",
    "\n",
    "inp.set_kRange(start_kp,stop_kp)\n",
    "inp.set_bandRange(start_band,stop_band)\n",
    "#inp    "
   ]
  },
  {
   "cell_type": "code",
   "execution_count": 12,
   "metadata": {},
   "outputs": [
    {
     "name": "stdout",
     "output_type": "stream",
     "text": [
      "Initialize a Dataset with 1 parallel tasks\n"
     ]
    }
   ],
   "source": [
    "study = D.Dataset(run_dir=run_dir,num_tasks=1,verbose=True)\n",
    "study.set_postprocessing_function(PP.yambo_parse_data)\n",
    "\n",
    "idd = 'hf-kp_%s_%s-bnd_%s_%s'%(start_kp,stop_kp,start_band,stop_band)\n",
    "study.append_run(id=idd,input=inp,runner=code,jobname = [idd,'ndb_cutoff_rim_dipoles_hf'])"
   ]
  },
  {
   "cell_type": "code",
   "execution_count": 13,
   "metadata": {},
   "outputs": [
    {
     "data": {
      "text/plain": [
       "{'label': 'Dataset',\n",
       " 'run_dir': 'GW_HF_analysis/kpoints_60-nbnds_700',\n",
       " 'num_tasks': 1,\n",
       " 'verbose': True,\n",
       " 'input': {'args': 'mpirun -np 1 yambo -r -x -V all',\n",
       "  'folder': 'GW_HF_analysis/kpoints_60-nbnds_700',\n",
       "  'filename': 'yambo.in',\n",
       "  'arguments': ['rim_cut', 'HF_and_locXC'],\n",
       "  'variables': {'StdoHash': [40.0, ''],\n",
       "   'Nelectro': [28.0, ''],\n",
       "   'ElecTemp': [0.0, 'eV'],\n",
       "   'BoseTemp': [-1.0, 'eV'],\n",
       "   'OccTresh': [1e-05, ''],\n",
       "   'NLogCPUs': [0.0, ''],\n",
       "   'MEM_tresh': [51200.0, 'Kb'],\n",
       "   'FFTGvecs': [17211.0, 'RL'],\n",
       "   'SE_Threads': [0.0, ''],\n",
       "   'RandQpts': [1000000, ''],\n",
       "   'RandGvec': [100, ''],\n",
       "   'IDEm1Ref': [0.0, ''],\n",
       "   'CUTRadius': [0.0, ''],\n",
       "   'CUTCylLen': [0.0, ''],\n",
       "   'CUTwsGvec': [0.7, ''],\n",
       "   'EXXRLvcs': [11000, 'RL'],\n",
       "   'VXCRLvcs': [11000, 'RL'],\n",
       "   'DBsIOoff': 'none',\n",
       "   'DBsFRAGpm': 'none',\n",
       "   'PAR_def_mode': 'balanced',\n",
       "   'CUTGeo': 'box z',\n",
       "   'Em1Anys': [[0.0, 0.0, 0.0], ''],\n",
       "   'CUTBox': [[0.0, 0.0, 30], 'au'],\n",
       "   'QPkrange': [[1, 331, 25, 32], ''],\n",
       "   'QPerange': [[1, 331, 0.0, '-1.000000'], ''],\n",
       "   'SE_CPU': '1.2.16',\n",
       "   'SE_ROLEs': 'q.qp.b',\n",
       "   'DIP_ROLEs': 'k.c.v',\n",
       "   'DIP_CPU': '1.16.2'}},\n",
       " 'jobname': ['hf-kp_1_331-bnd_25_32', 'ndb_cutoff_rim_dipoles_hf'],\n",
       " 'name': 'hf-kp_1_331-bnd_25_32'}"
      ]
     },
     "execution_count": 13,
     "metadata": {},
     "output_type": "execute_result"
    }
   ],
   "source": [
    "study.runs[0]"
   ]
  },
  {
   "cell_type": "code",
   "execution_count": null,
   "metadata": {},
   "outputs": [
    {
     "name": "stdout",
     "output_type": "stream",
     "text": [
      "Run the selection [0] with the parallel task_groups [[0]] \n",
      "\n",
      "Run the task [0] \n",
      "run command: mpirun -np 32 --map-by socket:PE=8 --rank-by core yambo -F hf-kp_1_331-bnd_25_32.in -J \"hf-kp_1_331-bnd_25_32,ndb_cutoff_rim_dipoles_hf\" -C hf-kp_1_331-bnd_25_32\n",
      "slurm submit:  cd GW_HF_analysis/kpoints_60-nbnds_700 ; sbatch job_hf-kp_1_331-bnd_25_32.sh\n",
      "computation hf-kp_1_331-bnd_25_32 is running...\n",
      "Submitted batch job 5808548\n"
     ]
    }
   ],
   "source": [
    "results = study.run()"
   ]
  },
  {
   "cell_type": "markdown",
   "metadata": {},
   "source": [
    "Then we use the database for the GW correction in the whole range"
   ]
  },
  {
   "cell_type": "code",
   "execution_count": 23,
   "metadata": {},
   "outputs": [
    {
     "name": "stdout",
     "output_type": "stream",
     "text": [
      "16 2\n"
     ]
    }
   ],
   "source": [
    "#ntasks_c = 8 # m100: 16 for 8 nodes and 8 for 2 nodes\n",
    "ntasks_c = 16 # ismhpc: 16 for 2 nodes\n",
    "ntasks_v = int(ntasks/ntasks_c)\n",
    "print(ntasks_c,ntasks_v)\n",
    "\n",
    "EXXRLvcs_conv = 11000 # RL\n",
    "NGsBlkXs_conv = 600 # RL G size of the response function\n",
    "BndsRnXs_conv  = [1,300] # Bands in the response function\n",
    "GbndRnge_conv = [1,300]  # Bands in the Sigma_c\n",
    "\n",
    "inp = I.YamboInput(args='mpirun -np 1 yambo -r -k hartee -dyson n -gw0 p -V all',folder=test_set[k_sel]['run_dir'])\n",
    "inp.set_extendOut()\n",
    "inp['variables']['RandQpts'] = [RandQpts,'']\n",
    "inp['variables']['RandGvec'] = [RandGvec,'']\n",
    "inp['variables']['CUTGeo'] = 'box z'\n",
    "inp['variables']['CUTBox'] = [[0.,0.,cut_z],'au']\n",
    "inp['variables']['EXXRLvcs'] = [EXXRLvcs_conv,'RL']\n",
    "inp['variables']['VXCRLvcs'] = [EXXRLvcs_conv,'RL']\n",
    "inp['variables']['NGsBlkXp'] = [NGsBlkXs_conv,'RL']\n",
    "inp['variables']['BndsRnXp'] = [BndsRnXs_conv,'']\n",
    "inp['variables']['GbndRnge'] = [GbndRnge_conv,'']\n",
    "\n",
    "# Parallel roles\n",
    "#inp['variables']['SE_CPU'] = '1.2.16' # for 8 nodes on m100\n",
    "#inp['variables']['SE_CPU'] = '1.1.8' # for 2 nodes on m100\n",
    "inp['variables']['SE_CPU'] = '1.2.16' # for 2 nodes on ismhpc\n",
    "inp['variables']['SE_ROLEs'] = 'q.qp.b'\n",
    "inp['variables']['X_and_IO_ROLEs'] = 'q.g.k.c.v'\n",
    "inp['variables']['X_and_IO_CPU'] = '1.1.1.%s.%s'%(ntasks_c,ntasks_v)\n",
    "inp['variables']['DIP_ROLEs'] = 'k.c.v'\n",
    "inp['variables']['DIP_CPU'] = '1.%s.%s'%(ntasks_c,ntasks_v)\n",
    "\n",
    "inp.set_kRange(start_kp,stop_kp)\n",
    "inp.set_bandRange(start_band,stop_band)\n",
    "#inp"
   ]
  },
  {
   "cell_type": "code",
   "execution_count": 24,
   "metadata": {},
   "outputs": [
    {
     "name": "stdout",
     "output_type": "stream",
     "text": [
      "Initialize a Dataset with 4 parallel tasks\n"
     ]
    }
   ],
   "source": [
    "study = D.Dataset(run_dir=run_dir,num_tasks=4,verbose=True)\n",
    "study.set_postprocessing_function(PP.yambo_parse_data)\n",
    "\n",
    "idd = 'allBz_ppa_dg-ngsblkxs_%s-bndsrnxs_%s-gbndrnge_%s'%(NGsBlkXs_conv,BndsRnXs_conv[1],GbndRnge_conv[1])\n",
    "study.append_run(id=idd,input=inp,runner=code,jobname = [idd,'ndb_cutoff_rim_dipoles_hf','ndb_pp_dg_ngsblkxs_600-bndsrnxs_300','ndb_double_grid'])"
   ]
  },
  {
   "cell_type": "code",
   "execution_count": null,
   "metadata": {},
   "outputs": [],
   "source": [
    "study.runs[0]"
   ]
  },
  {
   "cell_type": "code",
   "execution_count": 26,
   "metadata": {},
   "outputs": [
    {
     "name": "stdout",
     "output_type": "stream",
     "text": [
      "Run the selection [0] with the parallel task_groups [[0]] \n",
      "\n",
      "Run the task [0] \n",
      "run performed starting from existing results\n",
      "run command: mpirun -np 32 yambo -F allBz_ppa_dg-ngsblkxs_600-bndsrnxs_300-gbndrnge_300.in -J \"allBz_ppa_dg-ngsblkxs_600-bndsrnxs_300-gbndrnge_300,ndb_cutoff_rim_dipoles_hf,ndb_pp_dg_ngsblkxs_600-bndsrnxs_300,ndb_double_grid\" -C allBz_ppa_dg-ngsblkxs_600-bndsrnxs_300-gbndrnge_300\n",
      "slurm submit:  cd GW_HF_analysis/kpoints_60-nbnds_700 ; sbatch job_allBz_ppa_dg-ngsblkxs_600-bndsrnxs_300-gbndrnge_300.sh\n",
      "computation allBz_ppa_dg-ngsblkxs_600-bndsrnxs_300-gbndrnge_300 ended\n",
      "Run performed in 05h-26m\n",
      "Task [0] ended \n",
      " \n"
     ]
    }
   ],
   "source": [
    "results = study.run()"
   ]
  },
  {
   "cell_type": "markdown",
   "metadata": {},
   "source": [
    "## Ypp analysis"
   ]
  },
  {
   "cell_type": "markdown",
   "metadata": {},
   "source": [
    "We use the previous results to compute the GW correction of the band structure along a high symmetry path."
   ]
  },
  {
   "cell_type": "code",
   "execution_count": 4,
   "metadata": {},
   "outputs": [
    {
     "name": "stdout",
     "output_type": "stream",
     "text": [
      "Initialize a Yambo calculator with scheduler slurm\n"
     ]
    },
    {
     "data": {
      "text/plain": [
       "{'scheduler': 'slurm',\n",
       " 'nodes': 1,\n",
       " 'ntasks_per_node': 16,\n",
       " 'cpus_per_task': 2,\n",
       " 'omp_num_threads': 2,\n",
       " 'gpus_per_node': None,\n",
       " 'memory': '124000',\n",
       " 'time': None,\n",
       " 'partition': 'all12h',\n",
       " 'account': None,\n",
       " 'qos': None,\n",
       " 'map_by': None,\n",
       " 'pe': 1,\n",
       " 'rank_by': None,\n",
       " 'executable': 'ypp',\n",
       " 'skip': True,\n",
       " 'clean_restart': True,\n",
       " 'dry_run': False,\n",
       " 'wait_end_run': True,\n",
       " 'activate_BeeOND': True,\n",
       " 'verbose': True}"
      ]
     },
     "execution_count": 4,
     "metadata": {},
     "output_type": "execute_result"
    }
   ],
   "source": [
    "# RunRules for ismhpc\n",
    "# The product of ntasks_per_node*cpus_per_task is equal to 32. \n",
    "# Many mpi are needed for better performances\n",
    "nodes = 1\n",
    "ntasks_per_node = 16\n",
    "cpus_per_task=2\n",
    "omp_num_threads=2\n",
    "\n",
    "ntasks = nodes*ntasks_per_node\n",
    "\n",
    "rr = C.RunRules(scheduler='slurm',partition='all12h', #fastnodes\n",
    "                memory='124000',\n",
    "                nodes=nodes,ntasks_per_node=ntasks_per_node,\n",
    "                cpus_per_task=cpus_per_task,\n",
    "                omp_num_threads=omp_num_threads)\n",
    "code = C.YamboCalculator(rr,executable='ypp',activate_BeeOND=True) #,clean_restart=False,skip=False)\n",
    "code.global_options()"
   ]
  },
  {
   "cell_type": "code",
   "execution_count": 5,
   "metadata": {},
   "outputs": [],
   "source": [
    "run_dir = 'GW_HF_analysis/kpoints_60-nbnds_700/'\n",
    "SAVE_bands = os.path.abspath('DFT_analysis/bands.save')\n",
    "ndbQP = 'allBz_ppa_dg-ngsblkxs_600-bndsrnxs_300-gbndrnge_300/ndb.QP'"
   ]
  },
  {
   "cell_type": "code",
   "execution_count": 19,
   "metadata": {},
   "outputs": [
    {
     "data": {
      "text/plain": [
       "{'args': 'mpirun -np 1 ypp -s b -V qp',\n",
       " 'folder': 'GW_HF_analysis/kpoints_60-nbnds_700/',\n",
       " 'filename': 'ypp.in',\n",
       " 'arguments': [],\n",
       " 'variables': {'INTERP_Shell_Fac': [20.0, ''],\n",
       "  'INTERP_NofNN': [1.0, ''],\n",
       "  'OutputAlat': [0.0, ''],\n",
       "  'BANDS_steps': [40, ''],\n",
       "  'GfnQP_INTERP_NN': [1.0, ''],\n",
       "  'GfnQP_INTERP_shells': [20.0, ''],\n",
       "  'GfnQP_Wv_E': [0.0, 'eV'],\n",
       "  'GfnQP_Wv_dos': [0.0, 'eV'],\n",
       "  'GfnQP_Wc_E': [0.0, 'eV'],\n",
       "  'GfnQP_Wc_dos': [0.0, 'eV'],\n",
       "  'PROJECT_mode': 'none',\n",
       "  'INTERP_mode': 'BOLTZ',\n",
       "  'cooIn': 'rlu',\n",
       "  'cooOut': 'rlu',\n",
       "  'CIRCUIT_E_DB_path': '/work/dalessandro/2D_ELECTRONIC_OPTICAL_PROPERTIES/GERMANENE/DFT_analysis/bands.save',\n",
       "  'GfnQPdb': 'E < allBz_ppa_dg-ngsblkxs_600-bndsrnxs_300-gbndrnge_300/ndb.QP',\n",
       "  'GfnQP_DbGd_INTERP_mode': 'BOLTZ',\n",
       "  'GfnQP_Z': [(1+0j), ''],\n",
       "  'BANDS_bands': [[25, 32], ''],\n",
       "  'GfnQP_E': [[0.0, 1.0, 1.0], ''],\n",
       "  'GfnQP_Wv': [[0.0, 0.0, 0.0], ''],\n",
       "  'GfnQP_Wc': [[0.0, 0.0, 0.0], '']}}"
      ]
     },
     "execution_count": 19,
     "metadata": {},
     "output_type": "execute_result"
    }
   ],
   "source": [
    "band_range = [25,32]\n",
    "bands_step = 40\n",
    "#alat = 7.6441\n",
    "\n",
    "G = [0.,0.,0.]\n",
    "Kp = [1./3.,1./np.sqrt(3),0.]\n",
    "Mp = [0.,1./np.sqrt(3),0.]\n",
    "# in crystal coordinates\n",
    "Kp = [1./3.,1./3.,0.]\n",
    "Mp = [0.,0.5,0.]\n",
    "\n",
    "high_sym = {'G':G,'K':Kp,'M':Mp} # useful to label the high-sym point on the path\n",
    "path = [G,Mp,Kp,G]\n",
    "\n",
    "inp = I.YamboInput(args='mpirun -np 1 ypp -s b -V qp',folder=run_dir,filename='ypp.in')\n",
    "inp['variables']['BANDS_bands'] = [band_range,'']\n",
    "inp['variables']['BANDS_steps'] = [bands_step,'']\n",
    "#inp['variables']['BANDS_kpts'] = [path,'']\n",
    "inp['variables']['CIRCUIT_E_DB_path'] = SAVE_bands\n",
    "inp['variables']['cooIn'] = 'rlu'\n",
    "inp['variables']['cooOut'] = 'rlu'\n",
    "\n",
    "inp['variables']['GfnQPdb']= 'E < %s'%ndbQP\n",
    "inp['variables']['INTERP_mode'] = 'BOLTZ'\n",
    "inp['variables']['INTERP_Shell_Fac'] = [20.0,'']\n",
    "inp['variables']['GfnQP_DbGd_INTERP_mode'] = 'BOLTZ'\n",
    "inp['variables']['GfnQP_INTERP_shells'] = [20.0,'']\n",
    "#inp['variables']['INTERP_NofNN'] = [1.0,'']\n",
    "inp"
   ]
  },
  {
   "cell_type": "code",
   "execution_count": 20,
   "metadata": {},
   "outputs": [
    {
     "name": "stdout",
     "output_type": "stream",
     "text": [
      "Initialize a Dataset with 1 parallel tasks\n"
     ]
    }
   ],
   "source": [
    "study = D.Dataset(run_dir=run_dir,num_tasks=1,verbose=True,skip=False)\n",
    "idd = 'ypp_bands_gw_db_boltz'\n",
    "study.append_run(id=idd,input=inp,runner=code)"
   ]
  },
  {
   "cell_type": "code",
   "execution_count": 21,
   "metadata": {},
   "outputs": [
    {
     "name": "stdout",
     "output_type": "stream",
     "text": [
      "Run the selection [0] with the parallel task_groups [[0]] \n",
      "\n",
      "Run the task [0] \n",
      "delete job_out script: GW_HF_analysis/kpoints_60-nbnds_700/job_ypp_bands_gw_db_boltz.out\n",
      "delete folder: GW_HF_analysis/kpoints_60-nbnds_700/ypp_bands_gw_db_boltz\n",
      "run command: mpirun -np 16 ypp -F ypp_bands_gw_db_boltz.in -J ypp_bands_gw_db_boltz -C ypp_bands_gw_db_boltz\n",
      "slurm submit:  cd GW_HF_analysis/kpoints_60-nbnds_700/ ; sbatch job_ypp_bands_gw_db_boltz.sh\n",
      "computation ypp_bands_gw_db_boltz is running...\n",
      "computation ypp_bands_gw_db_boltz ended\n",
      "Run performed in 27s\n",
      "Task [0] ended \n",
      " \n"
     ]
    }
   ],
   "source": [
    "results = study.run()"
   ]
  },
  {
   "cell_type": "code",
   "execution_count": 22,
   "metadata": {},
   "outputs": [],
   "source": [
    "#bands = U.BandStructure.from_Ypp(results[0],high_sym,suffix='bands_from_DB')\n",
    "#suffix = 'bands_from_DB'#'bands_interpolated'\n",
    "bands_dft = U.BandStructure.from_Ypp(results[0],high_sym,suffix='bands_from_DB')\n",
    "bands_gw = U.BandStructure.from_Ypp(results[0],high_sym,suffix='bands_interpolated')"
   ]
  },
  {
   "cell_type": "code",
   "execution_count": 34,
   "metadata": {},
   "outputs": [
    {
     "data": {
      "text/plain": [
       "Text(0.5, 1.0, 'Germanene GW bands')"
      ]
     },
     "execution_count": 34,
     "metadata": {},
     "output_type": "execute_result"
    },
    {
     "data": {
      "image/png": "[encoded data removed]",
      "text/plain": [
       "<Figure size 720x504 with 1 Axes>"
      ]
     },
     "metadata": {
      "needs_background": "light"
     },
     "output_type": "display_data"
    }
   ],
   "source": [
    "fig, ax = plt.subplots(figsize=(10, 7))\n",
    "bands_dft.plot(plt,selection=[0,2,3,4],linestyle='--')\n",
    "bands_gw.plot(plt,selection=[0,2,3,4],linestyle='-')\n",
    "#plt.ylim(-1,1)\n",
    "plt.title('Germanene GW bands',size=16)"
   ]
  },
  {
   "cell_type": "code",
   "execution_count": 24,
   "metadata": {},
   "outputs": [
    {
     "data": {
      "text/plain": [
       "Text(0.5, 1.0, 'Germanene GW bands close to K')"
      ]
     },
     "execution_count": 24,
     "metadata": {},
     "output_type": "execute_result"
    },
    {
     "data": {
      "image/png": "[encoded data removed]",
      "text/plain": [
       "<Figure size 720x504 with 1 Axes>"
      ]
     },
     "metadata": {
      "needs_background": "light"
     },
     "output_type": "display_data"
    }
   ],
   "source": [
    "K_pos = bands_gw.get_high_sym_positions()[1][2]\n",
    "dk = 0.08\n",
    "\n",
    "fig, ax = plt.subplots(figsize=(10, 7))\n",
    "bands_dft.plot(plt,selection=[2,4],linestyle='--')\n",
    "bands_gw.plot(plt,selection=[2,4])\n",
    "ax.set_xlim(K_pos-dk,K_pos+dk)\n",
    "ax.set_ylim(-0.2,0.2)\n",
    "plt.title('Germanene GW bands close to K',size=16)"
   ]
  },
  {
   "cell_type": "code",
   "execution_count": 25,
   "metadata": {},
   "outputs": [
    {
     "data": {
      "text/plain": [
       "(23.92724160000001, 166.05915679999998)"
      ]
     },
     "execution_count": 25,
     "metadata": {},
     "output_type": "execute_result"
    }
   ],
   "source": [
    "Kp_ind = 120\n",
    "gap_dft = 1e3*(bands_dft.bands[4][Kp_ind]-bands_dft.bands[3][Kp_ind])\n",
    "gap_gw = 1e3*(bands_gw.bands[4][Kp_ind]-bands_gw.bands[3][Kp_ind])\n",
    "gap_dft,gap_gw"
   ]
  },
  {
   "cell_type": "code",
   "execution_count": null,
   "metadata": {},
   "outputs": [],
   "source": []
  },
  {
   "cell_type": "code",
   "execution_count": null,
   "metadata": {},
   "outputs": [],
   "source": []
  },
  {
   "cell_type": "code",
   "execution_count": null,
   "metadata": {},
   "outputs": [],
   "source": [
    "for ind,k in enumerate(bands_dft.kpoints):\n",
    "    print(ind,k)"
   ]
  },
  {
   "cell_type": "code",
   "execution_count": null,
   "metadata": {},
   "outputs": [],
   "source": []
  },
  {
   "cell_type": "code",
   "execution_count": null,
   "metadata": {},
   "outputs": [],
   "source": []
  },
  {
   "cell_type": "code",
   "execution_count": null,
   "metadata": {},
   "outputs": [],
   "source": []
  }
 ],
 "metadata": {
  "kernelspec": {
   "display_name": "Python 3",
   "language": "python",
   "name": "python3"
  },
  "language_info": {
   "codemirror_mode": {
    "name": "ipython",
    "version": 3
   },
   "file_extension": ".py",
   "mimetype": "text/x-python",
   "name": "python",
   "nbconvert_exporter": "python",
   "pygments_lexer": "ipython3",
   "version": "3.6.8"
  }
 },
 "nbformat": 4,
 "nbformat_minor": 4
}
