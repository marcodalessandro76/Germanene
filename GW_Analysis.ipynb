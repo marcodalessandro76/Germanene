{
 "cells": [
  {
   "cell_type": "code",
   "execution_count": 1,
   "id": "1fbe3172-363c-4e1b-b7a5-1a3acdd77ee5",
   "metadata": {},
   "outputs": [],
   "source": [
    "# useful to autoreload the module without restarting the kernel\n",
    "%load_ext autoreload\n",
    "%autoreload 2"
   ]
  },
  {
   "cell_type": "code",
   "execution_count": 2,
   "id": "37b08cbe-0e78-4329-ab55-156297b3ba6a",
   "metadata": {},
   "outputs": [],
   "source": [
    "from mppi import InputFiles as I, Calculators as C, Datasets as D, Parsers as P, Utilities as U\n",
    "from mppi.Calculators import Tools\n",
    "from mppi.Datasets import PostProcessing as PP\n",
    "from mppi.Utilities import Constants as Const\n",
    "from mppi.Utilities import LatticeUtils as LL\n",
    "import matplotlib.pyplot as plt\n",
    "import numpy as np\n",
    "import os, yaml"
   ]
  },
  {
   "cell_type": "code",
   "execution_count": 3,
   "id": "5ae5d420-4750-4595-9695-c836509133f0",
   "metadata": {},
   "outputs": [
    {
     "name": "stdout",
     "output_type": "stream",
     "text": [
      "Initialize a Yambo calculator with scheduler slurm\n"
     ]
    },
    {
     "data": {
      "text/plain": [
       "{'scheduler': 'slurm',\n",
       " 'nodes': 1,\n",
       " 'ntasks_per_node': 4,\n",
       " 'cpus_per_task': 8,\n",
       " 'omp_num_threads': 8,\n",
       " 'gpus_per_node': None,\n",
       " 'gres_gpu': 4,\n",
       " 'memory': None,\n",
       " 'time': '23:59:00',\n",
       " 'partition': 'boost_usr_prod',\n",
       " 'account': 'IscrC_AGSL5',\n",
       " 'qos': None,\n",
       " 'omp_places': 'cores',\n",
       " 'omp_proc_bind': 'close',\n",
       " 'map_by': 'socket',\n",
       " 'pe': 8,\n",
       " 'rank_by': 'core',\n",
       " 'pre_processing': '/leonardo/home/userexternal/mdaless1/module_script/yambo-5.3.0_gpu',\n",
       " 'executable': 'yambo',\n",
       " 'skip': True,\n",
       " 'clean_restart': True,\n",
       " 'dry_run': False,\n",
       " 'wait_end_run': True,\n",
       " 'activate_BeeOND': False,\n",
       " 'verbose': True,\n",
       " 'fatlog': False}"
      ]
     },
     "execution_count": 3,
     "metadata": {},
     "output_type": "execute_result"
    }
   ],
   "source": [
    "# RunRules for leonardo\n",
    "nodes = 1\n",
    "ntasks_per_node = 4\n",
    "cpus_per_task = 8\n",
    "omp_num_threads = 8\n",
    "gres_gpu=4\n",
    "pe=8\n",
    "module = '/leonardo/home/userexternal/mdaless1/module_script/yambo-5.3.0_gpu'\n",
    "\n",
    "ntasks = nodes*ntasks_per_node\n",
    "\n",
    "rr = C.RunRules(scheduler='slurm',partition='boost_usr_prod',\n",
    "                account='IscrC_AGSL5',\n",
    "                time='23:59:00', #memory='120GB',\n",
    "                nodes=nodes,ntasks_per_node=ntasks_per_node,\n",
    "                cpus_per_task=cpus_per_task,omp_num_threads=omp_num_threads,\n",
    "                gres_gpu=gres_gpu,omp_places='cores',omp_proc_bind='close',pe=pe,\n",
    "                map_by='socket',rank_by='core',pre_processing=module)\n",
    "code = C.YamboCalculator(rr)\n",
    "code.global_options()"
   ]
  },
  {
   "cell_type": "markdown",
   "id": "62a05203-67d5-44c8-8c4c-4720b398593c",
   "metadata": {
    "tags": []
   },
   "source": [
    "# GW convergence analysis for the Germanene monolayer"
   ]
  },
  {
   "cell_type": "markdown",
   "id": "a5d75c19-6c06-4743-8d99-8f14f0c29681",
   "metadata": {},
   "source": [
    "We perform a convergence study for the GW runlevel"
   ]
  },
  {
   "cell_type": "markdown",
   "id": "60ebf4dc-eae4-4597-a503-02ddf6592741",
   "metadata": {},
   "source": [
    "## HF Analysis"
   ]
  },
  {
   "cell_type": "markdown",
   "id": "7cc40fff-b4a2-4bed-a205-a1f1af238ec5",
   "metadata": {},
   "source": [
    "# At this stage we do not repeat the convergence tests on the rim and Coulomb cutoff and we directly set\n",
    "the values of the converged parameters as\n",
    "\n",
    "* RandGVec = 200\n",
    "* RandQPpts = 5000000"
   ]
  },
  {
   "cell_type": "markdown",
   "id": "b4fd0c77-8c08-4052-8f97-f77006a92049",
   "metadata": {
    "tags": []
   },
   "source": [
    "### HF convergence analysis for the cutoff in the exchange term"
   ]
  },
  {
   "cell_type": "markdown",
   "id": "3218c48a-3519-4e6b-935b-c04145274390",
   "metadata": {},
   "source": [
    "We study the convergence of the HF calculations in terms of the cutoff in the exchange term.\n",
    "\n",
    "This analysis is performed with a 30x30x1 k-points sampling using the converged results for RIM and Coulomb cutoff.\n",
    "\n",
    "__Note that we apply the cutoff on both EXXRLvcs and VXCRLvcs variables, since their values are subtracted__"
   ]
  },
  {
   "cell_type": "code",
   "execution_count": 4,
   "id": "991e9111-f697-4ded-bade-594bd46c284b",
   "metadata": {},
   "outputs": [
    {
     "name": "stdout",
     "output_type": "stream",
     "text": [
      "SAVE folder GW_analysis/kpoints_30-nbnds_30/SAVE already present. No operations performed.\n"
     ]
    }
   ],
   "source": [
    "input_dir = 'DFT_analysis/kpoints_30-nbnds_30.save'\n",
    "run_dir = 'GW_analysis/kpoints_30-nbnds_30'\n",
    "\n",
    "Tools.init_yambo_dir(yambo_dir=run_dir,input_dir=input_dir)"
   ]
  },
  {
   "cell_type": "markdown",
   "id": "73fcf4d7-39a9-46fc-8d96-a5c80f7b8b1d",
   "metadata": {},
   "source": [
    "We the define the input variables commmon to all the runs"
   ]
  },
  {
   "cell_type": "code",
   "execution_count": 5,
   "id": "cec1c378-462e-4004-a35e-7e68cd1b4f82",
   "metadata": {},
   "outputs": [
    {
     "data": {
      "text/plain": [
       "{'args': 'mpirun -np 1 yambo -r -x -V all',\n",
       " 'folder': 'GW_analysis/kpoints_30-nbnds_30',\n",
       " 'filename': 'yambo.in',\n",
       " 'arguments': ['rim_cut', 'HF_and_locXC'],\n",
       " 'variables': {'StdoHash': [40.0, ''],\n",
       "  'Nelectro': [28.0, ''],\n",
       "  'ElecTemp': [0.0, 'eV'],\n",
       "  'BoseTemp': [-1.0, 'eV'],\n",
       "  'OccTresh': [1e-05, ''],\n",
       "  'NLogCPUs': [0.0, ''],\n",
       "  'MEM_tresh': [63818.0, 'Kb'],\n",
       "  'FFTGvecs': [14975.0, 'RL'],\n",
       "  'SE_Threads': [0.0, ''],\n",
       "  'RandQpts': [5000000.0, ''],\n",
       "  'RandGvec': [200, 'RL'],\n",
       "  'IDEm1Ref': [0.0, ''],\n",
       "  'CUTRadius': [0.0, ''],\n",
       "  'CUTCylLen': [0.0, ''],\n",
       "  'CUTwsGvec': [0.7, ''],\n",
       "  'EXXRLvcs': [100555.0, 'RL'],\n",
       "  'VXCRLvcs': [100555.0, 'RL'],\n",
       "  'DBsIOoff': 'none',\n",
       "  'DBsFRAGpm': 'none',\n",
       "  'PAR_def_mode': 'balanced',\n",
       "  'CUTGeo': 'slab z',\n",
       "  'Em1Anys': [[0.0, 0.0, 0.0], ''],\n",
       "  'CUTBox': [[0.0, 0.0, 0.0], ''],\n",
       "  'QPkrange': [[1, 91, 28, 29], ''],\n",
       "  'QPerange': [[1, 91, 0.0, '-1.000000'], '']}}"
      ]
     },
     "execution_count": 5,
     "metadata": {},
     "output_type": "execute_result"
    }
   ],
   "source": [
    "start_band,stop_band = 28,29 # bands range for the computation of the HF corrections\n",
    "Gamma_index, K_index = 1, 91\n",
    "RandGvec = 200\n",
    "Randqpts = 5e6\n",
    "EXXRLVcs_units = 'Ha'\n",
    "\n",
    "inp = I.YamboInput(args='mpirun -np 1 yambo -r -x -V all',folder=run_dir)\n",
    "inp.set_scalar_variables(CUTGeo='slab z')\n",
    "inp.set_bandRange(start_band,stop_band)\n",
    "inp.set_array_variables(RandQpts=Randqpts)\n",
    "inp.set_array_variables(units='RL',RandGvec=RandGvec)\n",
    "inp"
   ]
  },
  {
   "cell_type": "markdown",
   "id": "7a53a018-0ad6-4b5b-ad34-c6673ec84726",
   "metadata": {},
   "source": [
    "We perform a convergence run on the EXXRLvcs parameter"
   ]
  },
  {
   "cell_type": "code",
   "execution_count": 6,
   "id": "e7d17af3-3499-427d-af5f-7f0a5484c106",
   "metadata": {},
   "outputs": [
    {
     "name": "stdout",
     "output_type": "stream",
     "text": [
      "Initialize a Dataset with 12 parallel tasks\n"
     ]
    }
   ],
   "source": [
    "study = D.Dataset(run_dir=run_dir,num_tasks=12,verbose=True)\n",
    "study.set_postprocessing_function(PP.yambo_parse_data)\n",
    "\n",
    "EXXRLvcs = [10.,20.,30.,40.,50.,60.] # Ha\n",
    "\n",
    "# append runs for the Gamma point\n",
    "for exxrlvcs in EXXRLvcs:\n",
    "    idd = 'hf-G-exxrlvcs_%s'%exxrlvcs\n",
    "    inp.set_kRange(Gamma_index,Gamma_index)\n",
    "    inp.set_array_variables(units=EXXRLVcs_units,EXXRLvcs=exxrlvcs,VXCRLvcs=exxrlvcs)\n",
    "    study.append_run(id=idd,input=inp,runner=code,jobname =idd)\n",
    "\n",
    "# append runs for the K point\n",
    "for exxrlvcs in EXXRLvcs:\n",
    "    idd = 'hf-K-exxrlvcs_%s'%exxrlvcs\n",
    "    inp.set_kRange(K_index,K_index)\n",
    "    inp.set_array_variables(units=EXXRLVcs_units,EXXRLvcs=exxrlvcs,VXCRLvcs=exxrlvcs)\n",
    "    study.append_run(id=idd,input=inp,runner=code,jobname =idd)"
   ]
  },
  {
   "cell_type": "code",
   "execution_count": 7,
   "id": "963bdb61-053f-4e32-9d79-a35c8c4d4bee",
   "metadata": {},
   "outputs": [],
   "source": [
    "#study.runs[8]"
   ]
  },
  {
   "cell_type": "code",
   "execution_count": 8,
   "id": "5fd16b8f-7bd6-4195-aca3-7f7f22fa2f88",
   "metadata": {},
   "outputs": [
    {
     "name": "stdout",
     "output_type": "stream",
     "text": [
      "Run the selection [0, 1, 2, 3, 4, 5, 6, 7, 8, 9, 10, 11] with the parallel task_groups [[0, 1, 2, 3, 4, 5, 6, 7, 8, 9, 10, 11]] \n",
      "\n",
      "Run the task [0, 1, 2, 3, 4, 5, 6, 7, 8, 9, 10, 11] \n",
      "Skip the run of hf-G-exxrlvcs_50.0Skip the run of\n",
      " hf-G-exxrlvcs_60.0Skip the run of\n",
      " hf-G-exxrlvcs_30.0\n",
      "Skip the run of Skip the run ofhf-K-exxrlvcs_10.0 \n",
      "hf-G-exxrlvcs_20.0\n",
      "Skip the run ofSkip the run of hf-K-exxrlvcs_60.0 \n",
      "hf-G-exxrlvcs_40.0\n",
      "Skip the run ofSkip the run of hf-K-exxrlvcs_40.0 \n",
      "hf-K-exxrlvcs_20.0\n",
      "Skip the run of hf-K-exxrlvcs_30.0\n",
      "Skip the run of hf-G-exxrlvcs_10.0\n",
      "MPI startup(): Warning: I_MPI_PMI_LIBRARY will be ignored since the hydra process manager was found\n",
      "MPI startup(): Warning: I_MPI_PMI_LIBRARY will be ignored since the hydra process manager was found\n",
      "MPI startup(): Warning: I_MPI_PMI_LIBRARY will be ignored since the hydra process manager was found\n",
      "MPI startup(): Warning: I_MPI_PMI_LIBRARY will be ignored since the hydra process manager was found\n",
      "MPI startup(): Warning: I_MPI_PMI_LIBRARY will be ignored since the hydra process manager was found\n",
      "MPI startup(): Warning: I_MPI_PMI_LIBRARY will be ignored since the hydra process manager was found\n",
      "MPI startup(): Warning: I_MPI_PMI_LIBRARY will be ignored since the hydra process manager was found\n",
      "MPI startup(): Warning: I_MPI_PMI_LIBRARY will be ignored since the hydra process manager was found\n",
      "MPI startup(): Warning: I_MPI_PMI_LIBRARY will be ignored since the hydra process manager was found\n",
      "MPI startup(): Warning: I_MPI_PMI_LIBRARY will be ignored since the hydra process manager was found\n",
      "MPI startup(): Warning: I_MPI_PMI_LIBRARY will be ignored since the hydra process manager was found\n",
      "Skip the run of hf-K-exxrlvcs_50.0\n",
      "MPI startup(): Warning: I_MPI_PMI_LIBRARY will be ignored since the hydra process manager was found\n",
      "Task [0, 1, 2, 3, 4, 5, 6, 7, 8, 9, 10, 11] ended \n",
      " \n"
     ]
    }
   ],
   "source": [
    "results = study.run()"
   ]
  },
  {
   "cell_type": "markdown",
   "id": "92bff436-f7bd-4ab1-bf8d-6fd5f8d920b1",
   "metadata": {},
   "source": [
    "We plot the values of the gap (both at $\\Gamma$ and at $K$) point"
   ]
  },
  {
   "cell_type": "code",
   "execution_count": 9,
   "id": "cfe477bf-e265-43b0-80b5-1f70c651c813",
   "metadata": {},
   "outputs": [],
   "source": [
    "results_G, results_K = study.fetch_results(id='-G-'),study.fetch_results(id='-K-')\n",
    "gap_G = [r.data.get_gap(k_full=Gamma_index,band_full=start_band,verbose=False) for r in results_G]\n",
    "gap_K = [r.data.get_gap(k_full=K_index,band_full=start_band,verbose=False) for r in results_K]\n",
    "#gap_G,gap_K"
   ]
  },
  {
   "cell_type": "code",
   "execution_count": 10,
   "id": "c62071d3-3e1d-4e7b-8ed0-411b265fa466",
   "metadata": {},
   "outputs": [
    {
     "data": {
      "image/png": "[encoded data removed]",
      "text/plain": [
       "<Figure size 1200x500 with 2 Axes>"
      ]
     },
     "metadata": {},
     "output_type": "display_data"
    }
   ],
   "source": [
    "fig, axes = plt.subplots(nrows=1, ncols=2, figsize=(12, 5))\n",
    "axes[0].plot(EXXRLvcs,gap_G)\n",
    "axes[0].scatter(EXXRLvcs,gap_G)\n",
    "axes[0].set_title('Gap at Gamma',size=14)\n",
    "axes[0].set_xlabel('EXXRLvcs (Ha)',size=14)\n",
    "axes[1].plot(EXXRLvcs, gap_K)\n",
    "axes[1].scatter(EXXRLvcs,gap_K)\n",
    "axes[1].set_title('Gap at K',size=14)\n",
    "axes[1].set_xlabel('EXXRLvcs (Ha)',size=14)\n",
    "fig.tight_layout()"
   ]
  },
  {
   "cell_type": "markdown",
   "id": "360f017e-d072-4177-9239-6b3a6f8f13c1",
   "metadata": {},
   "source": [
    "On the basis of this analysis we choose the converged value of the cutoff for exchange as\n",
    "\n",
    "EXXRLvcs = 50 Ha"
   ]
  },
  {
   "cell_type": "markdown",
   "id": "ad773427-39fa-4b91-b2dc-0494c101aced",
   "metadata": {
    "tags": []
   },
   "source": [
    "### HF Analysis in function of the k-points sampling"
   ]
  },
  {
   "cell_type": "markdown",
   "id": "58bcfa33-e726-4fa7-9e8b-4e207c7cbf2d",
   "metadata": {},
   "source": [
    "We test the convergence of the HF gap at $K$ and at the $\\Gamma$ points in funciont of the dimension of the $k$-points sampling.\n",
    "\n",
    "The converged parameters for the RIM and Coulomb cutoff and for the cutoff on the exchange derived in the previous analysis will be used."
   ]
  },
  {
   "cell_type": "code",
   "execution_count": 11,
   "id": "b4b3ec3a-ef80-4238-8c3c-46f364d54f98",
   "metadata": {},
   "outputs": [],
   "source": [
    "RandQpts = 5000000\n",
    "RandGvec = 200 \n",
    "\n",
    "start_band,stop_band = 28,29 # bands range for the computation of the HF corrections\n",
    "Gamma_index = {18:1,30:1,42:1,60:1,72:1,81:1}\n",
    "K_index = {30:91,42:169,60:331,72:469,81:588}\n",
    "\n",
    "EXXRLvcs = 50. # Ha\n",
    "EXXRLVcs_units = 'Ha'"
   ]
  },
  {
   "cell_type": "code",
   "execution_count": 25,
   "id": "645f3b1c-8d5f-44f9-b3bc-c49e836ded01",
   "metadata": {},
   "outputs": [],
   "source": [
    "kpoints = [30,42,60,72,81]"
   ]
  },
  {
   "cell_type": "code",
   "execution_count": 26,
   "id": "ce14d2e5-50f8-4b52-90e7-239e605b9aa4",
   "metadata": {},
   "outputs": [
    {
     "name": "stdout",
     "output_type": "stream",
     "text": [
      "Initialize a Dataset with 10 parallel tasks\n",
      "SAVE folder GW_analysis/kpoints_30-nbnds_30/SAVE already present. No operations performed.\n",
      "SAVE folder GW_analysis/kpoints_42-nbnds_30/SAVE already present. No operations performed.\n",
      "SAVE folder GW_analysis/kpoints_60-nbnds_30/SAVE already present. No operations performed.\n",
      "SAVE folder GW_analysis/kpoints_72-nbnds_30/SAVE already present. No operations performed.\n",
      "SAVE folder GW_analysis/kpoints_81-nbnds_30/SAVE already present. No operations performed.\n"
     ]
    }
   ],
   "source": [
    "study = D.Dataset(num_tasks=10,verbose=True)\n",
    "study.set_postprocessing_function(PP.yambo_parse_data)\n",
    "\n",
    "for k in kpoints:\n",
    "    input_dir = 'DFT_analysis/kpoints_%s-nbnds_30.save'%k\n",
    "    run_dir = 'GW_analysis/kpoints_%s-nbnds_30'%k\n",
    "    Tools.init_yambo_dir(yambo_dir=run_dir,input_dir=input_dir,p2y_command='OMP_NUM_THREADS=1 mpirun -np 1 p2y',yambo_command='OMP_NUM_THREADS=1 mpirun -np 1 yambo')\n",
    "    \n",
    "    inp = I.YamboInput(args='mpirun -np 1 yambo -r -x -V all',folder=run_dir)\n",
    "    inp.set_array_variables(units=EXXRLVcs_units,EXXRLvcs=EXXRLvcs,VXCRLvcs=EXXRLvcs)\n",
    "    inp.set_bandRange(start_band,stop_band)\n",
    "    inp.set_scalar_variables(CUTGeo='slab z')\n",
    "    inp.set_array_variables(RandQpts=RandQpts)\n",
    "    inp.set_array_variables(units='RL',RandGvec=RandGvec)\n",
    "    inp.set_scalar_variables(SE_ROLEs='q.qp.b',SE_CPU='1.1.4') \n",
    "    \n",
    "    # append run at G\n",
    "    idd = 'hf-G-kpoints_%s'%k\n",
    "    inp.set_kRange(Gamma_index[k],Gamma_index[k])\n",
    "    study.append_run(id=idd,input=inp,runner=code,run_dir=run_dir,\n",
    "            jobname=[idd,'ndb_rim_cutoff'])\n",
    "    # append run at K\n",
    "    idd = 'hf-K-kpoints_%s'%k\n",
    "    inp.set_kRange(K_index[k],K_index[k])\n",
    "    study.append_run(id=idd,input=inp,runner=code,run_dir=run_dir,\n",
    "            jobname=[idd,'ndb_rim_cutoff'])"
   ]
  },
  {
   "cell_type": "code",
   "execution_count": 27,
   "id": "b6544032-a82d-479c-8161-777c527d135b",
   "metadata": {},
   "outputs": [],
   "source": [
    "#study.runs[1]"
   ]
  },
  {
   "cell_type": "code",
   "execution_count": null,
   "id": "43f26b82-9e9e-4841-b346-9134c9850701",
   "metadata": {},
   "outputs": [
    {
     "name": "stdout",
     "output_type": "stream",
     "text": [
      "Run the selection [0, 1, 2, 3, 4, 5, 6, 7, 8, 9] with the parallel task_groups [[0, 1, 2, 3, 4, 5, 6, 7, 8, 9]] \n",
      "\n",
      "Run the task [0, 1, 2, 3, 4, 5, 6, 7, 8, 9] \n",
      "Skip the run of hf-G-kpoints_30\n",
      "Skip the run of hf-G-kpoints_42\n",
      "Skip the run of hf-G-kpoints_72\n",
      "Skip the run of hf-G-kpoints_60\n",
      "Skip the run of hf-G-kpoints_81\n",
      "MPI startup(): Warning: I_MPI_PMI_LIBRARY will be ignored since the hydra process manager was found\n",
      "run command: mpirun -np 4 --map-by socket:PE=8 --rank-by core yambo -F hf-K-kpoints_30.in -J \"hf-K-kpoints_30,ndb_rim_cutoff\" -C hf-K-kpoints_30\n",
      "slurm submit:  run command: mpirun -np 4 --map-by socket:PE=8 --rank-by core yambo -F hf-K-kpoints_72.in -J \"hf-K-kpoints_72,ndb_rim_cutoff\" -C hf-K-kpoints_72cd GW_analysis/kpoints_30-nbnds_30 ; sbatch job_hf-K-kpoints_30.sh\n",
      "\n",
      "computation hf-K-kpoints_30 is running...slurm submit: \n",
      " cd GW_analysis/kpoints_72-nbnds_30 ; sbatch job_hf-K-kpoints_72.sh\n",
      "run command: mpirun -np 4 --map-by socket:PE=8 --rank-by core yambo -F hf-K-kpoints_81.in -J \"hf-K-kpoints_81,ndb_rim_cutoff\" -C hf-K-kpoints_81computation hf-K-kpoints_72 is running...\n",
      "\n",
      "slurm submit:  cd GW_analysis/kpoints_81-nbnds_30 ; sbatch job_hf-K-kpoints_81.sh\n",
      "computation hf-K-kpoints_81 is running...\n",
      "run command: mpirun -np 4 --map-by socket:PE=8 --rank-by core yambo -F hf-K-kpoints_60.in -J \"hf-K-kpoints_60,ndb_rim_cutoff\" -C hf-K-kpoints_60\n",
      "slurm submit:  cd GW_analysis/kpoints_60-nbnds_30 ; sbatch job_hf-K-kpoints_60.sh\n",
      "computation hf-K-kpoints_60 is running...\n",
      "run command: mpirun -np 4 --map-by socket:PE=8 --rank-by core yambo -F hf-K-kpoints_42.in -J \"hf-K-kpoints_42,ndb_rim_cutoff\" -C hf-K-kpoints_42\n",
      "slurm submit:  cd GW_analysis/kpoints_42-nbnds_30 ; sbatch job_hf-K-kpoints_42.sh\n",
      "computation hf-K-kpoints_42 is running...\n"
     ]
    }
   ],
   "source": [
    "results = study.run()"
   ]
  },
  {
   "cell_type": "code",
   "execution_count": 35,
   "id": "aeafbe32-d633-4c29-9ffa-4a662946003d",
   "metadata": {},
   "outputs": [
    {
     "data": {
      "text/plain": [
       "([3.924426, 3.869248, 3.86092, 3.860386, 3.860988],\n",
       " [1.058447, 0.906915, 0.858323, 0.8339890000000001, 0.828608])"
      ]
     },
     "execution_count": 35,
     "metadata": {},
     "output_type": "execute_result"
    }
   ],
   "source": [
    "results_G, results_K = study.fetch_results(id='-G-'),study.fetch_results(id='-K-')\n",
    "gap_G, gap_K = [],[]\n",
    "for ind,k in enumerate(kpoints):\n",
    "    gap_G.append(results_G[ind].data.get_gap(k_full=Gamma_index[k],band_full=start_band,verbose=False))\n",
    "    gap_K.append(results_K[ind].data.get_gap(k_full=K_index[k],band_full=start_band,verbose=False))\n",
    "gap_G, gap_K"
   ]
  },
  {
   "cell_type": "code",
   "execution_count": 36,
   "id": "008a504e-6bbd-4f91-be1f-49e1e2519715",
   "metadata": {},
   "outputs": [
    {
     "data": {
      "image/png": "[encoded data removed]",
      "text/plain": [
       "<Figure size 864x360 with 2 Axes>"
      ]
     },
     "metadata": {
      "needs_background": "light"
     },
     "output_type": "display_data"
    }
   ],
   "source": [
    "fig, axes = plt.subplots(nrows=1, ncols=2, figsize=(12, 5))\n",
    "axes[0].plot(kpoints,gap_G)\n",
    "axes[0].scatter(kpoints,gap_G)\n",
    "axes[0].set_title('Gap at Gamma',size=14)\n",
    "axes[0].set_xlabel('k-sampling',size=14)\n",
    "axes[1].plot(kpoints, gap_K)\n",
    "axes[1].scatter(kpoints,gap_K)\n",
    "axes[1].set_title('Gap at K',size=14)\n",
    "axes[1].set_xlabel('k-sampling',size=14)\n",
    "fig.tight_layout()"
   ]
  },
  {
   "cell_type": "markdown",
   "id": "9131fec4-565a-4a61-a2ce-2069fad87442",
   "metadata": {},
   "source": [
    "With the 60x60x1 sampling the HF gap both at $\\Gamma$ and at $K$ is converged at\n",
    "the level of 5 meV."
   ]
  },
  {
   "cell_type": "code",
   "execution_count": null,
   "id": "1afcd3fc-88c2-4cb6-b816-8cf27ab5b0e6",
   "metadata": {},
   "outputs": [],
   "source": []
  },
  {
   "cell_type": "code",
   "execution_count": null,
   "id": "724289c8-a8da-4f4c-aaa2-e8f6a1733366",
   "metadata": {},
   "outputs": [],
   "source": []
  },
  {
   "cell_type": "code",
   "execution_count": null,
   "id": "62830258-aeb9-4422-9c21-2ccb8bb799b9",
   "metadata": {},
   "outputs": [],
   "source": []
  },
  {
   "cell_type": "code",
   "execution_count": null,
   "id": "15724a0c-1d57-458d-ab8c-bb2b636a9caa",
   "metadata": {},
   "outputs": [],
   "source": []
  },
  {
   "cell_type": "code",
   "execution_count": null,
   "id": "126c4e5c-87ae-4a91-8962-a0904831ca01",
   "metadata": {},
   "outputs": [],
   "source": []
  },
  {
   "cell_type": "code",
   "execution_count": null,
   "id": "5448e723-aad8-4872-965b-b683bc9ab36a",
   "metadata": {},
   "outputs": [],
   "source": []
  }
 ],
 "metadata": {
  "kernelspec": {
   "display_name": "Python 3 (ipykernel)",
   "language": "python",
   "name": "python3"
  },
  "language_info": {
   "codemirror_mode": {
    "name": "ipython",
    "version": 3
   },
   "file_extension": ".py",
   "mimetype": "text/x-python",
   "name": "python",
   "nbconvert_exporter": "python",
   "pygments_lexer": "ipython3",
   "version": "3.10.8"
  }
 },
 "nbformat": 4,
 "nbformat_minor": 5
}
