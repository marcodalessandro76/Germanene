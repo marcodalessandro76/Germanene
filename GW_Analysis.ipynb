{
 "cells": [
  {
   "cell_type": "code",
   "execution_count": 1,
   "metadata": {},
   "outputs": [],
   "source": [
    "# useful to autoreload the module without restarting the kernel\n",
    "%load_ext autoreload\n",
    "%autoreload 2"
   ]
  },
  {
   "cell_type": "code",
   "execution_count": 2,
   "metadata": {},
   "outputs": [],
   "source": [
    "from mppi import InputFiles as I, Calculators as C, Datasets as D, Parsers as P, Utilities as U\n",
    "from mppi.Utilities import Tools\n",
    "from mppi.Datasets import PostProcessing as PP\n",
    "from mppi.Utilities import Constants as Const\n",
    "import matplotlib.pyplot as plt\n",
    "import numpy as np\n",
    "import os, yaml\n",
    "#import pybinding as pb"
   ]
  },
  {
   "cell_type": "code",
   "execution_count": 3,
   "metadata": {},
   "outputs": [
    {
     "name": "stdout",
     "output_type": "stream",
     "text": [
      "rsync -rLptgoDzv --exclude={'*_fragment_*','*_fragments_*','*wfc*','*.dat'} -e ssh ismhpc:/work/dalessandro/2D_ELECTRONIC_OPTICAL_PROPERTIES/GERMANENE/GW_HF_analysis/ '/m100_work/IscrC_XEXIN/Germanene/GW_HF_analysis'\n"
     ]
    }
   ],
   "source": [
    "dry_run = False\n",
    "rsync_str = \"rsync -rLptgoDzv --exclude={'*_fragment_*','*_fragments_*','*wfc*','*.dat'} \"\n",
    "if dry_run: rsync_str += '--dry-run '\n",
    "ssh_str = '-e ssh ismhpc:/work/dalessandro/2D_ELECTRONIC_OPTICAL_PROPERTIES/GERMANENE/GW_HF_analysis/ '\n",
    "dest_path = 'GW_HF_analysis'\n",
    "dest_path = os.path.abspath(dest_path)\n",
    "dest_path = \"'%s'\"%dest_path\n",
    "command = rsync_str+ssh_str+dest_path\n",
    "print(command)"
   ]
  },
  {
   "cell_type": "code",
   "execution_count": 14,
   "metadata": {},
   "outputs": [
    {
     "name": "stdout",
     "output_type": "stream",
     "text": [
      "Initialize a Yambo calculator with scheduler slurm\n"
     ]
    },
    {
     "data": {
      "text/plain": [
       "{'scheduler': 'slurm',\n",
       " 'nodes': 2,\n",
       " 'ntasks_per_node': 8,\n",
       " 'cpus_per_task': 4,\n",
       " 'omp_num_threads': 4,\n",
       " 'gpus_per_node': None,\n",
       " 'memory': '125000',\n",
       " 'time': None,\n",
       " 'partition': 'slownodes',\n",
       " 'account': None,\n",
       " 'qos': None,\n",
       " 'map_by': None,\n",
       " 'pe': 1,\n",
       " 'rank_by': None,\n",
       " 'executable': 'yambo',\n",
       " 'skip': True,\n",
       " 'clean_restart': True,\n",
       " 'dry_run': False,\n",
       " 'wait_end_run': True,\n",
       " 'activate_BeeOND': True,\n",
       " 'verbose': True}"
      ]
     },
     "execution_count": 14,
     "metadata": {},
     "output_type": "execute_result"
    }
   ],
   "source": [
    "# RunRules for ismhpc\n",
    "# The product of ntasks_per_node*cpus_per_task is equal to 32. \n",
    "# Many mpi are needed for better performances\n",
    "nodes = 2\n",
    "ntasks_per_node = 8 #16\n",
    "cpus_per_task= 4 #2\n",
    "omp_num_threads= 4 #2\n",
    "\n",
    "ntasks = nodes*ntasks_per_node\n",
    "\n",
    "rr = C.RunRules(scheduler='slurm',partition='slownodes',\n",
    "                memory='125000',\n",
    "                nodes=nodes,ntasks_per_node=ntasks_per_node,\n",
    "                cpus_per_task=cpus_per_task,\n",
    "                omp_num_threads=omp_num_threads)\n",
    "code = C.YamboCalculator(rr,activate_BeeOND=True) #,clean_restart=False,skip=False)\n",
    "code.global_options()"
   ]
  },
  {
   "cell_type": "code",
   "execution_count": null,
   "metadata": {},
   "outputs": [],
   "source": [
    "# RunRules for m100\n",
    "nodes = 8 # 32\n",
    "ntasks_per_node = 4\n",
    "cpus_per_task=32\n",
    "omp_num_threads=8\n",
    "gpus_per_node=4\n",
    "pe=8\n",
    "\n",
    "ntasks = nodes*ntasks_per_node\n",
    "\n",
    "rr = C.RunRules(scheduler='slurm',partition='m100_usr_prod',\n",
    "                account='IscrC_AlNWS2',#,qos='m100_qos_bprod',\n",
    "                memory='230GB',time='23:59:00',\n",
    "                nodes=nodes,ntasks_per_node=ntasks_per_node,\n",
    "                cpus_per_task=cpus_per_task,omp_num_threads=omp_num_threads,\n",
    "                gpus_per_node=gpus_per_node,pe=pe,\n",
    "                map_by='socket',rank_by='core')\n",
    "code = C.YamboCalculator(rr)\n",
    "code.global_options()"
   ]
  },
  {
   "cell_type": "markdown",
   "metadata": {
    "tags": []
   },
   "source": [
    "# GW convergence analysis of the Germanene"
   ]
  },
  {
   "cell_type": "markdown",
   "metadata": {},
   "source": [
    "We compute the GW corrections of the DFT band structure of the Germanene. \n",
    "\n",
    "We discuss the convergene procedure using various approximations of the self-energy."
   ]
  },
  {
   "cell_type": "markdown",
   "metadata": {},
   "source": [
    "We have performed various preliminary tests in particular:\n",
    "\n",
    "__Parallelization strategy__\n",
    "\n",
    "We set the SE_ROLEs as 'b.qp.q' and we observe that (with 16 mpi)\n",
    "* for HF analysis the highest performance are achieved with '16.1.1'\n",
    "* \n",
    "\n",
    "__Random integration method (RIM) and Coulomb potential cutoff__\n",
    "\n",
    "........."
   ]
  },
  {
   "cell_type": "markdown",
   "metadata": {},
   "source": [
    "## Hartree-Fock convergence analysis "
   ]
  },
  {
   "cell_type": "markdown",
   "metadata": {},
   "source": [
    "At the Hartree-Fock (HF) level the self energy is limited to the exchange part $\\Sigma_x$ written in term of the\n",
    "bare Coulomb potential.\n",
    "\n",
    "The diagonal matrix elements of $\\Sigma_x$ on the KS states are written as\n",
    "$$\n",
    "\\langle nk|\\Sigma_x|nk \\rangle = -\\sum_{n'}\\int_{BZ}dq\\sum_G \\frac{4\\pi}{|q+G|^2}\n",
    "|\\rho_{nn'}(k,q,G)|^2f_{n',k-q}\n",
    "$$\n",
    "The sum over $n'$ il limited to the full bands due the $f_{n'}$ factor and so the self energy in this\n",
    "approximation scheme depends on the $k$-points sampling in the BZ (q sum) and on the cutoff of the plane wave\n",
    "expansion of the KS states."
   ]
  },
  {
   "cell_type": "markdown",
   "metadata": {},
   "source": [
    "We study the converge of the direct gap at the $K$ point in function of the number of plane wave of the exchange (EXXRLvcs variable in Yambo).\n",
    "The highest value of this variable is given by the cutoff of the density matrix in QuantumESPRESSO, that in turn is\n",
    "4 times the cutoff on the KS wave functions ($90*4=360$ Ry in the present analysis).\n",
    "\n",
    "We also study the convergence of the gap in function of the $k$-points sampling of the BZ."
   ]
  },
  {
   "cell_type": "code",
   "execution_count": 20,
   "metadata": {},
   "outputs": [
    {
     "data": {
      "text/plain": [
       "{81: {'source_dir': 'DFT_analysis/kpoints_81-nbnds_700.save',\n",
       "  'run_dir': 'GW_HF_analysis/kpoints_81-nbnds_700',\n",
       "  'K_index': 588}}"
      ]
     },
     "execution_count": 20,
     "metadata": {},
     "output_type": "execute_result"
    }
   ],
   "source": [
    "#kvalues = [12,18,24,30,36,42,48,54,60,66,78]\n",
    "kvalues = [81]\n",
    "\n",
    "test_set = {}\n",
    "for k in kvalues:\n",
    "    #source_dir = 'DFT_analysis/kpoints_%s-nbnds_40.save'%k\n",
    "    source_dir = 'DFT_analysis/kpoints_%s-nbnds_700.save'%k\n",
    "    run_dir = 'GW_HF_analysis/kpoints_%s-nbnds_700'%k\n",
    "    dft_data = P.PwParser(os.path.join(source_dir,'data-file-schema.xml'),verbose=False)\n",
    "    test_set[k] = {'source_dir' : source_dir,\n",
    "                   'run_dir' :  run_dir,\n",
    "                    'K_index' : len(dft_data.kpoints)}\n",
    "test_set"
   ]
  },
  {
   "cell_type": "code",
   "execution_count": 21,
   "metadata": {},
   "outputs": [],
   "source": [
    "start_band,stop_band = 28,29 # bands range for the computation of the HF corrections"
   ]
  },
  {
   "cell_type": "markdown",
   "metadata": {},
   "source": [
    "We build the input for HF analysis including the random integration method (RIM) for the small $q$ component of the Coulomb potential\n",
    "and the cutoff of the Coulomb potential in the off plane direction. \n",
    "\n",
    "The z dimension of the simulation box is \n",
    "* $7.643*8 = 61.44$ au and we set the cutoff to 60 au\n",
    "* $7.643*4 = 30.572$ au and we set the cutoff to 30 au"
   ]
  },
  {
   "cell_type": "code",
   "execution_count": 22,
   "metadata": {},
   "outputs": [],
   "source": [
    "cut_z = 30 # 60 # au, slightly smaller than the cell, in agreement with the Yambo tutorial page\n",
    "RandQpts = 1000000 # Number of random q-points in the BZ\n",
    "RandGvec = 100 # use the RIM for the first 100 G-components of the coulomb potential "
   ]
  },
  {
   "cell_type": "markdown",
   "metadata": {
    "tags": []
   },
   "source": [
    "### Analysis of the q-points sampling and of the and of the $G$-points expansion of the exchange term"
   ]
  },
  {
   "cell_type": "markdown",
   "metadata": {},
   "source": [
    "First, we perform a convergence test on the EXXRLvsc parameter, than we study\n",
    "the convergence of the $q$-point sampling"
   ]
  },
  {
   "cell_type": "code",
   "execution_count": 23,
   "metadata": {},
   "outputs": [
    {
     "name": "stdout",
     "output_type": "stream",
     "text": [
      "Create folder GW_HF_analysis/kpoints_81-nbnds_700\n",
      "Executing command: cd DFT_analysis/kpoints_81-nbnds_700.save; mpirun -np 1 p2y\n",
      "Create a symlink of /m100_work/IscrC_XEXIN/Germanene/DFT_analysis/kpoints_81-nbnds_700.save/SAVE in GW_HF_analysis/kpoints_81-nbnds_700\n",
      "Executing command: cd GW_HF_analysis/kpoints_81-nbnds_700;OMP_NUM_THREADS=1 mpirun -np 1 yambo\n"
     ]
    }
   ],
   "source": [
    "k_sel = 81\n",
    "Tools.build_SAVE(test_set[k_sel]['source_dir'],test_set[k_sel]['run_dir'],command='mpirun -np 1 p2y')"
   ]
  },
  {
   "cell_type": "code",
   "execution_count": 24,
   "metadata": {},
   "outputs": [
    {
     "name": "stdout",
     "output_type": "stream",
     "text": [
      "Initialize a Dataset with 4 parallel tasks\n"
     ]
    }
   ],
   "source": [
    "EXXRLvcs = [7000,9000,11000,15000] # RL\n",
    "\n",
    "study = D.Dataset(run_dir=test_set[k_sel]['run_dir'],num_tasks=4,verbose=True)\n",
    "study.set_postprocessing_function(PP.yambo_parse_data)\n",
    "\n",
    "inp = I.YamboInput(args='mpirun -np 1 yambo -r -x -V all',folder=test_set[k_sel]['run_dir'])\n",
    "inp.set_extendOut()\n",
    "K_index = test_set[k_sel]['K_index']\n",
    "inp.set_kRange(K_index,K_index)\n",
    "inp.set_bandRange(start_band,stop_band)\n",
    "inp['variables']['RandQpts'] = [RandQpts,'']\n",
    "inp['variables']['RandGvec'] = [RandGvec,'']\n",
    "inp['variables']['CUTGeo'] = 'box z'\n",
    "inp['variables']['CUTBox'] = [[0.,0.,cut_z],'au']\n",
    "inp['variables']['SE_CPU'] = '1.1.%s'%ntasks\n",
    "inp['variables']['SE_ROLEs'] = 'q.qp.b'\n",
    "#inp['variables']['SE_Threads'] = [4,'']\n",
    "\n",
    "for ex in EXXRLvcs:\n",
    "    idd = {'kpoints':k_sel,'exxrlvcs':ex,'cutbox':cut_z,'randQ':RandQpts,'randG':RandGvec}#,'nodes':nodes}\n",
    "    #inp['variables']['EXXRLvcs'] = [ex,'Ry']\n",
    "    inp['variables']['EXXRLvcs'] = [ex,'RL']\n",
    "    study.append_run(id=idd,input=inp,runner=code)"
   ]
  },
  {
   "cell_type": "code",
   "execution_count": 25,
   "metadata": {},
   "outputs": [
    {
     "data": {
      "text/plain": [
       "{'label': 'Dataset',\n",
       " 'run_dir': 'GW_HF_analysis/kpoints_81-nbnds_700',\n",
       " 'num_tasks': 4,\n",
       " 'verbose': True,\n",
       " 'input': {'args': 'mpirun -np 1 yambo -r -x -V all',\n",
       "  'folder': 'GW_HF_analysis/kpoints_81-nbnds_700',\n",
       "  'filename': 'yambo.in',\n",
       "  'arguments': ['rim_cut', 'HF_and_locXC', 'ExtendOut'],\n",
       "  'variables': {'StdoHash': [40.0, ''],\n",
       "   'Nelectro': [28.0, ''],\n",
       "   'ElecTemp': [0.0, 'eV'],\n",
       "   'BoseTemp': [-1.0, 'eV'],\n",
       "   'OccTresh': [1e-05, ''],\n",
       "   'NLogCPUs': [0.0, ''],\n",
       "   'MEM_tresh': [1961257.0, 'Kb'],\n",
       "   'FFTGvecs': [17211.0, 'RL'],\n",
       "   'SE_Threads': [0.0, ''],\n",
       "   'RandQpts': [1000000, ''],\n",
       "   'RandGvec': [100, ''],\n",
       "   'IDEm1Ref': [0.0, ''],\n",
       "   'CUTRadius': [0.0, ''],\n",
       "   'CUTCylLen': [0.0, ''],\n",
       "   'CUTwsGvec': [0.7, ''],\n",
       "   'EXXRLvcs': [7000, 'RL'],\n",
       "   'VXCRLvcs': [110823.0, 'RL'],\n",
       "   'DBsIOoff': 'none',\n",
       "   'DBsFRAGpm': 'none',\n",
       "   'PAR_def_mode': 'balanced',\n",
       "   'CUTGeo': 'box z',\n",
       "   'Em1Anys': [[0.0, 0.0, 0.0], ''],\n",
       "   'CUTBox': [[0.0, 0.0, 30], 'au'],\n",
       "   'QPkrange': [[588, 588, 28, 29], ''],\n",
       "   'QPerange': [[1, 588, 0.0, '-1.000000'], ''],\n",
       "   'SE_CPU': '1.1.16',\n",
       "   'SE_ROLEs': 'q.qp.b'}},\n",
       " 'name': 'cutbox_30-exxrlvcs_7000-kpoints_81-randG_100-randQ_1000000'}"
      ]
     },
     "execution_count": 25,
     "metadata": {},
     "output_type": "execute_result"
    }
   ],
   "source": [
    "study.runs[0]"
   ]
  },
  {
   "cell_type": "code",
   "execution_count": null,
   "metadata": {},
   "outputs": [
    {
     "name": "stdout",
     "output_type": "stream",
     "text": [
      "Run the selection [0, 1, 2, 3] with the parallel task_groups [[0, 1, 2, 3]] \n",
      "\n",
      "Run the task [0, 1, 2, 3] \n",
      "run command: mpirun -np 16 --map-by socket:PE=8 --rank-by core yambo -F cutbox_30-exxrlvcs_7000-kpoints_81-randG_100-randQ_1000000.in -J cutbox_30-exxrlvcs_7000-kpoints_81-randG_100-randQ_1000000 -C cutbox_30-exxrlvcs_7000-kpoints_81-randG_100-randQ_1000000\n",
      "slurm submit:  cd GW_HF_analysis/kpoints_81-nbnds_700 ; sbatch job_cutbox_30-exxrlvcs_7000-kpoints_81-randG_100-randQ_1000000.sh\n",
      "computation cutbox_30-exxrlvcs_7000-kpoints_81-randG_100-randQ_1000000 is running...\n",
      "run command: mpirun -np 16 --map-by socket:PE=8 --rank-by core yambo -F cutbox_30-exxrlvcs_9000-kpoints_81-randG_100-randQ_1000000.in -J cutbox_30-exxrlvcs_9000-kpoints_81-randG_100-randQ_1000000 -C cutbox_30-exxrlvcs_9000-kpoints_81-randG_100-randQ_1000000\n",
      "slurm submit:  cd GW_HF_analysis/kpoints_81-nbnds_700 ; sbatch job_cutbox_30-exxrlvcs_9000-kpoints_81-randG_100-randQ_1000000.sh\n",
      "computation cutbox_30-exxrlvcs_9000-kpoints_81-randG_100-randQ_1000000 is running...\n",
      "run command: mpirun -np 16 --map-by socket:PE=8 --rank-by core yambo -F cutbox_30-exxrlvcs_11000-kpoints_81-randG_100-randQ_1000000.in -J cutbox_30-exxrlvcs_11000-kpoints_81-randG_100-randQ_1000000 -C cutbox_30-exxrlvcs_11000-kpoints_81-randG_100-randQ_1000000\n",
      "slurm submit:  cd GW_HF_analysis/kpoints_81-nbnds_700 ; sbatch job_cutbox_30-exxrlvcs_11000-kpoints_81-randG_100-randQ_1000000.sh\n",
      "computation cutbox_30-exxrlvcs_11000-kpoints_81-randG_100-randQ_1000000 is running...\n",
      "run command: mpirun -np 16 --map-by socket:PE=8 --rank-by core yambo -F cutbox_30-exxrlvcs_15000-kpoints_81-randG_100-randQ_1000000.in -J cutbox_30-exxrlvcs_15000-kpoints_81-randG_100-randQ_1000000 -C cutbox_30-exxrlvcs_15000-kpoints_81-randG_100-randQ_1000000\n",
      "slurm submit:  cd GW_HF_analysis/kpoints_81-nbnds_700 ; sbatch job_cutbox_30-exxrlvcs_15000-kpoints_81-randG_100-randQ_1000000.sh\n",
      "computation cutbox_30-exxrlvcs_15000-kpoints_81-randG_100-randQ_1000000 is running...\n"
     ]
    }
   ],
   "source": [
    "results = study.run()"
   ]
  },
  {
   "cell_type": "code",
   "execution_count": 15,
   "metadata": {},
   "outputs": [
    {
     "data": {
      "text/plain": [
       "[0.40980800000000006, 0.40981500000000004, 0.40981700000000004, 0.409817]"
      ]
     },
     "execution_count": 15,
     "metadata": {},
     "output_type": "execute_result"
    }
   ],
   "source": [
    "gap = [results[ind].data.get_gap(k_full=test_set[k_sel]['K_index'],band_full=start_band,verbose=False) for ind in range(len(EXXRLvcs))]\n",
    "gap"
   ]
  },
  {
   "cell_type": "code",
   "execution_count": 16,
   "metadata": {},
   "outputs": [
    {
     "data": {
      "text/plain": [
       "<matplotlib.collections.PathCollection at 0x7fff844b9e50>"
      ]
     },
     "execution_count": 16,
     "metadata": {},
     "output_type": "execute_result"
    },
    {
     "data": {
      "image/png": "[encoded data removed]",
      "text/plain": [
       "<Figure size 432x288 with 1 Axes>"
      ]
     },
     "metadata": {
      "needs_background": "light"
     },
     "output_type": "display_data"
    }
   ],
   "source": [
    "plt.plot(EXXRLvcs,gap)\n",
    "plt.scatter(EXXRLvcs,gap)"
   ]
  },
  {
   "cell_type": "markdown",
   "metadata": {},
   "source": [
    "We choose EXXRRLvcs = 60 Ry as converged value and analyze the convergence of the $q$-points sampling"
   ]
  },
  {
   "cell_type": "code",
   "execution_count": 9,
   "metadata": {},
   "outputs": [],
   "source": [
    "EXXRLvcs_conv = 11000 # RL"
   ]
  },
  {
   "cell_type": "markdown",
   "metadata": {},
   "source": [
    "Old results with the analysis of the $k$-points sampling:"
   ]
  },
  {
   "cell_type": "code",
   "execution_count": 10,
   "metadata": {},
   "outputs": [
    {
     "name": "stdout",
     "output_type": "stream",
     "text": [
      "Initialize a Dataset with 1 parallel tasks\n",
      "SAVE folder already present in GW_HF_analysis/kpoints_78. No operations performed.\n"
     ]
    }
   ],
   "source": [
    "study = D.Dataset(num_tasks=1,verbose=True)\n",
    "study.set_postprocessing_function(PP.yambo_parse_data)\n",
    "\n",
    "for k in test_set:\n",
    "    Tools.build_SAVE(test_set[k]['source_dir'],test_set[k]['run_dir'],command='p2y')\n",
    "    inp = I.YamboInput(args='yambo -r -x -V all',folder=test_set[k]['run_dir'])\n",
    "    inp.set_extendOut()\n",
    "    K_index = test_set[k]['K_index']\n",
    "    inp.set_kRange(K_index,K_index)\n",
    "    inp.set_bandRange(start_band,stop_band)\n",
    "    inp['variables']['EXXRLvcs'] = [EXXRLvcs_conv,'Ry']\n",
    "    inp['variables']['RandQpts'] = [RandQpts,'']\n",
    "    inp['variables']['RandGvec'] = [RandGvec,'']\n",
    "    inp['variables']['CUTGeo'] = 'box z'\n",
    "    inp['variables']['CUTBox'] = [[0.,0.,cut_z],'au']\n",
    "    inp['variables']['SE_CPU'] = '%s.1.1'%mpi\n",
    "    inp['variables']['SE_ROLEs'] = 'b.qp.q'\n",
    "    \n",
    "    idd = {'kpoints':k,'exxrlvcs':EXXRLvcs_conv,'cutbox':cut_z,'randQ':RandQpts,'randG':RandGvec}\n",
    "    study.append_run(id=idd,input=inp,runner=code,run_dir=test_set[k]['run_dir'])"
   ]
  },
  {
   "cell_type": "code",
   "execution_count": 11,
   "metadata": {},
   "outputs": [
    {
     "name": "stdout",
     "output_type": "stream",
     "text": [
      "Run the selection [0] with the parallel task_groups [[0]] \n",
      "\n",
      "Run the task [0] \n",
      "delete job_out script: GW_HF_analysis/kpoints_78/job_cutbox_30-exxrlvcs_40-kpoints_78-randG_100-randQ_1000000.out\n",
      "delete folder: GW_HF_analysis/kpoints_78/cutbox_30-exxrlvcs_40-kpoints_78-randG_100-randQ_1000000\n",
      "run command: mpirun -np 16 yambo -F cutbox_30-exxrlvcs_40-kpoints_78-randG_100-randQ_1000000.in -J cutbox_30-exxrlvcs_40-kpoints_78-randG_100-randQ_1000000 -C cutbox_30-exxrlvcs_40-kpoints_78-randG_100-randQ_1000000\n",
      "slurm submit:  cd GW_HF_analysis/kpoints_78 ; sbatch job_cutbox_30-exxrlvcs_40-kpoints_78-randG_100-randQ_1000000.sh\n",
      "computation cutbox_30-exxrlvcs_40-kpoints_78-randG_100-randQ_1000000 is running...\n",
      "computation cutbox_30-exxrlvcs_40-kpoints_78-randG_100-randQ_1000000 ended\n",
      "\n",
      "        There are no o-* files.\n",
      "        Maybe you have performed a ypp computation or wait_end_run and/or\n",
      "        the dry_run option are active?\n",
      "        Otherwise a possible error has occured during the computation\n",
      "        \n",
      "game_over string not found in report. Check the computation!\n",
      "Task [0] ended \n",
      " \n"
     ]
    }
   ],
   "source": [
    "results = study.run()"
   ]
  },
  {
   "cell_type": "code",
   "execution_count": 35,
   "metadata": {},
   "outputs": [
    {
     "data": {
      "text/plain": [
       "[1.162207,\n",
       " 0.8491869999999999,\n",
       " 0.7013119999999999,\n",
       " 0.615127,\n",
       " 0.559527,\n",
       " 0.519778,\n",
       " 0.490761,\n",
       " 0.468854,\n",
       " 0.45126199999999994,\n",
       " 0.43705900000000003]"
      ]
     },
     "execution_count": 35,
     "metadata": {},
     "output_type": "execute_result"
    }
   ],
   "source": [
    "gap = []\n",
    "for k in kvalues:\n",
    "    r = study.fetch_results(id={'kpoints':k})[0]\n",
    "    gap.append(r.data.get_gap(k_full=test_set[k]['K_index'],band_full=start_band,verbose=False))\n",
    "gap"
   ]
  },
  {
   "cell_type": "code",
   "execution_count": 36,
   "metadata": {},
   "outputs": [
    {
     "data": {
      "text/plain": [
       "<matplotlib.collections.PathCollection at 0x7f341f81ff28>"
      ]
     },
     "execution_count": 36,
     "metadata": {},
     "output_type": "execute_result"
    },
    {
     "data": {
      "image/png": "[encoded data removed]",
      "text/plain": [
       "<Figure size 432x288 with 1 Axes>"
      ]
     },
     "metadata": {
      "needs_background": "light"
     },
     "output_type": "display_data"
    }
   ],
   "source": [
    "plt.plot(kvalues,gap)\n",
    "plt.scatter(kvalues,gap)"
   ]
  },
  {
   "cell_type": "code",
   "execution_count": 37,
   "metadata": {},
   "outputs": [],
   "source": [
    "from scipy.optimize import curve_fit"
   ]
  },
  {
   "cell_type": "code",
   "execution_count": 38,
   "metadata": {},
   "outputs": [],
   "source": [
    "x = np.array(kvalues)\n",
    "y = np.array(gap)"
   ]
  },
  {
   "cell_type": "code",
   "execution_count": 39,
   "metadata": {},
   "outputs": [],
   "source": [
    "def exp(t,a,b,c):\n",
    "    return a*np.exp(b*t)+c"
   ]
  },
  {
   "cell_type": "code",
   "execution_count": 40,
   "metadata": {},
   "outputs": [
    {
     "data": {
      "text/plain": [
       "array([ 1.89850688, -0.08284485,  0.44739332])"
      ]
     },
     "execution_count": 40,
     "metadata": {},
     "output_type": "execute_result"
    }
   ],
   "source": [
    "p0 = [1,-0.1,0.5]\n",
    "pars,pcov = curve_fit(exp,x,y,p0=p0)\n",
    "pars"
   ]
  },
  {
   "cell_type": "code",
   "execution_count": 46,
   "metadata": {},
   "outputs": [],
   "source": [
    "x_ext = np.linspace(20,80)"
   ]
  },
  {
   "cell_type": "code",
   "execution_count": 47,
   "metadata": {},
   "outputs": [
    {
     "data": {
      "text/plain": [
       "[<matplotlib.lines.Line2D at 0x7f34018eb4a8>]"
      ]
     },
     "execution_count": 47,
     "metadata": {},
     "output_type": "execute_result"
    },
    {
     "data": {
      "image/png": "[encoded data removed]",
      "text/plain": [
       "<Figure size 432x288 with 1 Axes>"
      ]
     },
     "metadata": {
      "needs_background": "light"
     },
     "output_type": "display_data"
    }
   ],
   "source": [
    "plt.plot(kvalues,gap)\n",
    "plt.scatter(kvalues,gap)\n",
    "plt.plot(x_ext,exp(x_ext,*pars))"
   ]
  },
  {
   "cell_type": "markdown",
   "metadata": {},
   "source": [
    "## COHSEX convergence analysis "
   ]
  },
  {
   "cell_type": "markdown",
   "metadata": {},
   "source": [
    "We discuss different approximations for the self energy $\\Sigma = G_0 W$. \n",
    "The evaluation of $W$ passes through:\n",
    "$$\n",
    "\\chi = \\chi_0 + \\chi_0(v_H+f_{xc})\\chi \\\\\n",
    "W = v+v\\chi v\n",
    "$$"
   ]
  },
  {
   "cell_type": "markdown",
   "metadata": {},
   "source": [
    "In the COHSEX one considers only the static contribution of the response $\\chi(\\omega=0)$ and we also limit our analysis to the Hartree kernel, so that $f_{xc}=0$ (RPA approximations).\n",
    "\n",
    "In this case (without empties) G0 still depends only from the number of kpoints and from the EXXRLvcs parameter. Moreover we introduce also a non trivial W potential and two more parameters come into the play. These are the cut of in the plane wave expansion of the response function for the construction of W (NGsBlkXs) and the number of empty bands used to write the Lehmann representation of $\\chi_0$ (BndsRnXs)."
   ]
  },
  {
   "cell_type": "code",
   "execution_count": 4,
   "metadata": {},
   "outputs": [],
   "source": [
    "start_band,stop_band = 28,29 # bands range for the computation of the HF corrections"
   ]
  },
  {
   "cell_type": "code",
   "execution_count": 5,
   "metadata": {},
   "outputs": [],
   "source": [
    "cut_z = 30 # 60 # au, slightly smaller than the cell, in agreement with the Yambo tutorial page\n",
    "RandQpts = 1000000 # Number of random q-points in the BZ\n",
    "RandGvec = 100 # use the RIM for the first 100 G-components of the coulomb potential "
   ]
  },
  {
   "cell_type": "code",
   "execution_count": 4,
   "metadata": {},
   "outputs": [
    {
     "data": {
      "text/plain": [
       "{60: {'source_dir': 'DFT_analysis/kpoints_60-nbnds_700.save',\n",
       "  'run_dir': 'GW_HF_analysis/kpoints_60-nbnds_700',\n",
       "  'K_index': 331}}"
      ]
     },
     "execution_count": 4,
     "metadata": {},
     "output_type": "execute_result"
    }
   ],
   "source": [
    "kvalues = [60] #[81]\n",
    "\n",
    "test_set = {}\n",
    "for k in kvalues:\n",
    "    source_dir = 'DFT_analysis/kpoints_%s-nbnds_700.save'%k\n",
    "    run_dir = 'GW_HF_analysis/kpoints_%s-nbnds_700'%k\n",
    "    #run_dir = 'GW_HF_analysis/kpoints_%s-nbnds_700_yambo-module'%k\n",
    "    dft_data = P.PwParser(os.path.join(source_dir,'data-file-schema.xml'),verbose=False)\n",
    "    test_set[k] = {'source_dir' : source_dir,\n",
    "                   'run_dir' :  run_dir,\n",
    "                    'K_index' : len(dft_data.kpoints)}\n",
    "test_set"
   ]
  },
  {
   "cell_type": "code",
   "execution_count": 5,
   "metadata": {},
   "outputs": [
    {
     "name": "stdout",
     "output_type": "stream",
     "text": [
      "SAVE folder already present in GW_HF_analysis/kpoints_60-nbnds_700. No operations performed.\n"
     ]
    }
   ],
   "source": [
    "k_sel = 60 #81\n",
    "Tools.build_SAVE(test_set[k_sel]['source_dir'],test_set[k_sel]['run_dir'],command='mpirun -np 1 p2y')\n",
    "K_index = test_set[k_sel]['K_index']"
   ]
  },
  {
   "cell_type": "code",
   "execution_count": 10,
   "metadata": {},
   "outputs": [
    {
     "name": "stdout",
     "output_type": "stream",
     "text": [
      "8 1\n"
     ]
    }
   ],
   "source": [
    "#input for kpoints = 60, 2 nodes\n",
    "\n",
    "ntasks_c = 8 #32\n",
    "ntasks_v = int(ntasks/ntasks_c)\n",
    "print(ntasks_c,ntasks_v)\n",
    "\n",
    "EXXRLvcs_conv = 11000 # RL\n",
    "NGsBlkXs = [600] # RL G size of the response function\n",
    "BndsRnXs  = [1,300] # Bands in the response function\n",
    "\n",
    "inp = I.YamboInput(args='mpirun -np 1 yambo -r -k hartee -dyson n -gw0 c -V all',folder=test_set[k_sel]['run_dir'])\n",
    "inp['variables']['RandQpts'] = [RandQpts,'']\n",
    "inp['variables']['RandGvec'] = [RandGvec,'']\n",
    "inp['variables']['CUTGeo'] = 'box z'\n",
    "inp['variables']['CUTBox'] = [[0.,0.,cut_z],'au']\n",
    "inp['variables']['EXXRLvcs'] = [EXXRLvcs_conv,'RL']\n",
    "\n",
    "# Parallel roles\n",
    "inp['variables']['SE_CPU'] = '1.1.8' #'4.2.16'\n",
    "inp['variables']['SE_ROLEs'] = 'q.qp.b'\n",
    "inp['variables']['X_and_IO_ROLEs'] = 'q.g.k.c.v'\n",
    "inp['variables']['X_and_IO_CPU'] = '1.1.1.%s.%s'%(ntasks_c,ntasks_v)\n",
    "inp['variables']['DIP_ROLEs'] = 'k.c.v'\n",
    "inp['variables']['DIP_CPU'] = '1.%s.%s'%(ntasks_c,ntasks_v)\n",
    "\n",
    "inp.set_kRange(K_index,K_index)\n",
    "inp.set_bandRange(start_band,stop_band)\n",
    "#inp"
   ]
  },
  {
   "cell_type": "code",
   "execution_count": 58,
   "metadata": {},
   "outputs": [
    {
     "name": "stdout",
     "output_type": "stream",
     "text": [
      "16 8\n"
     ]
    }
   ],
   "source": [
    "ntasks_c = 16 #32\n",
    "ntasks_v = int(ntasks/ntasks_c)\n",
    "print(ntasks_c,ntasks_v)\n",
    "\n",
    "EXXRLvcs_conv = 11000 # RL\n",
    "NGsBlkXs = [600,800,1000,1200,1400,1600,1800,2000] # 1000 # RL G size of the response function\n",
    "BndsRnXs  = [1,100] # Bands in the response function\n",
    "GbndRnge = [1,100]  # Bands in the Sigma_c (used only if UseEbands is activated)\n",
    "\n",
    "inp = I.YamboInput(args='mpirun -np 1 yambo -r -k hartee -dyson n -gw0 c -V all',folder=test_set[k_sel]['run_dir'])\n",
    "inp['variables']['RandQpts'] = [RandQpts,'']\n",
    "inp['variables']['RandGvec'] = [RandGvec,'']\n",
    "inp['variables']['CUTGeo'] = 'box z'\n",
    "inp['variables']['CUTBox'] = [[0.,0.,cut_z],'au']\n",
    "inp['variables']['EXXRLvcs'] = [EXXRLvcs_conv,'RL']\n",
    "\n",
    "# Parallel roles\n",
    "#inp['variables']['SE_CPU'] = '1.1.%s'%ntasks\n",
    "inp['variables']['SE_CPU'] = '8.2.16' #'4.2.16'\n",
    "inp['variables']['SE_ROLEs'] = 'q.qp.b'\n",
    "inp['variables']['X_and_IO_ROLEs'] = 'q.g.k.c.v'\n",
    "inp['variables']['X_and_IO_CPU'] = '1.1.1.%s.%s'%(ntasks_c,ntasks_v)\n",
    "inp['variables']['DIP_ROLEs'] = 'k.c.v'\n",
    "inp['variables']['DIP_CPU'] = '1.%s.%s'%(ntasks_c,ntasks_v)\n",
    "\n",
    "inp.set_kRange(K_index,K_index)\n",
    "inp.set_bandRange(start_band,stop_band)\n",
    "#inp"
   ]
  },
  {
   "cell_type": "code",
   "execution_count": 11,
   "metadata": {},
   "outputs": [
    {
     "name": "stdout",
     "output_type": "stream",
     "text": [
      "Initialize a Dataset with 4 parallel tasks\n"
     ]
    }
   ],
   "source": [
    "study = D.Dataset(run_dir=run_dir,num_tasks=4,verbose=True)\n",
    "study.set_postprocessing_function(PP.yambo_parse_data)\n",
    "\n",
    "inp['variables']['BndsRnXs'] = [BndsRnXs,'']\n",
    "for ngs in NGsBlkXs:\n",
    "    idd = 'chosex-ngsblkxs_%s-bndsrnxs_%s'%(ngs,BndsRnXs[1])\n",
    "    inp['variables']['NGsBlkXs'] = [ngs,'RL']\n",
    "    study.append_run(id=idd,input=inp,runner=code)\n",
    "\n",
    "#idd = 'chosex-with_empties-ngsblkxs_%s-bndsrnxs_%s-gbndrnge_%s'%(NGsBlkXs,BndsRnXs[1],GbndRnge[1])\n",
    "#inp['arguments'].append('UseEbands')\n",
    "#inp['variables']['GbndRnge'] = [GbndRnge,'']\n",
    "#study.append_run(id=idd,input=inp,runner=code)"
   ]
  },
  {
   "cell_type": "code",
   "execution_count": 12,
   "metadata": {},
   "outputs": [
    {
     "data": {
      "text/plain": [
       "{'label': 'Dataset',\n",
       " 'run_dir': 'GW_HF_analysis/kpoints_60-nbnds_700',\n",
       " 'num_tasks': 4,\n",
       " 'verbose': True,\n",
       " 'input': {'args': 'mpirun -np 1 yambo -r -k hartee -dyson n -gw0 c -V all',\n",
       "  'folder': 'GW_HF_analysis/kpoints_60-nbnds_700',\n",
       "  'filename': 'yambo.in',\n",
       "  'arguments': ['rim_cut', 'em1s', 'gw0', 'HF_and_locXC', 'cohsex'],\n",
       "  'variables': {'StdoHash': [40.0, ''],\n",
       "   'Nelectro': [28.0, ''],\n",
       "   'ElecTemp': [0.0, 'eV'],\n",
       "   'BoseTemp': [-1.0, 'eV'],\n",
       "   'OccTresh': [1e-05, ''],\n",
       "   'NLogCPUs': [0.0, ''],\n",
       "   'MEM_tresh': [51200.0, 'Kb'],\n",
       "   'FFTGvecs': [17211.0, 'RL'],\n",
       "   'DIP_Threads': [0.0, ''],\n",
       "   'X_and_IO_nCPU_LinAlg_INV': [-1.0, ''],\n",
       "   'X_Threads': [0.0, ''],\n",
       "   'SE_Threads': [0.0, ''],\n",
       "   'RandQpts': [1000000, ''],\n",
       "   'RandGvec': [100, ''],\n",
       "   'IDEm1Ref': [0.0, ''],\n",
       "   'CUTRadius': [0.0, ''],\n",
       "   'CUTCylLen': [0.0, ''],\n",
       "   'CUTwsGvec': [0.7, ''],\n",
       "   'EXXRLvcs': [11000, 'RL'],\n",
       "   'VXCRLvcs': [110823.0, 'RL'],\n",
       "   'DipoleEtresh': [1e-05, 'eV'],\n",
       "   'XfnQP_INTERP_NN': [1.0, ''],\n",
       "   'XfnQP_INTERP_shells': [20.0, ''],\n",
       "   'XfnQP_Wv_E': [0.0, 'eV'],\n",
       "   'XfnQP_Wv_dos': [0.0, 'eV'],\n",
       "   'XfnQP_Wc_E': [0.0, 'eV'],\n",
       "   'XfnQP_Wc_dos': [0.0, 'eV'],\n",
       "   'NGsBlkXs': [600, 'RL'],\n",
       "   'CGrdSpXs': [100.0, ''],\n",
       "   'XTermEn': [40.0, 'eV'],\n",
       "   'GfnQP_INTERP_NN': [1.0, ''],\n",
       "   'GfnQP_INTERP_shells': [20.0, ''],\n",
       "   'GfnQP_Wv_E': [0.0, 'eV'],\n",
       "   'GfnQP_Wv_dos': [0.0, 'eV'],\n",
       "   'GfnQP_Wc_E': [0.0, 'eV'],\n",
       "   'GfnQP_Wc_dos': [0.0, 'eV'],\n",
       "   'BoseCut': [0.1, ''],\n",
       "   'GWoIter': [0.0, ''],\n",
       "   'GWIter': [0.0, ''],\n",
       "   'SCEtresh': [0.01, 'eV'],\n",
       "   'DBsIOoff': 'none',\n",
       "   'DBsFRAGpm': 'none',\n",
       "   'PAR_def_mode': 'balanced',\n",
       "   'CUTGeo': 'box z',\n",
       "   'Chimod': 'HARTREE',\n",
       "   'ChiLinAlgMod': 'LIN_SYS',\n",
       "   'DipComputed': 'R P V',\n",
       "   'XfnQPdb': 'none',\n",
       "   'XfnQP_DbGd_INTERP_mode': 'NN',\n",
       "   'GrFnTpXs': 'T',\n",
       "   'XTermKind': 'none',\n",
       "   'kind': 'BG',\n",
       "   'GfnQPdb': 'none',\n",
       "   'GfnQP_DbGd_INTERP_mode': 'NN',\n",
       "   'XfnQP_Z': [(1+0j), ''],\n",
       "   'DrudeWXs': [0j, 'eV'],\n",
       "   'GfnQP_Z': [(1+0j), ''],\n",
       "   'Em1Anys': [[0.0, 0.0, 0.0], ''],\n",
       "   'CUTBox': [[0.0, 0.0, 30], 'au'],\n",
       "   'DipBands': [[1, 700], ''],\n",
       "   'XfnQP_E': [[0.0, 1.0, 1.0], ''],\n",
       "   'XfnQP_Wv': [[0.0, 0.0, 0.0], ''],\n",
       "   'XfnQP_Wc': [[0.0, 0.0, 0.0], ''],\n",
       "   'QpntsRXs': [[1, 331], ''],\n",
       "   'BndsRnXs': [[1, 300], ''],\n",
       "   'EhEngyXs': [['-1.000000', '-1.000000'], 'eV'],\n",
       "   'LongDrXs': [[1.0, 0.0, 0.0], ''],\n",
       "   'GfnQP_E': [[0.0, 1.0, 1.0], ''],\n",
       "   'GfnQP_Wv': [[0.0, 0.0, 0.0], ''],\n",
       "   'GfnQP_Wc': [[0.0, 0.0, 0.0], ''],\n",
       "   'QPkrange': [[331, 331, 28, 29], ''],\n",
       "   'QPerange': [[1, 331, 0.0, '-1.000000'], ''],\n",
       "   'SE_CPU': '1.1.8',\n",
       "   'SE_ROLEs': 'q.qp.b',\n",
       "   'X_and_IO_ROLEs': 'q.g.k.c.v',\n",
       "   'X_and_IO_CPU': '1.1.1.8.1',\n",
       "   'DIP_ROLEs': 'k.c.v',\n",
       "   'DIP_CPU': '1.8.1'}},\n",
       " 'name': 'chosex-ngsblkxs_600-bndsrnxs_300'}"
      ]
     },
     "execution_count": 12,
     "metadata": {},
     "output_type": "execute_result"
    }
   ],
   "source": [
    "study.runs[0]"
   ]
  },
  {
   "cell_type": "code",
   "execution_count": null,
   "metadata": {
    "tags": []
   },
   "outputs": [
    {
     "name": "stdout",
     "output_type": "stream",
     "text": [
      "Run the selection [0] with the parallel task_groups [[0]] \n",
      "\n",
      "Run the task [0] \n",
      "run command: mpirun -np 8 --map-by socket:PE=8 --rank-by core yambo -F chosex-ngsblkxs_600-bndsrnxs_300.in -J chosex-ngsblkxs_600-bndsrnxs_300 -C chosex-ngsblkxs_600-bndsrnxs_300\n",
      "slurm submit:  cd GW_HF_analysis/kpoints_60-nbnds_700 ; sbatch job_chosex-ngsblkxs_600-bndsrnxs_300.sh\n",
      "computation chosex-ngsblkxs_600-bndsrnxs_300 is running...\n",
      "Submitted batch job 5647878\n"
     ]
    }
   ],
   "source": [
    "results = study.run()"
   ]
  },
  {
   "cell_type": "code",
   "execution_count": 62,
   "metadata": {},
   "outputs": [
    {
     "data": {
      "text/plain": [
       "[0.13907000000000003,\n",
       " 0.13943099999999997,\n",
       " 0.13968899999999995,\n",
       " 0.13986500000000002,\n",
       " 0.13993600000000006,\n",
       " 0.1399840000000001,\n",
       " 0.14002199999999998,\n",
       " 0.14002800000000004]"
      ]
     },
     "execution_count": 62,
     "metadata": {},
     "output_type": "execute_result"
    }
   ],
   "source": [
    "gap = []\n",
    "for ind in range(len(NGsBlkXs)):\n",
    "    #r = study.fetch_results(id={'kpoints':k})[0]\n",
    "    gap.append(results[ind].data.get_gap(k_full=test_set[k]['K_index'],band_full=start_band,verbose=False))\n",
    "gap"
   ]
  },
  {
   "cell_type": "code",
   "execution_count": 63,
   "metadata": {},
   "outputs": [
    {
     "data": {
      "text/plain": [
       "<matplotlib.collections.PathCollection at 0x7fff56d35550>"
      ]
     },
     "execution_count": 63,
     "metadata": {},
     "output_type": "execute_result"
    },
    {
     "data": {
      "image/png": "[encoded data removed]",
      "text/plain": [
       "<Figure size 432x288 with 1 Axes>"
      ]
     },
     "metadata": {
      "needs_background": "light"
     },
     "output_type": "display_data"
    }
   ],
   "source": [
    "plt.plot(NGsBlkXs,gap)\n",
    "plt.scatter(NGsBlkXs,gap)"
   ]
  },
  {
   "cell_type": "markdown",
   "metadata": {},
   "source": [
    "We now perform a convergence analysis on the number of bands of the reponse function"
   ]
  },
  {
   "cell_type": "code",
   "execution_count": 42,
   "metadata": {},
   "outputs": [
    {
     "name": "stdout",
     "output_type": "stream",
     "text": [
      "16 8\n"
     ]
    }
   ],
   "source": [
    "ntasks_c = 16 #32\n",
    "ntasks_v = int(ntasks/ntasks_c)\n",
    "print(ntasks_c,ntasks_v)\n",
    "\n",
    "EXXRLvcs_conv = 11000 # RL\n",
    "NGsBlkXs_conv = 2000  # RL G size of the response function\n",
    "BndsRnXs  = [[1,100],[1,200],[1,300],[1,400],[1,500]] #[[1,100],[1,200],[1,300]] # Bands in the response function\n",
    "\n",
    "inp = I.YamboInput(args='mpirun -np 1 yambo -r -k hartee -dyson n -gw0 c -V all',folder=test_set[k_sel]['run_dir'])\n",
    "inp['variables']['RandQpts'] = [RandQpts,'']\n",
    "inp['variables']['RandGvec'] = [RandGvec,'']\n",
    "inp['variables']['CUTGeo'] = 'box z'\n",
    "inp['variables']['CUTBox'] = [[0.,0.,cut_z],'au']\n",
    "inp['variables']['EXXRLvcs'] = [EXXRLvcs_conv,'RL']\n",
    "\n",
    "# Parallel roles\n",
    "inp['variables']['SE_CPU'] = '4.2.16'  # '8.2.16' set for 64 nodes but works also for 32 with INCOMPLETE SE warning...\n",
    "inp['variables']['SE_ROLEs'] = 'q.qp.b'\n",
    "inp['variables']['X_and_IO_ROLEs'] = 'q.g.k.c.v'\n",
    "inp['variables']['X_and_IO_CPU'] = '1.1.1.%s.%s'%(ntasks_c,ntasks_v)\n",
    "inp['variables']['DIP_ROLEs'] = 'k.c.v'\n",
    "inp['variables']['DIP_CPU'] = '1.%s.%s'%(ntasks_c,ntasks_v)\n",
    "\n",
    "inp.set_kRange(K_index,K_index)\n",
    "inp.set_bandRange(start_band,stop_band)"
   ]
  },
  {
   "cell_type": "code",
   "execution_count": 43,
   "metadata": {},
   "outputs": [
    {
     "name": "stdout",
     "output_type": "stream",
     "text": [
      "Initialize a Dataset with 4 parallel tasks\n"
     ]
    }
   ],
   "source": [
    "study = D.Dataset(run_dir=run_dir,num_tasks=4,verbose=True)\n",
    "study.set_postprocessing_function(PP.yambo_parse_data)\n",
    "\n",
    "inp['variables']['NGsBlkXs'] = [NGsBlkXs_conv,'RL']\n",
    "for bnd in BndsRnXs:\n",
    "    idd = 'chosex-ngsblkxs_%s-bndsrnxs_%s'%(NGsBlkXs_conv,bnd[1])\n",
    "    inp['variables']['BndsRnXs'] = [bnd,'']\n",
    "    study.append_run(id=idd,input=inp,runner=code)"
   ]
  },
  {
   "cell_type": "code",
   "execution_count": 44,
   "metadata": {},
   "outputs": [],
   "source": [
    "#study.runs[0]"
   ]
  },
  {
   "cell_type": "code",
   "execution_count": 45,
   "metadata": {
    "tags": []
   },
   "outputs": [
    {
     "name": "stdout",
     "output_type": "stream",
     "text": [
      "Run the selection [0, 1, 2, 3, 4] with the parallel task_groups [[0, 1, 2, 3], [4]] \n",
      "\n",
      "Run the task [0, 1, 2, 3] \n",
      "Skip the run of Skip the run ofchosex-ngsblkxs_2000-bndsrnxs_100 \n",
      "chosex-ngsblkxs_2000-bndsrnxs_200\n",
      "Skip the run of chosex-ngsblkxs_2000-bndsrnxs_300\n",
      "Skip the run of chosex-ngsblkxs_2000-bndsrnxs_400\n",
      "Task [0, 1, 2, 3] ended \n",
      " \n",
      "Run the task [4] \n",
      "Skip the run of chosex-ngsblkxs_2000-bndsrnxs_500\n",
      "Task [4] ended \n",
      " \n"
     ]
    }
   ],
   "source": [
    "results = study.run()"
   ]
  },
  {
   "cell_type": "code",
   "execution_count": 46,
   "metadata": {},
   "outputs": [
    {
     "data": {
      "text/plain": [
       "[0.14002800000000004,\n",
       " 0.1366989999999999,\n",
       " 0.135621,\n",
       " 0.13528799999999985,\n",
       " 0.13511399999999996]"
      ]
     },
     "execution_count": 46,
     "metadata": {},
     "output_type": "execute_result"
    }
   ],
   "source": [
    "gap = []\n",
    "for ind in range(len(BndsRnXs)):\n",
    "    #r = study.fetch_results(id={'kpoints':k})[0]\n",
    "    gap.append(results[ind].data.get_gap(k_full=test_set[k]['K_index'],band_full=start_band,verbose=False))\n",
    "gap"
   ]
  },
  {
   "cell_type": "code",
   "execution_count": 47,
   "metadata": {},
   "outputs": [
    {
     "data": {
      "text/plain": [
       "<matplotlib.collections.PathCollection at 0x7fff56e18cd0>"
      ]
     },
     "execution_count": 47,
     "metadata": {},
     "output_type": "execute_result"
    },
    {
     "data": {
      "image/png": "[encoded data removed]",
      "text/plain": [
       "<Figure size 432x288 with 1 Axes>"
      ]
     },
     "metadata": {
      "needs_background": "light"
     },
     "output_type": "display_data"
    }
   ],
   "source": [
    "x = [b[1] for b in BndsRnXs]\n",
    "plt.plot(x,gap)\n",
    "plt.scatter(x,gap)"
   ]
  },
  {
   "cell_type": "markdown",
   "metadata": {},
   "source": [
    "## Plasmon pole analysis "
   ]
  },
  {
   "cell_type": "code",
   "execution_count": 4,
   "metadata": {},
   "outputs": [],
   "source": [
    "start_band,stop_band = 28,29 # bands range for the computation of the HF corrections"
   ]
  },
  {
   "cell_type": "code",
   "execution_count": 5,
   "metadata": {},
   "outputs": [],
   "source": [
    "cut_z = 30 # 60 # au, slightly smaller than the cell, in agreement with the Yambo tutorial page\n",
    "RandQpts = 1000000 # Number of random q-points in the BZ\n",
    "RandGvec = 100 # use the RIM for the first 100 G-components of the coulomb potential "
   ]
  },
  {
   "cell_type": "code",
   "execution_count": 6,
   "metadata": {},
   "outputs": [
    {
     "data": {
      "text/plain": [
       "{60: {'source_dir': 'DFT_analysis/kpoints_60-nbnds_700.save',\n",
       "  'run_dir': 'GW_HF_analysis/kpoints_60-nbnds_700',\n",
       "  'K_index': 331}}"
      ]
     },
     "execution_count": 6,
     "metadata": {},
     "output_type": "execute_result"
    }
   ],
   "source": [
    "kvalues = [60]\n",
    "\n",
    "test_set = {}\n",
    "for k in kvalues:\n",
    "    source_dir = 'DFT_analysis/kpoints_%s-nbnds_700.save'%k\n",
    "    run_dir = 'GW_HF_analysis/kpoints_%s-nbnds_700'%k\n",
    "    dft_data = P.PwParser(os.path.join(source_dir,'data-file-schema.xml'),verbose=False)\n",
    "    test_set[k] = {'source_dir' : source_dir,\n",
    "                   'run_dir' :  run_dir,\n",
    "                    'K_index' : len(dft_data.kpoints)}\n",
    "test_set"
   ]
  },
  {
   "cell_type": "code",
   "execution_count": 7,
   "metadata": {},
   "outputs": [
    {
     "name": "stdout",
     "output_type": "stream",
     "text": [
      "SAVE folder already present in GW_HF_analysis/kpoints_60-nbnds_700. No operations performed.\n"
     ]
    }
   ],
   "source": [
    "k_sel = 60\n",
    "Tools.build_SAVE(test_set[k_sel]['source_dir'],test_set[k_sel]['run_dir'],command='mpirun -np 1 p2y')\n",
    "K_index = test_set[k_sel]['K_index']"
   ]
  },
  {
   "cell_type": "code",
   "execution_count": 32,
   "metadata": {},
   "outputs": [
    {
     "name": "stdout",
     "output_type": "stream",
     "text": [
      "16 2\n"
     ]
    }
   ],
   "source": [
    "#input for kpoints = 60, 2 nodes on ismhpc\n",
    "\n",
    "ntasks_c = 16 #32\n",
    "ntasks_v = int(ntasks/ntasks_c)\n",
    "print(ntasks_c,ntasks_v)\n",
    "\n",
    "EXXRLvcs_conv = 11000 # RL\n",
    "NGsBlkXs_conv = 600 # RL G size of the response function\n",
    "BndsRnXs_conv  = [1,300] # Bands in the response function\n",
    "GbndRnge = [[1,300]]  # Bands in the Sigma_c\n",
    "\n",
    "inp = I.YamboInput(args='mpirun -np 1 yambo -r -k hartee -dyson n -gw0 p -V all',folder=test_set[k_sel]['run_dir'])\n",
    "inp['variables']['RandQpts'] = [RandQpts,'']\n",
    "inp['variables']['RandGvec'] = [RandGvec,'']\n",
    "inp['variables']['CUTGeo'] = 'box z'\n",
    "inp['variables']['CUTBox'] = [[0.,0.,cut_z],'au']\n",
    "inp['variables']['EXXRLvcs'] = [EXXRLvcs_conv,'RL']\n",
    "\n",
    "# Parallel roles\n",
    "inp['variables']['SE_CPU'] = '2.1.16'\n",
    "inp['variables']['SE_ROLEs'] = 'q.qp.b'\n",
    "inp['variables']['X_and_IO_ROLEs'] = 'q.g.k.c.v'\n",
    "inp['variables']['X_and_IO_CPU'] = '1.1.1.%s.%s'%(ntasks_c,ntasks_v)\n",
    "inp['variables']['DIP_ROLEs'] = 'k.c.v'\n",
    "inp['variables']['DIP_CPU'] = '1.%s.%s'%(ntasks_c,ntasks_v)\n",
    "\n",
    "inp.set_kRange(K_index,K_index)\n",
    "inp.set_bandRange(start_band,stop_band)\n",
    "#inp"
   ]
  },
  {
   "cell_type": "code",
   "execution_count": 9,
   "metadata": {},
   "outputs": [
    {
     "name": "stdout",
     "output_type": "stream",
     "text": [
      "16 2\n"
     ]
    }
   ],
   "source": [
    "#input for kpoints = 60, 8 nodes on m100\n",
    "\n",
    "ntasks_c = 16\n",
    "ntasks_v = int(ntasks/ntasks_c)\n",
    "print(ntasks_c,ntasks_v)\n",
    "\n",
    "EXXRLvcs_conv = 11000 # RL\n",
    "NGsBlkXs_conv = 600 # RL G size of the response function\n",
    "BndsRnXs_conv  = [1,300] # Bands in the response function\n",
    "GbndRnge = [[1,300]]  # Bands in the Sigma_c\n",
    "\n",
    "inp = I.YamboInput(args='mpirun -np 1 yambo -r -k hartee -dyson n -gw0 p -V all',folder=test_set[k_sel]['run_dir'])\n",
    "inp['variables']['RandQpts'] = [RandQpts,'']\n",
    "inp['variables']['RandGvec'] = [RandGvec,'']\n",
    "inp['variables']['CUTGeo'] = 'box z'\n",
    "inp['variables']['CUTBox'] = [[0.,0.,cut_z],'au']\n",
    "inp['variables']['EXXRLvcs'] = [EXXRLvcs_conv,'RL']\n",
    "\n",
    "# Parallel roles\n",
    "inp['variables']['SE_CPU'] = '2.1.16'\n",
    "inp['variables']['SE_ROLEs'] = 'q.qp.b'\n",
    "inp['variables']['X_and_IO_ROLEs'] = 'q.g.k.c.v'\n",
    "inp['variables']['X_and_IO_CPU'] = '1.1.1.%s.%s'%(ntasks_c,ntasks_v)\n",
    "inp['variables']['DIP_ROLEs'] = 'k.c.v'\n",
    "inp['variables']['DIP_CPU'] = '1.%s.%s'%(ntasks_c,ntasks_v)\n",
    "\n",
    "inp.set_kRange(K_index,K_index)\n",
    "inp.set_bandRange(start_band,stop_band)\n",
    "#inp"
   ]
  },
  {
   "cell_type": "code",
   "execution_count": 9,
   "metadata": {},
   "outputs": [
    {
     "name": "stdout",
     "output_type": "stream",
     "text": [
      "Initialize a Dataset with 4 parallel tasks\n"
     ]
    }
   ],
   "source": [
    "study = D.Dataset(run_dir=run_dir,num_tasks=4,verbose=True)\n",
    "study.set_postprocessing_function(PP.yambo_parse_data)\n",
    "\n",
    "inp['variables']['NGsBlkXp'] = [NGsBlkXs_conv,'RL']\n",
    "inp['variables']['BndsRnXp'] = [BndsRnXs_conv,'']\n",
    "for bnd in GbndRnge:\n",
    "    idd = 'ppa-ngsblkxs_%s-bndsrnxs_%s-gbndrnge_%s'%(NGsBlkXs_conv,BndsRnXs_conv[1],bnd[1])\n",
    "    inp['variables']['GbndRnge'] = [GbndRnge,'']\n",
    "    study.append_run(id=idd,input=inp,runner=code,jobname = [idd,'ndb_cutoff_rim_dipoles_hf'])"
   ]
  },
  {
   "cell_type": "code",
   "execution_count": null,
   "metadata": {},
   "outputs": [],
   "source": [
    "study.runs[0]"
   ]
  },
  {
   "cell_type": "code",
   "execution_count": 12,
   "metadata": {},
   "outputs": [
    {
     "name": "stdout",
     "output_type": "stream",
     "text": [
      "Run the selection [0] with the parallel task_groups [[0]] \n",
      "\n",
      "Run the task [0] \n",
      "Skip the run of ppa-ngsblkxs_600-bndsrnxs_300-gbndrnge_300\n",
      "Task [0] ended \n",
      " \n"
     ]
    }
   ],
   "source": [
    "results = study.run()"
   ]
  },
  {
   "cell_type": "code",
   "execution_count": 15,
   "metadata": {},
   "outputs": [
    {
     "data": {
      "text/plain": [
       "[0.14194999999999997]"
      ]
     },
     "execution_count": 15,
     "metadata": {},
     "output_type": "execute_result"
    }
   ],
   "source": [
    "gap = []\n",
    "for ind in range(len(GbndRnge)):\n",
    "    gap.append(results[ind].data.get_gap(k_full=test_set[k]['K_index'],band_full=start_band,verbose=False))\n",
    "gap"
   ]
  },
  {
   "cell_type": "markdown",
   "metadata": {},
   "source": [
    "### Double grid analysis"
   ]
  },
  {
   "cell_type": "markdown",
   "metadata": {},
   "source": [
    "We repeat the plasmon pole calculation using the double grid methods. We make usage of the 81x81x1\n",
    "DFT energies as fine grids.\n",
    "\n",
    "Once that the ndb.Double_Grid db haas been written in the SAVE folder we run again the ppa calculation."
   ]
  },
  {
   "cell_type": "code",
   "execution_count": 10,
   "metadata": {},
   "outputs": [
    {
     "name": "stdout",
     "output_type": "stream",
     "text": [
      "Initialize a Dataset with 4 parallel tasks\n"
     ]
    }
   ],
   "source": [
    "study = D.Dataset(run_dir=run_dir,num_tasks=4,verbose=True)\n",
    "study.set_postprocessing_function(PP.yambo_parse_data)\n",
    "\n",
    "inp['variables']['NGsBlkXp'] = [NGsBlkXs_conv,'RL']\n",
    "inp['variables']['BndsRnXp'] = [BndsRnXs_conv,'']\n",
    "for bnd in GbndRnge:\n",
    "    idd = 'ppa_dg-ngsblkxs_%s-bndsrnxs_%s-gbndrnge_%s'%(NGsBlkXs_conv,BndsRnXs_conv[1],bnd[1])\n",
    "    inp['variables']['GbndRnge'] = [GbndRnge,'']\n",
    "    study.append_run(id=idd,input=inp,runner=code,jobname = [idd,'ndb_cutoff_rim_dipoles_hf'])"
   ]
  },
  {
   "cell_type": "code",
   "execution_count": null,
   "metadata": {},
   "outputs": [],
   "source": [
    "study.runs[0]"
   ]
  },
  {
   "cell_type": "code",
   "execution_count": null,
   "metadata": {},
   "outputs": [
    {
     "name": "stdout",
     "output_type": "stream",
     "text": [
      "Run the selection [0] with the parallel task_groups [[0]] \n",
      "\n",
      "Run the task [0] \n",
      "run command: mpirun -np 32 --map-by socket:PE=8 --rank-by core yambo -F ppa_dg-ngsblkxs_600-bndsrnxs_300-gbndrnge_300.in -J \"ppa_dg-ngsblkxs_600-bndsrnxs_300-gbndrnge_300,ndb_cutoff_rim_dipoles_hf\" -C ppa_dg-ngsblkxs_600-bndsrnxs_300-gbndrnge_300\n",
      "slurm submit:  cd GW_HF_analysis/kpoints_60-nbnds_700 ; sbatch job_ppa_dg-ngsblkxs_600-bndsrnxs_300-gbndrnge_300.sh\n",
      "computation ppa_dg-ngsblkxs_600-bndsrnxs_300-gbndrnge_300 is running...\n",
      "Submitted batch job 5731578\n"
     ]
    }
   ],
   "source": [
    "results = study.run()"
   ]
  },
  {
   "cell_type": "code",
   "execution_count": null,
   "metadata": {},
   "outputs": [],
   "source": [
    "gap = []\n",
    "for ind in range(len(GbndRnge)):\n",
    "    gap.append(results[ind].data.get_gap(k_full=test_set[k]['K_index'],band_full=start_band,verbose=False))\n",
    "gap"
   ]
  },
  {
   "cell_type": "markdown",
   "metadata": {},
   "source": [
    "A this level it is possible to perform a convergence test on the GbndRnge parameter. So we can add in the -J the path\n",
    "where the ndb.pp is located and we can perform the run four various values of GbndRnge."
   ]
  },
  {
   "cell_type": "code",
   "execution_count": 17,
   "metadata": {},
   "outputs": [
    {
     "name": "stdout",
     "output_type": "stream",
     "text": [
      "16 2\n"
     ]
    }
   ],
   "source": [
    "#ntasks_c = 8 # m100: 16 for 8 nodes and 8 for 2 nodes\n",
    "ntasks_c = 16 # ismhpc: 16 for 2 nodes\n",
    "ntasks_v = int(ntasks/ntasks_c)\n",
    "print(ntasks_c,ntasks_v)\n",
    "\n",
    "EXXRLvcs_conv = 11000 # RL\n",
    "NGsBlkXs_conv = 600 # RL G size of the response function\n",
    "BndsRnXs_conv  = [1,300] # Bands in the response function\n",
    "\n",
    "inp = I.YamboInput(args='mpirun -np 1 yambo -r -k hartee -dyson n -gw0 p -V all',folder=test_set[k_sel]['run_dir'])\n",
    "inp['variables']['RandQpts'] = [RandQpts,'']\n",
    "inp['variables']['RandGvec'] = [RandGvec,'']\n",
    "inp['variables']['CUTGeo'] = 'box z'\n",
    "inp['variables']['CUTBox'] = [[0.,0.,cut_z],'au']\n",
    "inp['variables']['EXXRLvcs'] = [EXXRLvcs_conv,'RL']\n",
    "inp['variables']['NGsBlkXp'] = [NGsBlkXs_conv,'RL']\n",
    "inp['variables']['BndsRnXp'] = [BndsRnXs_conv,'']\n",
    "\n",
    "# Parallel roles\n",
    "#inp['variables']['SE_CPU'] = '2.1.16' # for 8 nodes on m100\n",
    "#inp['variables']['SE_CPU'] = '1.1.8' # for 2 nodes on m100\n",
    "inp['variables']['SE_CPU'] = '2.1.16' # for 2 nodes on ismhpc\n",
    "inp['variables']['SE_ROLEs'] = 'q.qp.b'\n",
    "inp['variables']['X_and_IO_ROLEs'] = 'q.g.k.c.v'\n",
    "inp['variables']['X_and_IO_CPU'] = '1.1.1.%s.%s'%(ntasks_c,ntasks_v)\n",
    "inp['variables']['DIP_ROLEs'] = 'k.c.v'\n",
    "inp['variables']['DIP_CPU'] = '1.%s.%s'%(ntasks_c,ntasks_v)\n",
    "\n",
    "inp.set_kRange(K_index,K_index)\n",
    "inp.set_bandRange(start_band,stop_band)\n",
    "#inp"
   ]
  },
  {
   "cell_type": "code",
   "execution_count": 23,
   "metadata": {},
   "outputs": [],
   "source": [
    "GbndRnge = [[1,100],[1,300]] #,[1,500]]  # Bands in the Sigma_c"
   ]
  },
  {
   "cell_type": "code",
   "execution_count": 24,
   "metadata": {},
   "outputs": [
    {
     "name": "stdout",
     "output_type": "stream",
     "text": [
      "Initialize a Dataset with 4 parallel tasks\n"
     ]
    }
   ],
   "source": [
    "study = D.Dataset(run_dir=run_dir,num_tasks=4,verbose=True)\n",
    "study.set_postprocessing_function(PP.yambo_parse_data)\n",
    "\n",
    "for bnd in GbndRnge:\n",
    "    idd = 'ppa_dg-ngsblkxs_%s-bndsrnxs_%s-gbndrnge_%s'%(NGsBlkXs_conv,BndsRnXs_conv[1],bnd[1])\n",
    "    inp['variables']['GbndRnge'] = [bnd,'']\n",
    "    study.append_run(id=idd,input=inp,runner=code,jobname = [idd,'ndb_cutoff_rim_dipoles_hf','ndb_pp_dg_ngsblkxs_600-bndsrnxs_300','ndb_double_grid'])"
   ]
  },
  {
   "cell_type": "code",
   "execution_count": 25,
   "metadata": {},
   "outputs": [
    {
     "data": {
      "text/plain": [
       "{'label': 'Dataset',\n",
       " 'run_dir': 'GW_HF_analysis/kpoints_60-nbnds_700',\n",
       " 'num_tasks': 4,\n",
       " 'verbose': True,\n",
       " 'input': {'args': 'mpirun -np 1 yambo -r -k hartee -dyson n -gw0 p -V all',\n",
       "  'folder': 'GW_HF_analysis/kpoints_60-nbnds_700',\n",
       "  'filename': 'yambo.in',\n",
       "  'arguments': ['rim_cut', 'em1d', 'gw0', 'HF_and_locXC', 'ppa'],\n",
       "  'variables': {'StdoHash': [40.0, ''],\n",
       "   'Nelectro': [28.0, ''],\n",
       "   'ElecTemp': [0.0, 'eV'],\n",
       "   'BoseTemp': [-1.0, 'eV'],\n",
       "   'OccTresh': [1e-05, ''],\n",
       "   'NLogCPUs': [0.0, ''],\n",
       "   'MEM_tresh': [51200.0, 'Kb'],\n",
       "   'FFTGvecs': [17211.0, 'RL'],\n",
       "   'X_and_IO_nCPU_LinAlg_INV': [-1.0, ''],\n",
       "   'X_Threads': [0.0, ''],\n",
       "   'DIP_Threads': [0.0, ''],\n",
       "   'SE_Threads': [0.0, ''],\n",
       "   'RandQpts': [1000000, ''],\n",
       "   'RandGvec': [100, ''],\n",
       "   'IDEm1Ref': [0.0, ''],\n",
       "   'CUTRadius': [0.0, ''],\n",
       "   'CUTCylLen': [0.0, ''],\n",
       "   'CUTwsGvec': [0.7, ''],\n",
       "   'EXXRLvcs': [11000, 'RL'],\n",
       "   'VXCRLvcs': [110823.0, 'RL'],\n",
       "   'XfnQP_INTERP_NN': [1.0, ''],\n",
       "   'XfnQP_INTERP_shells': [20.0, ''],\n",
       "   'XfnQP_Wv_E': [0.0, 'eV'],\n",
       "   'XfnQP_Wv_dos': [0.0, 'eV'],\n",
       "   'XfnQP_Wc_E': [0.0, 'eV'],\n",
       "   'XfnQP_Wc_dos': [0.0, 'eV'],\n",
       "   'NGsBlkXp': [600, 'RL'],\n",
       "   'CGrdSpXp': [100.0, ''],\n",
       "   'PPAPntXp': [27.21138, 'eV'],\n",
       "   'XTermEn': [40.0, 'eV'],\n",
       "   'GfnQP_INTERP_NN': [1.0, ''],\n",
       "   'GfnQP_INTERP_shells': [20.0, ''],\n",
       "   'GfnQP_Wv_E': [0.0, 'eV'],\n",
       "   'GfnQP_Wv_dos': [0.0, 'eV'],\n",
       "   'GfnQP_Wc_E': [0.0, 'eV'],\n",
       "   'GfnQP_Wc_dos': [0.0, 'eV'],\n",
       "   'BoseCut': [0.1, ''],\n",
       "   'GDamping': [0.1, 'eV'],\n",
       "   'dScStep': [0.1, 'eV'],\n",
       "   'GTermEn': [40.81708, 'eV'],\n",
       "   'GWoIter': [0.0, ''],\n",
       "   'GWIter': [0.0, ''],\n",
       "   'SCEtresh': [0.01, 'eV'],\n",
       "   'DBsIOoff': 'none',\n",
       "   'DBsFRAGpm': 'none',\n",
       "   'PAR_def_mode': 'balanced',\n",
       "   'CUTGeo': 'box z',\n",
       "   'Chimod': 'HARTREE',\n",
       "   'ChiLinAlgMod': 'LIN_SYS',\n",
       "   'XfnQPdb': 'none',\n",
       "   'XfnQP_DbGd_INTERP_mode': 'NN',\n",
       "   'XTermKind': 'none',\n",
       "   'kind': 'BG',\n",
       "   'GfnQPdb': 'none',\n",
       "   'GfnQP_DbGd_INTERP_mode': 'NN',\n",
       "   'GTermKind': 'none',\n",
       "   'DysSolver': 'n',\n",
       "   'XfnQP_Z': [(1+0j), ''],\n",
       "   'GfnQP_Z': [(1+0j), ''],\n",
       "   'Em1Anys': [[0.0, 0.0, 0.0], ''],\n",
       "   'CUTBox': [[0.0, 0.0, 30], 'au'],\n",
       "   'XfnQP_E': [[0.0, 1.0, 1.0], ''],\n",
       "   'XfnQP_Wv': [[0.0, 0.0, 0.0], ''],\n",
       "   'XfnQP_Wc': [[0.0, 0.0, 0.0], ''],\n",
       "   'QpntsRXp': [[1, 331], ''],\n",
       "   'BndsRnXp': [[1, 300], ''],\n",
       "   'EhEngyXp': [['-1.000000', '-1.000000'], 'eV'],\n",
       "   'LongDrXp': [[1.0, 0.0, 0.0], ''],\n",
       "   'GfnQP_E': [[0.0, 1.0, 1.0], ''],\n",
       "   'GfnQP_Wv': [[0.0, 0.0, 0.0], ''],\n",
       "   'GfnQP_Wc': [[0.0, 0.0, 0.0], ''],\n",
       "   'GbndRnge': [[1, 100], ''],\n",
       "   'QPkrange': [[331, 331, 28, 29], ''],\n",
       "   'QPerange': [[1, 331, 0.0, '-1.000000'], ''],\n",
       "   'SE_CPU': '2.1.16',\n",
       "   'SE_ROLEs': 'q.qp.b',\n",
       "   'X_and_IO_ROLEs': 'q.g.k.c.v',\n",
       "   'X_and_IO_CPU': '1.1.1.16.2',\n",
       "   'DIP_ROLEs': 'k.c.v',\n",
       "   'DIP_CPU': '1.16.2'}},\n",
       " 'jobname': ['ppa_dg-ngsblkxs_600-bndsrnxs_300-gbndrnge_100',\n",
       "  'ndb_cutoff_rim_dipoles_hf',\n",
       "  'ndb_pp_dg_ngsblkxs_600-bndsrnxs_300',\n",
       "  'ndb_double_grid'],\n",
       " 'name': 'ppa_dg-ngsblkxs_600-bndsrnxs_300-gbndrnge_100'}"
      ]
     },
     "execution_count": 25,
     "metadata": {},
     "output_type": "execute_result"
    }
   ],
   "source": [
    "study.runs[0]"
   ]
  },
  {
   "cell_type": "code",
   "execution_count": 26,
   "metadata": {},
   "outputs": [
    {
     "name": "stdout",
     "output_type": "stream",
     "text": [
      "Run the selection [0, 1] with the parallel task_groups [[0, 1]] \n",
      "\n",
      "Run the task [0, 1] \n",
      "Skip the run of ppa_dg-ngsblkxs_600-bndsrnxs_300-gbndrnge_100\n",
      "Skip the run of ppa_dg-ngsblkxs_600-bndsrnxs_300-gbndrnge_300\n",
      "Task [0, 1] ended \n",
      " \n"
     ]
    }
   ],
   "source": [
    "results = study.run()"
   ]
  },
  {
   "cell_type": "code",
   "execution_count": 27,
   "metadata": {},
   "outputs": [
    {
     "data": {
      "text/plain": [
       "[0.142601, 0.141945]"
      ]
     },
     "execution_count": 27,
     "metadata": {},
     "output_type": "execute_result"
    }
   ],
   "source": [
    "gap = []\n",
    "for ind in range(len(GbndRnge)):\n",
    "    gap.append(results[ind].data.get_gap(k_full=test_set[k]['K_index'],band_full=start_band,verbose=False))\n",
    "gap"
   ]
  },
  {
   "cell_type": "markdown",
   "metadata": {},
   "source": [
    "### GW correction in the whole BZ"
   ]
  },
  {
   "cell_type": "markdown",
   "metadata": {},
   "source": [
    "Once that we have computed the $\\epsilon^{-1}$ we can evalute the GW corrections in all the $k$ points\n",
    "of the actual grids and for a proper band index range around the valence-conduction states.\n",
    "\n",
    "This computation is useful to determine the GW correction to the DFT band structure and moreover, is used\n",
    "to compute the BSE optical spectrum. "
   ]
  },
  {
   "cell_type": "code",
   "execution_count": 8,
   "metadata": {},
   "outputs": [],
   "source": [
    "start_kp,stop_kp = 1,331\n",
    "start_band,stop_band = 25,32 # bands range for the computation of the GW corrections"
   ]
  },
  {
   "cell_type": "markdown",
   "metadata": {},
   "source": [
    "We need to compute the HF correction for all the $k$ points and band range.\n",
    "\n",
    "On the basis of the convergence analysis performed (also) at $\\Gamma$ we set the\n",
    "EXXRLvcs parameter to 40e3 RL."
   ]
  },
  {
   "cell_type": "code",
   "execution_count": 11,
   "metadata": {},
   "outputs": [
    {
     "name": "stdout",
     "output_type": "stream",
     "text": [
      "16 1\n"
     ]
    }
   ],
   "source": [
    "ntasks_c = 16 # ismhpc: 16 for 2 nodes\n",
    "ntasks_v = int(ntasks/ntasks_c)\n",
    "print(ntasks_c,ntasks_v)\n",
    "\n",
    "#EXXRLvcs_conv = 11000 # RL\n",
    "EXXRLvcs_conv = 40000 # RL\n",
    "\n",
    "inp = I.YamboInput(args='mpirun -np 1 yambo -r -x -V all',folder=test_set[k_sel]['run_dir'])\n",
    "inp['variables']['RandQpts'] = [RandQpts,'']\n",
    "inp['variables']['RandGvec'] = [RandGvec,'']\n",
    "inp['variables']['CUTGeo'] = 'box z'\n",
    "inp['variables']['CUTBox'] = [[0.,0.,cut_z],'au']\n",
    "inp['variables']['EXXRLvcs'] = [EXXRLvcs_conv,'RL']\n",
    "inp['variables']['VXCRLvcs'] = [EXXRLvcs_conv,'RL']\n",
    "\n",
    "# Parallel roles\n",
    "#inp['variables']['SE_CPU'] = '1.2.16' # for 8 nodes on m100\n",
    "#inp['variables']['SE_CPU'] = '1.1.8' # for 2 nodes on m100\n",
    "inp['variables']['SE_CPU'] = '1.2.16' # for 2 nodes on ismhpc\n",
    "inp['variables']['SE_ROLEs'] = 'q.qp.b'\n",
    "inp['variables']['DIP_ROLEs'] = 'k.c.v'\n",
    "inp['variables']['DIP_CPU'] = '1.%s.%s'%(ntasks_c,ntasks_v)\n",
    "\n",
    "inp.set_kRange(start_kp,stop_kp)\n",
    "inp.set_bandRange(start_band,stop_band)\n",
    "#inp    "
   ]
  },
  {
   "cell_type": "code",
   "execution_count": 12,
   "metadata": {},
   "outputs": [
    {
     "name": "stdout",
     "output_type": "stream",
     "text": [
      "Initialize a Dataset with 1 parallel tasks\n"
     ]
    }
   ],
   "source": [
    "study = D.Dataset(run_dir=run_dir,num_tasks=1,verbose=True)\n",
    "study.set_postprocessing_function(PP.yambo_parse_data)\n",
    "\n",
    "idd = 'hf-kp_%s_%s-bnd_%s_%s'%(start_kp,stop_kp,start_band,stop_band)\n",
    "idd = 'hf-kp_%s_%s-bnd_%s_%s-exxrlcvs_%s'%(start_kp,stop_kp,start_band,stop_band,EXXRLvcs_conv)\n",
    "study.append_run(id=idd,input=inp,runner=code,jobname = [idd,'ndb_cutoff_rim_dipoles_hf'])"
   ]
  },
  {
   "cell_type": "code",
   "execution_count": 13,
   "metadata": {},
   "outputs": [
    {
     "data": {
      "text/plain": [
       "{'label': 'Dataset',\n",
       " 'run_dir': 'GW_HF_analysis/kpoints_60-nbnds_700',\n",
       " 'num_tasks': 1,\n",
       " 'verbose': True,\n",
       " 'input': {'args': 'mpirun -np 1 yambo -r -x -V all',\n",
       "  'folder': 'GW_HF_analysis/kpoints_60-nbnds_700',\n",
       "  'filename': 'yambo.in',\n",
       "  'arguments': ['rim_cut', 'HF_and_locXC'],\n",
       "  'variables': {'StdoHash': [40.0, ''],\n",
       "   'Nelectro': [28.0, ''],\n",
       "   'ElecTemp': [0.0, 'eV'],\n",
       "   'BoseTemp': [-1.0, 'eV'],\n",
       "   'OccTresh': [1e-05, ''],\n",
       "   'NLogCPUs': [0.0, ''],\n",
       "   'MEM_tresh': [51200.0, 'Kb'],\n",
       "   'FFTGvecs': [17211.0, 'RL'],\n",
       "   'SE_Threads': [0.0, ''],\n",
       "   'RandQpts': [1000000, ''],\n",
       "   'RandGvec': [100, ''],\n",
       "   'IDEm1Ref': [0.0, ''],\n",
       "   'CUTRadius': [0.0, ''],\n",
       "   'CUTCylLen': [0.0, ''],\n",
       "   'CUTwsGvec': [0.7, ''],\n",
       "   'EXXRLvcs': [40000, 'RL'],\n",
       "   'VXCRLvcs': [40000, 'RL'],\n",
       "   'DBsIOoff': 'none',\n",
       "   'DBsFRAGpm': 'none',\n",
       "   'PAR_def_mode': 'balanced',\n",
       "   'CUTGeo': 'box z',\n",
       "   'Em1Anys': [[0.0, 0.0, 0.0], ''],\n",
       "   'CUTBox': [[0.0, 0.0, 30], 'au'],\n",
       "   'QPkrange': [[1, 331, 25, 32], ''],\n",
       "   'QPerange': [[1, 331, 0.0, '-1.000000'], ''],\n",
       "   'SE_CPU': '1.2.16',\n",
       "   'SE_ROLEs': 'q.qp.b',\n",
       "   'DIP_ROLEs': 'k.c.v',\n",
       "   'DIP_CPU': '1.16.1'}},\n",
       " 'jobname': ['hf-kp_1_331-bnd_25_32-exxrlcvs_40000',\n",
       "  'ndb_cutoff_rim_dipoles_hf'],\n",
       " 'name': 'hf-kp_1_331-bnd_25_32-exxrlcvs_40000'}"
      ]
     },
     "execution_count": 13,
     "metadata": {},
     "output_type": "execute_result"
    }
   ],
   "source": [
    "study.runs[0]"
   ]
  },
  {
   "cell_type": "code",
   "execution_count": null,
   "metadata": {},
   "outputs": [
    {
     "name": "stdout",
     "output_type": "stream",
     "text": [
      "Run the selection [0] with the parallel task_groups [[0]] \n",
      "\n",
      "Run the task [0] \n",
      "run command: mpirun -np 16 yambo -F hf-kp_1_331-bnd_25_32-exxrlcvs_40000.in -J \"hf-kp_1_331-bnd_25_32-exxrlcvs_40000,ndb_cutoff_rim_dipoles_hf\" -C hf-kp_1_331-bnd_25_32-exxrlcvs_40000\n",
      "slurm submit:  cd GW_HF_analysis/kpoints_60-nbnds_700 ; sbatch job_hf-kp_1_331-bnd_25_32-exxrlcvs_40000.sh\n",
      "computation hf-kp_1_331-bnd_25_32-exxrlcvs_40000 is running...\n"
     ]
    }
   ],
   "source": [
    "results = study.run()"
   ]
  },
  {
   "cell_type": "markdown",
   "metadata": {},
   "source": [
    "Then we use the database for the GW correction in the whole range"
   ]
  },
  {
   "cell_type": "code",
   "execution_count": 18,
   "metadata": {},
   "outputs": [
    {
     "name": "stdout",
     "output_type": "stream",
     "text": [
      "16 1\n"
     ]
    }
   ],
   "source": [
    "#ntasks_c = 8 # m100: 16 for 8 nodes and 8 for 2 nodes\n",
    "ntasks_c = 16 # ismhpc: 16 for 2 nodes\n",
    "ntasks_v = int(ntasks/ntasks_c)\n",
    "print(ntasks_c,ntasks_v)\n",
    "\n",
    "EXXRLvcs_conv = 40000 #11000 # RL\n",
    "NGsBlkXs_conv = 600 # RL G size of the response function\n",
    "BndsRnXs_conv  = [1,300] # Bands in the response function\n",
    "GbndRnge_conv = [1,700] #[1,300]  # Bands in the Sigma_c\n",
    "\n",
    "inp = I.YamboInput(args='mpirun -np 1 yambo -r -k hartee -dyson n -gw0 p -V all',folder=test_set[k_sel]['run_dir'])\n",
    "inp.set_extendOut()\n",
    "inp['variables']['RandQpts'] = [RandQpts,'']\n",
    "inp['variables']['RandGvec'] = [RandGvec,'']\n",
    "inp['variables']['CUTGeo'] = 'box z'\n",
    "inp['variables']['CUTBox'] = [[0.,0.,cut_z],'au']\n",
    "inp['variables']['EXXRLvcs'] = [EXXRLvcs_conv,'RL']\n",
    "inp['variables']['VXCRLvcs'] = [EXXRLvcs_conv,'RL']\n",
    "inp['variables']['NGsBlkXp'] = [NGsBlkXs_conv,'RL']\n",
    "inp['variables']['BndsRnXp'] = [BndsRnXs_conv,'']\n",
    "inp['variables']['GbndRnge'] = [GbndRnge_conv,'']\n",
    "\n",
    "# Parallel roles\n",
    "#inp['variables']['SE_CPU'] = '1.2.16' # for 8 nodes on m100\n",
    "#inp['variables']['SE_CPU'] = '1.1.8' # for 2 nodes on m100\n",
    "#inp['variables']['SE_CPU'] = '1.2.16' # for 2 nodes on ismhpc\n",
    "inp['variables']['SE_CPU'] = '1.1.16' # for 2 nodes on ismhpc with 8 mpi/node\n",
    "inp['variables']['SE_ROLEs'] = 'q.qp.b'\n",
    "inp['variables']['X_and_IO_ROLEs'] = 'q.g.k.c.v'\n",
    "inp['variables']['X_and_IO_CPU'] = '1.1.1.%s.%s'%(ntasks_c,ntasks_v)\n",
    "inp['variables']['DIP_ROLEs'] = 'k.c.v'\n",
    "inp['variables']['DIP_CPU'] = '1.%s.%s'%(ntasks_c,ntasks_v)\n",
    "\n",
    "inp.set_kRange(start_kp,stop_kp)\n",
    "inp.set_bandRange(start_band,stop_band)\n",
    "#inp"
   ]
  },
  {
   "cell_type": "code",
   "execution_count": 19,
   "metadata": {},
   "outputs": [
    {
     "name": "stdout",
     "output_type": "stream",
     "text": [
      "Initialize a Dataset with 1 parallel tasks\n"
     ]
    }
   ],
   "source": [
    "study = D.Dataset(run_dir=run_dir,num_tasks=1,verbose=True)\n",
    "study.set_postprocessing_function(PP.yambo_parse_data)\n",
    "\n",
    "idd = 'allBz_ppa_dg-ngsblkxs_%s-bndsrnxs_%s-gbndrnge_%s'%(NGsBlkXs_conv,BndsRnXs_conv[1],GbndRnge_conv[1])\n",
    "study.append_run(id=idd,input=inp,runner=code,jobname = [idd,\n",
    "                                                         'ndb_cutoff_rim_dipoles_hf',\n",
    "                                                         'hf-kp_1_331-bnd_25_32-exxrlcvs_40000',\n",
    "                                                         'ndb_pp_dg_ngsblkxs_600-bndsrnxs_300','ndb_double_grid'])"
   ]
  },
  {
   "cell_type": "code",
   "execution_count": 20,
   "metadata": {},
   "outputs": [
    {
     "data": {
      "text/plain": [
       "{'label': 'Dataset',\n",
       " 'run_dir': 'GW_HF_analysis/kpoints_60-nbnds_700',\n",
       " 'num_tasks': 1,\n",
       " 'verbose': True,\n",
       " 'input': {'args': 'mpirun -np 1 yambo -r -k hartee -dyson n -gw0 p -V all',\n",
       "  'folder': 'GW_HF_analysis/kpoints_60-nbnds_700',\n",
       "  'filename': 'yambo.in',\n",
       "  'arguments': ['rim_cut', 'em1d', 'gw0', 'HF_and_locXC', 'ppa', 'ExtendOut'],\n",
       "  'variables': {'StdoHash': [40.0, ''],\n",
       "   'Nelectro': [28.0, ''],\n",
       "   'ElecTemp': [0.0, 'eV'],\n",
       "   'BoseTemp': [-1.0, 'eV'],\n",
       "   'OccTresh': [1e-05, ''],\n",
       "   'NLogCPUs': [0.0, ''],\n",
       "   'MEM_tresh': [51200.0, 'Kb'],\n",
       "   'FFTGvecs': [17211.0, 'RL'],\n",
       "   'X_and_IO_nCPU_LinAlg_INV': [-1.0, ''],\n",
       "   'X_Threads': [0.0, ''],\n",
       "   'DIP_Threads': [0.0, ''],\n",
       "   'SE_Threads': [0.0, ''],\n",
       "   'RandQpts': [1000000, ''],\n",
       "   'RandGvec': [100, ''],\n",
       "   'IDEm1Ref': [0.0, ''],\n",
       "   'CUTRadius': [0.0, ''],\n",
       "   'CUTCylLen': [0.0, ''],\n",
       "   'CUTwsGvec': [0.7, ''],\n",
       "   'EXXRLvcs': [40000, 'RL'],\n",
       "   'VXCRLvcs': [40000, 'RL'],\n",
       "   'XfnQP_INTERP_NN': [1.0, ''],\n",
       "   'XfnQP_INTERP_shells': [20.0, ''],\n",
       "   'XfnQP_Wv_E': [0.0, 'eV'],\n",
       "   'XfnQP_Wv_dos': [0.0, 'eV'],\n",
       "   'XfnQP_Wc_E': [0.0, 'eV'],\n",
       "   'XfnQP_Wc_dos': [0.0, 'eV'],\n",
       "   'NGsBlkXp': [600, 'RL'],\n",
       "   'CGrdSpXp': [100.0, ''],\n",
       "   'PPAPntXp': [27.21138, 'eV'],\n",
       "   'XTermEn': [40.0, 'eV'],\n",
       "   'GfnQP_INTERP_NN': [1.0, ''],\n",
       "   'GfnQP_INTERP_shells': [20.0, ''],\n",
       "   'GfnQP_Wv_E': [0.0, 'eV'],\n",
       "   'GfnQP_Wv_dos': [0.0, 'eV'],\n",
       "   'GfnQP_Wc_E': [0.0, 'eV'],\n",
       "   'GfnQP_Wc_dos': [0.0, 'eV'],\n",
       "   'BoseCut': [0.1, ''],\n",
       "   'GDamping': [0.1, 'eV'],\n",
       "   'dScStep': [0.1, 'eV'],\n",
       "   'GTermEn': [40.81708, 'eV'],\n",
       "   'GWoIter': [0.0, ''],\n",
       "   'GWIter': [0.0, ''],\n",
       "   'SCEtresh': [0.01, 'eV'],\n",
       "   'DBsIOoff': 'none',\n",
       "   'DBsFRAGpm': 'none',\n",
       "   'PAR_def_mode': 'balanced',\n",
       "   'CUTGeo': 'box z',\n",
       "   'Chimod': 'HARTREE',\n",
       "   'ChiLinAlgMod': 'LIN_SYS',\n",
       "   'XfnQPdb': 'none',\n",
       "   'XfnQP_DbGd_INTERP_mode': 'NN',\n",
       "   'XTermKind': 'none',\n",
       "   'kind': 'BG',\n",
       "   'GfnQPdb': 'none',\n",
       "   'GfnQP_DbGd_INTERP_mode': 'NN',\n",
       "   'GTermKind': 'none',\n",
       "   'DysSolver': 'n',\n",
       "   'XfnQP_Z': [(1+0j), ''],\n",
       "   'GfnQP_Z': [(1+0j), ''],\n",
       "   'Em1Anys': [[0.0, 0.0, 0.0], ''],\n",
       "   'CUTBox': [[0.0, 0.0, 30], 'au'],\n",
       "   'XfnQP_E': [[0.0, 1.0, 1.0], ''],\n",
       "   'XfnQP_Wv': [[0.0, 0.0, 0.0], ''],\n",
       "   'XfnQP_Wc': [[0.0, 0.0, 0.0], ''],\n",
       "   'QpntsRXp': [[1, 331], ''],\n",
       "   'BndsRnXp': [[1, 300], ''],\n",
       "   'EhEngyXp': [['-1.000000', '-1.000000'], 'eV'],\n",
       "   'LongDrXp': [[1.0, 0.0, 0.0], ''],\n",
       "   'GfnQP_E': [[0.0, 1.0, 1.0], ''],\n",
       "   'GfnQP_Wv': [[0.0, 0.0, 0.0], ''],\n",
       "   'GfnQP_Wc': [[0.0, 0.0, 0.0], ''],\n",
       "   'GbndRnge': [[1, 700], ''],\n",
       "   'QPkrange': [[1, 331, 25, 32], ''],\n",
       "   'QPerange': [[1, 331, 0.0, '-1.000000'], ''],\n",
       "   'SE_CPU': '1.1.16',\n",
       "   'SE_ROLEs': 'q.qp.b',\n",
       "   'X_and_IO_ROLEs': 'q.g.k.c.v',\n",
       "   'X_and_IO_CPU': '1.1.1.16.1',\n",
       "   'DIP_ROLEs': 'k.c.v',\n",
       "   'DIP_CPU': '1.16.1'}},\n",
       " 'jobname': ['allBz_ppa_dg-ngsblkxs_600-bndsrnxs_300-gbndrnge_700',\n",
       "  'ndb_cutoff_rim_dipoles_hf',\n",
       "  'hf-kp_1_331-bnd_25_32-exxrlcvs_40000',\n",
       "  'ndb_pp_dg_ngsblkxs_600-bndsrnxs_300',\n",
       "  'ndb_double_grid'],\n",
       " 'name': 'allBz_ppa_dg-ngsblkxs_600-bndsrnxs_300-gbndrnge_700'}"
      ]
     },
     "execution_count": 20,
     "metadata": {},
     "output_type": "execute_result"
    }
   ],
   "source": [
    "study.runs[0]"
   ]
  },
  {
   "cell_type": "code",
   "execution_count": null,
   "metadata": {},
   "outputs": [
    {
     "name": "stdout",
     "output_type": "stream",
     "text": [
      "Run the selection [0] with the parallel task_groups [[0]] \n",
      "\n",
      "Run the task [0] \n",
      "delete job_out script: GW_HF_analysis/kpoints_60-nbnds_700/job_allBz_ppa_dg-ngsblkxs_600-bndsrnxs_300-gbndrnge_700.out\n",
      "delete folder: GW_HF_analysis/kpoints_60-nbnds_700/allBz_ppa_dg-ngsblkxs_600-bndsrnxs_300-gbndrnge_700\n",
      "run command: mpirun -np 16 yambo -F allBz_ppa_dg-ngsblkxs_600-bndsrnxs_300-gbndrnge_700.in -J \"allBz_ppa_dg-ngsblkxs_600-bndsrnxs_300-gbndrnge_700,ndb_cutoff_rim_dipoles_hf,hf-kp_1_331-bnd_25_32-exxrlcvs_40000,ndb_pp_dg_ngsblkxs_600-bndsrnxs_300,ndb_double_grid\" -C allBz_ppa_dg-ngsblkxs_600-bndsrnxs_300-gbndrnge_700\n",
      "slurm submit:  cd GW_HF_analysis/kpoints_60-nbnds_700 ; sbatch job_allBz_ppa_dg-ngsblkxs_600-bndsrnxs_300-gbndrnge_700.sh\n",
      "computation allBz_ppa_dg-ngsblkxs_600-bndsrnxs_300-gbndrnge_700 is running...\n"
     ]
    }
   ],
   "source": [
    "results = study.run()"
   ]
  },
  {
   "cell_type": "code",
   "execution_count": 15,
   "metadata": {},
   "outputs": [
    {
     "data": {
      "text/plain": [
       "{'kpoint': array([  1.,   1.,   1., ..., 331., 331., 331.]),\n",
       " 'band': array([25., 26., 27., ..., 30., 31., 32.]),\n",
       " 'E0': array([-0.587816, -0.587816, -0.390997, ...,  0.012861,  4.385763,\n",
       "         4.385772]),\n",
       " 'E': array([-1.205051, -1.205048, -1.010265, ..., -0.402029,  4.200761,\n",
       "         4.200787]),\n",
       " 'EmE0': array([-0.617235, -0.617232, -0.619267, ..., -0.41489 , -0.185002,\n",
       "        -0.184985]),\n",
       " 'Dft': array([-12.87999 , -12.87998 , -12.81812 , ..., -10.65953 ,  -6.684524,\n",
       "         -6.684556]),\n",
       " 'hf': array([-15.10425 , -15.10425 , -14.82326 , ...,  -9.965127,  -3.184477,\n",
       "         -3.184469]),\n",
       " 'sce0': array([0.810576, 0.81057 , 0.812872, ..., 0.805135, 0.855259, 0.85531 ]),\n",
       " 'sce': array([ 0.00038246,  0.00038241,  0.00035914, ..., -0.00017025,\n",
       "         0.00033301,  0.00033318]),\n",
       " 'dsc_dwe0': array([  2.675874,   2.675886,   2.030901, ...,  -1.835792, -10.86614 ,\n",
       "        -10.8668  ]),\n",
       " 'z_Re': array([245.9802, 245.979 , 324.0984, ..., 358.5439,  60.5746,  60.5709])}"
      ]
     },
     "execution_count": 15,
     "metadata": {},
     "output_type": "execute_result"
    }
   ],
   "source": [
    "results[0].data['qp']"
   ]
  },
  {
   "cell_type": "code",
   "execution_count": 30,
   "metadata": {},
   "outputs": [],
   "source": [
    "dft = results[0].dft"
   ]
  },
  {
   "cell_type": "code",
   "execution_count": 20,
   "metadata": {},
   "outputs": [],
   "source": [
    "alat_ratio = np.array([1,7.64410/6.61998,1])"
   ]
  },
  {
   "cell_type": "code",
   "execution_count": 22,
   "metadata": {},
   "outputs": [],
   "source": [
    "dft.kpoints*alat_ratio"
   ]
  },
  {
   "cell_type": "code",
   "execution_count": 31,
   "metadata": {},
   "outputs": [],
   "source": [
    "dft_energies = dft.get_evals()"
   ]
  },
  {
   "cell_type": "code",
   "execution_count": 33,
   "metadata": {},
   "outputs": [
    {
     "name": "stdout",
     "output_type": "stream",
     "text": [
      "Direct gap system\n",
      "=================\n",
      "Gap : 0.023927212 eV\n"
     ]
    },
    {
     "data": {
      "text/plain": [
       "{'gap': 0.023927212,\n",
       " 'direct_gap': 0.023927212,\n",
       " 'position_cbm': 330,\n",
       " 'positon_vbm': 330}"
      ]
     },
     "execution_count": 33,
     "metadata": {},
     "output_type": "execute_result"
    }
   ],
   "source": [
    "dft.get_gap()"
   ]
  },
  {
   "cell_type": "code",
   "execution_count": 37,
   "metadata": {},
   "outputs": [
    {
     "data": {
      "text/plain": [
       "0.023927212"
      ]
     },
     "execution_count": 37,
     "metadata": {},
     "output_type": "execute_result"
    }
   ],
   "source": [
    "dft_energies[330][28]-dft_energies[330][27]"
   ]
  },
  {
   "cell_type": "code",
   "execution_count": 38,
   "metadata": {},
   "outputs": [
    {
     "data": {
      "text/plain": [
       "0.8478849"
      ]
     },
     "execution_count": 38,
     "metadata": {},
     "output_type": "execute_result"
    }
   ],
   "source": [
    "dft_energies[0][28]-dft_energies[0][27]"
   ]
  },
  {
   "cell_type": "code",
   "execution_count": 40,
   "metadata": {},
   "outputs": [],
   "source": [
    "gw = results[0].data['qp']"
   ]
  },
  {
   "cell_type": "code",
   "execution_count": 49,
   "metadata": {},
   "outputs": [
    {
     "data": {
      "text/plain": [
       "2648"
      ]
     },
     "execution_count": 49,
     "metadata": {},
     "output_type": "execute_result"
    }
   ],
   "source": [
    "len(gw['E0'])"
   ]
  },
  {
   "cell_type": "code",
   "execution_count": 50,
   "metadata": {},
   "outputs": [
    {
     "data": {
      "text/plain": [
       "(0.847885, 0.023927999999999998)"
      ]
     },
     "execution_count": 50,
     "metadata": {},
     "output_type": "execute_result"
    }
   ],
   "source": [
    "gw['E0'][4]-gw['E0'][3],gw['E0'][2644]-gw['E0'][2643]"
   ]
  },
  {
   "cell_type": "code",
   "execution_count": 51,
   "metadata": {},
   "outputs": [
    {
     "data": {
      "text/plain": [
       "(0.5658989999999999, 0.16605999999999999)"
      ]
     },
     "execution_count": 51,
     "metadata": {},
     "output_type": "execute_result"
    }
   ],
   "source": [
    "gw['E'][4]-gw['E'][3],gw['E'][2644]-gw['E'][2643]"
   ]
  },
  {
   "cell_type": "code",
   "execution_count": 57,
   "metadata": {},
   "outputs": [
    {
     "data": {
      "text/plain": [
       "array([  1.,   1.,   1., ..., 331., 331., 331.])"
      ]
     },
     "execution_count": 57,
     "metadata": {},
     "output_type": "execute_result"
    }
   ],
   "source": [
    "kpoints = gw['kpoint']\n",
    "bands = gw['band']\n",
    "kpoints"
   ]
  },
  {
   "cell_type": "code",
   "execution_count": 62,
   "metadata": {},
   "outputs": [
    {
     "name": "stdout",
     "output_type": "stream",
     "text": [
      "[2640 2641 2642 2643 2644 2645 2646 2647]\n"
     ]
    },
    {
     "data": {
      "text/plain": [
       "(array([3]),)"
      ]
     },
     "execution_count": 62,
     "metadata": {},
     "output_type": "execute_result"
    }
   ],
   "source": [
    "ind1 = np.where(kpoints==331)[0]\n",
    "print(ind1)\n",
    "ind2 = np.where(bands[ind1] == 28)\n",
    "ind2"
   ]
  },
  {
   "cell_type": "markdown",
   "metadata": {
    "tags": []
   },
   "source": [
    "## Convergence test at $\\Gamma$"
   ]
  },
  {
   "cell_type": "code",
   "execution_count": 110,
   "metadata": {},
   "outputs": [
    {
     "name": "stdout",
     "output_type": "stream",
     "text": [
      "Initialize a Yambo calculator with scheduler slurm\n"
     ]
    },
    {
     "data": {
      "text/plain": [
       "{'scheduler': 'slurm',\n",
       " 'nodes': 2,\n",
       " 'ntasks_per_node': 8,\n",
       " 'cpus_per_task': 4,\n",
       " 'omp_num_threads': 4,\n",
       " 'gpus_per_node': None,\n",
       " 'memory': '125000',\n",
       " 'time': None,\n",
       " 'partition': 'slownodes',\n",
       " 'account': None,\n",
       " 'qos': None,\n",
       " 'map_by': None,\n",
       " 'pe': 1,\n",
       " 'rank_by': None,\n",
       " 'executable': 'yambo',\n",
       " 'skip': True,\n",
       " 'clean_restart': True,\n",
       " 'dry_run': False,\n",
       " 'wait_end_run': True,\n",
       " 'activate_BeeOND': True,\n",
       " 'verbose': True}"
      ]
     },
     "execution_count": 110,
     "metadata": {},
     "output_type": "execute_result"
    }
   ],
   "source": [
    "# RunRules for ismhpc\n",
    "# The product of ntasks_per_node*cpus_per_task is equal to 32. \n",
    "# Many mpi are needed for better performances\n",
    "nodes = 2\n",
    "ntasks_per_node = 8 #16\n",
    "cpus_per_task= 4 #2\n",
    "omp_num_threads= 4 #2\n",
    "\n",
    "ntasks = nodes*ntasks_per_node\n",
    "\n",
    "rr = C.RunRules(scheduler='slurm',partition='slownodes',\n",
    "                memory='125000',\n",
    "                nodes=nodes,ntasks_per_node=ntasks_per_node,\n",
    "                cpus_per_task=cpus_per_task,\n",
    "                omp_num_threads=omp_num_threads)\n",
    "code = C.YamboCalculator(rr,activate_BeeOND=True) #,clean_restart=False,skip=False)\n",
    "code.global_options()"
   ]
  },
  {
   "cell_type": "markdown",
   "metadata": {},
   "source": [
    "We test the convergence of the GW analyis at the Gamma point to see if the chosen converged parameter are reliable\n",
    "also far from the K point.\n",
    "\n",
    "For this analysis th HF ndb in the folder ndb_cutoff_rim_dipoles_hf has been hidden."
   ]
  },
  {
   "cell_type": "markdown",
   "metadata": {},
   "source": [
    "First we test the HF computation for the exchange part of the self energy."
   ]
  },
  {
   "cell_type": "code",
   "execution_count": 56,
   "metadata": {},
   "outputs": [],
   "source": [
    "run_dir = 'GW_HF_analysis/kpoints_60-nbnds_700/'\n",
    "K_index = 1\n",
    "start_band,stop_band = 28,29 # bands range for the computation of the HF corrections\n",
    "cut_z = 30 # 60 # au, slightly smaller than the cell, in agreement with the Yambo tutorial page\n",
    "RandQpts = 1000000 # Number of random q-points in the BZ\n",
    "RandGvec = 100 # use the RIM for the first 100 G-components of the coulomb potential "
   ]
  },
  {
   "cell_type": "code",
   "execution_count": 48,
   "metadata": {},
   "outputs": [
    {
     "name": "stdout",
     "output_type": "stream",
     "text": [
      "16 2\n",
      "Initialize a Dataset with 2 parallel tasks\n"
     ]
    }
   ],
   "source": [
    "ntasks_c = 16 # ismhpc: 16 for 2 nodes\n",
    "ntasks_v = int(ntasks/ntasks_c)\n",
    "print(ntasks_c,ntasks_v)\n",
    "\n",
    "EXXRLvcs = [7000,9000,11000,15000,20000,40000,60000,80000] # RL\n",
    "\n",
    "study = D.Dataset(run_dir=run_dir,num_tasks=2,verbose=True)\n",
    "study.set_postprocessing_function(PP.yambo_parse_data)\n",
    "\n",
    "inp = I.YamboInput(args='mpirun -np 1 yambo -r -x -V all',folder=run_dir)\n",
    "inp.set_extendOut()\n",
    "inp['variables']['RandQpts'] = [RandQpts,'']\n",
    "inp['variables']['RandGvec'] = [RandGvec,'']\n",
    "inp['variables']['CUTGeo'] = 'box z'\n",
    "inp['variables']['CUTBox'] = [[0.,0.,cut_z],'au']\n",
    "\n",
    "# Parallel roles\n",
    "inp['variables']['SE_CPU'] = '1.2.16' # for 2 nodes on ismhpc\n",
    "inp['variables']['SE_ROLEs'] = 'q.qp.b'\n",
    "inp['variables']['DIP_ROLEs'] = 'k.c.v'\n",
    "inp['variables']['DIP_CPU'] = '1.%s.%s'%(ntasks_c,ntasks_v)\n",
    "\n",
    "inp.set_kRange(K_index,K_index)\n",
    "inp.set_bandRange(start_band,stop_band)\n",
    "\n",
    "for ex in EXXRLvcs:\n",
    "    #idd = {'kpoints':k_sel,'exxrlvcs':ex,'cutbox':cut_z,'randQ':RandQpts,'randG':RandGvec}#,'nodes':nodes}\n",
    "    idd = 'hf-Gamma_exxrlvcs_%s'%ex\n",
    "    inp['variables']['EXXRLvcs'] = [ex,'RL']\n",
    "    inp['variables']['VXCRLvcs'] = [ex,'RL']\n",
    "    study.append_run(id=idd,input=inp,runner=code,jobname = [idd,'ndb_cutoff_rim_dipoles_hf'])"
   ]
  },
  {
   "cell_type": "code",
   "execution_count": 49,
   "metadata": {},
   "outputs": [],
   "source": [
    "#study.runs[1]"
   ]
  },
  {
   "cell_type": "code",
   "execution_count": 50,
   "metadata": {},
   "outputs": [
    {
     "name": "stdout",
     "output_type": "stream",
     "text": [
      "Run the selection [0, 1, 2, 3, 4, 5, 6, 7] with the parallel task_groups [[0, 1], [2, 3], [4, 5], [6, 7]] \n",
      "\n",
      "Run the task [0, 1] \n",
      "Skip the run of hf-Gamma_exxrlvcs_7000\n",
      "Skip the run of hf-Gamma_exxrlvcs_9000\n",
      "Task [0, 1] ended \n",
      " \n",
      "Run the task [2, 3] \n",
      "Skip the run of hf-Gamma_exxrlvcs_11000\n",
      "Skip the run of hf-Gamma_exxrlvcs_15000\n",
      "Task [2, 3] ended \n",
      " \n",
      "Run the task [4, 5] \n",
      "Skip the run of hf-Gamma_exxrlvcs_20000\n",
      "Skip the run of hf-Gamma_exxrlvcs_40000\n",
      "Task [4, 5] ended \n",
      " \n",
      "Run the task [6, 7] \n",
      "Skip the run of hf-Gamma_exxrlvcs_60000\n",
      "run command: mpirun -np 32 yambo -F hf-Gamma_exxrlvcs_80000.in -J \"hf-Gamma_exxrlvcs_80000,ndb_cutoff_rim_dipoles_hf\" -C hf-Gamma_exxrlvcs_80000\n",
      "slurm submit:  cd GW_HF_analysis/kpoints_60-nbnds_700/ ; sbatch job_hf-Gamma_exxrlvcs_80000.sh\n",
      "computation hf-Gamma_exxrlvcs_80000 is running...\n",
      "computation hf-Gamma_exxrlvcs_80000 ended\n",
      "Run performed in 01m-39s\n",
      "Task [6, 7] ended \n",
      " \n"
     ]
    }
   ],
   "source": [
    "results = study.run()"
   ]
  },
  {
   "cell_type": "code",
   "execution_count": 51,
   "metadata": {},
   "outputs": [
    {
     "data": {
      "text/plain": [
       "[5.013736,\n",
       " 5.014134,\n",
       " 5.014354,\n",
       " 5.015817999999999,\n",
       " 5.014806,\n",
       " 5.0097570000000005,\n",
       " 5.009462,\n",
       " 5.009468]"
      ]
     },
     "execution_count": 51,
     "metadata": {},
     "output_type": "execute_result"
    }
   ],
   "source": [
    "gap = [results[ind].data.get_gap(k_full=K_index,band_full=start_band,verbose=False) for ind in range(len(EXXRLvcs))]\n",
    "gap"
   ]
  },
  {
   "cell_type": "code",
   "execution_count": 52,
   "metadata": {},
   "outputs": [
    {
     "data": {
      "text/plain": [
       "<matplotlib.collections.PathCollection at 0x7f41d474b8d0>"
      ]
     },
     "execution_count": 52,
     "metadata": {},
     "output_type": "execute_result"
    },
    {
     "data": {
      "image/png": "[encoded data removed]",
      "text/plain": [
       "<Figure size 432x288 with 1 Axes>"
      ]
     },
     "metadata": {
      "needs_background": "light"
     },
     "output_type": "display_data"
    }
   ],
   "source": [
    "plt.plot(EXXRLvcs,gap)\n",
    "plt.scatter(EXXRLvcs,gap)"
   ]
  },
  {
   "cell_type": "markdown",
   "metadata": {},
   "source": [
    "This analysis evidence that, at $\\Gamma$, the HF gap converge at the level of 1 meV at around 40e3 RL G points.\n",
    "\n",
    "The value of 11e3 used in the actual evaluation of the band structure is responsible for an error of the order of the 5 meV."
   ]
  },
  {
   "cell_type": "markdown",
   "metadata": {},
   "source": [
    "Next we test the convergence of the gap at the plasmon pole level in term of the GbndRange parameter. This \n",
    "analysis is performed using the ndb.pp alreadt computed (the improvement of this ndb is very demaning and\n",
    "is not performed at this level."
   ]
  },
  {
   "cell_type": "code",
   "execution_count": 112,
   "metadata": {},
   "outputs": [
    {
     "name": "stdout",
     "output_type": "stream",
     "text": [
      "16 1\n"
     ]
    }
   ],
   "source": [
    "ntasks_c = 16 # ismhpc: 16 for 2 nodes\n",
    "ntasks_v = int(ntasks/ntasks_c)\n",
    "print(ntasks_c,ntasks_v)\n",
    "\n",
    "EXXRLvcs_conv = 40000 # RL\n",
    "NGsBlkXs_conv = 600 # RL G size of the response function\n",
    "BndsRnXs_conv  = [1,300] # Bands in the response function\n",
    "\n",
    "inp = I.YamboInput(args='mpirun -np 1 yambo -r -k hartee -dyson n -gw0 p -V all',folder=run_dir)\n",
    "inp.set_extendOut()\n",
    "inp['variables']['RandQpts'] = [RandQpts,'']\n",
    "inp['variables']['RandGvec'] = [RandGvec,'']\n",
    "inp['variables']['CUTGeo'] = 'box z'\n",
    "inp['variables']['CUTBox'] = [[0.,0.,cut_z],'au']\n",
    "inp['variables']['EXXRLvcs'] = [EXXRLvcs_conv,'RL']\n",
    "inp['variables']['VXCRLvcs'] = [EXXRLvcs_conv,'RL']\n",
    "inp['variables']['NGsBlkXp'] = [NGsBlkXs_conv,'RL']\n",
    "inp['variables']['BndsRnXp'] = [BndsRnXs_conv,'']\n",
    "\n",
    "# Parallel roles\n",
    "inp['variables']['SE_ROLEs'] = 'q.qp.b'\n",
    "inp['variables']['SE_CPU'] = '1.1.16' # for 2 nodes on ismhpc\n",
    "inp['variables']['X_and_IO_ROLEs'] = 'q.g.k.c.v'\n",
    "inp['variables']['X_and_IO_CPU'] = '1.1.1.%s.%s'%(ntasks_c,ntasks_v)\n",
    "inp['variables']['DIP_ROLEs'] = 'k.c.v'\n",
    "inp['variables']['DIP_CPU'] = '1.%s.%s'%(ntasks_c,ntasks_v)\n",
    "\n",
    "inp.set_kRange(K_index,K_index)\n",
    "inp.set_bandRange(start_band,stop_band)\n",
    "#inp"
   ]
  },
  {
   "cell_type": "code",
   "execution_count": 113,
   "metadata": {},
   "outputs": [],
   "source": [
    "GbndRnge = [[1,100],[1,300],[1,500],[1,700]]  # Bands in the Sigma_c"
   ]
  },
  {
   "cell_type": "code",
   "execution_count": 114,
   "metadata": {},
   "outputs": [
    {
     "name": "stdout",
     "output_type": "stream",
     "text": [
      "Initialize a Dataset with 1 parallel tasks\n"
     ]
    }
   ],
   "source": [
    "study = D.Dataset(run_dir=run_dir,num_tasks=1,verbose=True)\n",
    "study.set_postprocessing_function(PP.yambo_parse_data)\n",
    "\n",
    "for bnd in GbndRnge:\n",
    "    idd = 'ppa-gamma_dg-ngsblkxs_%s-bndsrnxs_%s-gbndrnge_%s'%(NGsBlkXs_conv,BndsRnXs_conv[1],bnd[1])\n",
    "    inp['variables']['GbndRnge'] = [bnd,'']\n",
    "    study.append_run(id=idd,input=inp,runner=code,\n",
    "                     jobname = [idd,'ndb_cutoff_rim_dipoles_hf','hf-Gamma_exxrlvcs_40000','ndb_pp_dg_ngsblkxs_600-bndsrnxs_300','ndb_double_grid'])"
   ]
  },
  {
   "cell_type": "code",
   "execution_count": 115,
   "metadata": {},
   "outputs": [],
   "source": [
    "#study.runs[0]"
   ]
  },
  {
   "cell_type": "code",
   "execution_count": 116,
   "metadata": {},
   "outputs": [
    {
     "name": "stdout",
     "output_type": "stream",
     "text": [
      "Run the selection [0, 1, 2, 3] with the parallel task_groups [[0], [1], [2], [3]] \n",
      "\n",
      "Run the task [0] \n",
      "Skip the run of ppa-gamma_dg-ngsblkxs_600-bndsrnxs_300-gbndrnge_100\n",
      "Task [0] ended \n",
      " \n",
      "Run the task [1] \n",
      "Skip the run of ppa-gamma_dg-ngsblkxs_600-bndsrnxs_300-gbndrnge_300\n",
      "Task [1] ended \n",
      " \n",
      "Run the task [2] \n",
      "Skip the run of ppa-gamma_dg-ngsblkxs_600-bndsrnxs_300-gbndrnge_500\n",
      "Task [2] ended \n",
      " \n",
      "Run the task [3] \n",
      "delete job_out script: GW_HF_analysis/kpoints_60-nbnds_700/job_ppa-gamma_dg-ngsblkxs_600-bndsrnxs_300-gbndrnge_700.out\n",
      "delete folder: GW_HF_analysis/kpoints_60-nbnds_700/ppa-gamma_dg-ngsblkxs_600-bndsrnxs_300-gbndrnge_700\n",
      "run command: mpirun -np 16 yambo -F ppa-gamma_dg-ngsblkxs_600-bndsrnxs_300-gbndrnge_700.in -J \"ppa-gamma_dg-ngsblkxs_600-bndsrnxs_300-gbndrnge_700,ndb_cutoff_rim_dipoles_hf,hf-Gamma_exxrlvcs_40000,ndb_pp_dg_ngsblkxs_600-bndsrnxs_300,ndb_double_grid\" -C ppa-gamma_dg-ngsblkxs_600-bndsrnxs_300-gbndrnge_700\n",
      "slurm submit:  cd GW_HF_analysis/kpoints_60-nbnds_700/ ; sbatch job_ppa-gamma_dg-ngsblkxs_600-bndsrnxs_300-gbndrnge_700.sh\n",
      "computation ppa-gamma_dg-ngsblkxs_600-bndsrnxs_300-gbndrnge_700 is running...\n",
      "computation ppa-gamma_dg-ngsblkxs_600-bndsrnxs_300-gbndrnge_700 ended\n",
      "Run performed in 34m-42s\n",
      "Task [3] ended \n",
      " \n"
     ]
    }
   ],
   "source": [
    "results = study.run()"
   ]
  },
  {
   "cell_type": "code",
   "execution_count": 118,
   "metadata": {},
   "outputs": [
    {
     "data": {
      "text/plain": [
       "{'qp': {'kpoint': array([1., 1.]),\n",
       "  'band': array([28., 29.]),\n",
       "  'E0': array([-0.390997,  0.456888]),\n",
       "  'E': array([-0.31569 ,  0.353718]),\n",
       "  'EmE0': array([ 0.075307, -0.103169]),\n",
       "  'Dft': array([-12.82559, -14.90588]),\n",
       "  'hf': array([-14.82329, -12.7417 ]),\n",
       "  'sce0': array([ 2.088988, -2.295123]),\n",
       "  'sce': array([ 2.073002, -2.267347]),\n",
       "  'dsc_dwe0': array([-5.775317, -7.325222]),\n",
       "  'z_Re': array([0.82492 , 0.787899]),\n",
       "  'z_Im': array([0.00042938, 0.00060199]),\n",
       "  'width_mev': array([ 3.938547, -3.921949]),\n",
       "  'width_fs': array([167.1205, 167.8277])}}"
      ]
     },
     "execution_count": 118,
     "metadata": {},
     "output_type": "execute_result"
    }
   ],
   "source": [
    "results[0].data"
   ]
  },
  {
   "cell_type": "code",
   "execution_count": 119,
   "metadata": {},
   "outputs": [
    {
     "data": {
      "text/plain": [
       "[0.669408, 0.5620569999999999, 0.4966210000000001, 0.45866699999999994]"
      ]
     },
     "execution_count": 119,
     "metadata": {},
     "output_type": "execute_result"
    }
   ],
   "source": [
    "gap = [results[ind].data.get_gap(k_full=K_index,band_full=start_band,verbose=False) for ind in range(len(GbndRnge))]\n",
    "gap"
   ]
  },
  {
   "cell_type": "code",
   "execution_count": 121,
   "metadata": {},
   "outputs": [
    {
     "data": {
      "text/plain": [
       "<matplotlib.collections.PathCollection at 0x7f41d44d1198>"
      ]
     },
     "execution_count": 121,
     "metadata": {},
     "output_type": "execute_result"
    },
    {
     "data": {
      "image/png": "[encoded data removed]",
      "text/plain": [
       "<Figure size 432x288 with 1 Axes>"
      ]
     },
     "metadata": {
      "needs_background": "light"
     },
     "output_type": "display_data"
    }
   ],
   "source": [
    "GbndRnge_plot = [ind[1] for ind in GbndRnge]\n",
    "plt.plot(GbndRnge_plot,gap)\n",
    "plt.scatter(GbndRnge_plot,gap)"
   ]
  },
  {
   "cell_type": "markdown",
   "metadata": {},
   "source": [
    "This analysis evidences that, at $\\Gamma$, the convergence is very weak in function of GbndRnge...."
   ]
  },
  {
   "cell_type": "markdown",
   "metadata": {
    "tags": []
   },
   "source": [
    "## New convergence test at $K$"
   ]
  },
  {
   "cell_type": "code",
   "execution_count": 123,
   "metadata": {},
   "outputs": [
    {
     "name": "stdout",
     "output_type": "stream",
     "text": [
      "Initialize a Yambo calculator with scheduler slurm\n"
     ]
    },
    {
     "data": {
      "text/plain": [
       "{'scheduler': 'slurm',\n",
       " 'nodes': 2,\n",
       " 'ntasks_per_node': 16,\n",
       " 'cpus_per_task': 2,\n",
       " 'omp_num_threads': 2,\n",
       " 'gpus_per_node': None,\n",
       " 'memory': '125000',\n",
       " 'time': None,\n",
       " 'partition': 'slownodes',\n",
       " 'account': None,\n",
       " 'qos': None,\n",
       " 'map_by': None,\n",
       " 'pe': 1,\n",
       " 'rank_by': None,\n",
       " 'executable': 'yambo',\n",
       " 'skip': True,\n",
       " 'clean_restart': True,\n",
       " 'dry_run': False,\n",
       " 'wait_end_run': True,\n",
       " 'activate_BeeOND': True,\n",
       " 'verbose': True}"
      ]
     },
     "execution_count": 123,
     "metadata": {},
     "output_type": "execute_result"
    }
   ],
   "source": [
    "# RunRules for ismhpc\n",
    "# The product of ntasks_per_node*cpus_per_task is equal to 32. \n",
    "# Many mpi are needed for better performances\n",
    "nodes = 2\n",
    "ntasks_per_node = 16\n",
    "cpus_per_task= 2\n",
    "omp_num_threads= 2\n",
    "\n",
    "ntasks = nodes*ntasks_per_node\n",
    "\n",
    "rr = C.RunRules(scheduler='slurm',partition='slownodes',\n",
    "                memory='125000',\n",
    "                nodes=nodes,ntasks_per_node=ntasks_per_node,\n",
    "                cpus_per_task=cpus_per_task,\n",
    "                omp_num_threads=omp_num_threads)\n",
    "code = C.YamboCalculator(rr,activate_BeeOND=True) #,clean_restart=False,skip=False)\n",
    "code.global_options()"
   ]
  },
  {
   "cell_type": "markdown",
   "metadata": {},
   "source": [
    "We repeat the convergence analysis at K, using the procedure adopted above at $\\Gamma$.\n",
    "\n",
    "For this analysis th HF ndb in the folder ndb_cutoff_rim_dipoles_hf has been hidden."
   ]
  },
  {
   "cell_type": "markdown",
   "metadata": {},
   "source": [
    "First we test the HF computation for the exchange part of the self energy."
   ]
  },
  {
   "cell_type": "code",
   "execution_count": 124,
   "metadata": {},
   "outputs": [],
   "source": [
    "run_dir = 'GW_HF_analysis/kpoints_60-nbnds_700/'\n",
    "K_index = 331\n",
    "start_band,stop_band = 28,29 # bands range for the computation of the HF corrections\n",
    "cut_z = 30 # 60 # au, slightly smaller than the cell, in agreement with the Yambo tutorial page\n",
    "RandQpts = 1000000 # Number of random q-points in the BZ\n",
    "RandGvec = 100 # use the RIM for the first 100 G-components of the coulomb potential "
   ]
  },
  {
   "cell_type": "code",
   "execution_count": 125,
   "metadata": {},
   "outputs": [
    {
     "name": "stdout",
     "output_type": "stream",
     "text": [
      "16 2\n",
      "Initialize a Dataset with 2 parallel tasks\n"
     ]
    }
   ],
   "source": [
    "ntasks_c = 16 # ismhpc: 16 for 2 nodes\n",
    "ntasks_v = int(ntasks/ntasks_c)\n",
    "print(ntasks_c,ntasks_v)\n",
    "\n",
    "EXXRLvcs = [7000,9000,11000,15000,20000,40000,60000,80000] # RL\n",
    "\n",
    "study = D.Dataset(run_dir=run_dir,num_tasks=2,verbose=True)\n",
    "study.set_postprocessing_function(PP.yambo_parse_data)\n",
    "\n",
    "inp = I.YamboInput(args='mpirun -np 1 yambo -r -x -V all',folder=run_dir)\n",
    "inp.set_extendOut()\n",
    "inp['variables']['RandQpts'] = [RandQpts,'']\n",
    "inp['variables']['RandGvec'] = [RandGvec,'']\n",
    "inp['variables']['CUTGeo'] = 'box z'\n",
    "inp['variables']['CUTBox'] = [[0.,0.,cut_z],'au']\n",
    "\n",
    "# Parallel roles\n",
    "inp['variables']['SE_CPU'] = '1.2.16' # for 2 nodes on ismhpc\n",
    "inp['variables']['SE_ROLEs'] = 'q.qp.b'\n",
    "inp['variables']['DIP_ROLEs'] = 'k.c.v'\n",
    "inp['variables']['DIP_CPU'] = '1.%s.%s'%(ntasks_c,ntasks_v)\n",
    "\n",
    "inp.set_kRange(K_index,K_index)\n",
    "inp.set_bandRange(start_band,stop_band)\n",
    "\n",
    "for ex in EXXRLvcs:\n",
    "    #idd = {'kpoints':k_sel,'exxrlvcs':ex,'cutbox':cut_z,'randQ':RandQpts,'randG':RandGvec}#,'nodes':nodes}\n",
    "    idd = 'hf-K_exxrlvcs_%s'%ex\n",
    "    inp['variables']['EXXRLvcs'] = [ex,'RL']\n",
    "    inp['variables']['VXCRLvcs'] = [ex,'RL']\n",
    "    study.append_run(id=idd,input=inp,runner=code,jobname = [idd,'ndb_cutoff_rim_dipoles_hf'])"
   ]
  },
  {
   "cell_type": "code",
   "execution_count": 49,
   "metadata": {},
   "outputs": [],
   "source": [
    "#study.runs[1]"
   ]
  },
  {
   "cell_type": "code",
   "execution_count": 126,
   "metadata": {},
   "outputs": [
    {
     "name": "stdout",
     "output_type": "stream",
     "text": [
      "Run the selection [0, 1, 2, 3, 4, 5, 6, 7] with the parallel task_groups [[0, 1], [2, 3], [4, 5], [6, 7]] \n",
      "\n",
      "Run the task [0, 1] \n",
      "run command: mpirun -np 32 yambo -F hf-K_exxrlvcs_7000.in -J \"hf-K_exxrlvcs_7000,ndb_cutoff_rim_dipoles_hf\" -C hf-K_exxrlvcs_7000\n",
      "slurm submit:  cd GW_HF_analysis/kpoints_60-nbnds_700/ ; sbatch job_hf-K_exxrlvcs_7000.sh\n",
      "computation hf-K_exxrlvcs_7000 is running...\n",
      "run command: mpirun -np 32 yambo -F hf-K_exxrlvcs_9000.in -J \"hf-K_exxrlvcs_9000,ndb_cutoff_rim_dipoles_hf\" -C hf-K_exxrlvcs_9000\n",
      "slurm submit:  cd GW_HF_analysis/kpoints_60-nbnds_700/ ; sbatch job_hf-K_exxrlvcs_9000.sh\n",
      "computation hf-K_exxrlvcs_9000 is running...\n",
      "computation hf-K_exxrlvcs_7000 ended\n",
      "Run performed in 29s\n",
      "computation hf-K_exxrlvcs_9000 ended\n",
      "Run performed in 30s\n",
      "Task [0, 1] ended \n",
      " \n",
      "Run the task [2, 3] \n",
      "run command: mpirun -np 32 yambo -F hf-K_exxrlvcs_11000.in -J \"hf-K_exxrlvcs_11000,ndb_cutoff_rim_dipoles_hf\" -C hf-K_exxrlvcs_11000\n",
      "slurm submit:  cd GW_HF_analysis/kpoints_60-nbnds_700/ ; sbatch job_hf-K_exxrlvcs_11000.sh\n",
      "computation hf-K_exxrlvcs_11000 is running...\n",
      "run command: mpirun -np 32 yambo -F hf-K_exxrlvcs_15000.in -J \"hf-K_exxrlvcs_15000,ndb_cutoff_rim_dipoles_hf\" -C hf-K_exxrlvcs_15000\n",
      "slurm submit:  cd GW_HF_analysis/kpoints_60-nbnds_700/ ; sbatch job_hf-K_exxrlvcs_15000.sh\n",
      "computation hf-K_exxrlvcs_15000 is running...\n",
      "computation hf-K_exxrlvcs_11000 ended\n",
      "Run performed in 30s\n",
      "computation hf-K_exxrlvcs_15000 ended\n",
      "Run performed in 22s\n",
      "Task [2, 3] ended \n",
      " \n",
      "Run the task [4, 5] \n",
      "run command: mpirun -np 32 yambo -F hf-K_exxrlvcs_20000.in -J \"hf-K_exxrlvcs_20000,ndb_cutoff_rim_dipoles_hf\" -C hf-K_exxrlvcs_20000\n",
      "slurm submit:  cd GW_HF_analysis/kpoints_60-nbnds_700/ ; sbatch job_hf-K_exxrlvcs_20000.sh\n",
      "run command: mpirun -np 32 yambo -F hf-K_exxrlvcs_40000.in -J \"hf-K_exxrlvcs_40000,ndb_cutoff_rim_dipoles_hf\" -C hf-K_exxrlvcs_40000\n",
      "slurm submit:  cd GW_HF_analysis/kpoints_60-nbnds_700/ ; sbatch job_hf-K_exxrlvcs_40000.sh\n",
      "computation hf-K_exxrlvcs_20000 is running...\n",
      "computation hf-K_exxrlvcs_40000 is running...\n",
      "computation hf-K_exxrlvcs_20000 ended\n",
      "Run performed in 33s\n",
      "computation hf-K_exxrlvcs_40000 ended\n",
      "Run performed in 01m-02s\n",
      "Task [4, 5] ended \n",
      " \n",
      "Run the task [6, 7] \n",
      "run command: mpirun -np 32 yambo -F hf-K_exxrlvcs_60000.in -J \"hf-K_exxrlvcs_60000,ndb_cutoff_rim_dipoles_hf\" -C hf-K_exxrlvcs_60000\n",
      "slurm submit:  cd GW_HF_analysis/kpoints_60-nbnds_700/ ; sbatch job_hf-K_exxrlvcs_60000.sh\n",
      "run command: mpirun -np 32 yambo -F hf-K_exxrlvcs_80000.in -J \"hf-K_exxrlvcs_80000,ndb_cutoff_rim_dipoles_hf\" -C hf-K_exxrlvcs_80000\n",
      "slurm submit:  cd GW_HF_analysis/kpoints_60-nbnds_700/ ; sbatch job_hf-K_exxrlvcs_80000.sh\n",
      "computation hf-K_exxrlvcs_60000 is running...\n",
      "computation hf-K_exxrlvcs_80000 is running...\n",
      "computation hf-K_exxrlvcs_60000 ended\n",
      "Run performed in 01m-18s\n",
      "computation hf-K_exxrlvcs_80000 ended\n",
      "Run performed in 01m-40s\n",
      "Task [6, 7] ended \n",
      " \n"
     ]
    }
   ],
   "source": [
    "results = study.run()"
   ]
  },
  {
   "cell_type": "code",
   "execution_count": 127,
   "metadata": {},
   "outputs": [
    {
     "data": {
      "text/plain": [
       "[0.44921099999999997,\n",
       " 0.449227,\n",
       " 0.44921599999999995,\n",
       " 0.449138,\n",
       " 0.44891200000000003,\n",
       " 0.44885600000000003,\n",
       " 0.44884,\n",
       " 0.44884]"
      ]
     },
     "execution_count": 127,
     "metadata": {},
     "output_type": "execute_result"
    }
   ],
   "source": [
    "gap = [results[ind].data.get_gap(k_full=K_index,band_full=start_band,verbose=False) for ind in range(len(EXXRLvcs))]\n",
    "gap"
   ]
  },
  {
   "cell_type": "code",
   "execution_count": 128,
   "metadata": {},
   "outputs": [
    {
     "data": {
      "text/plain": [
       "<matplotlib.collections.PathCollection at 0x7f41d4c98898>"
      ]
     },
     "execution_count": 128,
     "metadata": {},
     "output_type": "execute_result"
    },
    {
     "data": {
      "image/png": "[encoded data removed]",
      "text/plain": [
       "<Figure size 432x288 with 1 Axes>"
      ]
     },
     "metadata": {
      "needs_background": "light"
     },
     "output_type": "display_data"
    }
   ],
   "source": [
    "plt.plot(EXXRLvcs,gap)\n",
    "plt.scatter(EXXRLvcs,gap)"
   ]
  },
  {
   "cell_type": "markdown",
   "metadata": {},
   "source": [
    "This analysis evidence that instead at K, the HF gap converge at the level of 1 meV at around 10e3 RL G points."
   ]
  },
  {
   "cell_type": "markdown",
   "metadata": {},
   "source": [
    "Next we test the convergence of the gap at the plasmon pole level in term of the GbndRange parameter. This \n",
    "analysis is performed using the ndb.pp alreadt computed (the improvement of this ndb is very demaning and\n",
    "is not performed at this level."
   ]
  },
  {
   "cell_type": "code",
   "execution_count": 139,
   "metadata": {},
   "outputs": [
    {
     "name": "stdout",
     "output_type": "stream",
     "text": [
      "16 2\n"
     ]
    }
   ],
   "source": [
    "ntasks_c = 16 # ismhpc: 16 for 2 nodes\n",
    "ntasks_v = int(ntasks/ntasks_c)\n",
    "print(ntasks_c,ntasks_v)\n",
    "\n",
    "EXXRLvcs_conv = 40000 # RL\n",
    "NGsBlkXs_conv = 600 # RL G size of the response function\n",
    "BndsRnXs_conv  = [1,300] # Bands in the response function\n",
    "\n",
    "inp = I.YamboInput(args='mpirun -np 1 yambo -r -k hartee -dyson n -gw0 p -V all',folder=run_dir)\n",
    "inp.set_extendOut()\n",
    "inp['variables']['RandQpts'] = [RandQpts,'']\n",
    "inp['variables']['RandGvec'] = [RandGvec,'']\n",
    "inp['variables']['CUTGeo'] = 'box z'\n",
    "inp['variables']['CUTBox'] = [[0.,0.,cut_z],'au']\n",
    "inp['variables']['EXXRLvcs'] = [EXXRLvcs_conv,'RL']\n",
    "inp['variables']['VXCRLvcs'] = [EXXRLvcs_conv,'RL']\n",
    "inp['variables']['NGsBlkXp'] = [NGsBlkXs_conv,'RL']\n",
    "inp['variables']['BndsRnXp'] = [BndsRnXs_conv,'']\n",
    "\n",
    "# Parallel roles\n",
    "inp['variables']['SE_ROLEs'] = 'q.qp.b'\n",
    "inp['variables']['SE_CPU'] = '1.2.16' # for 2 nodes on ismhpc\n",
    "inp['variables']['X_and_IO_ROLEs'] = 'q.g.k.c.v'\n",
    "inp['variables']['X_and_IO_CPU'] = '1.1.1.%s.%s'%(ntasks_c,ntasks_v)\n",
    "inp['variables']['DIP_ROLEs'] = 'k.c.v'\n",
    "inp['variables']['DIP_CPU'] = '1.%s.%s'%(ntasks_c,ntasks_v)\n",
    "\n",
    "inp.set_kRange(K_index,K_index)\n",
    "inp.set_bandRange(start_band,stop_band)\n",
    "#inp"
   ]
  },
  {
   "cell_type": "code",
   "execution_count": 140,
   "metadata": {},
   "outputs": [],
   "source": [
    "GbndRnge = [[1,100],[1,300],[1,500]]#,[1,700]]  # Bands in the Sigma_c"
   ]
  },
  {
   "cell_type": "code",
   "execution_count": 141,
   "metadata": {},
   "outputs": [
    {
     "name": "stdout",
     "output_type": "stream",
     "text": [
      "Initialize a Dataset with 2 parallel tasks\n"
     ]
    }
   ],
   "source": [
    "study = D.Dataset(run_dir=run_dir,num_tasks=2,verbose=True)\n",
    "study.set_postprocessing_function(PP.yambo_parse_data)\n",
    "\n",
    "for bnd in GbndRnge:\n",
    "    idd = 'ppa-K_dg-ngsblkxs_%s-bndsrnxs_%s-gbndrnge_%s'%(NGsBlkXs_conv,BndsRnXs_conv[1],bnd[1])\n",
    "    inp['variables']['GbndRnge'] = [bnd,'']\n",
    "    study.append_run(id=idd,input=inp,runner=code,\n",
    "                     jobname = [idd,'ndb_cutoff_rim_dipoles_hf','hf-K_exxrlvcs_40000','ndb_pp_dg_ngsblkxs_600-bndsrnxs_300','ndb_double_grid'])"
   ]
  },
  {
   "cell_type": "code",
   "execution_count": 142,
   "metadata": {},
   "outputs": [],
   "source": [
    "#study.runs[0]"
   ]
  },
  {
   "cell_type": "code",
   "execution_count": 143,
   "metadata": {},
   "outputs": [
    {
     "name": "stdout",
     "output_type": "stream",
     "text": [
      "Run the selection [0, 1, 2] with the parallel task_groups [[0, 1], [2]] \n",
      "\n",
      "Run the task [0, 1] \n",
      "run command: mpirun -np 32 yambo -F ppa-K_dg-ngsblkxs_600-bndsrnxs_300-gbndrnge_100.in -J \"ppa-K_dg-ngsblkxs_600-bndsrnxs_300-gbndrnge_100,ndb_cutoff_rim_dipoles_hf,hf-K_exxrlvcs_40000,ndb_pp_dg_ngsblkxs_600-bndsrnxs_300,ndb_double_grid\" -C ppa-K_dg-ngsblkxs_600-bndsrnxs_300-gbndrnge_100\n",
      "slurm submit:  cd GW_HF_analysis/kpoints_60-nbnds_700/ ; sbatch job_ppa-K_dg-ngsblkxs_600-bndsrnxs_300-gbndrnge_100.sh\n",
      "run command: mpirun -np 32 yambo -F ppa-K_dg-ngsblkxs_600-bndsrnxs_300-gbndrnge_300.in -J \"ppa-K_dg-ngsblkxs_600-bndsrnxs_300-gbndrnge_300,ndb_cutoff_rim_dipoles_hf,hf-K_exxrlvcs_40000,ndb_pp_dg_ngsblkxs_600-bndsrnxs_300,ndb_double_grid\" -C ppa-K_dg-ngsblkxs_600-bndsrnxs_300-gbndrnge_300\n",
      "slurm submit:  cd GW_HF_analysis/kpoints_60-nbnds_700/ ; sbatch job_ppa-K_dg-ngsblkxs_600-bndsrnxs_300-gbndrnge_300.sh\n",
      "computation ppa-K_dg-ngsblkxs_600-bndsrnxs_300-gbndrnge_100 is running...\n",
      "computation ppa-K_dg-ngsblkxs_600-bndsrnxs_300-gbndrnge_300 is running...\n",
      "computation ppa-K_dg-ngsblkxs_600-bndsrnxs_300-gbndrnge_100 ended\n",
      "Run performed in 05m-46s\n",
      "computation ppa-K_dg-ngsblkxs_600-bndsrnxs_300-gbndrnge_300 ended\n",
      "Run performed in 15m-01s\n",
      "Task [0, 1] ended \n",
      " \n",
      "Run the task [2] \n",
      "run command: mpirun -np 32 yambo -F ppa-K_dg-ngsblkxs_600-bndsrnxs_300-gbndrnge_500.in -J \"ppa-K_dg-ngsblkxs_600-bndsrnxs_300-gbndrnge_500,ndb_cutoff_rim_dipoles_hf,hf-K_exxrlvcs_40000,ndb_pp_dg_ngsblkxs_600-bndsrnxs_300,ndb_double_grid\" -C ppa-K_dg-ngsblkxs_600-bndsrnxs_300-gbndrnge_500\n",
      "slurm submit:  cd GW_HF_analysis/kpoints_60-nbnds_700/ ; sbatch job_ppa-K_dg-ngsblkxs_600-bndsrnxs_300-gbndrnge_500.sh\n",
      "computation ppa-K_dg-ngsblkxs_600-bndsrnxs_300-gbndrnge_500 is running...\n",
      "computation ppa-K_dg-ngsblkxs_600-bndsrnxs_300-gbndrnge_500 ended\n",
      "Run performed in 24m-48s\n",
      "Task [2] ended \n",
      " \n"
     ]
    }
   ],
   "source": [
    "results = study.run()"
   ]
  },
  {
   "cell_type": "code",
   "execution_count": 145,
   "metadata": {},
   "outputs": [
    {
     "data": {
      "text/plain": [
       "[0.166467, 0.16577699999999995, 0.165709]"
      ]
     },
     "execution_count": 145,
     "metadata": {},
     "output_type": "execute_result"
    }
   ],
   "source": [
    "gap = [results[ind].data.get_gap(k_full=K_index,band_full=start_band,verbose=False) for ind in range(len(GbndRnge))]\n",
    "gap"
   ]
  },
  {
   "cell_type": "code",
   "execution_count": 146,
   "metadata": {},
   "outputs": [
    {
     "data": {
      "text/plain": [
       "<matplotlib.collections.PathCollection at 0x7f41d4ff0b00>"
      ]
     },
     "execution_count": 146,
     "metadata": {},
     "output_type": "execute_result"
    },
    {
     "data": {
      "image/png": "[encoded data removed]",
      "text/plain": [
       "<Figure size 432x288 with 1 Axes>"
      ]
     },
     "metadata": {
      "needs_background": "light"
     },
     "output_type": "display_data"
    }
   ],
   "source": [
    "GbndRnge_plot = [ind[1] for ind in GbndRnge]\n",
    "plt.plot(GbndRnge_plot,gap)\n",
    "plt.scatter(GbndRnge_plot,gap)"
   ]
  },
  {
   "cell_type": "markdown",
   "metadata": {},
   "source": [
    "We confirm the at K the convergence in GbndRnge is reached faster..."
   ]
  },
  {
   "cell_type": "markdown",
   "metadata": {
    "tags": []
   },
   "source": [
    "## Ypp analysis"
   ]
  },
  {
   "cell_type": "markdown",
   "metadata": {},
   "source": [
    "We use the previous results to compute the GW correction of the band structure along a high symmetry path."
   ]
  },
  {
   "cell_type": "code",
   "execution_count": 70,
   "metadata": {},
   "outputs": [
    {
     "name": "stdout",
     "output_type": "stream",
     "text": [
      "Initialize a Yambo calculator with scheduler slurm\n"
     ]
    },
    {
     "data": {
      "text/plain": [
       "{'scheduler': 'slurm',\n",
       " 'nodes': 1,\n",
       " 'ntasks_per_node': 16,\n",
       " 'cpus_per_task': 2,\n",
       " 'omp_num_threads': 2,\n",
       " 'gpus_per_node': None,\n",
       " 'memory': '124000',\n",
       " 'time': None,\n",
       " 'partition': 'all12h',\n",
       " 'account': None,\n",
       " 'qos': None,\n",
       " 'map_by': None,\n",
       " 'pe': 1,\n",
       " 'rank_by': None,\n",
       " 'executable': 'ypp',\n",
       " 'skip': True,\n",
       " 'clean_restart': True,\n",
       " 'dry_run': False,\n",
       " 'wait_end_run': True,\n",
       " 'activate_BeeOND': True,\n",
       " 'verbose': True}"
      ]
     },
     "execution_count": 70,
     "metadata": {},
     "output_type": "execute_result"
    }
   ],
   "source": [
    "# RunRules for ismhpc\n",
    "# The product of ntasks_per_node*cpus_per_task is equal to 32. \n",
    "# Many mpi are needed for better performances\n",
    "nodes = 1\n",
    "ntasks_per_node = 16\n",
    "cpus_per_task=2\n",
    "omp_num_threads=2\n",
    "\n",
    "ntasks = nodes*ntasks_per_node\n",
    "\n",
    "rr = C.RunRules(scheduler='slurm',partition='all12h', #fastnodes\n",
    "                memory='124000',\n",
    "                nodes=nodes,ntasks_per_node=ntasks_per_node,\n",
    "                cpus_per_task=cpus_per_task,\n",
    "                omp_num_threads=omp_num_threads)\n",
    "code = C.YamboCalculator(rr,executable='ypp',activate_BeeOND=True) #,clean_restart=False,skip=False)\n",
    "code.global_options()"
   ]
  },
  {
   "cell_type": "code",
   "execution_count": 65,
   "metadata": {},
   "outputs": [],
   "source": [
    "run_dir = 'GW_HF_analysis/kpoints_60-nbnds_700/'\n",
    "SAVE_bands = os.path.abspath('DFT_analysis/bands.save')\n",
    "ndbQP = 'allBz_ppa_dg-ngsblkxs_600-bndsrnxs_300-gbndrnge_300/ndb.QP'"
   ]
  },
  {
   "cell_type": "code",
   "execution_count": 125,
   "metadata": {},
   "outputs": [
    {
     "name": "stdout",
     "output_type": "stream",
     "text": [
      "Initialize a Dataset with 2 parallel tasks\n"
     ]
    }
   ],
   "source": [
    "study = D.Dataset(run_dir=run_dir,num_tasks=2,verbose=True) #,skip=False)"
   ]
  },
  {
   "cell_type": "code",
   "execution_count": 126,
   "metadata": {},
   "outputs": [],
   "source": [
    "# with BANDS_kpts\n",
    "\n",
    "band_range = [25,32]\n",
    "bands_step = 60\n",
    "\n",
    "G = [0.,0.,0.]\n",
    "#Kp = [1./3.,1./np.sqrt(3),0.]\n",
    "#Mp = [0.,1./np.sqrt(3),0.]\n",
    "# in crystal coordinates\n",
    "Kp = [1./3.,1./3.,0.]\n",
    "Mp = [0.,0.5,0.]\n",
    "\n",
    "high_sym = {'G':G,'K':Kp,'M':Mp} # useful to label the high-sym point on the path\n",
    "path = [G,Mp,Kp,G]\n",
    "\n",
    "inp = I.YamboInput(args='mpirun -np 1 ypp -s b -V qp',folder=run_dir,filename='ypp.in')\n",
    "inp['variables']['BANDS_bands'] = [band_range,'']\n",
    "inp['variables']['BANDS_steps'] = [bands_step,'']\n",
    "inp['variables']['BANDS_kpts'] = [path,'']\n",
    "inp['variables']['cooIn'] = 'rlu'\n",
    "inp['variables']['cooOut'] = 'rlu'\n",
    "\n",
    "inp['variables']['GfnQPdb']= 'E < %s'%ndbQP\n",
    "inp['variables']['INTERP_mode'] = 'BOLTZ'\n",
    "inp['variables']['INTERP_Shell_Fac'] = [30.0,'']\n",
    "inp['variables']['GfnQP_DbGd_INTERP_mode'] = 'BOLTZ'\n",
    "inp['variables']['GfnQP_INTERP_shells'] = [30.0,'']\n",
    "#inp\n",
    "\n",
    "idd = 'ypp_bands_gw_kpath_boltz' # for kpath run\n",
    "study.append_run(id=idd,input=inp,runner=code,skip=False) #,skip=False"
   ]
  },
  {
   "cell_type": "code",
   "execution_count": 127,
   "metadata": {},
   "outputs": [],
   "source": [
    "# with CIRCUIT_E_DB_path\n",
    "\n",
    "band_range = [25,32]\n",
    "#bands_step = 40\n",
    "\n",
    "high_sym = {'G':G,'K':Kp,'M':Mp} # useful to label the high-sym point on the path\n",
    "\n",
    "inp = I.YamboInput(args='mpirun -np 1 ypp -s b -V qp',folder=run_dir,filename='ypp.in')\n",
    "inp['variables']['BANDS_bands'] = [band_range,'']\n",
    "#inp['variables']['BANDS_steps'] = [bands_step,'']\n",
    "inp['variables']['CIRCUIT_E_DB_path'] = SAVE_bands\n",
    "inp['variables']['cooIn'] = 'rlu'\n",
    "inp['variables']['cooOut'] = 'rlu'\n",
    "\n",
    "inp['variables']['GfnQPdb']= 'E < %s'%ndbQP\n",
    "inp['variables']['INTERP_mode'] = 'BOLTZ'\n",
    "inp['variables']['INTERP_Shell_Fac'] = [20.0,'']\n",
    "inp['variables']['GfnQP_DbGd_INTERP_mode'] = 'BOLTZ'\n",
    "inp['variables']['GfnQP_INTERP_shells'] = [20.0,'']\n",
    "#inp\n",
    "\n",
    "idd = 'ypp_bands_gw_db_boltz' # for the Circuit_db run\n",
    "study.append_run(id=idd,input=inp,runner=code) #,skip=False"
   ]
  },
  {
   "cell_type": "code",
   "execution_count": 128,
   "metadata": {},
   "outputs": [
    {
     "name": "stdout",
     "output_type": "stream",
     "text": [
      "Run the selection [0, 1] with the parallel task_groups [[0, 1]] \n",
      "\n",
      "Run the task [0, 1] \n",
      "Skip the run of ypp_bands_gw_db_boltz\n",
      "delete job_out script: GW_HF_analysis/kpoints_60-nbnds_700/job_ypp_bands_gw_kpath_boltz.out\n",
      "delete folder: GW_HF_analysis/kpoints_60-nbnds_700/ypp_bands_gw_kpath_boltz\n",
      "run command: mpirun -np 16 ypp -F ypp_bands_gw_kpath_boltz.in -J ypp_bands_gw_kpath_boltz -C ypp_bands_gw_kpath_boltz\n",
      "slurm submit:  cd GW_HF_analysis/kpoints_60-nbnds_700/ ; sbatch job_ypp_bands_gw_kpath_boltz.sh\n",
      "computation ypp_bands_gw_kpath_boltz is running...\n",
      "computation ypp_bands_gw_kpath_boltz ended\n",
      "Run performed in 28s\n",
      "Task [0, 1] ended \n",
      " \n"
     ]
    }
   ],
   "source": [
    "results = study.run()"
   ]
  },
  {
   "cell_type": "code",
   "execution_count": 137,
   "metadata": {},
   "outputs": [],
   "source": [
    "bands_gw = U.BandStructure.from_Ypp(results[0],high_sym,suffix='bands_interpolated')\n",
    "bands_dft = U.BandStructure.from_Ypp(results[1],high_sym,suffix='bands_from_DB')\n",
    "bands_gw_db = U.BandStructure.from_Ypp(results[1],high_sym,suffix='bands_interpolated')"
   ]
  },
  {
   "cell_type": "code",
   "execution_count": 159,
   "metadata": {},
   "outputs": [
    {
     "data": {
      "text/plain": [
       "Text(0.5, 1.0, 'Germanene GW bands')"
      ]
     },
     "execution_count": 159,
     "metadata": {},
     "output_type": "execute_result"
    },
    {
     "data": {
      "image/png": "[encoded data removed]",
      "text/plain": [
       "<Figure size 720x504 with 1 Axes>"
      ]
     },
     "metadata": {
      "needs_background": "light"
     },
     "output_type": "display_data"
    }
   ],
   "source": [
    "fig, ax = plt.subplots(figsize=(10, 7))\n",
    "bands_dft.plot(plt,selection=[0,1,2,3,4,5],linestyle='--')\n",
    "bands_gw.plot(plt,selection=[0,1,2,3,4,5],linestyle='-')\n",
    "#plt.ylim(-1,1)\n",
    "plt.title('Germanene GW bands',size=16)"
   ]
  },
  {
   "cell_type": "code",
   "execution_count": 160,
   "metadata": {},
   "outputs": [
    {
     "data": {
      "text/plain": [
       "Text(0.5, 1.0, 'Germanene GW bands')"
      ]
     },
     "execution_count": 160,
     "metadata": {},
     "output_type": "execute_result"
    },
    {
     "data": {
      "image/png": "[encoded data removed]",
      "text/plain": [
       "<Figure size 720x504 with 1 Axes>"
      ]
     },
     "metadata": {
      "needs_background": "light"
     },
     "output_type": "display_data"
    }
   ],
   "source": [
    "fig, ax = plt.subplots(figsize=(10, 7))\n",
    "bands_dft.plot(plt,selection=[0,1,2,3,4,5],linestyle='--')\n",
    "bands_gw.plot(plt,selection=[0,1,2,3,4,5],linestyle='-')\n",
    "plt.ylim(-1,1)\n",
    "plt.title('Germanene GW bands',size=16)"
   ]
  },
  {
   "cell_type": "code",
   "execution_count": 162,
   "metadata": {},
   "outputs": [
    {
     "data": {
      "text/plain": [
       "Text(0.5, 1.0, 'Germanene GW bands')"
      ]
     },
     "execution_count": 162,
     "metadata": {},
     "output_type": "execute_result"
    },
    {
     "data": {
      "image/png": "[encoded data removed]",
      "text/plain": [
       "<Figure size 720x504 with 1 Axes>"
      ]
     },
     "metadata": {
      "needs_background": "light"
     },
     "output_type": "display_data"
    }
   ],
   "source": [
    "fig, ax = plt.subplots(figsize=(10, 7))\n",
    "#bands_dft.plot(plt,selection=[0,1,2,3,4,5],linestyle='--')\n",
    "bands_gw.plot(plt,selection=[0,1,2,3,4,5],linestyle='-')\n",
    "plt.ylim(-1,1)\n",
    "plt.title('Germanene GW bands',size=16)"
   ]
  },
  {
   "cell_type": "code",
   "execution_count": 145,
   "metadata": {},
   "outputs": [
    {
     "data": {
      "text/plain": [
       "(8, 181)"
      ]
     },
     "execution_count": 145,
     "metadata": {},
     "output_type": "execute_result"
    }
   ],
   "source": [
    "bands_dft.bands.shape"
   ]
  },
  {
   "cell_type": "markdown",
   "metadata": {},
   "source": [
    "Let see the dft bands at Gamma"
   ]
  },
  {
   "cell_type": "code",
   "execution_count": 147,
   "metadata": {},
   "outputs": [
    {
     "data": {
      "text/plain": [
       "array([-0.69075203, -0.69075203, -0.4939335 , -0.4939335 ,  0.35395125,\n",
       "        0.35395125,  2.13312387,  2.13312387])"
      ]
     },
     "execution_count": 147,
     "metadata": {},
     "output_type": "execute_result"
    }
   ],
   "source": [
    "bands_dft.bands[:,0]"
   ]
  },
  {
   "cell_type": "markdown",
   "metadata": {},
   "source": [
    "The gap is given by "
   ]
  },
  {
   "cell_type": "code",
   "execution_count": 150,
   "metadata": {},
   "outputs": [
    {
     "data": {
      "text/plain": [
       "0.847884745"
      ]
     },
     "execution_count": 150,
     "metadata": {},
     "output_type": "execute_result"
    }
   ],
   "source": [
    "bands_dft.bands[4,0]-bands_dft.bands[3,0]"
   ]
  },
  {
   "cell_type": "markdown",
   "metadata": {},
   "source": [
    "Same analysis with the GW bands at Gamma"
   ]
  },
  {
   "cell_type": "code",
   "execution_count": 149,
   "metadata": {},
   "outputs": [
    {
     "data": {
      "text/plain": [
       "array([-0.74122649, -0.59470802, -0.43140003, -0.4234595 ,  0.15476544,\n",
       "        0.13255127,  2.69487596,  2.51199412])"
      ]
     },
     "execution_count": 149,
     "metadata": {},
     "output_type": "execute_result"
    }
   ],
   "source": [
    "bands_gw.bands[:,0]"
   ]
  },
  {
   "cell_type": "markdown",
   "metadata": {},
   "source": [
    "Note that the spin degeneracy is lost"
   ]
  },
  {
   "cell_type": "code",
   "execution_count": 151,
   "metadata": {},
   "outputs": [
    {
     "data": {
      "text/plain": [
       "0.578224942"
      ]
     },
     "execution_count": 151,
     "metadata": {},
     "output_type": "execute_result"
    }
   ],
   "source": [
    "bands_gw.bands[4,0]-bands_gw.bands[3,0]"
   ]
  },
  {
   "cell_type": "code",
   "execution_count": 155,
   "metadata": {},
   "outputs": [
    {
     "data": {
      "text/plain": [
       "0.5560107679999999"
      ]
     },
     "execution_count": 155,
     "metadata": {},
     "output_type": "execute_result"
    }
   ],
   "source": [
    "bands_gw.bands[5,0]-bands_gw.bands[3,0]"
   ]
  },
  {
   "cell_type": "code",
   "execution_count": null,
   "metadata": {},
   "outputs": [],
   "source": []
  },
  {
   "cell_type": "code",
   "execution_count": null,
   "metadata": {},
   "outputs": [],
   "source": []
  },
  {
   "cell_type": "code",
   "execution_count": null,
   "metadata": {},
   "outputs": [],
   "source": []
  },
  {
   "cell_type": "code",
   "execution_count": 152,
   "metadata": {},
   "outputs": [],
   "source": [
    "############################################################"
   ]
  },
  {
   "cell_type": "code",
   "execution_count": 133,
   "metadata": {},
   "outputs": [
    {
     "data": {
      "text/plain": [
       "Text(0.5, 1.0, 'Germanene GW bands')"
      ]
     },
     "execution_count": 133,
     "metadata": {},
     "output_type": "execute_result"
    },
    {
     "data": {
      "image/png": "[encoded data removed]",
      "text/plain": [
       "<Figure size 720x504 with 1 Axes>"
      ]
     },
     "metadata": {
      "needs_background": "light"
     },
     "output_type": "display_data"
    }
   ],
   "source": [
    "# using the gw bands of the Circuit_db run\n",
    "fig, ax = plt.subplots(figsize=(10, 7))\n",
    "bands_dft.plot(plt,selection=[0,1,2,3,4],linestyle='--')\n",
    "bands_gw_db.plot(plt,selection=[0,1,2,3,4],linestyle='-')\n",
    "#plt.ylim(-1,1)\n",
    "plt.title('Germanene GW bands',size=16)"
   ]
  },
  {
   "cell_type": "code",
   "execution_count": null,
   "metadata": {},
   "outputs": [],
   "source": []
  },
  {
   "cell_type": "code",
   "execution_count": null,
   "metadata": {},
   "outputs": [],
   "source": []
  },
  {
   "cell_type": "code",
   "execution_count": null,
   "metadata": {},
   "outputs": [],
   "source": []
  },
  {
   "cell_type": "code",
   "execution_count": null,
   "metadata": {},
   "outputs": [],
   "source": []
  },
  {
   "cell_type": "code",
   "execution_count": 77,
   "metadata": {},
   "outputs": [
    {
     "name": "stdout",
     "output_type": "stream",
     "text": [
      "Initialize a Dataset with 1 parallel tasks\n"
     ]
    }
   ],
   "source": [
    "study = D.Dataset(run_dir=run_dir,num_tasks=1,verbose=True,skip=False)\n",
    "idd = 'ypp_bands_gw_kpath_boltz' # for kpath run\n",
    "#idd = 'ypp_bands_gw_db_boltz' # for the Circuit_db run\n",
    "study.append_run(id=idd,input=inp,runner=code)"
   ]
  },
  {
   "cell_type": "code",
   "execution_count": 78,
   "metadata": {},
   "outputs": [
    {
     "name": "stdout",
     "output_type": "stream",
     "text": [
      "Run the selection [0] with the parallel task_groups [[0]] \n",
      "\n",
      "Run the task [0] \n",
      "delete job_out script: GW_HF_analysis/kpoints_60-nbnds_700/job_ypp_bands_gw_kpath_boltz.out\n",
      "delete folder: GW_HF_analysis/kpoints_60-nbnds_700/ypp_bands_gw_kpath_boltz\n",
      "run command: mpirun -np 16 ypp -F ypp_bands_gw_kpath_boltz.in -J ypp_bands_gw_kpath_boltz -C ypp_bands_gw_kpath_boltz\n",
      "slurm submit:  cd GW_HF_analysis/kpoints_60-nbnds_700/ ; sbatch job_ypp_bands_gw_kpath_boltz.sh\n",
      "computation ypp_bands_gw_kpath_boltz is running...\n",
      "computation ypp_bands_gw_kpath_boltz ended\n",
      "Run performed in 27s\n",
      "Task [0] ended \n",
      " \n"
     ]
    }
   ],
   "source": [
    "results = study.run()"
   ]
  },
  {
   "cell_type": "code",
   "execution_count": 79,
   "metadata": {},
   "outputs": [
    {
     "data": {
      "text/plain": [
       "Text(0.5, 1.0, 'Germanene GW bands')"
      ]
     },
     "execution_count": 79,
     "metadata": {},
     "output_type": "execute_result"
    },
    {
     "data": {
      "image/png": "[encoded data removed]",
      "text/plain": [
       "<Figure size 720x504 with 1 Axes>"
      ]
     },
     "metadata": {
      "needs_background": "light"
     },
     "output_type": "display_data"
    }
   ],
   "source": [
    "bands_gw = U.BandStructure.from_Ypp(results[0],high_sym,suffix='bands_interpolated')\n",
    "fig, ax = plt.subplots(figsize=(10, 7))\n",
    "#bands_dft.plot(plt,selection=[0,2,3,4],linestyle='--')\n",
    "bands_gw.plot(plt,selection=[0,2,3,4],linestyle='-')\n",
    "#plt.ylim(-1,1)\n",
    "plt.title('Germanene GW bands',size=16)"
   ]
  },
  {
   "cell_type": "code",
   "execution_count": null,
   "metadata": {},
   "outputs": [],
   "source": []
  },
  {
   "cell_type": "code",
   "execution_count": 74,
   "metadata": {},
   "outputs": [],
   "source": [
    "#bands = U.BandStructure.from_Ypp(results[0],high_sym,suffix='bands_from_DB')\n",
    "#suffix = 'bands_from_DB'#'bands_interpolated'\n",
    "\n",
    "bands_dft = U.BandStructure.from_Ypp(results[0],high_sym,suffix='bands_from_DB')\n",
    "bands_gw = U.BandStructure.from_Ypp(results[0],high_sym,suffix='bands_interpolated')"
   ]
  },
  {
   "cell_type": "code",
   "execution_count": 75,
   "metadata": {},
   "outputs": [
    {
     "data": {
      "text/plain": [
       "Text(0.5, 1.0, 'Germanene GW bands')"
      ]
     },
     "execution_count": 75,
     "metadata": {},
     "output_type": "execute_result"
    },
    {
     "data": {
      "image/png": "[encoded data removed]",
      "text/plain": [
       "<Figure size 720x504 with 1 Axes>"
      ]
     },
     "metadata": {
      "needs_background": "light"
     },
     "output_type": "display_data"
    }
   ],
   "source": [
    "fig, ax = plt.subplots(figsize=(10, 7))\n",
    "bands_dft.plot(plt,selection=[0,2,3,4],linestyle='--')\n",
    "bands_gw.plot(plt,selection=[0,2,3,4],linestyle='-')\n",
    "#plt.ylim(-1,1)\n",
    "plt.title('Germanene GW bands',size=16)"
   ]
  },
  {
   "cell_type": "code",
   "execution_count": 94,
   "metadata": {},
   "outputs": [
    {
     "data": {
      "text/plain": [
       "Text(0.5, 1.0, 'Germanene GW bands close to K')"
      ]
     },
     "execution_count": 94,
     "metadata": {},
     "output_type": "execute_result"
    },
    {
     "data": {
      "image/png": "[encoded data removed]",
      "text/plain": [
       "<Figure size 720x504 with 1 Axes>"
      ]
     },
     "metadata": {
      "needs_background": "light"
     },
     "output_type": "display_data"
    }
   ],
   "source": [
    "K_pos = bands_gw_kpath.get_high_sym_positions()[1][2]\n",
    "dk = 0.08\n",
    "\n",
    "fig, ax = plt.subplots(figsize=(10, 7))\n",
    "bands_dft.plot(plt,selection=[2,4],linestyle='--')\n",
    "bands_gw_kpath.plot(plt,selection=[2,4])\n",
    "ax.set_xlim(K_pos-dk,K_pos+dk)\n",
    "ax.set_ylim(-0.2,0.2)\n",
    "plt.title('Germanene GW bands close to K',size=16)"
   ]
  },
  {
   "cell_type": "code",
   "execution_count": 92,
   "metadata": {},
   "outputs": [
    {
     "ename": "IndexError",
     "evalue": "index 120 is out of bounds for axis 0 with size 96",
     "output_type": "error",
     "traceback": [
      "\u001b[0;31m---------------------------------------------------------------------------\u001b[0m",
      "\u001b[0;31mIndexError\u001b[0m                                Traceback (most recent call last)",
      "\u001b[0;32m<ipython-input-92-cadef32f5c12>\u001b[0m in \u001b[0;36m<module>\u001b[0;34m\u001b[0m\n\u001b[1;32m      1\u001b[0m \u001b[0mKp_ind\u001b[0m \u001b[0;34m=\u001b[0m \u001b[0;36m120\u001b[0m\u001b[0;34m\u001b[0m\u001b[0;34m\u001b[0m\u001b[0m\n\u001b[1;32m      2\u001b[0m \u001b[0mgap_dft\u001b[0m \u001b[0;34m=\u001b[0m \u001b[0;36m1e3\u001b[0m\u001b[0;34m*\u001b[0m\u001b[0;34m(\u001b[0m\u001b[0mbands_dft\u001b[0m\u001b[0;34m.\u001b[0m\u001b[0mbands\u001b[0m\u001b[0;34m[\u001b[0m\u001b[0;36m4\u001b[0m\u001b[0;34m]\u001b[0m\u001b[0;34m[\u001b[0m\u001b[0mKp_ind\u001b[0m\u001b[0;34m]\u001b[0m\u001b[0;34m-\u001b[0m\u001b[0mbands_dft\u001b[0m\u001b[0;34m.\u001b[0m\u001b[0mbands\u001b[0m\u001b[0;34m[\u001b[0m\u001b[0;36m3\u001b[0m\u001b[0;34m]\u001b[0m\u001b[0;34m[\u001b[0m\u001b[0mKp_ind\u001b[0m\u001b[0;34m]\u001b[0m\u001b[0;34m)\u001b[0m\u001b[0;34m\u001b[0m\u001b[0;34m\u001b[0m\u001b[0m\n\u001b[0;32m----> 3\u001b[0;31m \u001b[0mgap_gw\u001b[0m \u001b[0;34m=\u001b[0m \u001b[0;36m1e3\u001b[0m\u001b[0;34m*\u001b[0m\u001b[0;34m(\u001b[0m\u001b[0mbands_gw\u001b[0m\u001b[0;34m.\u001b[0m\u001b[0mbands\u001b[0m\u001b[0;34m[\u001b[0m\u001b[0;36m4\u001b[0m\u001b[0;34m]\u001b[0m\u001b[0;34m[\u001b[0m\u001b[0mKp_ind\u001b[0m\u001b[0;34m]\u001b[0m\u001b[0;34m-\u001b[0m\u001b[0mbands_gw_kpath\u001b[0m\u001b[0;34m.\u001b[0m\u001b[0mbands\u001b[0m\u001b[0;34m[\u001b[0m\u001b[0;36m3\u001b[0m\u001b[0;34m]\u001b[0m\u001b[0;34m[\u001b[0m\u001b[0mKp_ind\u001b[0m\u001b[0;34m]\u001b[0m\u001b[0;34m)\u001b[0m\u001b[0;34m\u001b[0m\u001b[0;34m\u001b[0m\u001b[0m\n\u001b[0m\u001b[1;32m      4\u001b[0m \u001b[0mgap_dft\u001b[0m\u001b[0;34m,\u001b[0m\u001b[0mgap_gw\u001b[0m\u001b[0;34m\u001b[0m\u001b[0;34m\u001b[0m\u001b[0m\n",
      "\u001b[0;31mIndexError\u001b[0m: index 120 is out of bounds for axis 0 with size 96"
     ]
    }
   ],
   "source": [
    "Kp_ind = 120\n",
    "gap_dft = 1e3*(bands_dft.bands[4][Kp_ind]-bands_dft.bands[3][Kp_ind])\n",
    "gap_gw = 1e3*(bands_gw.bands[4][Kp_ind]-bands_gw_kpath.bands[3][Kp_ind])\n",
    "gap_dft,gap_gw"
   ]
  },
  {
   "cell_type": "code",
   "execution_count": null,
   "metadata": {},
   "outputs": [],
   "source": []
  },
  {
   "cell_type": "code",
   "execution_count": null,
   "metadata": {},
   "outputs": [],
   "source": []
  },
  {
   "cell_type": "code",
   "execution_count": null,
   "metadata": {},
   "outputs": [],
   "source": [
    "for ind,k in enumerate(bands_dft.kpoints):\n",
    "    print(ind,k)"
   ]
  },
  {
   "cell_type": "code",
   "execution_count": null,
   "metadata": {},
   "outputs": [],
   "source": []
  },
  {
   "cell_type": "code",
   "execution_count": null,
   "metadata": {},
   "outputs": [],
   "source": []
  },
  {
   "cell_type": "code",
   "execution_count": null,
   "metadata": {},
   "outputs": [],
   "source": []
  }
 ],
 "metadata": {
  "kernelspec": {
   "display_name": "Python 3",
   "language": "python",
   "name": "python3"
  },
  "language_info": {
   "codemirror_mode": {
    "name": "ipython",
    "version": 3
   },
   "file_extension": ".py",
   "mimetype": "text/x-python",
   "name": "python",
   "nbconvert_exporter": "python",
   "pygments_lexer": "ipython3",
   "version": "3.6.8"
  }
 },
 "nbformat": 4,
 "nbformat_minor": 4
}
